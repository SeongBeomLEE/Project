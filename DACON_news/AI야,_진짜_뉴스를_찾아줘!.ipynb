{
  "nbformat": 4,
  "nbformat_minor": 0,
  "metadata": {
    "colab": {
      "name": "AI야, 진짜 뉴스를 찾아줘!.ipynb",
      "provenance": [],
      "collapsed_sections": [],
      "toc_visible": true,
      "mount_file_id": "1D-gp4w44od2tUHoLctgs14T5AHsqFBlG",
      "authorship_tag": "ABX9TyPlvrhuiuPT+FtJTe3pL9oJ"
    },
    "kernelspec": {
      "name": "python3",
      "display_name": "Python 3"
    },
    "accelerator": "GPU"
  },
  "cells": [
    {
      "cell_type": "markdown",
      "metadata": {
        "id": "dYD8LD1v8fS8"
      },
      "source": [
        "데이터 분석 공부를 제대로 시작한지 이제 한달 정도된 데이터 분석 초보자입니다.\n",
        "\n",
        "다른 분들이 올려주신 글을 참고하여 분석을 시행했습니다.\n",
        "\n",
        "저와 같이 데이터 분석을 처음 접하시는 분들에게 대략적인 데이터 분석의 방향을 읽을 수 있는 좋은 참고용 코드가 되었으면 좋겠습니다.\n",
        "\n",
        "끝으로 제 코드에 대한 데이터 분석 고수 분들의 많은 조언과 가르침 주시면 감사하겠습니다.\n",
        "\n",
        "그리고 데이터 분석의 공부 방향에 대해서도 알려주시면 정말 감사하겠습니다."
      ]
    },
    {
      "cell_type": "markdown",
      "metadata": {
        "id": "TFPkwFKuEFKL"
      },
      "source": [
        "# 분석\n",
        "1. 각 feature들이 target인 info에 어떠한 영향을 주는지 알아봄\n",
        " - date의 경우 년 월 일로 나눠서 시각화\n",
        " - title의 경우 각 내용이 겹치는지와 문자의 길이를 바탕으로 시각화\n",
        " - content의 경우 각 내용이 겹치는지와 문자의 길이를 바탕으로 시각화\n",
        " - ord의 경우 숫자의 변화에 따른 target의 변화를 시각화\n",
        "2. 분석 결과를 바탕으로 keras를 활용해 딥러닝 모델을 만들어 학습\n",
        "3. 예측"
      ]
    },
    {
      "cell_type": "code",
      "metadata": {
        "id": "CSzB0pt7QkPC"
      },
      "source": [
        "# 패키지 불러오기\n",
        "import pandas as pd\n",
        "import numpy as np\n",
        "import seaborn as sns\n",
        "import matplotlib.pyplot as plt\n",
        "\n",
        "# 경고메세지를 무시해줌\n",
        "import warnings\n",
        "warnings.filterwarnings(\"ignore\")"
      ],
      "execution_count": null,
      "outputs": []
    },
    {
      "cell_type": "markdown",
      "metadata": {
        "id": "7RkKGMMXZWB1"
      },
      "source": [
        "# 데이터 확인"
      ]
    },
    {
      "cell_type": "code",
      "metadata": {
        "id": "msKeWAtzY2zN"
      },
      "source": [
        "# 데이터 불러오기\n",
        "train = pd.read_csv('/content/drive/MyDrive/Project/AI야, 진짜 뉴스를 찾아줘!/open/news_train.csv')\n",
        "test = pd.read_csv('/content/drive/MyDrive/Project/AI야, 진짜 뉴스를 찾아줘!/open/news_test.csv')\n",
        "submission = pd.read_csv('/content/drive/MyDrive/Project/AI야, 진짜 뉴스를 찾아줘!/open/sample_submission.csv')"
      ],
      "execution_count": null,
      "outputs": []
    },
    {
      "cell_type": "code",
      "metadata": {
        "colab": {
          "base_uri": "https://localhost:8080/",
          "height": 204
        },
        "id": "gpbgjbuZZMIy",
        "outputId": "bb03725c-32fa-456e-8eeb-78624aa32eb6"
      },
      "source": [
        "train.head()"
      ],
      "execution_count": null,
      "outputs": [
        {
          "output_type": "execute_result",
          "data": {
            "text/html": [
              "<div>\n",
              "<style scoped>\n",
              "    .dataframe tbody tr th:only-of-type {\n",
              "        vertical-align: middle;\n",
              "    }\n",
              "\n",
              "    .dataframe tbody tr th {\n",
              "        vertical-align: top;\n",
              "    }\n",
              "\n",
              "    .dataframe thead th {\n",
              "        text-align: right;\n",
              "    }\n",
              "</style>\n",
              "<table border=\"1\" class=\"dataframe\">\n",
              "  <thead>\n",
              "    <tr style=\"text-align: right;\">\n",
              "      <th></th>\n",
              "      <th>n_id</th>\n",
              "      <th>date</th>\n",
              "      <th>title</th>\n",
              "      <th>content</th>\n",
              "      <th>ord</th>\n",
              "      <th>info</th>\n",
              "    </tr>\n",
              "  </thead>\n",
              "  <tbody>\n",
              "    <tr>\n",
              "      <th>0</th>\n",
              "      <td>NEWS02580</td>\n",
              "      <td>20200605</td>\n",
              "      <td>[마감]코스닥 기관 678억 순매도</td>\n",
              "      <td>[이데일리 MARKETPOINT]15:32 현재 코스닥 기관 678억 순매도</td>\n",
              "      <td>1</td>\n",
              "      <td>0</td>\n",
              "    </tr>\n",
              "    <tr>\n",
              "      <th>1</th>\n",
              "      <td>NEWS02580</td>\n",
              "      <td>20200605</td>\n",
              "      <td>[마감]코스닥 기관 678억 순매도</td>\n",
              "      <td>\"실적기반\" 저가에 매집해야 할 8월 급등유망주 TOP 5 전격공개</td>\n",
              "      <td>2</td>\n",
              "      <td>1</td>\n",
              "    </tr>\n",
              "    <tr>\n",
              "      <th>2</th>\n",
              "      <td>NEWS02580</td>\n",
              "      <td>20200605</td>\n",
              "      <td>[마감]코스닥 기관 678억 순매도</td>\n",
              "      <td>하이스탁론, 선취수수료 없는 월 0.4% 최저금리 상품 출시</td>\n",
              "      <td>3</td>\n",
              "      <td>1</td>\n",
              "    </tr>\n",
              "    <tr>\n",
              "      <th>3</th>\n",
              "      <td>NEWS02580</td>\n",
              "      <td>20200605</td>\n",
              "      <td>[마감]코스닥 기관 678억 순매도</td>\n",
              "      <td>종합 경제정보 미디어 이데일리 - 무단전재 &amp; 재배포 금지</td>\n",
              "      <td>4</td>\n",
              "      <td>0</td>\n",
              "    </tr>\n",
              "    <tr>\n",
              "      <th>4</th>\n",
              "      <td>NEWS09727</td>\n",
              "      <td>20200626</td>\n",
              "      <td>롯데·공영 등 7개 TV 홈쇼핑들, 동행세일 동참</td>\n",
              "      <td>전국적인 소비 붐 조성에 기여할 예정</td>\n",
              "      <td>1</td>\n",
              "      <td>0</td>\n",
              "    </tr>\n",
              "  </tbody>\n",
              "</table>\n",
              "</div>"
            ],
            "text/plain": [
              "        n_id      date  ... ord info\n",
              "0  NEWS02580  20200605  ...   1    0\n",
              "1  NEWS02580  20200605  ...   2    1\n",
              "2  NEWS02580  20200605  ...   3    1\n",
              "3  NEWS02580  20200605  ...   4    0\n",
              "4  NEWS09727  20200626  ...   1    0\n",
              "\n",
              "[5 rows x 6 columns]"
            ]
          },
          "metadata": {
            "tags": []
          },
          "execution_count": 3
        }
      ]
    },
    {
      "cell_type": "code",
      "metadata": {
        "colab": {
          "base_uri": "https://localhost:8080/",
          "height": 204
        },
        "id": "4AUN-5WoZRq-",
        "outputId": "efeef3ca-6b61-4366-ac14-41d1ad13860d"
      },
      "source": [
        "test.head()"
      ],
      "execution_count": null,
      "outputs": [
        {
          "output_type": "execute_result",
          "data": {
            "text/html": [
              "<div>\n",
              "<style scoped>\n",
              "    .dataframe tbody tr th:only-of-type {\n",
              "        vertical-align: middle;\n",
              "    }\n",
              "\n",
              "    .dataframe tbody tr th {\n",
              "        vertical-align: top;\n",
              "    }\n",
              "\n",
              "    .dataframe thead th {\n",
              "        text-align: right;\n",
              "    }\n",
              "</style>\n",
              "<table border=\"1\" class=\"dataframe\">\n",
              "  <thead>\n",
              "    <tr style=\"text-align: right;\">\n",
              "      <th></th>\n",
              "      <th>n_id</th>\n",
              "      <th>date</th>\n",
              "      <th>title</th>\n",
              "      <th>content</th>\n",
              "      <th>ord</th>\n",
              "      <th>id</th>\n",
              "    </tr>\n",
              "  </thead>\n",
              "  <tbody>\n",
              "    <tr>\n",
              "      <th>0</th>\n",
              "      <td>NEWS00237</td>\n",
              "      <td>20200118</td>\n",
              "      <td>[주목!e스몰캡]코세스, 마이크로LED 시장 개화 최대수혜 기대</td>\n",
              "      <td>마이크로 LED TV 장비 양산 돌입- 전방업체 투자 확대로 본업도 호조연일 '신고가'</td>\n",
              "      <td>1</td>\n",
              "      <td>NEWS00237_1</td>\n",
              "    </tr>\n",
              "    <tr>\n",
              "      <th>1</th>\n",
              "      <td>NEWS00237</td>\n",
              "      <td>20200118</td>\n",
              "      <td>[주목!e스몰캡]코세스, 마이크로LED 시장 개화 최대수혜 기대</td>\n",
              "      <td>[이데일리 김대웅 기자] 반도체 장비 업체 코세스(089890)의 기술력이 마이크로...</td>\n",
              "      <td>2</td>\n",
              "      <td>NEWS00237_2</td>\n",
              "    </tr>\n",
              "    <tr>\n",
              "      <th>2</th>\n",
              "      <td>NEWS00237</td>\n",
              "      <td>20200118</td>\n",
              "      <td>[주목!e스몰캡]코세스, 마이크로LED 시장 개화 최대수혜 기대</td>\n",
              "      <td>최근 대형 업체들과 거래를 맺고 관련 장비들의 양산에 돌입하면서 주가도 연일 신고가...</td>\n",
              "      <td>3</td>\n",
              "      <td>NEWS00237_3</td>\n",
              "    </tr>\n",
              "    <tr>\n",
              "      <th>3</th>\n",
              "      <td>NEWS00237</td>\n",
              "      <td>20200118</td>\n",
              "      <td>[주목!e스몰캡]코세스, 마이크로LED 시장 개화 최대수혜 기대</td>\n",
              "      <td>TV를 필두로 올해부터 마이크로 LED의 시대가 본격적으로 개화할 것으로 예상되면서...</td>\n",
              "      <td>4</td>\n",
              "      <td>NEWS00237_4</td>\n",
              "    </tr>\n",
              "    <tr>\n",
              "      <th>4</th>\n",
              "      <td>NEWS00237</td>\n",
              "      <td>20200118</td>\n",
              "      <td>[주목!e스몰캡]코세스, 마이크로LED 시장 개화 최대수혜 기대</td>\n",
              "      <td>코세스는 반도체 장비를 제조, 판매하는 업체로 지난 2006년 11월 코스닥 시장에...</td>\n",
              "      <td>5</td>\n",
              "      <td>NEWS00237_5</td>\n",
              "    </tr>\n",
              "  </tbody>\n",
              "</table>\n",
              "</div>"
            ],
            "text/plain": [
              "        n_id      date  ... ord           id\n",
              "0  NEWS00237  20200118  ...   1  NEWS00237_1\n",
              "1  NEWS00237  20200118  ...   2  NEWS00237_2\n",
              "2  NEWS00237  20200118  ...   3  NEWS00237_3\n",
              "3  NEWS00237  20200118  ...   4  NEWS00237_4\n",
              "4  NEWS00237  20200118  ...   5  NEWS00237_5\n",
              "\n",
              "[5 rows x 6 columns]"
            ]
          },
          "metadata": {
            "tags": []
          },
          "execution_count": 4
        }
      ]
    },
    {
      "cell_type": "code",
      "metadata": {
        "colab": {
          "base_uri": "https://localhost:8080/",
          "height": 204
        },
        "id": "kzUwoS7cZUEL",
        "outputId": "e67a6ee3-cc53-474d-cfcf-56212329f427"
      },
      "source": [
        "submission.head()"
      ],
      "execution_count": null,
      "outputs": [
        {
          "output_type": "execute_result",
          "data": {
            "text/html": [
              "<div>\n",
              "<style scoped>\n",
              "    .dataframe tbody tr th:only-of-type {\n",
              "        vertical-align: middle;\n",
              "    }\n",
              "\n",
              "    .dataframe tbody tr th {\n",
              "        vertical-align: top;\n",
              "    }\n",
              "\n",
              "    .dataframe thead th {\n",
              "        text-align: right;\n",
              "    }\n",
              "</style>\n",
              "<table border=\"1\" class=\"dataframe\">\n",
              "  <thead>\n",
              "    <tr style=\"text-align: right;\">\n",
              "      <th></th>\n",
              "      <th>id</th>\n",
              "      <th>info</th>\n",
              "    </tr>\n",
              "  </thead>\n",
              "  <tbody>\n",
              "    <tr>\n",
              "      <th>0</th>\n",
              "      <td>NEWS00237_1</td>\n",
              "      <td>0</td>\n",
              "    </tr>\n",
              "    <tr>\n",
              "      <th>1</th>\n",
              "      <td>NEWS00237_2</td>\n",
              "      <td>0</td>\n",
              "    </tr>\n",
              "    <tr>\n",
              "      <th>2</th>\n",
              "      <td>NEWS00237_3</td>\n",
              "      <td>0</td>\n",
              "    </tr>\n",
              "    <tr>\n",
              "      <th>3</th>\n",
              "      <td>NEWS00237_4</td>\n",
              "      <td>0</td>\n",
              "    </tr>\n",
              "    <tr>\n",
              "      <th>4</th>\n",
              "      <td>NEWS00237_5</td>\n",
              "      <td>0</td>\n",
              "    </tr>\n",
              "  </tbody>\n",
              "</table>\n",
              "</div>"
            ],
            "text/plain": [
              "            id  info\n",
              "0  NEWS00237_1     0\n",
              "1  NEWS00237_2     0\n",
              "2  NEWS00237_3     0\n",
              "3  NEWS00237_4     0\n",
              "4  NEWS00237_5     0"
            ]
          },
          "metadata": {
            "tags": []
          },
          "execution_count": 5
        }
      ]
    },
    {
      "cell_type": "code",
      "metadata": {
        "colab": {
          "base_uri": "https://localhost:8080/"
        },
        "id": "z_F52cBRZloV",
        "outputId": "8edffa77-04f1-4160-f6a5-6bdb55e7e022"
      },
      "source": [
        "train.info()"
      ],
      "execution_count": null,
      "outputs": [
        {
          "output_type": "stream",
          "text": [
            "<class 'pandas.core.frame.DataFrame'>\n",
            "RangeIndex: 118745 entries, 0 to 118744\n",
            "Data columns (total 6 columns):\n",
            " #   Column   Non-Null Count   Dtype \n",
            "---  ------   --------------   ----- \n",
            " 0   n_id     118745 non-null  object\n",
            " 1   date     118745 non-null  int64 \n",
            " 2   title    118745 non-null  object\n",
            " 3   content  118745 non-null  object\n",
            " 4   ord      118745 non-null  int64 \n",
            " 5   info     118745 non-null  int64 \n",
            "dtypes: int64(3), object(3)\n",
            "memory usage: 5.4+ MB\n"
          ],
          "name": "stdout"
        }
      ]
    },
    {
      "cell_type": "markdown",
      "metadata": {
        "id": "Q_y2f6dwZYAb"
      },
      "source": [
        "# EDA"
      ]
    },
    {
      "cell_type": "markdown",
      "metadata": {
        "id": "l8ah1vwUa-mG"
      },
      "source": [
        "## date"
      ]
    },
    {
      "cell_type": "markdown",
      "metadata": {
        "id": "lrOw3H0znpC3"
      },
      "source": [
        "info에 영향을 주는 date관련 변수를 찾지 못함\n",
        "- 따라서 현재까지 분석 결과 date가 유의미한 차이를 가져다 주는 변수는 아님"
      ]
    },
    {
      "cell_type": "code",
      "metadata": {
        "id": "yMWkDFgKap72"
      },
      "source": [
        "train['date'] = train['date'].apply(lambda x : str(x))"
      ],
      "execution_count": null,
      "outputs": []
    },
    {
      "cell_type": "code",
      "metadata": {
        "id": "tDsps290ZzbM"
      },
      "source": [
        "train['date'] = pd.to_datetime(train['date'], format='%Y%m%d')"
      ],
      "execution_count": null,
      "outputs": []
    },
    {
      "cell_type": "code",
      "metadata": {
        "id": "mJw_hpa0bOE2"
      },
      "source": [
        "train['date_year'] = train['date'].dt.year # 년도\n",
        "train['date_month'] = train['date'].dt.month # 월\n",
        "train['date_day'] = train['date'].dt.day # 일"
      ],
      "execution_count": null,
      "outputs": []
    },
    {
      "cell_type": "code",
      "metadata": {
        "colab": {
          "base_uri": "https://localhost:8080/",
          "height": 298
        },
        "id": "oS22wbE7bjCu",
        "outputId": "27850c14-fee3-4818-ded1-bfd00485e8d8"
      },
      "source": [
        "sns.countplot(data = train, x='date_year', hue='info')"
      ],
      "execution_count": null,
      "outputs": [
        {
          "output_type": "execute_result",
          "data": {
            "text/plain": [
              "<matplotlib.axes._subplots.AxesSubplot at 0x7f77ac13bb38>"
            ]
          },
          "metadata": {
            "tags": []
          },
          "execution_count": 10
        },
        {
          "output_type": "display_data",
          "data": {
            "image/png": "[encoded data removed]",
            "text/plain": [
              "<Figure size 432x288 with 1 Axes>"
            ]
          },
          "metadata": {
            "tags": [],
            "needs_background": "light"
          }
        }
      ]
    },
    {
      "cell_type": "code",
      "metadata": {
        "colab": {
          "base_uri": "https://localhost:8080/",
          "height": 298
        },
        "id": "XBXUgmz-b4nf",
        "outputId": "1b73e08d-095d-4739-fae2-8317f941f35b"
      },
      "source": [
        "sns.countplot(data = train, x='date_month', hue='info')"
      ],
      "execution_count": null,
      "outputs": [
        {
          "output_type": "execute_result",
          "data": {
            "text/plain": [
              "<matplotlib.axes._subplots.AxesSubplot at 0x7f77abed3588>"
            ]
          },
          "metadata": {
            "tags": []
          },
          "execution_count": 11
        },
        {
          "output_type": "display_data",
          "data": {
            "image/png": "[encoded data removed]",
            "text/plain": [
              "<Figure size 432x288 with 1 Axes>"
            ]
          },
          "metadata": {
            "tags": [],
            "needs_background": "light"
          }
        }
      ]
    },
    {
      "cell_type": "code",
      "metadata": {
        "colab": {
          "base_uri": "https://localhost:8080/",
          "height": 301
        },
        "id": "MKaN-kDdb40k",
        "outputId": "a35738ad-034a-47cf-8696-b10d136fde1e"
      },
      "source": [
        "sns.countplot(data = train, x='date_day', hue='info')"
      ],
      "execution_count": null,
      "outputs": [
        {
          "output_type": "execute_result",
          "data": {
            "text/plain": [
              "<matplotlib.axes._subplots.AxesSubplot at 0x7f77abe13668>"
            ]
          },
          "metadata": {
            "tags": []
          },
          "execution_count": 12
        },
        {
          "output_type": "display_data",
          "data": {
            "image/png": "[encoded data removed]",
            "text/plain": [
              "<Figure size 432x288 with 1 Axes>"
            ]
          },
          "metadata": {
            "tags": [],
            "needs_background": "light"
          }
        }
      ]
    },
    {
      "cell_type": "markdown",
      "metadata": {
        "id": "_ahco3tabAp-"
      },
      "source": [
        "## title"
      ]
    },
    {
      "cell_type": "markdown",
      "metadata": {
        "id": "4Y3aEspPhSpW"
      },
      "source": [
        "가짜 뉴스의 타이틀이 진짜 뉴스의 타이틀보다 상대적으로 더 적음 하지만 가짜와 진짜 중에 겹치는 제목이 생각보다 매우 많음\n",
        "\n",
        "- 따라서 현재까지 분석 결과로는 title이 유의미한 차이를 가져다 주는 변수는 아님"
      ]
    },
    {
      "cell_type": "code",
      "metadata": {
        "colab": {
          "base_uri": "https://localhost:8080/"
        },
        "id": "fR2CVmAxgaid",
        "outputId": "e8220b95-a39e-4020-9927-492de0d8e737"
      },
      "source": [
        "# 가짜 뉴스의 내용과 진짜 뉴스는 서로 겹치는 제목이 매우 많음\n",
        "len(set(train[train['info'] == 1]['title'].unique()) & set(train[train['info'] == 0]['title'].unique())) / train['title'].nunique()"
      ],
      "execution_count": null,
      "outputs": [
        {
          "output_type": "execute_result",
          "data": {
            "text/plain": [
              "0.9368450082735797"
            ]
          },
          "metadata": {
            "tags": []
          },
          "execution_count": 13
        }
      ]
    },
    {
      "cell_type": "code",
      "metadata": {
        "colab": {
          "base_uri": "https://localhost:8080/"
        },
        "id": "2na9WMqYfSn-",
        "outputId": "2b29b9f1-0220-44b6-b7f9-aa5cce7a20ef"
      },
      "source": [
        "train[train['info'] == 1][['title']].nunique() / train[['title']].nunique()"
      ],
      "execution_count": null,
      "outputs": [
        {
          "output_type": "execute_result",
          "data": {
            "text/plain": [
              "title    0.937397\n",
              "dtype: float64"
            ]
          },
          "metadata": {
            "tags": []
          },
          "execution_count": 14
        }
      ]
    },
    {
      "cell_type": "code",
      "metadata": {
        "colab": {
          "base_uri": "https://localhost:8080/"
        },
        "id": "p5eXDhloilMU",
        "outputId": "b5a6ec50-b621-4a72-d2af-cf005f7d10da"
      },
      "source": [
        "train[train['info'] == 0][['title']].nunique() / train[['title']].nunique()"
      ],
      "execution_count": null,
      "outputs": [
        {
          "output_type": "execute_result",
          "data": {
            "text/plain": [
              "title    0.999448\n",
              "dtype: float64"
            ]
          },
          "metadata": {
            "tags": []
          },
          "execution_count": 15
        }
      ]
    },
    {
      "cell_type": "code",
      "metadata": {
        "id": "Gw_4vjmYhBq3"
      },
      "source": [
        "train['title_len'] = train['title'].apply(lambda x : len(x))"
      ],
      "execution_count": null,
      "outputs": []
    },
    {
      "cell_type": "code",
      "metadata": {
        "colab": {
          "base_uri": "https://localhost:8080/",
          "height": 297
        },
        "id": "5cD364jWiDDF",
        "outputId": "2e70053f-3eb2-4f17-8e7c-cc9d583121e9"
      },
      "source": [
        "sns.boxplot(data = train, y='title_len', x='info')"
      ],
      "execution_count": null,
      "outputs": [
        {
          "output_type": "execute_result",
          "data": {
            "text/plain": [
              "<matplotlib.axes._subplots.AxesSubplot at 0x7f77ab80c978>"
            ]
          },
          "metadata": {
            "tags": []
          },
          "execution_count": 17
        },
        {
          "output_type": "display_data",
          "data": {
            "image/png": "[encoded data removed]",
            "text/plain": [
              "<Figure size 432x288 with 1 Axes>"
            ]
          },
          "metadata": {
            "tags": [],
            "needs_background": "light"
          }
        }
      ]
    },
    {
      "cell_type": "code",
      "metadata": {
        "colab": {
          "base_uri": "https://localhost:8080/",
          "height": 516
        },
        "id": "XqPi6NLehvkn",
        "outputId": "9fa98ea4-9d95-47a6-97da-8c1196ab79d9"
      },
      "source": [
        "plt.figure(figsize=(20,8))\n",
        "sns.countplot(data = train, x='title_len', hue='info')"
      ],
      "execution_count": null,
      "outputs": [
        {
          "output_type": "execute_result",
          "data": {
            "text/plain": [
              "<matplotlib.axes._subplots.AxesSubplot at 0x7f77abdb2898>"
            ]
          },
          "metadata": {
            "tags": []
          },
          "execution_count": 18
        },
        {
          "output_type": "display_data",
          "data": {
            "image/png": "[encoded data removed]",
            "text/plain": [
              "<Figure size 1440x576 with 1 Axes>"
            ]
          },
          "metadata": {
            "tags": [],
            "needs_background": "light"
          }
        }
      ]
    },
    {
      "cell_type": "code",
      "metadata": {
        "colab": {
          "base_uri": "https://localhost:8080/",
          "height": 298
        },
        "id": "cgsetSxkj-o2",
        "outputId": "7e8f018d-8751-4c71-b47a-3edc5f2fd2eb"
      },
      "source": [
        "sns.distplot(train[train['info'] == 1]['title_len'], color='red', label='1')\n",
        "sns.distplot(train[train['info'] == 0]['title_len'], color='blue', label='0')\n",
        "plt.legend(title='info')"
      ],
      "execution_count": null,
      "outputs": [
        {
          "output_type": "execute_result",
          "data": {
            "text/plain": [
              "<matplotlib.legend.Legend at 0x7f77abdfe588>"
            ]
          },
          "metadata": {
            "tags": []
          },
          "execution_count": 19
        },
        {
          "output_type": "display_data",
          "data": {
            "image/png": "[encoded data removed]",
            "text/plain": [
              "<Figure size 432x288 with 1 Axes>"
            ]
          },
          "metadata": {
            "tags": [],
            "needs_background": "light"
          }
        }
      ]
    },
    {
      "cell_type": "markdown",
      "metadata": {
        "id": "BCOS4GFObC2d"
      },
      "source": [
        "## content"
      ]
    },
    {
      "cell_type": "markdown",
      "metadata": {
        "id": "LR3BeTyLl7Ee"
      },
      "source": [
        "- content의 길이가 짧을 수록 가짜 뉴스일 확률은 높아진다고 할 수 있음\n",
        "- 가짜 뉴스의 content와 진짜 뉴스의 content는 완전히 다르다는 것을 알 수 있음\n",
        "\n",
        "따라서 현재까지 분석결과 content는 유의미한 차이를 가져다 주는 변수인 것으로 확인됨"
      ]
    },
    {
      "cell_type": "code",
      "metadata": {
        "colab": {
          "base_uri": "https://localhost:8080/"
        },
        "id": "oJYELtlQiWeN",
        "outputId": "5ad61fa7-549b-4c88-c7bc-568c166799c9"
      },
      "source": [
        "# 가짜 뉴스의 내용과 진짜 뉴스는 서로 겹치는 내용이 매우 적음\n",
        "len(set(train[train['info'] == 1]['content'].unique()) & set(train[train['info'] == 0]['content'].unique())) / train['content'].nunique()"
      ],
      "execution_count": null,
      "outputs": [
        {
          "output_type": "execute_result",
          "data": {
            "text/plain": [
              "6.498992656138298e-05"
            ]
          },
          "metadata": {
            "tags": []
          },
          "execution_count": 20
        }
      ]
    },
    {
      "cell_type": "code",
      "metadata": {
        "colab": {
          "base_uri": "https://localhost:8080/"
        },
        "id": "nodf5d8FiWeO",
        "outputId": "ca9fe342-0466-451f-ca0b-f839b04de7d2"
      },
      "source": [
        "train[train['info'] == 1][['content']].nunique() / train[['content']].nunique()"
      ],
      "execution_count": null,
      "outputs": [
        {
          "output_type": "execute_result",
          "data": {
            "text/plain": [
              "content    0.125517\n",
              "dtype: float64"
            ]
          },
          "metadata": {
            "tags": []
          },
          "execution_count": 21
        }
      ]
    },
    {
      "cell_type": "code",
      "metadata": {
        "colab": {
          "base_uri": "https://localhost:8080/"
        },
        "id": "61ihY2q2isr1",
        "outputId": "a5c766c2-4114-41b0-e48f-c4f559738e70"
      },
      "source": [
        "train[train['info'] == 0][['content']].nunique() / train[['content']].nunique()"
      ],
      "execution_count": null,
      "outputs": [
        {
          "output_type": "execute_result",
          "data": {
            "text/plain": [
              "content    0.874548\n",
              "dtype: float64"
            ]
          },
          "metadata": {
            "tags": []
          },
          "execution_count": 22
        }
      ]
    },
    {
      "cell_type": "code",
      "metadata": {
        "id": "puKpiLIMiWeP"
      },
      "source": [
        "train['content_len'] = train['content'].apply(lambda x : len(x))"
      ],
      "execution_count": null,
      "outputs": []
    },
    {
      "cell_type": "code",
      "metadata": {
        "colab": {
          "base_uri": "https://localhost:8080/"
        },
        "id": "zuxdqf2izgQ1",
        "outputId": "3c38d51c-841d-4f52-f5de-1213e30e7d28"
      },
      "source": [
        "Q1 = train[train['info'] == 1].describe(include='all')['content_len']['25%']\n",
        "Q3 = train[train['info'] == 1].describe(include='all')['content_len']['75%']\n",
        "IQR = Q3 - Q1\n",
        "maximum = Q3 + 1.5*IQR\n",
        "maximum"
      ],
      "execution_count": null,
      "outputs": [
        {
          "output_type": "execute_result",
          "data": {
            "text/plain": [
              "57.0"
            ]
          },
          "metadata": {
            "tags": []
          },
          "execution_count": 24
        }
      ]
    },
    {
      "cell_type": "code",
      "metadata": {
        "colab": {
          "base_uri": "https://localhost:8080/",
          "height": 297
        },
        "id": "xCXHRuw2iWeP",
        "outputId": "30797042-6a21-4cc6-d053-7b03ee991de0"
      },
      "source": [
        "# 이상치가 시각화에 영향을 줌에 따라 info가 1인 content_len의 IQR범위를 활용해서 이상치를 어느 정도 제거 후 그래프를 그림\n",
        "sns.boxplot(data = train[train['content_len'] <= maximum], y='content_len', x='info')"
      ],
      "execution_count": null,
      "outputs": [
        {
          "output_type": "execute_result",
          "data": {
            "text/plain": [
              "<matplotlib.axes._subplots.AxesSubplot at 0x7f77a7bbac50>"
            ]
          },
          "metadata": {
            "tags": []
          },
          "execution_count": 25
        },
        {
          "output_type": "display_data",
          "data": {
            "image/png": "[encoded data removed]",
            "text/plain": [
              "<Figure size 432x288 with 1 Axes>"
            ]
          },
          "metadata": {
            "tags": [],
            "needs_background": "light"
          }
        }
      ]
    },
    {
      "cell_type": "code",
      "metadata": {
        "colab": {
          "base_uri": "https://localhost:8080/",
          "height": 516
        },
        "id": "L6KJwMS9iWeP",
        "outputId": "96c3ad60-0839-48ca-e123-22c17272c7ef"
      },
      "source": [
        "plt.figure(figsize=(20,8))\n",
        "sns.countplot(data = train[train['content_len'] <= maximum], x='content_len', hue='info')"
      ],
      "execution_count": null,
      "outputs": [
        {
          "output_type": "execute_result",
          "data": {
            "text/plain": [
              "<matplotlib.axes._subplots.AxesSubplot at 0x7f77a7b647f0>"
            ]
          },
          "metadata": {
            "tags": []
          },
          "execution_count": 26
        },
        {
          "output_type": "display_data",
          "data": {
            "image/png": "[encoded data removed]",
            "text/plain": [
              "<Figure size 1440x576 with 1 Axes>"
            ]
          },
          "metadata": {
            "tags": [],
            "needs_background": "light"
          }
        }
      ]
    },
    {
      "cell_type": "code",
      "metadata": {
        "colab": {
          "base_uri": "https://localhost:8080/",
          "height": 298
        },
        "id": "Akxz_cROke2t",
        "outputId": "96ac28c6-0dab-4b46-e4f7-e004c3b13ecd"
      },
      "source": [
        "sns.distplot(np.log(train[train['info'] == 1]['content_len']), color='red', label='1')\n",
        "sns.distplot(np.log(train[train['info'] == 0]['content_len']), color='blue', label='0')\n",
        "plt.legend(title='info')"
      ],
      "execution_count": null,
      "outputs": [
        {
          "output_type": "execute_result",
          "data": {
            "text/plain": [
              "<matplotlib.legend.Legend at 0x7f77a82376d8>"
            ]
          },
          "metadata": {
            "tags": []
          },
          "execution_count": 27
        },
        {
          "output_type": "display_data",
          "data": {
            "image/png": "[encoded data removed]",
            "text/plain": [
              "<Figure size 432x288 with 1 Axes>"
            ]
          },
          "metadata": {
            "tags": [],
            "needs_background": "light"
          }
        }
      ]
    },
    {
      "cell_type": "markdown",
      "metadata": {
        "id": "X6bOAfwkWh5q"
      },
      "source": [
        "### 명사만을 활용한 간단한 자연어 처리"
      ]
    },
    {
      "cell_type": "code",
      "metadata": {
        "colab": {
          "base_uri": "https://localhost:8080/"
        },
        "id": "MKpkR6XMA1Wu",
        "outputId": "e3b7c6f1-2441-4333-e9b4-9e6085f8393a"
      },
      "source": [
        "pip install konlpy"
      ],
      "execution_count": null,
      "outputs": [
        {
          "output_type": "stream",
          "text": [
            "Requirement already satisfied: konlpy in /usr/local/lib/python3.6/dist-packages (0.5.2)\n",
            "Requirement already satisfied: tweepy>=3.7.0 in /usr/local/lib/python3.6/dist-packages (from konlpy) (3.10.0)\n",
            "Requirement already satisfied: numpy>=1.6 in /usr/local/lib/python3.6/dist-packages (from konlpy) (1.19.4)\n",
            "Requirement already satisfied: JPype1>=0.7.0 in /usr/local/lib/python3.6/dist-packages (from konlpy) (1.2.0)\n",
            "Requirement already satisfied: colorama in /usr/local/lib/python3.6/dist-packages (from konlpy) (0.4.4)\n",
            "Requirement already satisfied: beautifulsoup4==4.6.0 in /usr/local/lib/python3.6/dist-packages (from konlpy) (4.6.0)\n",
            "Requirement already satisfied: lxml>=4.1.0 in /usr/local/lib/python3.6/dist-packages (from konlpy) (4.2.6)\n",
            "Requirement already satisfied: requests-oauthlib>=0.7.0 in /usr/local/lib/python3.6/dist-packages (from tweepy>=3.7.0->konlpy) (1.3.0)\n",
            "Requirement already satisfied: requests[socks]>=2.11.1 in /usr/local/lib/python3.6/dist-packages (from tweepy>=3.7.0->konlpy) (2.23.0)\n",
            "Requirement already satisfied: six>=1.10.0 in /usr/local/lib/python3.6/dist-packages (from tweepy>=3.7.0->konlpy) (1.15.0)\n",
            "Requirement already satisfied: typing-extensions; python_version < \"3.8\" in /usr/local/lib/python3.6/dist-packages (from JPype1>=0.7.0->konlpy) (3.7.4.3)\n",
            "Requirement already satisfied: oauthlib>=3.0.0 in /usr/local/lib/python3.6/dist-packages (from requests-oauthlib>=0.7.0->tweepy>=3.7.0->konlpy) (3.1.0)\n",
            "Requirement already satisfied: urllib3!=1.25.0,!=1.25.1,<1.26,>=1.21.1 in /usr/local/lib/python3.6/dist-packages (from requests[socks]>=2.11.1->tweepy>=3.7.0->konlpy) (1.24.3)\n",
            "Requirement already satisfied: idna<3,>=2.5 in /usr/local/lib/python3.6/dist-packages (from requests[socks]>=2.11.1->tweepy>=3.7.0->konlpy) (2.10)\n",
            "Requirement already satisfied: chardet<4,>=3.0.2 in /usr/local/lib/python3.6/dist-packages (from requests[socks]>=2.11.1->tweepy>=3.7.0->konlpy) (3.0.4)\n",
            "Requirement already satisfied: certifi>=2017.4.17 in /usr/local/lib/python3.6/dist-packages (from requests[socks]>=2.11.1->tweepy>=3.7.0->konlpy) (2020.12.5)\n",
            "Requirement already satisfied: PySocks!=1.5.7,>=1.5.6; extra == \"socks\" in /usr/local/lib/python3.6/dist-packages (from requests[socks]>=2.11.1->tweepy>=3.7.0->konlpy) (1.7.1)\n"
          ],
          "name": "stdout"
        }
      ]
    },
    {
      "cell_type": "code",
      "metadata": {
        "id": "6Dj66Z2XDnKR"
      },
      "source": [
        "from konlpy.tag import Okt"
      ],
      "execution_count": null,
      "outputs": []
    },
    {
      "cell_type": "code",
      "metadata": {
        "id": "HfKcH6uPDqTy"
      },
      "source": [
        "Okt = Okt()"
      ],
      "execution_count": null,
      "outputs": []
    },
    {
      "cell_type": "code",
      "metadata": {
        "id": "cBWCc7RIDsF5"
      },
      "source": [
        "from tqdm import tqdm\n",
        "\n",
        "new_content=[]\n",
        "for word in tqdm(train['content'].values):\n",
        "  new_content.append(' '.join(Okt.nouns(word)))\n",
        "train['new_content'] = new_content"
      ],
      "execution_count": null,
      "outputs": []
    },
    {
      "cell_type": "code",
      "metadata": {
        "colab": {
          "base_uri": "https://localhost:8080/"
        },
        "id": "rP6FcRHk_v2j",
        "outputId": "c3f09bc8-a995-44ae-f0da-babbce03487e"
      },
      "source": [
        "from tqdm import tqdm\n",
        "\n",
        "new_content=[]\n",
        "for word in tqdm(test['content'].values):\n",
        "  new_content.append(' '.join(Okt.nouns(word)))\n",
        "test['new_content'] = new_content"
      ],
      "execution_count": null,
      "outputs": [
        {
          "output_type": "stream",
          "text": [
            "100%|██████████| 142565/142565 [06:28<00:00, 367.29it/s]\n"
          ],
          "name": "stderr"
        }
      ]
    },
    {
      "cell_type": "markdown",
      "metadata": {
        "id": "qKz6G1ZhbFkN"
      },
      "source": [
        "## ord"
      ]
    },
    {
      "cell_type": "markdown",
      "metadata": {
        "id": "g5Gspn9FnM8i"
      },
      "source": [
        "- ord가 작다며 진짜 뉴스일 확률이 높아지는 경향을 보임\n",
        "- 하지만 ord가 커질 수록 가짜 뉴스와 진짜 뉴스의 비율이 비슷해짐\n",
        "\n",
        "따라서 현재까지 분석 결과 ord가 유의미한 차이를 가져다 주기는 하지만 유의미한 차이를 가져다주는 변수인지는 조금 더 분석을 해봐야 할 듯"
      ]
    },
    {
      "cell_type": "code",
      "metadata": {
        "colab": {
          "base_uri": "https://localhost:8080/"
        },
        "id": "Iwrv3d3RmExm",
        "outputId": "1b250345-f654-4233-a542-cd36b512d30c"
      },
      "source": [
        "train.describe(include='all')['ord']"
      ],
      "execution_count": null,
      "outputs": [
        {
          "output_type": "execute_result",
          "data": {
            "text/plain": [
              "count     118745.000000\n",
              "unique              NaN\n",
              "top                 NaN\n",
              "freq                NaN\n",
              "first               NaN\n",
              "last                NaN\n",
              "mean          39.125614\n",
              "std           45.138605\n",
              "min            1.000000\n",
              "25%            9.000000\n",
              "50%           21.000000\n",
              "75%           56.000000\n",
              "max          396.000000\n",
              "Name: ord, dtype: float64"
            ]
          },
          "metadata": {
            "tags": []
          },
          "execution_count": 28
        }
      ]
    },
    {
      "cell_type": "code",
      "metadata": {
        "colab": {
          "base_uri": "https://localhost:8080/"
        },
        "id": "PwzMhnOWmExo",
        "outputId": "24eb67f4-d9d1-414c-f937-b1f1ce6137e3"
      },
      "source": [
        "train[train['info'] == 1].describe(include='all')['ord']"
      ],
      "execution_count": null,
      "outputs": [
        {
          "output_type": "execute_result",
          "data": {
            "text/plain": [
              "count     46932.000000\n",
              "unique             NaN\n",
              "top                NaN\n",
              "freq               NaN\n",
              "first              NaN\n",
              "last               NaN\n",
              "mean         46.052416\n",
              "std          43.153748\n",
              "min           1.000000\n",
              "25%          15.000000\n",
              "50%          33.000000\n",
              "75%          65.000000\n",
              "max         396.000000\n",
              "Name: ord, dtype: float64"
            ]
          },
          "metadata": {
            "tags": []
          },
          "execution_count": 29
        }
      ]
    },
    {
      "cell_type": "code",
      "metadata": {
        "colab": {
          "base_uri": "https://localhost:8080/"
        },
        "id": "SOXqVa-JmExo",
        "outputId": "253900d4-ccc8-422b-efe2-8a7c1db34dea"
      },
      "source": [
        "train[train['info'] == 0].describe(include='all')['ord']"
      ],
      "execution_count": null,
      "outputs": [
        {
          "output_type": "execute_result",
          "data": {
            "text/plain": [
              "count     71813.000000\n",
              "unique             NaN\n",
              "top                NaN\n",
              "freq               NaN\n",
              "first              NaN\n",
              "last               NaN\n",
              "mean         34.598736\n",
              "std          45.827948\n",
              "min           1.000000\n",
              "25%           6.000000\n",
              "50%          15.000000\n",
              "75%          48.000000\n",
              "max         374.000000\n",
              "Name: ord, dtype: float64"
            ]
          },
          "metadata": {
            "tags": []
          },
          "execution_count": 30
        }
      ]
    },
    {
      "cell_type": "code",
      "metadata": {
        "colab": {
          "base_uri": "https://localhost:8080/"
        },
        "id": "jz_n_h5hAHKG",
        "outputId": "3109c532-f68d-4e39-f44e-1aa0b99108d5"
      },
      "source": [
        "# \n",
        "Q1 = train[train['info'] == 1].describe(include='all')['ord']['25%']\n",
        "Q3 = train[train['info'] == 1].describe(include='all')['ord']['75%']\n",
        "IQR = Q3 - Q1\n",
        "maximum = Q3 + 1.5*IQR\n",
        "maximum"
      ],
      "execution_count": null,
      "outputs": [
        {
          "output_type": "execute_result",
          "data": {
            "text/plain": [
              "140.0"
            ]
          },
          "metadata": {
            "tags": []
          },
          "execution_count": 31
        }
      ]
    },
    {
      "cell_type": "code",
      "metadata": {
        "colab": {
          "base_uri": "https://localhost:8080/",
          "height": 297
        },
        "id": "tcF7Qn1FmExp",
        "outputId": "63f02b8f-c285-4ab7-e094-1c3c8710f74f"
      },
      "source": [
        "sns.boxplot(data = train[train['ord'] <= maximum], y='ord', x='info')"
      ],
      "execution_count": null,
      "outputs": [
        {
          "output_type": "execute_result",
          "data": {
            "text/plain": [
              "<matplotlib.axes._subplots.AxesSubplot at 0x7f0e04e040b8>"
            ]
          },
          "metadata": {
            "tags": []
          },
          "execution_count": 32
        },
        {
          "output_type": "display_data",
          "data": {
            "image/png": "[encoded data removed]",
            "text/plain": [
              "<Figure size 432x288 with 1 Axes>"
            ]
          },
          "metadata": {
            "tags": [],
            "needs_background": "light"
          }
        }
      ]
    },
    {
      "cell_type": "code",
      "metadata": {
        "colab": {
          "base_uri": "https://localhost:8080/",
          "height": 449
        },
        "id": "HLPZvhwJmExp",
        "outputId": "5301adb4-3dd6-4e1a-caf8-5eafc6fe392b"
      },
      "source": [
        "plt.figure(figsize=(30,8))\n",
        "sns.countplot(data = train[train['ord'] <= maximum], x='ord', hue='info')"
      ],
      "execution_count": null,
      "outputs": [
        {
          "output_type": "execute_result",
          "data": {
            "text/plain": [
              "<matplotlib.axes._subplots.AxesSubplot at 0x7f0e0497f240>"
            ]
          },
          "metadata": {
            "tags": []
          },
          "execution_count": 33
        },
        {
          "output_type": "display_data",
          "data": {
            "image/png": "[encoded data removed]",
            "text/plain": [
              "<Figure size 2160x576 with 1 Axes>"
            ]
          },
          "metadata": {
            "tags": [],
            "needs_background": "light"
          }
        }
      ]
    },
    {
      "cell_type": "code",
      "metadata": {
        "colab": {
          "base_uri": "https://localhost:8080/",
          "height": 450
        },
        "id": "jo3iUUfemExr",
        "outputId": "a3b41906-aab3-4f61-c7d5-e17d85d22195"
      },
      "source": [
        "plt.figure(figsize=(30,8))\n",
        "sns.distplot(train[train['info'] == 1]['ord'], color='red', label='1')\n",
        "sns.distplot(train[train['info'] == 0]['ord'], color='blue', label='0')\n",
        "plt.legend(title='info')"
      ],
      "execution_count": null,
      "outputs": [
        {
          "output_type": "execute_result",
          "data": {
            "text/plain": [
              "<matplotlib.legend.Legend at 0x7f0e00f53c88>"
            ]
          },
          "metadata": {
            "tags": []
          },
          "execution_count": 34
        },
        {
          "output_type": "display_data",
          "data": {
            "image/png": "[encoded data removed]",
            "text/plain": [
              "<Figure size 2160x576 with 1 Axes>"
            ]
          },
          "metadata": {
            "tags": [],
            "needs_background": "light"
          }
        }
      ]
    },
    {
      "cell_type": "markdown",
      "metadata": {
        "id": "DxX7hSVFbGls"
      },
      "source": [
        "## info\n",
        "전체 데이터 중 약 40%가 가짜 뉴스임"
      ]
    },
    {
      "cell_type": "code",
      "metadata": {
        "colab": {
          "base_uri": "https://localhost:8080/",
          "height": 297
        },
        "id": "QtR2NSRKoCN8",
        "outputId": "250dff88-eade-4d59-9527-c355c389c1c0"
      },
      "source": [
        "sns.countplot(data = train, x='info')"
      ],
      "execution_count": null,
      "outputs": [
        {
          "output_type": "execute_result",
          "data": {
            "text/plain": [
              "<matplotlib.axes._subplots.AxesSubplot at 0x7f0e049242b0>"
            ]
          },
          "metadata": {
            "tags": []
          },
          "execution_count": 35
        },
        {
          "output_type": "display_data",
          "data": {
            "image/png": "[encoded data removed]",
            "text/plain": [
              "<Figure size 432x288 with 1 Axes>"
            ]
          },
          "metadata": {
            "tags": [],
            "needs_background": "light"
          }
        }
      ]
    },
    {
      "cell_type": "code",
      "metadata": {
        "colab": {
          "base_uri": "https://localhost:8080/"
        },
        "id": "5oCHUHWyAV8p",
        "outputId": "028d3f62-74fc-4d96-af11-2445e4c0da2f"
      },
      "source": [
        "train['info'].sum() / train.shape[0]"
      ],
      "execution_count": null,
      "outputs": [
        {
          "output_type": "execute_result",
          "data": {
            "text/plain": [
              "0.39523348351509535"
            ]
          },
          "metadata": {
            "tags": []
          },
          "execution_count": 36
        }
      ]
    },
    {
      "cell_type": "markdown",
      "metadata": {
        "id": "RBipF8vJZZfs"
      },
      "source": [
        "# 모델링"
      ]
    },
    {
      "cell_type": "markdown",
      "metadata": {
        "id": "oec6R6qnoLWf"
      },
      "source": [
        "사용할 변수는 content, ord로 확정\n",
        "1. content의 경우 진짜 뉴스와 가짜 뉴스의 텍스트가 완전히 다르기 때문에 이를 활용해서 one-hot-encoding을 한다면 예측에 좋은 영향을 줄 듯 하지만 일반화의 오류가 발생할 가능성이 매우 높아짐\n",
        "2. content의 길이가 짧을 수록 가짜 뉴스일 확률이 높아지기 때문에 범위를 one-hot-encoding 또는 길이 그 자체를 활용 하지만 길이 자체가 매우 길기 때문에 범위를 범주화 하는 방법이 더 나을 수도 있다고 생각함\n",
        "3. ord의 경우 8 이하라며 진짜 뉴스일 확률이 높기 때문에 이를 one-hot-encoding하여 모델에 반영한다면 좋을 결과를 줄 듯"
      ]
    },
    {
      "cell_type": "code",
      "metadata": {
        "id": "n1Dj_9jtoJVm"
      },
      "source": [
        "# 가짜 뉴스의 목록 \n",
        "fake_content = train[train['info'] == 1]['content'].unique()\n",
        "\n",
        "# contnet의 one-hot-encoding\n",
        "train['fake_content'] = train['content'].apply(lambda x : x in fake_content)\n",
        "test['fake_content'] = test['content'].apply(lambda x : x in fake_content)"
      ],
      "execution_count": null,
      "outputs": []
    },
    {
      "cell_type": "code",
      "metadata": {
        "id": "49_pjEsCrd94"
      },
      "source": [
        "train['content_len'] = train['content'].apply(lambda x : len(x))\n",
        "test['content_len'] = test['content'].apply(lambda x : len(x))\n",
        "\n",
        "# contnet의 one-hot-encoding\n",
        "train['fake_content_len'] = train['content_len'] <= 60\n",
        "test['fake_content_len'] = test['content_len'] <= 60"
      ],
      "execution_count": null,
      "outputs": []
    },
    {
      "cell_type": "code",
      "metadata": {
        "id": "fawKEJqXricf"
      },
      "source": [
        "# ord의 one-hot-encoding\n",
        "train['small_ord'] = train['ord'] <= 8\n",
        "test['small_ord'] = test['ord'] <= 8"
      ],
      "execution_count": null,
      "outputs": []
    },
    {
      "cell_type": "code",
      "metadata": {
        "id": "aFesAz4Q8lPx"
      },
      "source": [
        "# ord 정규화 Normalization\n",
        "train['normal_ord'] = (train['ord'] - train['ord'].min()) / (train['ord'].max() - train['ord'].min())\n",
        "test['normal_ord'] = (test['ord'] - test['ord'].min()) / (test['ord'].max() - test['ord'].min())"
      ],
      "execution_count": null,
      "outputs": []
    },
    {
      "cell_type": "code",
      "metadata": {
        "id": "iydcYGwQ8n47"
      },
      "source": [
        "# content_len 정규화 Normalization\n",
        "train['normal_content_len'] = (train['content_len'] - train['content_len'].min()) / (train['content_len'].max() - train['content_len'].min())\n",
        "test['normal_content_len'] = (test['content_len'] - test['content_len'].min()) / (test['content_len'].max() - test['content_len'].min())"
      ],
      "execution_count": null,
      "outputs": []
    },
    {
      "cell_type": "markdown",
      "metadata": {
        "id": "JSnKyiRewaAG"
      },
      "source": [
        "모델링 전 마지막 데이터 확인"
      ]
    },
    {
      "cell_type": "code",
      "metadata": {
        "colab": {
          "base_uri": "https://localhost:8080/",
          "height": 421
        },
        "id": "0g6WsL8zwepU",
        "outputId": "41904c42-4b93-4310-a776-7c4f694bfff8"
      },
      "source": [
        "train.corr()"
      ],
      "execution_count": null,
      "outputs": [
        {
          "output_type": "execute_result",
          "data": {
            "text/html": [
              "<div>\n",
              "<style scoped>\n",
              "    .dataframe tbody tr th:only-of-type {\n",
              "        vertical-align: middle;\n",
              "    }\n",
              "\n",
              "    .dataframe tbody tr th {\n",
              "        vertical-align: top;\n",
              "    }\n",
              "\n",
              "    .dataframe thead th {\n",
              "        text-align: right;\n",
              "    }\n",
              "</style>\n",
              "<table border=\"1\" class=\"dataframe\">\n",
              "  <thead>\n",
              "    <tr style=\"text-align: right;\">\n",
              "      <th></th>\n",
              "      <th>ord</th>\n",
              "      <th>info</th>\n",
              "      <th>date_year</th>\n",
              "      <th>date_month</th>\n",
              "      <th>date_day</th>\n",
              "      <th>title_len</th>\n",
              "      <th>content_len</th>\n",
              "      <th>fake_content</th>\n",
              "      <th>fake_content_len</th>\n",
              "      <th>small_ord</th>\n",
              "      <th>normal_ord</th>\n",
              "      <th>normal_content_len</th>\n",
              "    </tr>\n",
              "  </thead>\n",
              "  <tbody>\n",
              "    <tr>\n",
              "      <th>ord</th>\n",
              "      <td>1.000000</td>\n",
              "      <td>0.124056</td>\n",
              "      <td>NaN</td>\n",
              "      <td>0.014259</td>\n",
              "      <td>-0.024831</td>\n",
              "      <td>-0.001719</td>\n",
              "      <td>-0.079034</td>\n",
              "      <td>0.123719</td>\n",
              "      <td>0.065209</td>\n",
              "      <td>-0.431602</td>\n",
              "      <td>1.000000</td>\n",
              "      <td>-0.079034</td>\n",
              "    </tr>\n",
              "    <tr>\n",
              "      <th>info</th>\n",
              "      <td>0.124056</td>\n",
              "      <td>1.000000</td>\n",
              "      <td>NaN</td>\n",
              "      <td>0.027979</td>\n",
              "      <td>0.013571</td>\n",
              "      <td>-0.066305</td>\n",
              "      <td>-0.351921</td>\n",
              "      <td>0.999507</td>\n",
              "      <td>0.400922</td>\n",
              "      <td>-0.264925</td>\n",
              "      <td>0.124056</td>\n",
              "      <td>-0.351921</td>\n",
              "    </tr>\n",
              "    <tr>\n",
              "      <th>date_year</th>\n",
              "      <td>NaN</td>\n",
              "      <td>NaN</td>\n",
              "      <td>NaN</td>\n",
              "      <td>NaN</td>\n",
              "      <td>NaN</td>\n",
              "      <td>NaN</td>\n",
              "      <td>NaN</td>\n",
              "      <td>NaN</td>\n",
              "      <td>NaN</td>\n",
              "      <td>NaN</td>\n",
              "      <td>NaN</td>\n",
              "      <td>NaN</td>\n",
              "    </tr>\n",
              "    <tr>\n",
              "      <th>date_month</th>\n",
              "      <td>0.014259</td>\n",
              "      <td>0.027979</td>\n",
              "      <td>NaN</td>\n",
              "      <td>1.000000</td>\n",
              "      <td>0.045536</td>\n",
              "      <td>-0.030202</td>\n",
              "      <td>-0.008123</td>\n",
              "      <td>0.028499</td>\n",
              "      <td>0.005415</td>\n",
              "      <td>-0.013410</td>\n",
              "      <td>0.014259</td>\n",
              "      <td>-0.008123</td>\n",
              "    </tr>\n",
              "    <tr>\n",
              "      <th>date_day</th>\n",
              "      <td>-0.024831</td>\n",
              "      <td>0.013571</td>\n",
              "      <td>NaN</td>\n",
              "      <td>0.045536</td>\n",
              "      <td>1.000000</td>\n",
              "      <td>0.007686</td>\n",
              "      <td>0.001548</td>\n",
              "      <td>0.013578</td>\n",
              "      <td>-0.004755</td>\n",
              "      <td>0.004734</td>\n",
              "      <td>-0.024831</td>\n",
              "      <td>0.001548</td>\n",
              "    </tr>\n",
              "    <tr>\n",
              "      <th>title_len</th>\n",
              "      <td>-0.001719</td>\n",
              "      <td>-0.066305</td>\n",
              "      <td>NaN</td>\n",
              "      <td>-0.030202</td>\n",
              "      <td>0.007686</td>\n",
              "      <td>1.000000</td>\n",
              "      <td>0.046835</td>\n",
              "      <td>-0.066286</td>\n",
              "      <td>-0.047539</td>\n",
              "      <td>0.011753</td>\n",
              "      <td>-0.001719</td>\n",
              "      <td>0.046835</td>\n",
              "    </tr>\n",
              "    <tr>\n",
              "      <th>content_len</th>\n",
              "      <td>-0.079034</td>\n",
              "      <td>-0.351921</td>\n",
              "      <td>NaN</td>\n",
              "      <td>-0.008123</td>\n",
              "      <td>0.001548</td>\n",
              "      <td>0.046835</td>\n",
              "      <td>1.000000</td>\n",
              "      <td>-0.352336</td>\n",
              "      <td>-0.702157</td>\n",
              "      <td>0.143326</td>\n",
              "      <td>-0.079034</td>\n",
              "      <td>1.000000</td>\n",
              "    </tr>\n",
              "    <tr>\n",
              "      <th>fake_content</th>\n",
              "      <td>0.123719</td>\n",
              "      <td>0.999507</td>\n",
              "      <td>NaN</td>\n",
              "      <td>0.028499</td>\n",
              "      <td>0.013578</td>\n",
              "      <td>-0.066286</td>\n",
              "      <td>-0.352336</td>\n",
              "      <td>1.000000</td>\n",
              "      <td>0.401192</td>\n",
              "      <td>-0.264281</td>\n",
              "      <td>0.123719</td>\n",
              "      <td>-0.352336</td>\n",
              "    </tr>\n",
              "    <tr>\n",
              "      <th>fake_content_len</th>\n",
              "      <td>0.065209</td>\n",
              "      <td>0.400922</td>\n",
              "      <td>NaN</td>\n",
              "      <td>0.005415</td>\n",
              "      <td>-0.004755</td>\n",
              "      <td>-0.047539</td>\n",
              "      <td>-0.702157</td>\n",
              "      <td>0.401192</td>\n",
              "      <td>1.000000</td>\n",
              "      <td>-0.137019</td>\n",
              "      <td>0.065209</td>\n",
              "      <td>-0.702157</td>\n",
              "    </tr>\n",
              "    <tr>\n",
              "      <th>small_ord</th>\n",
              "      <td>-0.431602</td>\n",
              "      <td>-0.264925</td>\n",
              "      <td>NaN</td>\n",
              "      <td>-0.013410</td>\n",
              "      <td>0.004734</td>\n",
              "      <td>0.011753</td>\n",
              "      <td>0.143326</td>\n",
              "      <td>-0.264281</td>\n",
              "      <td>-0.137019</td>\n",
              "      <td>1.000000</td>\n",
              "      <td>-0.431602</td>\n",
              "      <td>0.143326</td>\n",
              "    </tr>\n",
              "    <tr>\n",
              "      <th>normal_ord</th>\n",
              "      <td>1.000000</td>\n",
              "      <td>0.124056</td>\n",
              "      <td>NaN</td>\n",
              "      <td>0.014259</td>\n",
              "      <td>-0.024831</td>\n",
              "      <td>-0.001719</td>\n",
              "      <td>-0.079034</td>\n",
              "      <td>0.123719</td>\n",
              "      <td>0.065209</td>\n",
              "      <td>-0.431602</td>\n",
              "      <td>1.000000</td>\n",
              "      <td>-0.079034</td>\n",
              "    </tr>\n",
              "    <tr>\n",
              "      <th>normal_content_len</th>\n",
              "      <td>-0.079034</td>\n",
              "      <td>-0.351921</td>\n",
              "      <td>NaN</td>\n",
              "      <td>-0.008123</td>\n",
              "      <td>0.001548</td>\n",
              "      <td>0.046835</td>\n",
              "      <td>1.000000</td>\n",
              "      <td>-0.352336</td>\n",
              "      <td>-0.702157</td>\n",
              "      <td>0.143326</td>\n",
              "      <td>-0.079034</td>\n",
              "      <td>1.000000</td>\n",
              "    </tr>\n",
              "  </tbody>\n",
              "</table>\n",
              "</div>"
            ],
            "text/plain": [
              "                         ord      info  ...  normal_ord  normal_content_len\n",
              "ord                 1.000000  0.124056  ...    1.000000           -0.079034\n",
              "info                0.124056  1.000000  ...    0.124056           -0.351921\n",
              "date_year                NaN       NaN  ...         NaN                 NaN\n",
              "date_month          0.014259  0.027979  ...    0.014259           -0.008123\n",
              "date_day           -0.024831  0.013571  ...   -0.024831            0.001548\n",
              "title_len          -0.001719 -0.066305  ...   -0.001719            0.046835\n",
              "content_len        -0.079034 -0.351921  ...   -0.079034            1.000000\n",
              "fake_content        0.123719  0.999507  ...    0.123719           -0.352336\n",
              "fake_content_len    0.065209  0.400922  ...    0.065209           -0.702157\n",
              "small_ord          -0.431602 -0.264925  ...   -0.431602            0.143326\n",
              "normal_ord          1.000000  0.124056  ...    1.000000           -0.079034\n",
              "normal_content_len -0.079034 -0.351921  ...   -0.079034            1.000000\n",
              "\n",
              "[12 rows x 12 columns]"
            ]
          },
          "metadata": {
            "tags": []
          },
          "execution_count": 55
        }
      ]
    },
    {
      "cell_type": "code",
      "metadata": {
        "colab": {
          "base_uri": "https://localhost:8080/",
          "height": 292
        },
        "id": "QWf0HdWF-Hi2",
        "outputId": "63c89f24-e406-4ae8-be0e-9ca48a52a4a8"
      },
      "source": [
        "df_cor= train.corr()\n",
        "df_cor.style.background_gradient(cmap='coolwarm').set_precision(3)"
      ],
      "execution_count": null,
      "outputs": [
        {
          "output_type": "execute_result",
          "data": {
            "text/html": [
              "<style  type=\"text/css\" >\n",
              "#T_32da3380_4774_11eb_a2b5_0242ac1c0002row0_col0,#T_32da3380_4774_11eb_a2b5_0242ac1c0002row0_col10,#T_32da3380_4774_11eb_a2b5_0242ac1c0002row1_col1,#T_32da3380_4774_11eb_a2b5_0242ac1c0002row1_col7,#T_32da3380_4774_11eb_a2b5_0242ac1c0002row3_col3,#T_32da3380_4774_11eb_a2b5_0242ac1c0002row4_col4,#T_32da3380_4774_11eb_a2b5_0242ac1c0002row5_col5,#T_32da3380_4774_11eb_a2b5_0242ac1c0002row6_col6,#T_32da3380_4774_11eb_a2b5_0242ac1c0002row6_col11,#T_32da3380_4774_11eb_a2b5_0242ac1c0002row7_col1,#T_32da3380_4774_11eb_a2b5_0242ac1c0002row7_col7,#T_32da3380_4774_11eb_a2b5_0242ac1c0002row8_col8,#T_32da3380_4774_11eb_a2b5_0242ac1c0002row9_col9,#T_32da3380_4774_11eb_a2b5_0242ac1c0002row10_col0,#T_32da3380_4774_11eb_a2b5_0242ac1c0002row10_col10,#T_32da3380_4774_11eb_a2b5_0242ac1c0002row11_col6,#T_32da3380_4774_11eb_a2b5_0242ac1c0002row11_col11{\n",
              "            background-color:  #b40426;\n",
              "            color:  #f1f1f1;\n",
              "        }#T_32da3380_4774_11eb_a2b5_0242ac1c0002row0_col1,#T_32da3380_4774_11eb_a2b5_0242ac1c0002row0_col7,#T_32da3380_4774_11eb_a2b5_0242ac1c0002row10_col1,#T_32da3380_4774_11eb_a2b5_0242ac1c0002row10_col7{\n",
              "            background-color:  #b1cbfc;\n",
              "            color:  #000000;\n",
              "        }#T_32da3380_4774_11eb_a2b5_0242ac1c0002row0_col2,#T_32da3380_4774_11eb_a2b5_0242ac1c0002row1_col2,#T_32da3380_4774_11eb_a2b5_0242ac1c0002row2_col0,#T_32da3380_4774_11eb_a2b5_0242ac1c0002row2_col1,#T_32da3380_4774_11eb_a2b5_0242ac1c0002row2_col2,#T_32da3380_4774_11eb_a2b5_0242ac1c0002row2_col3,#T_32da3380_4774_11eb_a2b5_0242ac1c0002row2_col4,#T_32da3380_4774_11eb_a2b5_0242ac1c0002row2_col5,#T_32da3380_4774_11eb_a2b5_0242ac1c0002row2_col6,#T_32da3380_4774_11eb_a2b5_0242ac1c0002row2_col7,#T_32da3380_4774_11eb_a2b5_0242ac1c0002row2_col8,#T_32da3380_4774_11eb_a2b5_0242ac1c0002row2_col9,#T_32da3380_4774_11eb_a2b5_0242ac1c0002row2_col10,#T_32da3380_4774_11eb_a2b5_0242ac1c0002row2_col11,#T_32da3380_4774_11eb_a2b5_0242ac1c0002row3_col2,#T_32da3380_4774_11eb_a2b5_0242ac1c0002row4_col2,#T_32da3380_4774_11eb_a2b5_0242ac1c0002row5_col2,#T_32da3380_4774_11eb_a2b5_0242ac1c0002row6_col2,#T_32da3380_4774_11eb_a2b5_0242ac1c0002row7_col2,#T_32da3380_4774_11eb_a2b5_0242ac1c0002row8_col2,#T_32da3380_4774_11eb_a2b5_0242ac1c0002row9_col2,#T_32da3380_4774_11eb_a2b5_0242ac1c0002row10_col2,#T_32da3380_4774_11eb_a2b5_0242ac1c0002row11_col2{\n",
              "            background-color:  #000000;\n",
              "            color:  #f1f1f1;\n",
              "        }#T_32da3380_4774_11eb_a2b5_0242ac1c0002row0_col3,#T_32da3380_4774_11eb_a2b5_0242ac1c0002row10_col3{\n",
              "            background-color:  #485fd1;\n",
              "            color:  #f1f1f1;\n",
              "        }#T_32da3380_4774_11eb_a2b5_0242ac1c0002row0_col4,#T_32da3380_4774_11eb_a2b5_0242ac1c0002row0_col9,#T_32da3380_4774_11eb_a2b5_0242ac1c0002row1_col5,#T_32da3380_4774_11eb_a2b5_0242ac1c0002row5_col3,#T_32da3380_4774_11eb_a2b5_0242ac1c0002row6_col1,#T_32da3380_4774_11eb_a2b5_0242ac1c0002row6_col7,#T_32da3380_4774_11eb_a2b5_0242ac1c0002row6_col8,#T_32da3380_4774_11eb_a2b5_0242ac1c0002row7_col5,#T_32da3380_4774_11eb_a2b5_0242ac1c0002row8_col6,#T_32da3380_4774_11eb_a2b5_0242ac1c0002row8_col11,#T_32da3380_4774_11eb_a2b5_0242ac1c0002row9_col0,#T_32da3380_4774_11eb_a2b5_0242ac1c0002row9_col10,#T_32da3380_4774_11eb_a2b5_0242ac1c0002row10_col4,#T_32da3380_4774_11eb_a2b5_0242ac1c0002row10_col9,#T_32da3380_4774_11eb_a2b5_0242ac1c0002row11_col1,#T_32da3380_4774_11eb_a2b5_0242ac1c0002row11_col7,#T_32da3380_4774_11eb_a2b5_0242ac1c0002row11_col8{\n",
              "            background-color:  #3b4cc0;\n",
              "            color:  #f1f1f1;\n",
              "        }#T_32da3380_4774_11eb_a2b5_0242ac1c0002row0_col5,#T_32da3380_4774_11eb_a2b5_0242ac1c0002row10_col5{\n",
              "            background-color:  #4c66d6;\n",
              "            color:  #000000;\n",
              "        }#T_32da3380_4774_11eb_a2b5_0242ac1c0002row0_col6,#T_32da3380_4774_11eb_a2b5_0242ac1c0002row0_col11,#T_32da3380_4774_11eb_a2b5_0242ac1c0002row10_col6,#T_32da3380_4774_11eb_a2b5_0242ac1c0002row10_col11{\n",
              "            background-color:  #b5cdfa;\n",
              "            color:  #000000;\n",
              "        }#T_32da3380_4774_11eb_a2b5_0242ac1c0002row0_col8,#T_32da3380_4774_11eb_a2b5_0242ac1c0002row10_col8{\n",
              "            background-color:  #cfdaea;\n",
              "            color:  #000000;\n",
              "        }#T_32da3380_4774_11eb_a2b5_0242ac1c0002row1_col0,#T_32da3380_4774_11eb_a2b5_0242ac1c0002row1_col10,#T_32da3380_4774_11eb_a2b5_0242ac1c0002row7_col0,#T_32da3380_4774_11eb_a2b5_0242ac1c0002row7_col10{\n",
              "            background-color:  #bcd2f7;\n",
              "            color:  #000000;\n",
              "        }#T_32da3380_4774_11eb_a2b5_0242ac1c0002row1_col3,#T_32da3380_4774_11eb_a2b5_0242ac1c0002row7_col3{\n",
              "            background-color:  #4b64d5;\n",
              "            color:  #f1f1f1;\n",
              "        }#T_32da3380_4774_11eb_a2b5_0242ac1c0002row1_col4,#T_32da3380_4774_11eb_a2b5_0242ac1c0002row7_col4{\n",
              "            background-color:  #455cce;\n",
              "            color:  #f1f1f1;\n",
              "        }#T_32da3380_4774_11eb_a2b5_0242ac1c0002row1_col6,#T_32da3380_4774_11eb_a2b5_0242ac1c0002row1_col11,#T_32da3380_4774_11eb_a2b5_0242ac1c0002row7_col6,#T_32da3380_4774_11eb_a2b5_0242ac1c0002row7_col11,#T_32da3380_4774_11eb_a2b5_0242ac1c0002row8_col9{\n",
              "            background-color:  #7da0f9;\n",
              "            color:  #000000;\n",
              "        }#T_32da3380_4774_11eb_a2b5_0242ac1c0002row1_col8,#T_32da3380_4774_11eb_a2b5_0242ac1c0002row7_col8{\n",
              "            background-color:  #f6bea4;\n",
              "            color:  #000000;\n",
              "        }#T_32da3380_4774_11eb_a2b5_0242ac1c0002row1_col9,#T_32da3380_4774_11eb_a2b5_0242ac1c0002row7_col9{\n",
              "            background-color:  #5e7de7;\n",
              "            color:  #000000;\n",
              "        }#T_32da3380_4774_11eb_a2b5_0242ac1c0002row3_col0,#T_32da3380_4774_11eb_a2b5_0242ac1c0002row3_col10,#T_32da3380_4774_11eb_a2b5_0242ac1c0002row5_col9{\n",
              "            background-color:  #a2c1ff;\n",
              "            color:  #000000;\n",
              "        }#T_32da3380_4774_11eb_a2b5_0242ac1c0002row3_col1{\n",
              "            background-color:  #97b8ff;\n",
              "            color:  #000000;\n",
              "        }#T_32da3380_4774_11eb_a2b5_0242ac1c0002row3_col4,#T_32da3380_4774_11eb_a2b5_0242ac1c0002row4_col5{\n",
              "            background-color:  #4f69d9;\n",
              "            color:  #000000;\n",
              "        }#T_32da3380_4774_11eb_a2b5_0242ac1c0002row3_col5,#T_32da3380_4774_11eb_a2b5_0242ac1c0002row5_col4,#T_32da3380_4774_11eb_a2b5_0242ac1c0002row8_col3{\n",
              "            background-color:  #445acc;\n",
              "            color:  #f1f1f1;\n",
              "        }#T_32da3380_4774_11eb_a2b5_0242ac1c0002row3_col6,#T_32da3380_4774_11eb_a2b5_0242ac1c0002row3_col11,#T_32da3380_4774_11eb_a2b5_0242ac1c0002row4_col8{\n",
              "            background-color:  #c3d5f4;\n",
              "            color:  #000000;\n",
              "        }#T_32da3380_4774_11eb_a2b5_0242ac1c0002row3_col7,#T_32da3380_4774_11eb_a2b5_0242ac1c0002row4_col0,#T_32da3380_4774_11eb_a2b5_0242ac1c0002row4_col10{\n",
              "            background-color:  #98b9ff;\n",
              "            color:  #000000;\n",
              "        }#T_32da3380_4774_11eb_a2b5_0242ac1c0002row3_col8{\n",
              "            background-color:  #c5d6f2;\n",
              "            color:  #000000;\n",
              "        }#T_32da3380_4774_11eb_a2b5_0242ac1c0002row3_col9{\n",
              "            background-color:  #9bbcff;\n",
              "            color:  #000000;\n",
              "        }#T_32da3380_4774_11eb_a2b5_0242ac1c0002row4_col1,#T_32da3380_4774_11eb_a2b5_0242ac1c0002row4_col7{\n",
              "            background-color:  #94b6ff;\n",
              "            color:  #000000;\n",
              "        }#T_32da3380_4774_11eb_a2b5_0242ac1c0002row4_col3,#T_32da3380_4774_11eb_a2b5_0242ac1c0002row9_col5{\n",
              "            background-color:  #506bda;\n",
              "            color:  #000000;\n",
              "        }#T_32da3380_4774_11eb_a2b5_0242ac1c0002row4_col6,#T_32da3380_4774_11eb_a2b5_0242ac1c0002row4_col11{\n",
              "            background-color:  #c4d5f3;\n",
              "            color:  #000000;\n",
              "        }#T_32da3380_4774_11eb_a2b5_0242ac1c0002row4_col9{\n",
              "            background-color:  #a1c0ff;\n",
              "            color:  #000000;\n",
              "        }#T_32da3380_4774_11eb_a2b5_0242ac1c0002row5_col0,#T_32da3380_4774_11eb_a2b5_0242ac1c0002row5_col10{\n",
              "            background-color:  #9ebeff;\n",
              "            color:  #000000;\n",
              "        }#T_32da3380_4774_11eb_a2b5_0242ac1c0002row5_col1,#T_32da3380_4774_11eb_a2b5_0242ac1c0002row5_col7{\n",
              "            background-color:  #80a3fa;\n",
              "            color:  #000000;\n",
              "        }#T_32da3380_4774_11eb_a2b5_0242ac1c0002row5_col6,#T_32da3380_4774_11eb_a2b5_0242ac1c0002row5_col11{\n",
              "            background-color:  #ccd9ed;\n",
              "            color:  #000000;\n",
              "        }#T_32da3380_4774_11eb_a2b5_0242ac1c0002row5_col8{\n",
              "            background-color:  #bbd1f8;\n",
              "            color:  #000000;\n",
              "        }#T_32da3380_4774_11eb_a2b5_0242ac1c0002row6_col0,#T_32da3380_4774_11eb_a2b5_0242ac1c0002row6_col10,#T_32da3380_4774_11eb_a2b5_0242ac1c0002row11_col0,#T_32da3380_4774_11eb_a2b5_0242ac1c0002row11_col10{\n",
              "            background-color:  #8caffe;\n",
              "            color:  #000000;\n",
              "        }#T_32da3380_4774_11eb_a2b5_0242ac1c0002row6_col3,#T_32da3380_4774_11eb_a2b5_0242ac1c0002row8_col4,#T_32da3380_4774_11eb_a2b5_0242ac1c0002row11_col3{\n",
              "            background-color:  #4055c8;\n",
              "            color:  #f1f1f1;\n",
              "        }#T_32da3380_4774_11eb_a2b5_0242ac1c0002row6_col4,#T_32da3380_4774_11eb_a2b5_0242ac1c0002row11_col4{\n",
              "            background-color:  #4257c9;\n",
              "            color:  #f1f1f1;\n",
              "        }#T_32da3380_4774_11eb_a2b5_0242ac1c0002row6_col5,#T_32da3380_4774_11eb_a2b5_0242ac1c0002row11_col5{\n",
              "            background-color:  #5b7ae5;\n",
              "            color:  #000000;\n",
              "        }#T_32da3380_4774_11eb_a2b5_0242ac1c0002row6_col9,#T_32da3380_4774_11eb_a2b5_0242ac1c0002row11_col9{\n",
              "            background-color:  #c0d4f5;\n",
              "            color:  #000000;\n",
              "        }#T_32da3380_4774_11eb_a2b5_0242ac1c0002row8_col0,#T_32da3380_4774_11eb_a2b5_0242ac1c0002row8_col10{\n",
              "            background-color:  #aec9fc;\n",
              "            color:  #000000;\n",
              "        }#T_32da3380_4774_11eb_a2b5_0242ac1c0002row8_col1,#T_32da3380_4774_11eb_a2b5_0242ac1c0002row8_col7{\n",
              "            background-color:  #ead4c8;\n",
              "            color:  #000000;\n",
              "        }#T_32da3380_4774_11eb_a2b5_0242ac1c0002row8_col5,#T_32da3380_4774_11eb_a2b5_0242ac1c0002row9_col3{\n",
              "            background-color:  #3f53c6;\n",
              "            color:  #f1f1f1;\n",
              "        }#T_32da3380_4774_11eb_a2b5_0242ac1c0002row9_col1,#T_32da3380_4774_11eb_a2b5_0242ac1c0002row9_col7{\n",
              "            background-color:  #4e68d8;\n",
              "            color:  #000000;\n",
              "        }#T_32da3380_4774_11eb_a2b5_0242ac1c0002row9_col4{\n",
              "            background-color:  #4358cb;\n",
              "            color:  #f1f1f1;\n",
              "        }#T_32da3380_4774_11eb_a2b5_0242ac1c0002row9_col6,#T_32da3380_4774_11eb_a2b5_0242ac1c0002row9_col11{\n",
              "            background-color:  #dcdddd;\n",
              "            color:  #000000;\n",
              "        }#T_32da3380_4774_11eb_a2b5_0242ac1c0002row9_col8{\n",
              "            background-color:  #a9c6fd;\n",
              "            color:  #000000;\n",
              "        }</style><table id=\"T_32da3380_4774_11eb_a2b5_0242ac1c0002\" ><thead>    <tr>        <th class=\"blank level0\" ></th>        <th class=\"col_heading level0 col0\" >ord</th>        <th class=\"col_heading level0 col1\" >info</th>        <th class=\"col_heading level0 col2\" >date_year</th>        <th class=\"col_heading level0 col3\" >date_month</th>        <th class=\"col_heading level0 col4\" >date_day</th>        <th class=\"col_heading level0 col5\" >title_len</th>        <th class=\"col_heading level0 col6\" >content_len</th>        <th class=\"col_heading level0 col7\" >fake_content</th>        <th class=\"col_heading level0 col8\" >fake_content_len</th>        <th class=\"col_heading level0 col9\" >small_ord</th>        <th class=\"col_heading level0 col10\" >normal_ord</th>        <th class=\"col_heading level0 col11\" >normal_content_len</th>    </tr></thead><tbody>\n",
              "                <tr>\n",
              "                        <th id=\"T_32da3380_4774_11eb_a2b5_0242ac1c0002level0_row0\" class=\"row_heading level0 row0\" >ord</th>\n",
              "                        <td id=\"T_32da3380_4774_11eb_a2b5_0242ac1c0002row0_col0\" class=\"data row0 col0\" >1.000</td>\n",
              "                        <td id=\"T_32da3380_4774_11eb_a2b5_0242ac1c0002row0_col1\" class=\"data row0 col1\" >0.124</td>\n",
              "                        <td id=\"T_32da3380_4774_11eb_a2b5_0242ac1c0002row0_col2\" class=\"data row0 col2\" >nan</td>\n",
              "                        <td id=\"T_32da3380_4774_11eb_a2b5_0242ac1c0002row0_col3\" class=\"data row0 col3\" >0.014</td>\n",
              "                        <td id=\"T_32da3380_4774_11eb_a2b5_0242ac1c0002row0_col4\" class=\"data row0 col4\" >-0.025</td>\n",
              "                        <td id=\"T_32da3380_4774_11eb_a2b5_0242ac1c0002row0_col5\" class=\"data row0 col5\" >-0.002</td>\n",
              "                        <td id=\"T_32da3380_4774_11eb_a2b5_0242ac1c0002row0_col6\" class=\"data row0 col6\" >-0.079</td>\n",
              "                        <td id=\"T_32da3380_4774_11eb_a2b5_0242ac1c0002row0_col7\" class=\"data row0 col7\" >0.124</td>\n",
              "                        <td id=\"T_32da3380_4774_11eb_a2b5_0242ac1c0002row0_col8\" class=\"data row0 col8\" >0.065</td>\n",
              "                        <td id=\"T_32da3380_4774_11eb_a2b5_0242ac1c0002row0_col9\" class=\"data row0 col9\" >-0.432</td>\n",
              "                        <td id=\"T_32da3380_4774_11eb_a2b5_0242ac1c0002row0_col10\" class=\"data row0 col10\" >1.000</td>\n",
              "                        <td id=\"T_32da3380_4774_11eb_a2b5_0242ac1c0002row0_col11\" class=\"data row0 col11\" >-0.079</td>\n",
              "            </tr>\n",
              "            <tr>\n",
              "                        <th id=\"T_32da3380_4774_11eb_a2b5_0242ac1c0002level0_row1\" class=\"row_heading level0 row1\" >info</th>\n",
              "                        <td id=\"T_32da3380_4774_11eb_a2b5_0242ac1c0002row1_col0\" class=\"data row1 col0\" >0.124</td>\n",
              "                        <td id=\"T_32da3380_4774_11eb_a2b5_0242ac1c0002row1_col1\" class=\"data row1 col1\" >1.000</td>\n",
              "                        <td id=\"T_32da3380_4774_11eb_a2b5_0242ac1c0002row1_col2\" class=\"data row1 col2\" >nan</td>\n",
              "                        <td id=\"T_32da3380_4774_11eb_a2b5_0242ac1c0002row1_col3\" class=\"data row1 col3\" >0.028</td>\n",
              "                        <td id=\"T_32da3380_4774_11eb_a2b5_0242ac1c0002row1_col4\" class=\"data row1 col4\" >0.014</td>\n",
              "                        <td id=\"T_32da3380_4774_11eb_a2b5_0242ac1c0002row1_col5\" class=\"data row1 col5\" >-0.066</td>\n",
              "                        <td id=\"T_32da3380_4774_11eb_a2b5_0242ac1c0002row1_col6\" class=\"data row1 col6\" >-0.352</td>\n",
              "                        <td id=\"T_32da3380_4774_11eb_a2b5_0242ac1c0002row1_col7\" class=\"data row1 col7\" >1.000</td>\n",
              "                        <td id=\"T_32da3380_4774_11eb_a2b5_0242ac1c0002row1_col8\" class=\"data row1 col8\" >0.401</td>\n",
              "                        <td id=\"T_32da3380_4774_11eb_a2b5_0242ac1c0002row1_col9\" class=\"data row1 col9\" >-0.265</td>\n",
              "                        <td id=\"T_32da3380_4774_11eb_a2b5_0242ac1c0002row1_col10\" class=\"data row1 col10\" >0.124</td>\n",
              "                        <td id=\"T_32da3380_4774_11eb_a2b5_0242ac1c0002row1_col11\" class=\"data row1 col11\" >-0.352</td>\n",
              "            </tr>\n",
              "            <tr>\n",
              "                        <th id=\"T_32da3380_4774_11eb_a2b5_0242ac1c0002level0_row2\" class=\"row_heading level0 row2\" >date_year</th>\n",
              "                        <td id=\"T_32da3380_4774_11eb_a2b5_0242ac1c0002row2_col0\" class=\"data row2 col0\" >nan</td>\n",
              "                        <td id=\"T_32da3380_4774_11eb_a2b5_0242ac1c0002row2_col1\" class=\"data row2 col1\" >nan</td>\n",
              "                        <td id=\"T_32da3380_4774_11eb_a2b5_0242ac1c0002row2_col2\" class=\"data row2 col2\" >nan</td>\n",
              "                        <td id=\"T_32da3380_4774_11eb_a2b5_0242ac1c0002row2_col3\" class=\"data row2 col3\" >nan</td>\n",
              "                        <td id=\"T_32da3380_4774_11eb_a2b5_0242ac1c0002row2_col4\" class=\"data row2 col4\" >nan</td>\n",
              "                        <td id=\"T_32da3380_4774_11eb_a2b5_0242ac1c0002row2_col5\" class=\"data row2 col5\" >nan</td>\n",
              "                        <td id=\"T_32da3380_4774_11eb_a2b5_0242ac1c0002row2_col6\" class=\"data row2 col6\" >nan</td>\n",
              "                        <td id=\"T_32da3380_4774_11eb_a2b5_0242ac1c0002row2_col7\" class=\"data row2 col7\" >nan</td>\n",
              "                        <td id=\"T_32da3380_4774_11eb_a2b5_0242ac1c0002row2_col8\" class=\"data row2 col8\" >nan</td>\n",
              "                        <td id=\"T_32da3380_4774_11eb_a2b5_0242ac1c0002row2_col9\" class=\"data row2 col9\" >nan</td>\n",
              "                        <td id=\"T_32da3380_4774_11eb_a2b5_0242ac1c0002row2_col10\" class=\"data row2 col10\" >nan</td>\n",
              "                        <td id=\"T_32da3380_4774_11eb_a2b5_0242ac1c0002row2_col11\" class=\"data row2 col11\" >nan</td>\n",
              "            </tr>\n",
              "            <tr>\n",
              "                        <th id=\"T_32da3380_4774_11eb_a2b5_0242ac1c0002level0_row3\" class=\"row_heading level0 row3\" >date_month</th>\n",
              "                        <td id=\"T_32da3380_4774_11eb_a2b5_0242ac1c0002row3_col0\" class=\"data row3 col0\" >0.014</td>\n",
              "                        <td id=\"T_32da3380_4774_11eb_a2b5_0242ac1c0002row3_col1\" class=\"data row3 col1\" >0.028</td>\n",
              "                        <td id=\"T_32da3380_4774_11eb_a2b5_0242ac1c0002row3_col2\" class=\"data row3 col2\" >nan</td>\n",
              "                        <td id=\"T_32da3380_4774_11eb_a2b5_0242ac1c0002row3_col3\" class=\"data row3 col3\" >1.000</td>\n",
              "                        <td id=\"T_32da3380_4774_11eb_a2b5_0242ac1c0002row3_col4\" class=\"data row3 col4\" >0.046</td>\n",
              "                        <td id=\"T_32da3380_4774_11eb_a2b5_0242ac1c0002row3_col5\" class=\"data row3 col5\" >-0.030</td>\n",
              "                        <td id=\"T_32da3380_4774_11eb_a2b5_0242ac1c0002row3_col6\" class=\"data row3 col6\" >-0.008</td>\n",
              "                        <td id=\"T_32da3380_4774_11eb_a2b5_0242ac1c0002row3_col7\" class=\"data row3 col7\" >0.028</td>\n",
              "                        <td id=\"T_32da3380_4774_11eb_a2b5_0242ac1c0002row3_col8\" class=\"data row3 col8\" >0.005</td>\n",
              "                        <td id=\"T_32da3380_4774_11eb_a2b5_0242ac1c0002row3_col9\" class=\"data row3 col9\" >-0.013</td>\n",
              "                        <td id=\"T_32da3380_4774_11eb_a2b5_0242ac1c0002row3_col10\" class=\"data row3 col10\" >0.014</td>\n",
              "                        <td id=\"T_32da3380_4774_11eb_a2b5_0242ac1c0002row3_col11\" class=\"data row3 col11\" >-0.008</td>\n",
              "            </tr>\n",
              "            <tr>\n",
              "                        <th id=\"T_32da3380_4774_11eb_a2b5_0242ac1c0002level0_row4\" class=\"row_heading level0 row4\" >date_day</th>\n",
              "                        <td id=\"T_32da3380_4774_11eb_a2b5_0242ac1c0002row4_col0\" class=\"data row4 col0\" >-0.025</td>\n",
              "                        <td id=\"T_32da3380_4774_11eb_a2b5_0242ac1c0002row4_col1\" class=\"data row4 col1\" >0.014</td>\n",
              "                        <td id=\"T_32da3380_4774_11eb_a2b5_0242ac1c0002row4_col2\" class=\"data row4 col2\" >nan</td>\n",
              "                        <td id=\"T_32da3380_4774_11eb_a2b5_0242ac1c0002row4_col3\" class=\"data row4 col3\" >0.046</td>\n",
              "                        <td id=\"T_32da3380_4774_11eb_a2b5_0242ac1c0002row4_col4\" class=\"data row4 col4\" >1.000</td>\n",
              "                        <td id=\"T_32da3380_4774_11eb_a2b5_0242ac1c0002row4_col5\" class=\"data row4 col5\" >0.008</td>\n",
              "                        <td id=\"T_32da3380_4774_11eb_a2b5_0242ac1c0002row4_col6\" class=\"data row4 col6\" >0.002</td>\n",
              "                        <td id=\"T_32da3380_4774_11eb_a2b5_0242ac1c0002row4_col7\" class=\"data row4 col7\" >0.014</td>\n",
              "                        <td id=\"T_32da3380_4774_11eb_a2b5_0242ac1c0002row4_col8\" class=\"data row4 col8\" >-0.005</td>\n",
              "                        <td id=\"T_32da3380_4774_11eb_a2b5_0242ac1c0002row4_col9\" class=\"data row4 col9\" >0.005</td>\n",
              "                        <td id=\"T_32da3380_4774_11eb_a2b5_0242ac1c0002row4_col10\" class=\"data row4 col10\" >-0.025</td>\n",
              "                        <td id=\"T_32da3380_4774_11eb_a2b5_0242ac1c0002row4_col11\" class=\"data row4 col11\" >0.002</td>\n",
              "            </tr>\n",
              "            <tr>\n",
              "                        <th id=\"T_32da3380_4774_11eb_a2b5_0242ac1c0002level0_row5\" class=\"row_heading level0 row5\" >title_len</th>\n",
              "                        <td id=\"T_32da3380_4774_11eb_a2b5_0242ac1c0002row5_col0\" class=\"data row5 col0\" >-0.002</td>\n",
              "                        <td id=\"T_32da3380_4774_11eb_a2b5_0242ac1c0002row5_col1\" class=\"data row5 col1\" >-0.066</td>\n",
              "                        <td id=\"T_32da3380_4774_11eb_a2b5_0242ac1c0002row5_col2\" class=\"data row5 col2\" >nan</td>\n",
              "                        <td id=\"T_32da3380_4774_11eb_a2b5_0242ac1c0002row5_col3\" class=\"data row5 col3\" >-0.030</td>\n",
              "                        <td id=\"T_32da3380_4774_11eb_a2b5_0242ac1c0002row5_col4\" class=\"data row5 col4\" >0.008</td>\n",
              "                        <td id=\"T_32da3380_4774_11eb_a2b5_0242ac1c0002row5_col5\" class=\"data row5 col5\" >1.000</td>\n",
              "                        <td id=\"T_32da3380_4774_11eb_a2b5_0242ac1c0002row5_col6\" class=\"data row5 col6\" >0.047</td>\n",
              "                        <td id=\"T_32da3380_4774_11eb_a2b5_0242ac1c0002row5_col7\" class=\"data row5 col7\" >-0.066</td>\n",
              "                        <td id=\"T_32da3380_4774_11eb_a2b5_0242ac1c0002row5_col8\" class=\"data row5 col8\" >-0.048</td>\n",
              "                        <td id=\"T_32da3380_4774_11eb_a2b5_0242ac1c0002row5_col9\" class=\"data row5 col9\" >0.012</td>\n",
              "                        <td id=\"T_32da3380_4774_11eb_a2b5_0242ac1c0002row5_col10\" class=\"data row5 col10\" >-0.002</td>\n",
              "                        <td id=\"T_32da3380_4774_11eb_a2b5_0242ac1c0002row5_col11\" class=\"data row5 col11\" >0.047</td>\n",
              "            </tr>\n",
              "            <tr>\n",
              "                        <th id=\"T_32da3380_4774_11eb_a2b5_0242ac1c0002level0_row6\" class=\"row_heading level0 row6\" >content_len</th>\n",
              "                        <td id=\"T_32da3380_4774_11eb_a2b5_0242ac1c0002row6_col0\" class=\"data row6 col0\" >-0.079</td>\n",
              "                        <td id=\"T_32da3380_4774_11eb_a2b5_0242ac1c0002row6_col1\" class=\"data row6 col1\" >-0.352</td>\n",
              "                        <td id=\"T_32da3380_4774_11eb_a2b5_0242ac1c0002row6_col2\" class=\"data row6 col2\" >nan</td>\n",
              "                        <td id=\"T_32da3380_4774_11eb_a2b5_0242ac1c0002row6_col3\" class=\"data row6 col3\" >-0.008</td>\n",
              "                        <td id=\"T_32da3380_4774_11eb_a2b5_0242ac1c0002row6_col4\" class=\"data row6 col4\" >0.002</td>\n",
              "                        <td id=\"T_32da3380_4774_11eb_a2b5_0242ac1c0002row6_col5\" class=\"data row6 col5\" >0.047</td>\n",
              "                        <td id=\"T_32da3380_4774_11eb_a2b5_0242ac1c0002row6_col6\" class=\"data row6 col6\" >1.000</td>\n",
              "                        <td id=\"T_32da3380_4774_11eb_a2b5_0242ac1c0002row6_col7\" class=\"data row6 col7\" >-0.352</td>\n",
              "                        <td id=\"T_32da3380_4774_11eb_a2b5_0242ac1c0002row6_col8\" class=\"data row6 col8\" >-0.702</td>\n",
              "                        <td id=\"T_32da3380_4774_11eb_a2b5_0242ac1c0002row6_col9\" class=\"data row6 col9\" >0.143</td>\n",
              "                        <td id=\"T_32da3380_4774_11eb_a2b5_0242ac1c0002row6_col10\" class=\"data row6 col10\" >-0.079</td>\n",
              "                        <td id=\"T_32da3380_4774_11eb_a2b5_0242ac1c0002row6_col11\" class=\"data row6 col11\" >1.000</td>\n",
              "            </tr>\n",
              "            <tr>\n",
              "                        <th id=\"T_32da3380_4774_11eb_a2b5_0242ac1c0002level0_row7\" class=\"row_heading level0 row7\" >fake_content</th>\n",
              "                        <td id=\"T_32da3380_4774_11eb_a2b5_0242ac1c0002row7_col0\" class=\"data row7 col0\" >0.124</td>\n",
              "                        <td id=\"T_32da3380_4774_11eb_a2b5_0242ac1c0002row7_col1\" class=\"data row7 col1\" >1.000</td>\n",
              "                        <td id=\"T_32da3380_4774_11eb_a2b5_0242ac1c0002row7_col2\" class=\"data row7 col2\" >nan</td>\n",
              "                        <td id=\"T_32da3380_4774_11eb_a2b5_0242ac1c0002row7_col3\" class=\"data row7 col3\" >0.028</td>\n",
              "                        <td id=\"T_32da3380_4774_11eb_a2b5_0242ac1c0002row7_col4\" class=\"data row7 col4\" >0.014</td>\n",
              "                        <td id=\"T_32da3380_4774_11eb_a2b5_0242ac1c0002row7_col5\" class=\"data row7 col5\" >-0.066</td>\n",
              "                        <td id=\"T_32da3380_4774_11eb_a2b5_0242ac1c0002row7_col6\" class=\"data row7 col6\" >-0.352</td>\n",
              "                        <td id=\"T_32da3380_4774_11eb_a2b5_0242ac1c0002row7_col7\" class=\"data row7 col7\" >1.000</td>\n",
              "                        <td id=\"T_32da3380_4774_11eb_a2b5_0242ac1c0002row7_col8\" class=\"data row7 col8\" >0.401</td>\n",
              "                        <td id=\"T_32da3380_4774_11eb_a2b5_0242ac1c0002row7_col9\" class=\"data row7 col9\" >-0.264</td>\n",
              "                        <td id=\"T_32da3380_4774_11eb_a2b5_0242ac1c0002row7_col10\" class=\"data row7 col10\" >0.124</td>\n",
              "                        <td id=\"T_32da3380_4774_11eb_a2b5_0242ac1c0002row7_col11\" class=\"data row7 col11\" >-0.352</td>\n",
              "            </tr>\n",
              "            <tr>\n",
              "                        <th id=\"T_32da3380_4774_11eb_a2b5_0242ac1c0002level0_row8\" class=\"row_heading level0 row8\" >fake_content_len</th>\n",
              "                        <td id=\"T_32da3380_4774_11eb_a2b5_0242ac1c0002row8_col0\" class=\"data row8 col0\" >0.065</td>\n",
              "                        <td id=\"T_32da3380_4774_11eb_a2b5_0242ac1c0002row8_col1\" class=\"data row8 col1\" >0.401</td>\n",
              "                        <td id=\"T_32da3380_4774_11eb_a2b5_0242ac1c0002row8_col2\" class=\"data row8 col2\" >nan</td>\n",
              "                        <td id=\"T_32da3380_4774_11eb_a2b5_0242ac1c0002row8_col3\" class=\"data row8 col3\" >0.005</td>\n",
              "                        <td id=\"T_32da3380_4774_11eb_a2b5_0242ac1c0002row8_col4\" class=\"data row8 col4\" >-0.005</td>\n",
              "                        <td id=\"T_32da3380_4774_11eb_a2b5_0242ac1c0002row8_col5\" class=\"data row8 col5\" >-0.048</td>\n",
              "                        <td id=\"T_32da3380_4774_11eb_a2b5_0242ac1c0002row8_col6\" class=\"data row8 col6\" >-0.702</td>\n",
              "                        <td id=\"T_32da3380_4774_11eb_a2b5_0242ac1c0002row8_col7\" class=\"data row8 col7\" >0.401</td>\n",
              "                        <td id=\"T_32da3380_4774_11eb_a2b5_0242ac1c0002row8_col8\" class=\"data row8 col8\" >1.000</td>\n",
              "                        <td id=\"T_32da3380_4774_11eb_a2b5_0242ac1c0002row8_col9\" class=\"data row8 col9\" >-0.137</td>\n",
              "                        <td id=\"T_32da3380_4774_11eb_a2b5_0242ac1c0002row8_col10\" class=\"data row8 col10\" >0.065</td>\n",
              "                        <td id=\"T_32da3380_4774_11eb_a2b5_0242ac1c0002row8_col11\" class=\"data row8 col11\" >-0.702</td>\n",
              "            </tr>\n",
              "            <tr>\n",
              "                        <th id=\"T_32da3380_4774_11eb_a2b5_0242ac1c0002level0_row9\" class=\"row_heading level0 row9\" >small_ord</th>\n",
              "                        <td id=\"T_32da3380_4774_11eb_a2b5_0242ac1c0002row9_col0\" class=\"data row9 col0\" >-0.432</td>\n",
              "                        <td id=\"T_32da3380_4774_11eb_a2b5_0242ac1c0002row9_col1\" class=\"data row9 col1\" >-0.265</td>\n",
              "                        <td id=\"T_32da3380_4774_11eb_a2b5_0242ac1c0002row9_col2\" class=\"data row9 col2\" >nan</td>\n",
              "                        <td id=\"T_32da3380_4774_11eb_a2b5_0242ac1c0002row9_col3\" class=\"data row9 col3\" >-0.013</td>\n",
              "                        <td id=\"T_32da3380_4774_11eb_a2b5_0242ac1c0002row9_col4\" class=\"data row9 col4\" >0.005</td>\n",
              "                        <td id=\"T_32da3380_4774_11eb_a2b5_0242ac1c0002row9_col5\" class=\"data row9 col5\" >0.012</td>\n",
              "                        <td id=\"T_32da3380_4774_11eb_a2b5_0242ac1c0002row9_col6\" class=\"data row9 col6\" >0.143</td>\n",
              "                        <td id=\"T_32da3380_4774_11eb_a2b5_0242ac1c0002row9_col7\" class=\"data row9 col7\" >-0.264</td>\n",
              "                        <td id=\"T_32da3380_4774_11eb_a2b5_0242ac1c0002row9_col8\" class=\"data row9 col8\" >-0.137</td>\n",
              "                        <td id=\"T_32da3380_4774_11eb_a2b5_0242ac1c0002row9_col9\" class=\"data row9 col9\" >1.000</td>\n",
              "                        <td id=\"T_32da3380_4774_11eb_a2b5_0242ac1c0002row9_col10\" class=\"data row9 col10\" >-0.432</td>\n",
              "                        <td id=\"T_32da3380_4774_11eb_a2b5_0242ac1c0002row9_col11\" class=\"data row9 col11\" >0.143</td>\n",
              "            </tr>\n",
              "            <tr>\n",
              "                        <th id=\"T_32da3380_4774_11eb_a2b5_0242ac1c0002level0_row10\" class=\"row_heading level0 row10\" >normal_ord</th>\n",
              "                        <td id=\"T_32da3380_4774_11eb_a2b5_0242ac1c0002row10_col0\" class=\"data row10 col0\" >1.000</td>\n",
              "                        <td id=\"T_32da3380_4774_11eb_a2b5_0242ac1c0002row10_col1\" class=\"data row10 col1\" >0.124</td>\n",
              "                        <td id=\"T_32da3380_4774_11eb_a2b5_0242ac1c0002row10_col2\" class=\"data row10 col2\" >nan</td>\n",
              "                        <td id=\"T_32da3380_4774_11eb_a2b5_0242ac1c0002row10_col3\" class=\"data row10 col3\" >0.014</td>\n",
              "                        <td id=\"T_32da3380_4774_11eb_a2b5_0242ac1c0002row10_col4\" class=\"data row10 col4\" >-0.025</td>\n",
              "                        <td id=\"T_32da3380_4774_11eb_a2b5_0242ac1c0002row10_col5\" class=\"data row10 col5\" >-0.002</td>\n",
              "                        <td id=\"T_32da3380_4774_11eb_a2b5_0242ac1c0002row10_col6\" class=\"data row10 col6\" >-0.079</td>\n",
              "                        <td id=\"T_32da3380_4774_11eb_a2b5_0242ac1c0002row10_col7\" class=\"data row10 col7\" >0.124</td>\n",
              "                        <td id=\"T_32da3380_4774_11eb_a2b5_0242ac1c0002row10_col8\" class=\"data row10 col8\" >0.065</td>\n",
              "                        <td id=\"T_32da3380_4774_11eb_a2b5_0242ac1c0002row10_col9\" class=\"data row10 col9\" >-0.432</td>\n",
              "                        <td id=\"T_32da3380_4774_11eb_a2b5_0242ac1c0002row10_col10\" class=\"data row10 col10\" >1.000</td>\n",
              "                        <td id=\"T_32da3380_4774_11eb_a2b5_0242ac1c0002row10_col11\" class=\"data row10 col11\" >-0.079</td>\n",
              "            </tr>\n",
              "            <tr>\n",
              "                        <th id=\"T_32da3380_4774_11eb_a2b5_0242ac1c0002level0_row11\" class=\"row_heading level0 row11\" >normal_content_len</th>\n",
              "                        <td id=\"T_32da3380_4774_11eb_a2b5_0242ac1c0002row11_col0\" class=\"data row11 col0\" >-0.079</td>\n",
              "                        <td id=\"T_32da3380_4774_11eb_a2b5_0242ac1c0002row11_col1\" class=\"data row11 col1\" >-0.352</td>\n",
              "                        <td id=\"T_32da3380_4774_11eb_a2b5_0242ac1c0002row11_col2\" class=\"data row11 col2\" >nan</td>\n",
              "                        <td id=\"T_32da3380_4774_11eb_a2b5_0242ac1c0002row11_col3\" class=\"data row11 col3\" >-0.008</td>\n",
              "                        <td id=\"T_32da3380_4774_11eb_a2b5_0242ac1c0002row11_col4\" class=\"data row11 col4\" >0.002</td>\n",
              "                        <td id=\"T_32da3380_4774_11eb_a2b5_0242ac1c0002row11_col5\" class=\"data row11 col5\" >0.047</td>\n",
              "                        <td id=\"T_32da3380_4774_11eb_a2b5_0242ac1c0002row11_col6\" class=\"data row11 col6\" >1.000</td>\n",
              "                        <td id=\"T_32da3380_4774_11eb_a2b5_0242ac1c0002row11_col7\" class=\"data row11 col7\" >-0.352</td>\n",
              "                        <td id=\"T_32da3380_4774_11eb_a2b5_0242ac1c0002row11_col8\" class=\"data row11 col8\" >-0.702</td>\n",
              "                        <td id=\"T_32da3380_4774_11eb_a2b5_0242ac1c0002row11_col9\" class=\"data row11 col9\" >0.143</td>\n",
              "                        <td id=\"T_32da3380_4774_11eb_a2b5_0242ac1c0002row11_col10\" class=\"data row11 col10\" >-0.079</td>\n",
              "                        <td id=\"T_32da3380_4774_11eb_a2b5_0242ac1c0002row11_col11\" class=\"data row11 col11\" >1.000</td>\n",
              "            </tr>\n",
              "    </tbody></table>"
            ],
            "text/plain": [
              "<pandas.io.formats.style.Styler at 0x7f0e00c06160>"
            ]
          },
          "metadata": {
            "tags": []
          },
          "execution_count": 56
        }
      ]
    },
    {
      "cell_type": "markdown",
      "metadata": {
        "id": "M7fEk8jdtoJe"
      },
      "source": [
        "## 자연어 처리를 사용하지 않은 모델"
      ]
    },
    {
      "cell_type": "code",
      "metadata": {
        "id": "ru-UR8t-tnPA"
      },
      "source": [
        "# 사용 변수\n",
        "features = ['fake_content', 'small_ord', 'fake_content_len', 'normal_ord', 'normal_content_len'] \n",
        "target = 'info'\n",
        "\n",
        "# 데이터셋 만들기\n",
        "x_train = train[features].values\n",
        "y_train = train[target].values\n",
        "\n",
        "x_test = test[features].values\n",
        "\n",
        "# 실수로 변환\n",
        "x_train = x_train.astype('float64')\n",
        "y_train = y_train.astype('float64')\n",
        "x_test = x_test.astype('float64')"
      ],
      "execution_count": null,
      "outputs": []
    },
    {
      "cell_type": "code",
      "metadata": {
        "id": "hC2dyXYkvHN5"
      },
      "source": [
        "batch_size = 64\n",
        "input_dim = x_train.shape[1]\n",
        "epochs = 5"
      ],
      "execution_count": null,
      "outputs": []
    },
    {
      "cell_type": "code",
      "metadata": {
        "id": "ohwDEjJfO99d"
      },
      "source": [
        "# 모델 만들기\n",
        "from keras.models import Sequential\n",
        "from keras import layers\n",
        "\n",
        "model = Sequential()\n",
        "model.add(layers.Dense(32, input_dim=input_dim, activation='relu'))\n",
        "model.add(layers.Dense(16, activation='relu'))\n",
        "model.add(layers.Dense(1, activation='sigmoid'))\n",
        "\n",
        "model.compile(loss='binary_crossentropy', \n",
        "            optimizer='rmsprop', \n",
        "            metrics=['accuracy'])\n",
        "model.summary()\n",
        "\n",
        "model.fit(x_train, y_train,\n",
        "          validation_split=0.2,\n",
        "          epochs = epochs,\n",
        "          verbose = True,\n",
        "          batch_size = batch_size)"
      ],
      "execution_count": null,
      "outputs": []
    },
    {
      "cell_type": "markdown",
      "metadata": {
        "id": "I7D9EAJrXA1L"
      },
      "source": [
        "## 자연어 처리와 수치형 변수를 활용한 멀티플 모델"
      ]
    },
    {
      "cell_type": "code",
      "metadata": {
        "id": "mILwpDAYI69-"
      },
      "source": [
        "from sklearn.feature_extraction.text import CountVectorizer\n",
        "vectorizer = CountVectorizer(stop_words='english',lowercase=False)\n",
        "vectorizer.fit(train['new_content'].values)\n",
        "\n",
        "target = 'info'\n",
        "\n",
        "X_train = vectorizer.transform(train['new_content'].values)\n",
        "Y_train = train[target].values\n",
        "\n",
        "X_test = vectorizer.transform(test['new_content'].values)\n",
        "\n",
        "# 실수로 변환\n",
        "X_train = X_train.astype('float64')\n",
        "Y_train = Y_train.astype('float64')\n",
        "X_test = X_test.astype('float64')"
      ],
      "execution_count": null,
      "outputs": []
    },
    {
      "cell_type": "code",
      "metadata": {
        "id": "f03d2PWILwNu"
      },
      "source": [
        "features = ['fake_content_len', 'normal_content_len']\n",
        "\n",
        "# 데이터셋 만들기\n",
        "x_train = train[features].values\n",
        "\n",
        "x_test = test[features].values\n",
        "\n",
        "# 실수로 변환\n",
        "x_train = x_train.astype('float64')\n",
        "\n",
        "x_test = x_test.astype('float64')"
      ],
      "execution_count": null,
      "outputs": []
    },
    {
      "cell_type": "code",
      "metadata": {
        "id": "a42dPMu0J8z3"
      },
      "source": [
        "from sklearn.model_selection import train_test_split\n",
        "sentences_train, sentences_test, y_train, y_test = train_test_split(X_train, Y_train, test_size=0.2, random_state=2020)"
      ],
      "execution_count": null,
      "outputs": []
    },
    {
      "cell_type": "code",
      "metadata": {
        "id": "U_d2jSgBKeRu"
      },
      "source": [
        "batch_size = 32\n",
        "X_input_dim = X_train.shape[1]\n",
        "x_input_dim = x_train.shape[1]\n",
        "epochs = 30"
      ],
      "execution_count": null,
      "outputs": []
    },
    {
      "cell_type": "code",
      "metadata": {
        "colab": {
          "base_uri": "https://localhost:8080/"
        },
        "id": "n0DW_mFjQj3G",
        "outputId": "5006e454-7a34-4e14-91a9-de9f2e77e377"
      },
      "source": [
        "from keras.models import Sequential\n",
        "from keras import models, layers\n",
        "\n",
        "\n",
        "# 문자용\n",
        "model1 = Sequential()\n",
        "model1.add(layers.Dense(32, input_dim=X_input_dim, activation='relu'))\n",
        "\n",
        "# 숫자용\n",
        "model2 = Sequential()\n",
        "model2.add(layers.Dense(32, input_dim=x_input_dim, activation='relu'))\n",
        "\n",
        "# 출력용\n",
        "model3 = layers.concatenate([model1.output, model2.output])\n",
        "model3 = layers.Dense(16, activation='relu')(model3)\n",
        "model3 = layers.Dense(1, activation='sigmoid')(model3)\n",
        "\n",
        "model = models.Model([model1.input, model2.input], model3)\n",
        "\n",
        "model.compile(loss='binary_crossentropy', \n",
        "            optimizer='rmsprop', \n",
        "            metrics=['accuracy'])\n",
        "model.summary()\n",
        "\n",
        "model.fit([X_train, x_train], Y_train,\n",
        "          epochs = epochs,\n",
        "          verbose = True,\n",
        "          batch_size = batch_size)"
      ],
      "execution_count": null,
      "outputs": [
        {
          "output_type": "stream",
          "text": [
            "Model: \"model_3\"\n",
            "__________________________________________________________________________________________________\n",
            "Layer (type)                    Output Shape         Param #     Connected to                     \n",
            "==================================================================================================\n",
            "dense_27_input (InputLayer)     [(None, 25723)]      0                                            \n",
            "__________________________________________________________________________________________________\n",
            "dense_28_input (InputLayer)     [(None, 2)]          0                                            \n",
            "__________________________________________________________________________________________________\n",
            "dense_27 (Dense)                (None, 32)           823168      dense_27_input[0][0]             \n",
            "__________________________________________________________________________________________________\n",
            "dense_28 (Dense)                (None, 32)           96          dense_28_input[0][0]             \n",
            "__________________________________________________________________________________________________\n",
            "concatenate_3 (Concatenate)     (None, 64)           0           dense_27[0][0]                   \n",
            "                                                                 dense_28[0][0]                   \n",
            "__________________________________________________________________________________________________\n",
            "dense_29 (Dense)                (None, 16)           1040        concatenate_3[0][0]              \n",
            "__________________________________________________________________________________________________\n",
            "dense_30 (Dense)                (None, 1)            17          dense_29[0][0]                   \n",
            "==================================================================================================\n",
            "Total params: 824,321\n",
            "Trainable params: 824,321\n",
            "Non-trainable params: 0\n",
            "__________________________________________________________________________________________________\n",
            "Epoch 1/30\n",
            "3711/3711 [==============================] - 12s 3ms/step - loss: 0.1919 - accuracy: 0.9342\n",
            "Epoch 2/30\n",
            "3711/3711 [==============================] - 11s 3ms/step - loss: 0.1221 - accuracy: 0.9567\n",
            "Epoch 3/30\n",
            "3711/3711 [==============================] - 11s 3ms/step - loss: 0.1077 - accuracy: 0.9640\n",
            "Epoch 4/30\n",
            "3711/3711 [==============================] - 11s 3ms/step - loss: 0.0971 - accuracy: 0.9685\n",
            "Epoch 5/30\n",
            "3711/3711 [==============================] - 11s 3ms/step - loss: 0.0918 - accuracy: 0.9698\n",
            "Epoch 6/30\n",
            "3711/3711 [==============================] - 12s 3ms/step - loss: 0.0855 - accuracy: 0.9722\n",
            "Epoch 7/30\n",
            "3711/3711 [==============================] - 11s 3ms/step - loss: 0.0852 - accuracy: 0.9727\n",
            "Epoch 8/30\n",
            "3711/3711 [==============================] - 12s 3ms/step - loss: 0.0782 - accuracy: 0.9749\n",
            "Epoch 9/30\n",
            "3711/3711 [==============================] - 12s 3ms/step - loss: 0.0748 - accuracy: 0.9766\n",
            "Epoch 10/30\n",
            "3711/3711 [==============================] - 12s 3ms/step - loss: 0.0726 - accuracy: 0.9772\n",
            "Epoch 11/30\n",
            "3711/3711 [==============================] - 11s 3ms/step - loss: 0.0682 - accuracy: 0.9792\n",
            "Epoch 12/30\n",
            "3711/3711 [==============================] - 11s 3ms/step - loss: 0.0681 - accuracy: 0.9795\n",
            "Epoch 13/30\n",
            "3711/3711 [==============================] - 12s 3ms/step - loss: 0.0684 - accuracy: 0.9801\n",
            "Epoch 14/30\n",
            "3711/3711 [==============================] - 11s 3ms/step - loss: 0.0692 - accuracy: 0.9804\n",
            "Epoch 15/30\n",
            "3711/3711 [==============================] - 11s 3ms/step - loss: 0.0652 - accuracy: 0.9808\n",
            "Epoch 16/30\n",
            "3711/3711 [==============================] - 11s 3ms/step - loss: 0.0657 - accuracy: 0.9807\n",
            "Epoch 17/30\n",
            "3711/3711 [==============================] - 11s 3ms/step - loss: 0.0633 - accuracy: 0.9810\n",
            "Epoch 18/30\n",
            "3711/3711 [==============================] - 11s 3ms/step - loss: 0.0625 - accuracy: 0.9823\n",
            "Epoch 19/30\n",
            "3711/3711 [==============================] - 11s 3ms/step - loss: 0.0585 - accuracy: 0.9835\n",
            "Epoch 20/30\n",
            "3711/3711 [==============================] - 11s 3ms/step - loss: 0.0584 - accuracy: 0.9836\n",
            "Epoch 21/30\n",
            "3711/3711 [==============================] - 11s 3ms/step - loss: 0.0555 - accuracy: 0.9849\n",
            "Epoch 22/30\n",
            "3711/3711 [==============================] - 11s 3ms/step - loss: 0.0578 - accuracy: 0.9846\n",
            "Epoch 23/30\n",
            "3711/3711 [==============================] - 11s 3ms/step - loss: 0.0543 - accuracy: 0.9853\n",
            "Epoch 24/30\n",
            "3711/3711 [==============================] - 11s 3ms/step - loss: 0.0528 - accuracy: 0.9854\n",
            "Epoch 25/30\n",
            "3711/3711 [==============================] - 12s 3ms/step - loss: 0.0530 - accuracy: 0.9861\n",
            "Epoch 26/30\n",
            "3711/3711 [==============================] - 11s 3ms/step - loss: 0.0536 - accuracy: 0.9866\n",
            "Epoch 27/30\n",
            "3711/3711 [==============================] - 11s 3ms/step - loss: 0.0537 - accuracy: 0.9864\n",
            "Epoch 28/30\n",
            "3711/3711 [==============================] - 11s 3ms/step - loss: 0.0503 - accuracy: 0.9866\n",
            "Epoch 29/30\n",
            "3711/3711 [==============================] - 11s 3ms/step - loss: 0.0489 - accuracy: 0.9875\n",
            "Epoch 30/30\n",
            "3711/3711 [==============================] - 11s 3ms/step - loss: 0.0486 - accuracy: 0.9872\n"
          ],
          "name": "stdout"
        },
        {
          "output_type": "execute_result",
          "data": {
            "text/plain": [
              "<tensorflow.python.keras.callbacks.History at 0x7f77802d3550>"
            ]
          },
          "metadata": {
            "tags": []
          },
          "execution_count": 75
        }
      ]
    },
    {
      "cell_type": "markdown",
      "metadata": {
        "id": "oqUD1DDyZb9z"
      },
      "source": [
        "# 예측"
      ]
    },
    {
      "cell_type": "code",
      "metadata": {
        "id": "DRarYskaUAkH"
      },
      "source": [
        "submission['info'] = model.predict([X_test, x_test])"
      ],
      "execution_count": null,
      "outputs": []
    },
    {
      "cell_type": "code",
      "metadata": {
        "colab": {
          "base_uri": "https://localhost:8080/",
          "height": 419
        },
        "id": "plXYD-jG0Yh6",
        "outputId": "b893ac33-d4ee-4db3-bf48-dd6c35f30515"
      },
      "source": [
        "submission"
      ],
      "execution_count": null,
      "outputs": [
        {
          "output_type": "execute_result",
          "data": {
            "text/html": [
              "<div>\n",
              "<style scoped>\n",
              "    .dataframe tbody tr th:only-of-type {\n",
              "        vertical-align: middle;\n",
              "    }\n",
              "\n",
              "    .dataframe tbody tr th {\n",
              "        vertical-align: top;\n",
              "    }\n",
              "\n",
              "    .dataframe thead th {\n",
              "        text-align: right;\n",
              "    }\n",
              "</style>\n",
              "<table border=\"1\" class=\"dataframe\">\n",
              "  <thead>\n",
              "    <tr style=\"text-align: right;\">\n",
              "      <th></th>\n",
              "      <th>id</th>\n",
              "      <th>info</th>\n",
              "    </tr>\n",
              "  </thead>\n",
              "  <tbody>\n",
              "    <tr>\n",
              "      <th>0</th>\n",
              "      <td>NEWS00237_1</td>\n",
              "      <td>7.147475e-05</td>\n",
              "    </tr>\n",
              "    <tr>\n",
              "      <th>1</th>\n",
              "      <td>NEWS00237_2</td>\n",
              "      <td>3.736152e-11</td>\n",
              "    </tr>\n",
              "    <tr>\n",
              "      <th>2</th>\n",
              "      <td>NEWS00237_3</td>\n",
              "      <td>3.836242e-09</td>\n",
              "    </tr>\n",
              "    <tr>\n",
              "      <th>3</th>\n",
              "      <td>NEWS00237_4</td>\n",
              "      <td>1.622219e-03</td>\n",
              "    </tr>\n",
              "    <tr>\n",
              "      <th>4</th>\n",
              "      <td>NEWS00237_5</td>\n",
              "      <td>2.375173e-07</td>\n",
              "    </tr>\n",
              "    <tr>\n",
              "      <th>...</th>\n",
              "      <td>...</td>\n",
              "      <td>...</td>\n",
              "    </tr>\n",
              "    <tr>\n",
              "      <th>142560</th>\n",
              "      <td>NEWS09482_72</td>\n",
              "      <td>1.000000e+00</td>\n",
              "    </tr>\n",
              "    <tr>\n",
              "      <th>142561</th>\n",
              "      <td>NEWS09482_73</td>\n",
              "      <td>1.000000e+00</td>\n",
              "    </tr>\n",
              "    <tr>\n",
              "      <th>142562</th>\n",
              "      <td>NEWS09482_74</td>\n",
              "      <td>1.000000e+00</td>\n",
              "    </tr>\n",
              "    <tr>\n",
              "      <th>142563</th>\n",
              "      <td>NEWS09482_75</td>\n",
              "      <td>1.000000e+00</td>\n",
              "    </tr>\n",
              "    <tr>\n",
              "      <th>142564</th>\n",
              "      <td>NEWS09482_76</td>\n",
              "      <td>1.000000e+00</td>\n",
              "    </tr>\n",
              "  </tbody>\n",
              "</table>\n",
              "<p>142565 rows × 2 columns</p>\n",
              "</div>"
            ],
            "text/plain": [
              "                  id          info\n",
              "0        NEWS00237_1  7.147475e-05\n",
              "1        NEWS00237_2  3.736152e-11\n",
              "2        NEWS00237_3  3.836242e-09\n",
              "3        NEWS00237_4  1.622219e-03\n",
              "4        NEWS00237_5  2.375173e-07\n",
              "...              ...           ...\n",
              "142560  NEWS09482_72  1.000000e+00\n",
              "142561  NEWS09482_73  1.000000e+00\n",
              "142562  NEWS09482_74  1.000000e+00\n",
              "142563  NEWS09482_75  1.000000e+00\n",
              "142564  NEWS09482_76  1.000000e+00\n",
              "\n",
              "[142565 rows x 2 columns]"
            ]
          },
          "metadata": {
            "tags": []
          },
          "execution_count": 80
        }
      ]
    },
    {
      "cell_type": "code",
      "metadata": {
        "id": "JX87uoVeUoC1"
      },
      "source": [
        "submission.loc[(submission['info'] >= 0.5),'info'] = 1\n",
        "submission.loc[(submission['info'] < 0.5),'info'] = 0"
      ],
      "execution_count": null,
      "outputs": []
    },
    {
      "cell_type": "code",
      "metadata": {
        "id": "aUg8M-9LGMfD",
        "colab": {
          "base_uri": "https://localhost:8080/",
          "height": 419
        },
        "outputId": "7142fd53-818f-473f-98c7-6bbdc6b501e6"
      },
      "source": [
        "submission"
      ],
      "execution_count": null,
      "outputs": [
        {
          "output_type": "execute_result",
          "data": {
            "text/html": [
              "<div>\n",
              "<style scoped>\n",
              "    .dataframe tbody tr th:only-of-type {\n",
              "        vertical-align: middle;\n",
              "    }\n",
              "\n",
              "    .dataframe tbody tr th {\n",
              "        vertical-align: top;\n",
              "    }\n",
              "\n",
              "    .dataframe thead th {\n",
              "        text-align: right;\n",
              "    }\n",
              "</style>\n",
              "<table border=\"1\" class=\"dataframe\">\n",
              "  <thead>\n",
              "    <tr style=\"text-align: right;\">\n",
              "      <th></th>\n",
              "      <th>id</th>\n",
              "      <th>info</th>\n",
              "    </tr>\n",
              "  </thead>\n",
              "  <tbody>\n",
              "    <tr>\n",
              "      <th>0</th>\n",
              "      <td>NEWS00237_1</td>\n",
              "      <td>0.0</td>\n",
              "    </tr>\n",
              "    <tr>\n",
              "      <th>1</th>\n",
              "      <td>NEWS00237_2</td>\n",
              "      <td>0.0</td>\n",
              "    </tr>\n",
              "    <tr>\n",
              "      <th>2</th>\n",
              "      <td>NEWS00237_3</td>\n",
              "      <td>0.0</td>\n",
              "    </tr>\n",
              "    <tr>\n",
              "      <th>3</th>\n",
              "      <td>NEWS00237_4</td>\n",
              "      <td>0.0</td>\n",
              "    </tr>\n",
              "    <tr>\n",
              "      <th>4</th>\n",
              "      <td>NEWS00237_5</td>\n",
              "      <td>0.0</td>\n",
              "    </tr>\n",
              "    <tr>\n",
              "      <th>...</th>\n",
              "      <td>...</td>\n",
              "      <td>...</td>\n",
              "    </tr>\n",
              "    <tr>\n",
              "      <th>142560</th>\n",
              "      <td>NEWS09482_72</td>\n",
              "      <td>1.0</td>\n",
              "    </tr>\n",
              "    <tr>\n",
              "      <th>142561</th>\n",
              "      <td>NEWS09482_73</td>\n",
              "      <td>1.0</td>\n",
              "    </tr>\n",
              "    <tr>\n",
              "      <th>142562</th>\n",
              "      <td>NEWS09482_74</td>\n",
              "      <td>1.0</td>\n",
              "    </tr>\n",
              "    <tr>\n",
              "      <th>142563</th>\n",
              "      <td>NEWS09482_75</td>\n",
              "      <td>1.0</td>\n",
              "    </tr>\n",
              "    <tr>\n",
              "      <th>142564</th>\n",
              "      <td>NEWS09482_76</td>\n",
              "      <td>1.0</td>\n",
              "    </tr>\n",
              "  </tbody>\n",
              "</table>\n",
              "<p>142565 rows × 2 columns</p>\n",
              "</div>"
            ],
            "text/plain": [
              "                  id  info\n",
              "0        NEWS00237_1   0.0\n",
              "1        NEWS00237_2   0.0\n",
              "2        NEWS00237_3   0.0\n",
              "3        NEWS00237_4   0.0\n",
              "4        NEWS00237_5   0.0\n",
              "...              ...   ...\n",
              "142560  NEWS09482_72   1.0\n",
              "142561  NEWS09482_73   1.0\n",
              "142562  NEWS09482_74   1.0\n",
              "142563  NEWS09482_75   1.0\n",
              "142564  NEWS09482_76   1.0\n",
              "\n",
              "[142565 rows x 2 columns]"
            ]
          },
          "metadata": {
            "tags": []
          },
          "execution_count": 82
        }
      ]
    },
    {
      "cell_type": "code",
      "metadata": {
        "id": "8spMLGh5x1Og"
      },
      "source": [
        "submission.to_csv(\"submission.csv\", index=False)"
      ],
      "execution_count": null,
      "outputs": []
    },
    {
      "cell_type": "markdown",
      "metadata": {
        "id": "ZCtvloDS783W"
      },
      "source": [
        "# 결과\n",
        "- 자연어 처리를 하지 않은 모델의 경우 베이스라인과 동일한 점수\n",
        "- 간단한 자연어 처리 후 추출한 명사만을 활용하면 만든 멀티플 모델은 자연어 처리를 하지 않은 모델보다 조금 더 높은 성능을 보여줌  \n",
        "- 따라서 현재 중요한 feature은 content로 판단됨\n",
        "- content 변수의 특징을 모델에 더 잘 반영할 수 있도록 다양한 텍스트 마이닝의 접근법을 통해서 EDA를 시행하는 것이 앞으로 model의 정확도를 높이는데에 더 큰 도움이 될 것임"
      ]
    }
  ]
}