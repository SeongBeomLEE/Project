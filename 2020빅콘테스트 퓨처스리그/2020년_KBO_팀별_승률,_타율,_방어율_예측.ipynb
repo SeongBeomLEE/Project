{
  "nbformat": 4,
  "nbformat_minor": 0,
  "metadata": {
    "colab": {
      "name": "2020년 KBO 팀별 승률, 타율, 방어율 예측.ipynb",
      "provenance": [],
      "collapsed_sections": [],
      "toc_visible": true
    },
    "kernelspec": {
      "name": "python3",
      "display_name": "Python 3"
    }
  },
  "cells": [
    {
      "cell_type": "code",
      "metadata": {
        "id": "KgABN1jh6eLE",
        "colab": {
          "base_uri": "https://localhost:8080/",
          "height": 73
        },
        "outputId": "b0b6ac94-d930-4666-fd8d-51c590b59a97"
      },
      "source": [
        "# 패키지 불러오기\n",
        "import pandas as pd\n",
        "import numpy as np\n",
        "import seaborn as sns\n",
        "import matplotlib as mpl\n",
        "import matplotlib.pyplot as plt\n",
        "import matplotlib.font_manager as fm"
      ],
      "execution_count": null,
      "outputs": [
        {
          "output_type": "stream",
          "text": [
            "/usr/local/lib/python3.6/dist-packages/statsmodels/tools/_testing.py:19: FutureWarning: pandas.util.testing is deprecated. Use the functions in the public API at pandas.testing instead.\n",
            "  import pandas.util.testing as tm\n"
          ],
          "name": "stderr"
        }
      ]
    },
    {
      "cell_type": "code",
      "metadata": {
        "id": "PHg_MJCA7QuT"
      },
      "source": [
        "# 글자 크기 수정 방법\n",
        "# plt.rc('font',weight =\"bold\")\n",
        "# plt.rc('font', size=20)"
      ],
      "execution_count": null,
      "outputs": []
    },
    {
      "cell_type": "code",
      "metadata": {
        "id": "dccnWTR77Thx"
      },
      "source": [
        "# 중간에 .... 보여지는 컬럼들의 값을 설정해줌\n",
        "pd.options.display.max_columns = 1000\n",
        "pd.options.display.max_rows = 1000"
      ],
      "execution_count": null,
      "outputs": []
    },
    {
      "cell_type": "code",
      "metadata": {
        "id": "mETKi_11jMNg"
      },
      "source": [
        "# 과학점 표기법 기존 표기법으로 변경\n",
        "pd.set_option('display.float_format', None)\n",
        "pd.options.display.float_format = '{:.7f}'.format"
      ],
      "execution_count": null,
      "outputs": []
    },
    {
      "cell_type": "code",
      "metadata": {
        "id": "CaeUuWFN7W1T"
      },
      "source": [
        "# # 시각화 폰트 다운로드\n",
        "# %config InlineBackend.figure_format = 'retina'\n",
        "\n",
        "# !apt -qq -y install fonts-nanum > /dev/null"
      ],
      "execution_count": null,
      "outputs": []
    },
    {
      "cell_type": "code",
      "metadata": {
        "id": "-Os3lW057Y-h",
        "colab": {
          "base_uri": "https://localhost:8080/",
          "height": 35
        },
        "outputId": "3bb57996-fb13-4383-ed33-8cf02162c8f6"
      },
      "source": [
        "# 시각화 폰트 설정\n",
        "font_location = '/usr/share/fonts/truetype/nanum/NanumGothic.ttf'\n",
        "font_name = fm.FontProperties(fname = font_location, size = 9).get_name()\n",
        "print(font_name)\n",
        "fm._rebuild()\n",
        "plt.rc('font', family=font_name)\n",
        "plt.rc('axes', unicode_minus=False)\n",
        "\n",
        "from IPython.display import set_matplotlib_formats\n",
        "set_matplotlib_formats('retina')"
      ],
      "execution_count": null,
      "outputs": [
        {
          "output_type": "stream",
          "text": [
            "NanumGothic\n"
          ],
          "name": "stdout"
        }
      ]
    },
    {
      "cell_type": "markdown",
      "metadata": {
        "id": "eU05K3w1_oFM"
      },
      "source": [
        "# 데이터 불러오기"
      ]
    },
    {
      "cell_type": "code",
      "metadata": {
        "id": "mkTNprwZ7bHL"
      },
      "source": [
        "# 2001 ~ 2019년 데이터 불러오기\n",
        "df2001 = pd.read_csv('/content/drive/My Drive/데이터분석 연습/빅콘테스트 퓨처스리그/최종 데이터/2001년 팀별 성적 종합.csv')\n",
        "df2002 = pd.read_csv('/content/drive/My Drive/데이터분석 연습/빅콘테스트 퓨처스리그/최종 데이터/2002년 팀별 성적 종합.csv')\n",
        "df2003 = pd.read_csv('/content/drive/My Drive/데이터분석 연습/빅콘테스트 퓨처스리그/최종 데이터/2003년 팀별 성적 종합.csv')\n",
        "df2004 = pd.read_csv('/content/drive/My Drive/데이터분석 연습/빅콘테스트 퓨처스리그/최종 데이터/2004년 팀별 성적 종합.csv')\n",
        "df2005 = pd.read_csv('/content/drive/My Drive/데이터분석 연습/빅콘테스트 퓨처스리그/최종 데이터/2005년 팀별 성적 종합.csv')\n",
        "df2006 = pd.read_csv('/content/drive/My Drive/데이터분석 연습/빅콘테스트 퓨처스리그/최종 데이터/2006년 팀별 성적 종합.csv')\n",
        "df2007 = pd.read_csv('/content/drive/My Drive/데이터분석 연습/빅콘테스트 퓨처스리그/최종 데이터/2007년 팀별 성적 종합.csv')\n",
        "df2008 = pd.read_csv('/content/drive/My Drive/데이터분석 연습/빅콘테스트 퓨처스리그/최종 데이터/2008년 팀별 성적 종합.csv')\n",
        "df2009 = pd.read_csv('/content/drive/My Drive/데이터분석 연습/빅콘테스트 퓨처스리그/최종 데이터/2009년 팀별 성적 종합.csv')\n",
        "df2010 = pd.read_csv('/content/drive/My Drive/데이터분석 연습/빅콘테스트 퓨처스리그/최종 데이터/2010년 팀별 성적 종합.csv')\n",
        "df2011 = pd.read_csv('/content/drive/My Drive/데이터분석 연습/빅콘테스트 퓨처스리그/최종 데이터/2011년 팀별 성적 종합.csv')\n",
        "df2012 = pd.read_csv('/content/drive/My Drive/데이터분석 연습/빅콘테스트 퓨처스리그/최종 데이터/2012년 팀별 성적 종합.csv')\n",
        "df2013 = pd.read_csv('/content/drive/My Drive/데이터분석 연습/빅콘테스트 퓨처스리그/최종 데이터/2013년 팀별 성적 종합.csv')\n",
        "df2014 = pd.read_csv('/content/drive/My Drive/데이터분석 연습/빅콘테스트 퓨처스리그/최종 데이터/2014년 팀별 성적 종합.csv')\n",
        "df2015 = pd.read_csv('/content/drive/My Drive/데이터분석 연습/빅콘테스트 퓨처스리그/최종 데이터/2015년 팀별 성적 종합.csv')\n",
        "df2016 = pd.read_csv('/content/drive/My Drive/데이터분석 연습/빅콘테스트 퓨처스리그/최종 데이터/2016년 팀별 성적 종합.csv')\n",
        "df2017 = pd.read_csv('/content/drive/My Drive/데이터분석 연습/빅콘테스트 퓨처스리그/최종 데이터/2017년 팀별 성적 종합.csv')\n",
        "df2018 = pd.read_csv('/content/drive/My Drive/데이터분석 연습/빅콘테스트 퓨처스리그/최종 데이터/2018년 팀별 성적 종합.csv')\n",
        "df2019 = pd.read_csv('/content/drive/My Drive/데이터분석 연습/빅콘테스트 퓨처스리그/최종 데이터/2019년 팀별 성적 종합.csv')\n",
        "\n",
        "# 2020년 데이터\n",
        "df2020 = pd.read_csv('/content/drive/My Drive/데이터분석 연습/빅콘테스트 퓨처스리그/최종 데이터/2020년 팀별 성적 종합.csv')"
      ],
      "execution_count": null,
      "outputs": []
    },
    {
      "cell_type": "code",
      "metadata": {
        "id": "KKEGWphxFFuV"
      },
      "source": [
        "# 년도 칼럼 생성\n",
        "df_set = [df2001 , df2002 , df2003 ,df2004 ,df2005,\n",
        "          df2006 , df2007 , df2008 ,df2009 ,df2010,\n",
        "          df2011 , df2012 , df2013 ,df2014 ,df2015,\n",
        "          df2016 , df2017 , df2018 ,df2019]\n",
        "\n",
        "for i in df_set:\n",
        "  i['년도'] = i.columns[0]"
      ],
      "execution_count": null,
      "outputs": []
    },
    {
      "cell_type": "markdown",
      "metadata": {
        "id": "-5xNbDBI9uAy"
      },
      "source": [
        "# 데이터 전처리"
      ]
    },
    {
      "cell_type": "code",
      "metadata": {
        "id": "FWCsltcXcGEM"
      },
      "source": [
        "##### 사용할 컬럼들 ######\n",
        "\n",
        "# 리그 최종 성적\n",
        "All_feature = ['년도', '경기', '승', '패', '무', '타율', '평균자책점', '승률', '팀코드', '최종 승률',\n",
        "       '최종 출루율', '최종 장타율', '최종 GPA', '최종 2002RC', '최종 RC', '최종 평균 RC',\n",
        "       '최종 RC/27', '최종 RawEqA', '최종 wOBA', '최종 BABIP', '최종 실제타율',\n",
        "       '최종 평균 득점권 타율', '최종 평균 삼진', '최종 평균 타자', '최종 평균 타수', '최종 평균 도루실패',\n",
        "       '최종 평균 도루성공', '최종 평균 홈런', '최종 평균 4구', '최종 평균 안타', '최종 평균 득점', '최종 OPS',\n",
        "       '최종 피장타율', '최종 피출루율', '최종 피OPS', '최종 DIPS', '최종 ERC', '최종 피GPA',\n",
        "       '최종 피2002RC', '최종 피RC', '최종 피평균 RC', '최종 피RC/27', '최종 피RawEqA',\n",
        "       '최종 피wOBA', '최종 피BABIP', '최종 피타율', '최종 방어율', \"최종 평균 자책점\", '최종 평균 피홈런', '최종 평균 피안타',\n",
        "       '최종 평균 실책', '최종 평균 투수 4구', '최종 평균 투수 WHIP', '최종 평균 실점', '최종 평균 도루허용',\n",
        "       '최종 평균 도루견제성공', '최종 평균 상대 타수', '최종 평균 상대 타자']\n",
        "\n",
        "# 리그 최종 성적 공격 지표\n",
        "All_Attack_feature = ['최종 출루율', '최종 장타율', '최종 GPA', '최종 2002RC', '최종 RC', '최종 평균 RC',\n",
        "       '최종 RC/27', '최종 RawEqA', '최종 wOBA', '최종 BABIP', '최종 실제타율',\n",
        "       '최종 평균 득점권 타율', '최종 평균 삼진', '최종 평균 타자', '최종 평균 타수', '최종 평균 도루실패',\n",
        "       '최종 평균 도루성공', '최종 평균 홈런', '최종 평균 4구', '최종 평균 안타', '최종 평균 득점', '최종 OPS']\n",
        "\n",
        "# 리그 최종 성적 수비 지표\n",
        "All_Defence_feature = [\n",
        "       '최종 피장타율', '최종 피출루율', '최종 피OPS', '최종 DIPS', '최종 ERC', '최종 피GPA',\n",
        "       '최종 피2002RC', '최종 피RC', '최종 피평균 RC', '최종 피RC/27', '최종 피RawEqA',\n",
        "       '최종 피wOBA', '최종 피BABIP', '최종 피타율', '최종 방어율', \"최종 평균 자책점\" , '최종 평균 피홈런', '최종 평균 피안타',\n",
        "       '최종 평균 실책', '최종 평균 투수 4구', '최종 평균 투수 WHIP', '최종 평균 실점', '최종 평균 도루허용',\n",
        "       '최종 평균 도루견제성공', '최종 평균 상대 타수', '최종 평균 상대 타자']\n",
        "\n",
        "# 리그 마지막 20경기 이전 성적\n",
        "Befor_feature = ['년도', '경기', '총 리그 경기수 - 20', '팀코드', '최종 승률', '최종 실제타율', '최종 방어율',\n",
        "       '마지막 20경기 승률', '마지막 20경기 방어율', '마지막 20경기 실제타율','마지막 20경기 이전 승률', '마지막 20경기 이전 출루율',\n",
        "       '마지막 20경기 이전 장타율', '마지막 20경기 이전 GPA', '마지막 20경기 이전 2002RC',\n",
        "       '마지막 20경기 이전 RC', '마지막 20경기 이전 평균 RC', '마지막 20경기 이전 RC/27',\n",
        "       '마지막 20경기 이전 RawEqA', '마지막 20경기 이전 wOBA', '마지막 20경기 이전 BABIP',\n",
        "       '마지막 20경기 이전 실제타율', '마지막 20경기 이전 평균 득점권 타율', '마지막 20경기 이전 평균 삼진',\n",
        "       '마지막 20경기 이전 평균 타자', '마지막 20경기 이전 평균 타수', '마지막 20경기 이전 평균 도루실패',\n",
        "       '마지막 20경기 이전 평균 도루성공', '마지막 20경기 이전 평균 홈런', '마지막 20경기 이전 평균 4구',\n",
        "       '마지막 20경기 이전 평균 득점권타수', '마지막 20경기 이전 평균 득점권안타', '마지막 20경기 이전 평균 안타',\n",
        "       '마지막 20경기 이전 평균 득점', '마지막 20경기 이전 OPS', '마지막 20경기 이전 피장타율', '마지막 20경기 이전 피출루율',\n",
        "       '마지막 20경기 이전 피OPS', '마지막 20경기 이전 DIPS', '마지막 20경기 이전 ERC',\n",
        "       '마지막 20경기 이전 피GPA', '마지막 20경기 이전 피2002RC', '마지막 20경기 이전 피RC',\n",
        "       '마지막 20경기 이전 피평균 RC', '마지막 20경기 이전 피RC/27', '마지막 20경기 이전 피RawEqA',\n",
        "       '마지막 20경기 이전 피wOBA', '마지막 20경기 이전 피BABIP', '마지막 20경기 이전 방어율', \"마지막 20경기 이전 평균 자책점\",\n",
        "       '마지막 20경기 이전 피타율', '마지막 20경기 이전 평균 피홈런', '마지막 20경기 이전 평균 피안타',\n",
        "       '마지막 20경기 이전 평균 실책', '마지막 20경기 이전 평균 투수 4구', '마지막 20경기 이전 평균 투수 WHIP',\n",
        "       '마지막 20경기 이전 평균 투수 득점권WHIP', '마지막 20경기 이전 평균 투수 2점차이하WHIP',\n",
        "       '마지막 20경기 이전 평균 투수 345번타자WHIP', '마지막 20경기 이전 평균 실점',\n",
        "       '마지막 20경기 이전 평균 도루허용', '마지막 20경기 이전 평균 도루견제성공', '마지막 20경기 이전 평균 상대 타수',\n",
        "       '마지막 20경기 이전 평균 상대 타자']\n",
        "\n",
        "# 리그 마지막 20경기 이전 성적 공격 지표\n",
        "All_Attack_feature = ['마지막 20경기 이전 출루율',\n",
        "       '마지막 20경기 이전 장타율', '마지막 20경기 이전 GPA', '마지막 20경기 이전 2002RC',\n",
        "       '마지막 20경기 이전 RC', '마지막 20경기 이전 평균 RC', '마지막 20경기 이전 RC/27',\n",
        "       '마지막 20경기 이전 RawEqA', '마지막 20경기 이전 wOBA', '마지막 20경기 이전 BABIP',\n",
        "       '마지막 20경기 이전 실제타율', '마지막 20경기 이전 평균 득점권 타율', '마지막 20경기 이전 평균 삼진',\n",
        "       '마지막 20경기 이전 평균 타자', '마지막 20경기 이전 평균 타수', '마지막 20경기 이전 평균 도루실패',\n",
        "       '마지막 20경기 이전 평균 도루성공', '마지막 20경기 이전 평균 홈런', '마지막 20경기 이전 평균 4구',\n",
        "       '마지막 20경기 이전 평균 득점권타수', '마지막 20경기 이전 평균 득점권안타', '마지막 20경기 이전 평균 안타',\n",
        "       '마지막 20경기 이전 평균 득점', '마지막 20경기 이전 OPS']\n",
        "\n",
        "# 리그 마지막 20경기 이전 성적 수비 지표\n",
        "All_Defence_feature = ['마지막 20경기 이전 피장타율', '마지막 20경기 이전 피출루율',\n",
        "       '마지막 20경기 이전 피OPS', '마지막 20경기 이전 DIPS', '마지막 20경기 이전 ERC',\n",
        "       '마지막 20경기 이전 피GPA', '마지막 20경기 이전 피2002RC', '마지막 20경기 이전 피RC',\n",
        "       '마지막 20경기 이전 피평균 RC', '마지막 20경기 이전 피RC/27', '마지막 20경기 이전 피RawEqA',\n",
        "       '마지막 20경기 이전 피wOBA', '마지막 20경기 이전 피BABIP', '마지막 20경기 이전 방어율', \"마지막 20경기 이전 평균 자책점\",\n",
        "       '마지막 20경기 이전 피타율', '마지막 20경기 이전 평균 피홈런', '마지막 20경기 이전 평균 피안타',\n",
        "       '마지막 20경기 이전 평균 실책', '마지막 20경기 이전 평균 투수 4구', '마지막 20경기 이전 평균 투수 WHIP',\n",
        "       '마지막 20경기 이전 평균 투수 득점권WHIP', '마지막 20경기 이전 평균 투수 2점차이하WHIP',\n",
        "       '마지막 20경기 이전 평균 투수 345번타자WHIP', '마지막 20경기 이전 평균 실점',\n",
        "       '마지막 20경기 이전 평균 도루허용', '마지막 20경기 이전 평균 도루견제성공', '마지막 20경기 이전 평균 상대 타수',\n",
        "       '마지막 20경기 이전 평균 상대 타자']\n",
        "\n",
        "# 리그 마지막 20경기 성적\n",
        "After_feature = ['마지막 20경기 승률', '마지막 20경기 방어율', '마지막 20경기 실제타율']\n",
        "\n",
        "# 목표 변수\n",
        "Attack_label = '최종 실제타율'\n",
        "\n",
        "Defence_label = '최종 방어율'\n",
        "\n",
        "label = '최종 승률'"
      ],
      "execution_count": null,
      "outputs": []
    },
    {
      "cell_type": "code",
      "metadata": {
        "id": "5YIfxs9krnEr"
      },
      "source": [
        "# 2001 ~ 2019 리그 전체 성적 데이터\n",
        "df_set = [df2001 , df2002 , df2003 ,df2004 ,df2005,\n",
        "          df2006 , df2007 , df2008 ,df2009 ,df2010,\n",
        "          df2011 , df2012 , df2013 ,df2014 ,df2015,\n",
        "          df2016 , df2017 , df2018 ,df2019]\n",
        "\n",
        "columns = All_feature\n",
        "League_df = pd.DataFrame(columns = columns)\n",
        "\n",
        "for i in df_set:\n",
        "  df = i[columns]\n",
        "  League_df = League_df.append(df, ignore_index=True)"
      ],
      "execution_count": null,
      "outputs": []
    },
    {
      "cell_type": "code",
      "metadata": {
        "id": "GtRHZpVYLlhM"
      },
      "source": [
        "# 2016 ~ 2019 리그 전체 성적 데이터\n",
        "df_set = [df2016 , df2017 , df2018 ,df2019]\n",
        "All_feature_2016_2019 = ['년도', '경기', '승', '패', '무', '타율', '평균자책점', '승률', '팀코드', '최종 승률','마지막 20경기 승률', '마지막 20경기 방어율', '마지막 20경기 실제타율',\n",
        "       '최종 출루율', '최종 장타율', '최종 GPA', '최종 2002RC', '최종 RC', '최종 평균 RC',\n",
        "       '최종 RC/27', '최종 RawEqA', '최종 wOBA', '최종 BABIP', '최종 실제타율',\n",
        "       '최종 평균 득점권 타율', '최종 평균 삼진', '최종 평균 타자', '최종 평균 타수', '최종 평균 도루실패',\n",
        "       '최종 평균 도루성공', '최종 평균 홈런', '최종 평균 4구', '최종 평균 안타', '최종 평균 득점', '최종 OPS',\n",
        "       '최종 피장타율', '최종 피출루율', '최종 피OPS', '최종 DIPS', '최종 ERC', '최종 피GPA',\n",
        "       '최종 피2002RC', '최종 피RC', '최종 피평균 RC', '최종 피RC/27', '최종 피RawEqA',\n",
        "       '최종 피wOBA', '최종 피BABIP', '최종 피타율', '최종 방어율', \"최종 평균 자책점\", '최종 평균 피홈런', '최종 평균 피안타',\n",
        "       '최종 평균 실책', '최종 평균 투수 4구', '최종 평균 투수 WHIP', '최종 평균 실점', '최종 평균 도루허용',\n",
        "       '최종 평균 도루견제성공', '최종 평균 상대 타수', '최종 평균 상대 타자']\n",
        "\n",
        "columns = All_feature_2016_2019\n",
        "League_df_2016_2019 = pd.DataFrame(columns = columns)\n",
        "\n",
        "for i in df_set:\n",
        "  df = i[columns]\n",
        "  League_df_2016_2019 = League_df_2016_2019.append(df, ignore_index=True)"
      ],
      "execution_count": null,
      "outputs": []
    },
    {
      "cell_type": "code",
      "metadata": {
        "id": "4ujqo2fzNCJn"
      },
      "source": [
        "# 2016 ~ 2019 리그 마지막 20경기 이전 성적 데이터\n",
        "df_set = [df2016 , df2017 , df2018 ,df2019]\n",
        "\n",
        "columns = Befor_feature\n",
        "League_df_Befor_2016_2019 = pd.DataFrame(columns = columns)\n",
        "\n",
        "for i in df_set:\n",
        "  df = i[columns]\n",
        "  League_df_Befor_2016_2019 = League_df_Befor_2016_2019.append(df, ignore_index=True)"
      ],
      "execution_count": null,
      "outputs": []
    },
    {
      "cell_type": "code",
      "metadata": {
        "id": "HNs3ZL8GQUS9"
      },
      "source": [
        "# 2020년 데이터 생성\n",
        "columns = ['2020', '팀코드', '년도','실제타율', '실제승률', '방어율', '경기',\n",
        "       '출루율', '장타율', 'GPA', '2002RC', 'RC', '평균 RC', 'RC/27', 'RawEqA', 'wOBA', 'BABIP',\n",
        "       '평균 득점권 타율', '평균 삼진', '평균 타자',\n",
        "       '평균 타수', '평균 도루실패', '평균 도루성공',\n",
        "       '평균 홈런', '평균 4구', '평균 안타', '평균 득점', 'OPS',\n",
        "       '피장타율', '피출루율', '피OPS', 'DIPS', 'ERC', '피GPA', '피2002RC', '피RC', '피평균 RC',\n",
        "       '피RC/27', '피RawEqA', '피wOBA', '피BABIP', '피타율', \"경기당 평균 자책점\",\n",
        "       '평균 피홈런', '평균 피안타', '평균 실책', '평균 투수 4구',\n",
        "       '평균 투수 WHIP', '평균 실점', '평균 도루허용',\n",
        "       '평균 도루견제성공', '평균 상대 타수',\n",
        "       '평균 상대 타자']\n",
        "\n",
        "df2020['년도'] = df2020.columns[0]\n",
        "League_df_2020 = pd.DataFrame(columns = columns)\n",
        "df = df2020[columns]\n",
        "League_df_2020 = League_df_2020.append(df, ignore_index=True)"
      ],
      "execution_count": null,
      "outputs": []
    },
    {
      "cell_type": "markdown",
      "metadata": {
        "id": "_jyZMMmV9v-y"
      },
      "source": [
        "# EDA"
      ]
    },
    {
      "cell_type": "markdown",
      "metadata": {
        "id": "Y4CI1-O9Jqbd"
      },
      "source": [
        "## 리그 전체, 마지막 20경기 이전, 마지막 20경기 성적 비교\n",
        "\n",
        "리그 전체 성적과 마지막 20경기 이전 성적은 매우 유사한 값을 가짐"
      ]
    },
    {
      "cell_type": "code",
      "metadata": {
        "id": "tvdP4cp1CWv-"
      },
      "source": [
        "# figure, ((ax1), (ax2), (ax3), (ax4)) = plt.subplots(nrows=4, ncols=1)\n",
        "\n",
        "# figure.set_size_inches(10,25)\n",
        "\n",
        "# df2016.plot.barh(x='2016',y =['최종 실제타율','마지막 20경기 실제타율','마지막 20경기 이전 실제타율'],ax=ax1)\n",
        "# ax1.set_xlim([0.2, 0.35])\n",
        "# df2017.plot.barh(x='2017',y =['최종 실제타율','마지막 20경기 실제타율','마지막 20경기 이전 실제타율'],ax=ax2)\n",
        "# ax2.set_xlim([0.2, 0.35])\n",
        "# df2018.plot.barh(x='2018',y =['최종 실제타율','마지막 20경기 실제타율','마지막 20경기 이전 실제타율'],ax=ax3)\n",
        "# ax3.set_xlim([0.2, 0.35])\n",
        "# df2019.plot.barh(x='2019',y =['최종 실제타율','마지막 20경기 실제타율','마지막 20경기 이전 실제타율'],ax=ax4)\n",
        "# ax4.set_xlim([0.2, 0.35])"
      ],
      "execution_count": null,
      "outputs": []
    },
    {
      "cell_type": "code",
      "metadata": {
        "id": "Ys2NMesAE9ex"
      },
      "source": [
        "# figure, ((ax1), (ax2), (ax3), (ax4)) = plt.subplots(nrows=4, ncols=1)\n",
        "\n",
        "# figure.set_size_inches(10,25)\n",
        "\n",
        "# df2016.plot.barh(x='2016',y =['최종 방어율','마지막 20경기 방어율','마지막 20경기 이전 방어율'],ax=ax1)\n",
        "# ax1.set_xlim([2,6])\n",
        "# df2017.plot.barh(x='2017',y =['최종 방어율','마지막 20경기 방어율','마지막 20경기 이전 방어율'],ax=ax2)\n",
        "# ax2.set_xlim([2,6])\n",
        "# df2018.plot.barh(x='2018',y =['최종 방어율','마지막 20경기 방어율','마지막 20경기 이전 방어율'],ax=ax3)\n",
        "# ax3.set_xlim([2,6])\n",
        "# df2019.plot.barh(x='2019',y =['최종 방어율','마지막 20경기 방어율','마지막 20경기 이전 방어율'],ax=ax4)\n",
        "# ax4.set_xlim([2,6])"
      ],
      "execution_count": null,
      "outputs": []
    },
    {
      "cell_type": "code",
      "metadata": {
        "id": "8lNLD160E-Pl"
      },
      "source": [
        "# figure, ((ax1), (ax2), (ax3), (ax4)) = plt.subplots(nrows=4, ncols=1)\n",
        "\n",
        "# figure.set_size_inches(10,25)\n",
        "\n",
        "# df2016.plot.barh(x='2016',y =['최종 승률','마지막 20경기 승률','마지막 20경기 이전 승률'],ax=ax1)\n",
        "# ax1.set_xlim([0,1])\n",
        "# df2017.plot.barh(x='2017',y =['최종 승률','마지막 20경기 승률','마지막 20경기 이전 승률'],ax=ax2)\n",
        "# ax2.set_xlim([0,1])\n",
        "# df2018.plot.barh(x='2018',y =['최종 승률','마지막 20경기 승률','마지막 20경기 이전 승률'],ax=ax3)\n",
        "# ax3.set_xlim([0,1])\n",
        "# df2019.plot.barh(x='2019',y =['최종 승률','마지막 20경기 승률','마지막 20경기 이전 승률'],ax=ax4)\n",
        "# ax4.set_xlim([0,1])"
      ],
      "execution_count": null,
      "outputs": []
    },
    {
      "cell_type": "markdown",
      "metadata": {
        "id": "HPpz0Cuu9kCW"
      },
      "source": [
        "## 리그 성향 파악\n",
        "- 2019년 리그\n",
        "  - 2019년 리그의 평균 득점 95% 신뢰 구간를 기준으로 비슷한 성향의 리그 :\n",
        "    - [ 2007, 2008, 2011, 2005, 2002, 2003, 2013, 2004 ] - 8개\n",
        "  - 2019년 리그의 평균 실점 95% 신뢰 구간를 기준으로 비슷한 성향의 리그 :\n",
        "    - [ 2007, 2008, 2011, 2005, 2002, 2003, 2013, 2004 ] - 8개\n",
        "\n",
        "- 2018년 리그\n",
        "  - 2018년 리그의 평균 득점 95% 신뢰 구간를 기준으로 비슷한 성향의 리그 :\n",
        "    - [ 2009, 2001, 2015, 2017, 2016, 2014 ] - 6개\n",
        "  - 2018년 리그의 평균 실점 95% 신뢰 구간를 기준으로 비슷한 성향의 리그 :\n",
        "    - [ 2016, 2014 ] - 2개\n",
        "\n",
        "- 2017년 리그\n",
        "  - 2017년 리그의 평균 득점 95% 신뢰 구간를 기준으로 비슷한 성향의 리그 :\n",
        "    - [ 2010, 2009, 2001, 2015, 2018, 2016, 2014 ] - 7개\n",
        "  - 2017년 리그의 평균 실점 95% 신뢰 구간를 기준으로 비슷한 성향의 리그 :\n",
        "    - [ 2010, 2009, 2001, 2015, 2018, 2016, 2014 ] - 7개\n",
        "\n",
        "- 2016년 리그\n",
        "  - 2016년 리그의 평균 득점 95% 신뢰 구간를 기준으로 비슷한 성향의 리그 :\n",
        "    - [ 2015, 2017, 2018, 2014 ] - 4개\n",
        "  - 2016년 리그의 평균 실점 95% 신뢰 구간를 기준으로 비슷한 성향의 리그 :\n",
        "    - [ 2015, 2017, 2018, 2014 ] - 4개\n",
        "\n",
        "- 리그가 종료시\n",
        " - 리그 평균 득점 == 리그 평균 실점\n",
        " - 따라서 가장 많은 데이터들을 표현해주는 평균 득점으로 리그 특성 선택\n",
        "\n",
        "- 리그 마지막 20경기 이전 데이터가 존재하는 2016 ~ 2019 데이터 중 2016 ~ 2018 데이터가 평균득점에서 서로 유사한 데이터\n",
        "- 최종적으로\n",
        " - 2016 ~ 2018 : 리그 마지막 20경기 이전 성적 데이터세트\n",
        " - 2016 ~ 2018 : 전체 리그 성적 데이터 세트\n",
        " - 2001 ~ 2019 : 전체 리그 성적 데이터 세트\n",
        " - # 위 3가지 데이터 세트 중 모두 포함되고 유사한 성향의 리그가 가장 많은 2017년 데이터로 검증"
      ]
    },
    {
      "cell_type": "code",
      "metadata": {
        "id": "GSIC5ojuPbMY"
      },
      "source": [
        "# League_df.groupby('년도').mean()[['최종 방어율','최종 실제타율','최종 OPS','최종 평균 득점', '최종 평균 실점']]"
      ],
      "execution_count": null,
      "outputs": []
    },
    {
      "cell_type": "code",
      "metadata": {
        "id": "EXinywOkwlSw"
      },
      "source": [
        "# # 년도별 리그 성향 파악\n",
        "# figure, ((ax1), (ax2), (ax3), (ax4), (ax5), (ax6)) = plt.subplots(nrows=6, ncols=1)\n",
        "\n",
        "# figure.set_size_inches(20,20)\n",
        "# sns.pointplot(data=League_df, x=\"년도\",y='최종 방어율', color=\"red\", ax=ax1)\n",
        "# ax1.grid()\n",
        "# sns.pointplot(data=League_df, x=\"년도\",y='최종 실제타율', color=\"green\", ax=ax2)\n",
        "# ax2.grid()\n",
        "# sns.pointplot(data=League_df, x=\"년도\",y='최종 승률', ax=ax3)\n",
        "# ax3.grid()\n",
        "# sns.pointplot(data=League_df, x=\"년도\",y='최종 OPS', ax=ax4)\n",
        "# ax4.grid()\n",
        "# sns.pointplot(data=League_df, x=\"년도\",y='최종 평균 득점', ax=ax5)\n",
        "# ax5.grid()\n",
        "# sns.pointplot(data=League_df, x=\"년도\",y='최종 평균 실점', ax=ax6)\n",
        "# ax6.grid()\n",
        "\n",
        "# #### 방어율, 실제타율, 실제승률, 평균 득점, 평균 실점 모두 각 리그의 성향별로 같은 추세를 보임"
      ],
      "execution_count": null,
      "outputs": []
    },
    {
      "cell_type": "markdown",
      "metadata": {
        "id": "wiOwWEc9TfWr"
      },
      "source": [
        "### 평균 득점"
      ]
    },
    {
      "cell_type": "code",
      "metadata": {
        "id": "6gzm_fI-YRz7"
      },
      "source": [
        "# # 95% 신뢰구간을 구하는 함수\n",
        "# import numpy as np\n",
        "# import scipy.stats\n",
        "# def mean_confidence_interval(data, confidence=0.95):\n",
        "#     a = 1.0 * np.array(data)\n",
        "#     n = len(a)\n",
        "#     m, se = np.mean(a), scipy.stats.sem(a)\n",
        "#     h = se * scipy.stats.t.ppf((1 + confidence) / 2., n-1)\n",
        "#     return m, m-h, m+h"
      ],
      "execution_count": null,
      "outputs": []
    },
    {
      "cell_type": "code",
      "metadata": {
        "id": "yudvzZUsdKW3"
      },
      "source": [
        "# # 2019년 리그의 평균득점 신뢰구간 구하기\n",
        "# a , b, c = mean_confidence_interval(df2019['최종 평균 득점'])\n",
        "# print(\"2019년 평균 득점은\",b,\"~\",a,\"~\",c , \"사이에 존재한다.\")\n",
        "# print()\n",
        "\n",
        "# # 2018년 리그의 평균득점 신뢰구간 구하기\n",
        "# a , b, c = mean_confidence_interval(df2018['최종 평균 득점'])\n",
        "# print(\"2018년 평균 득점은\",b,\"~\",a,\"~\",c , \"사이에 존재한다.\")\n",
        "# print()\n",
        "\n",
        "# # 2017년 리그의 평균득점 신뢰구간 구하기\n",
        "# a , b, c = mean_confidence_interval(df2017['최종 평균 득점'])\n",
        "# print(\"2017년 평균 득점은\",b,\"~\",a,\"~\",c , \"사이에 존재한다.\")\n",
        "# print()\n",
        "\n",
        "# # 2016년 리그의 평균득점 신뢰구간 구하기\n",
        "# a , b, c = mean_confidence_interval(df2016['최종 평균 득점'])\n",
        "# print(\"2016년 평균 득점은\",b,\"~\",a,\"~\",c , \"사이에 존재한다.\")\n",
        "# print()\n",
        "\n",
        "# # 년도별 리그의 평균 값 파악\n",
        "# League_df.groupby('년도').mean()\n",
        "# League_df.groupby('년도').mean().sort_values('최종 평균 득점')['최종 평균 득점']"
      ],
      "execution_count": null,
      "outputs": []
    },
    {
      "cell_type": "markdown",
      "metadata": {
        "id": "DOM70otgTjSh"
      },
      "source": [
        "### 평균 실점"
      ]
    },
    {
      "cell_type": "code",
      "metadata": {
        "id": "FrpL75yRUtNJ"
      },
      "source": [
        "# # 2019년 리그의 평균실점 신뢰구간 구하기\n",
        "# a , b, c = mean_confidence_interval(df2019['최종 평균 실점'])\n",
        "# print(\"2019년 평균 실점은\",b,\"~\",a,\"~\",c , \"사이에 존재한다.\")\n",
        "# print()\n",
        "\n",
        "# # 2018년 리그의 평균실점 신뢰구간 구하기\n",
        "# a , b, c = mean_confidence_interval(df2018['최종 평균 실점'])\n",
        "# print(\"2018년 평균 실점은\",b,\"~\",a,\"~\",c , \"사이에 존재한다.\")\n",
        "# print()\n",
        "\n",
        "# # 2017년 리그의 평균실점 신뢰구간 구하기\n",
        "# a , b, c = mean_confidence_interval(df2017['최종 평균 실점'])\n",
        "# print(\"2017년 평균 실점은\",b,\"~\",a,\"~\",c , \"사이에 존재한다.\")\n",
        "# print()\n",
        "\n",
        "# # 2016년 리그의 평균실점 신뢰구간 구하기\n",
        "# a , b, c = mean_confidence_interval(df2016['최종 평균 실점'])\n",
        "# print(\"2016년 평균 실점은\",b,\"~\",a,\"~\",c , \"사이에 존재한다.\")\n",
        "# print()\n",
        "\n",
        "# # 년도별 리그의 평균 값 파악\n",
        "# League_df.groupby('년도').mean()\n",
        "# League_df.groupby('년도').mean().sort_values('최종 평균 실점')['최종 평균 실점']"
      ],
      "execution_count": null,
      "outputs": []
    },
    {
      "cell_type": "markdown",
      "metadata": {
        "id": "U80woz9xUzxs"
      },
      "source": [
        "## 리그 성향별 데이터"
      ]
    },
    {
      "cell_type": "code",
      "metadata": {
        "id": "i-3wu3678g6B"
      },
      "source": [
        "### 리그 성향별 데이터 만들기\n",
        "\n",
        "# 2020년과 평균 득점이 유사한 리그\n",
        "year = [ '2005', '2002', '2003', '2013', '2004', '2010', '2009', '2001', '2015', '2017', '2018', '2016', '2014' ]\n",
        "Score_League_df_2020 = pd.DataFrame()\n",
        "for i in year:\n",
        "  df = League_df[League_df['년도'] == i]\n",
        "  Score_League_df_2020 = Score_League_df_2020.append(df, ignore_index=True)\n",
        "\n",
        "# 2017년과 평균 득점이 유사한 전체 리그 전체 성적 데이터 세트\n",
        "year = [ '2010', '2009', '2001', '2015', '2018', '2016', '2014' ]\n",
        "Score_League_df_2017 = pd.DataFrame()\n",
        "for i in year:\n",
        "  df = League_df[League_df['년도'] == i]\n",
        "  Score_League_df_2017 = Score_League_df_2017.append(df, ignore_index=True)\n",
        "\n",
        "# 2017년과 평균 득점이 유사한 2016 ~ 2019 리그 전체 성적 데이터 세트 League_df_2016_2019\n",
        "year = [ '2018', '2016']\n",
        "Score_League_df_2016_2019_2017 = pd.DataFrame()\n",
        "for i in year:\n",
        "  df = League_df_2016_2019[League_df_2016_2019['년도'] == i]\n",
        "  Score_League_df_2016_2019_2017 = Score_League_df_2016_2019_2017.append(df, ignore_index=True)\n",
        "\n",
        "# 2017년과 평균 득점이 유사한 2016 ~ 2019 리그 마지막 20경기 이전 성적 데이터 세트 League_df_Befor_2016_2019\n",
        "year = [ '2018', '2016']\n",
        "Score_League_df_Befor_2016_2019_2017 = pd.DataFrame()\n",
        "for i in year:\n",
        "  df = League_df_Befor_2016_2019[League_df_Befor_2016_2019['년도'] == i]\n",
        "  Score_League_df_Befor_2016_2019_2017 = Score_League_df_Befor_2016_2019_2017.append(df, ignore_index=True)"
      ],
      "execution_count": null,
      "outputs": []
    },
    {
      "cell_type": "markdown",
      "metadata": {
        "id": "bakwxB2FAfTS"
      },
      "source": [
        "## 목표 변수와의 상관관계 파악"
      ]
    },
    {
      "cell_type": "code",
      "metadata": {
        "id": "3eg5D8V31aOb"
      },
      "source": [
        "# # 전체 리그\n",
        "# League_df_corr = League_df.corr()\n",
        "\n",
        "# # 2017년과 평균 득점이 유사한 리그\n",
        "# Score_League_df_2017_corr = Score_League_df_2017.corr()\n",
        "\n",
        "# Score_League_df_Befor_2016_2019_2017_corr = Score_League_df_Befor_2016_2019_2017.corr()"
      ],
      "execution_count": null,
      "outputs": []
    },
    {
      "cell_type": "markdown",
      "metadata": {
        "id": "p1J7TpuF6nBA"
      },
      "source": [
        "### 타율\n",
        "  - 2017년과 평균 득점이 유사한 리그는 상관계수 0.8 이상\n",
        "   - ['최종 평균 안타', '최종 평균 RC', '최종 RC/27', '최종 GPA','최종 평균 득점', '최종 OPS', '최종 RawEqA', '최종 BABIP', '최종 평균 타수','최종 출루율', '최종 장타율', '최종 평균 타자'] - 총 12개\n",
        "  -2017년과 평균 득점이 유사한 리그 마지막 20경기 이전은 상관계수 0.75 이상\n",
        "   - ['마지막 20경기 이전 실제타율', '마지막 20경기 이전 평균 안타','마지막 20경기 이전 출루율', '마지막 20경기 이전 평균 득점','마지막 20경기 이전 GPA', '마지막 20경기 이전 평균 RC', '마지막 20경기 이전 RC/27', '마지막 20경기 이전 RawEqA', '마지막 20경기 이전 2002RC','마지막 20경기 이전 wOBA'] - 총 10개"
      ]
    },
    {
      "cell_type": "code",
      "metadata": {
        "id": "3iAGM1wb3TIP"
      },
      "source": [
        "# # 타율과 상관성이 높은 변수\n",
        "# print(\"---------------전체 리그--------------------\")\n",
        "# print(League_df_corr.sort_values(by=\"최종 실제타율\",ascending=False)['최종 실제타율'].head(30))\n",
        "# print(League_df_corr.sort_values(by=\"최종 실제타율\",ascending=False)['최종 실제타율'].tail(30))\n",
        "# print(\"---------------2017년과 평균 득점이 유사한 리그--------------------\")\n",
        "# print(Score_League_df_2017_corr.sort_values(by=\"최종 실제타율\",ascending=False)['최종 실제타율'].head(30))\n",
        "# print(\"---------------2017년과 평균 득점이 유사한 리그 마지막 20경기 이전--------------------\")\n",
        "# print(Score_League_df_Befor_2016_2019_2017_corr.sort_values(by=\"최종 실제타율\",ascending=False)['최종 실제타율'].head(30))"
      ],
      "execution_count": null,
      "outputs": []
    },
    {
      "cell_type": "code",
      "metadata": {
        "id": "DLN8K0CHn5xq"
      },
      "source": [
        "# high_corr = Score_League_df_2017[[\"최종 실제타율\", '최종 평균 안타', '최종 평균 RC', '최종 RC/27', '최종 GPA','최종 평균 득점']]\n",
        "\n",
        "# print(\"####### 상위 5개 #######\")\n",
        "# sns.pairplot(high_corr,diag_kind='kde')\n",
        "# plt.show()"
      ],
      "execution_count": null,
      "outputs": []
    },
    {
      "cell_type": "markdown",
      "metadata": {
        "id": "Wr8jTE8l7VvI"
      },
      "source": [
        "### 방어율\n",
        "  - 2017년과 평균 득점이 유사한 리그는 상관계수 0.8 이상\n",
        "   - ['최종 평균 실점', '최종 피평균 RC', '최종 피RC/27','최종 피GPA', '최종 피OPS', '최종 피RawEqA', '최종 피장타율', '최종 피타율', '최종 피wOBA', '최종 평균 피안타', '최종 피출루율', '최종 DIPS', '최종 피2002RC', '최종 평균 상대 타자'] - 총 14개\n",
        "  -2017년과 평균 득점이 유사한 리그 마지막 20경기 이전은 상관계수 0.8 이상\n",
        "   - ['마지막 20경기 이전 방어율', '마지막 20경기 이전 평균 실점', '마지막 20경기 이전 피RC/27','마지막 20경기 이전 피GPA', '마지막 20경기 이전 피RawEqA', '마지막 20경기 이전 피OPS', '마지막 20경기 이전 피wOBA', '마지막 20경기 이전 ERC'] - 총 8개"
      ]
    },
    {
      "cell_type": "code",
      "metadata": {
        "id": "9cOKqgEJ39lC"
      },
      "source": [
        "# # 방어율과 상관성이 높은 변수\n",
        "# print(\"---------------전체 리그--------------------\")\n",
        "# print(League_df_corr.sort_values(by=\"최종 방어율\",ascending=False)['최종 방어율'].head(30))\n",
        "# print(League_df_corr.sort_values(by=\"최종 방어율\",ascending=False)['최종 방어율'].tail(30))\n",
        "# print(\"---------------2017년과 평균 득점이 유사한 리그--------------------\")\n",
        "# print(Score_League_df_2017_corr.sort_values(by=\"최종 방어율\",ascending=False)['최종 방어율'].head(30))\n",
        "# print(\"---------------2017년과 평균 득점이 유사한 리그 마지막 20경기 이전--------------------\")\n",
        "# print(Score_League_df_Befor_2016_2019_2017_corr.sort_values(by=\"최종 방어율\",ascending=False)['최종 방어율'].head(30))"
      ],
      "execution_count": null,
      "outputs": []
    },
    {
      "cell_type": "code",
      "metadata": {
        "id": "ZbgMIQ2SpiO3"
      },
      "source": [
        "# high_corr = Score_League_df_2017[[\"최종 방어율\",'최종 평균 자책점', '최종 평균 실점', '최종 피평균 RC', '최종 피RC/27','최종 피GPA']]\n",
        "\n",
        "# print(\"####### 상위 5개 #######\")\n",
        "# sns.pairplot(high_corr,diag_kind='kde')\n",
        "# plt.show()"
      ],
      "execution_count": null,
      "outputs": []
    },
    {
      "cell_type": "markdown",
      "metadata": {
        "id": "6_1pGfFW7XsO"
      },
      "source": [
        "### 승률\n",
        "  - 2017년과 평균 득점이 유사한 리그는 상관계수 0.6 이상\n",
        "   - ['최종 승률', '최종 피wOBA', '최종 피RawEqA', '최종 피출루율', '최종 피2002RC','최종 피GPA', '최종 평균 실점', '최종 wOBA', '최종 방어율', '최종 평균 득점','최종 피OPS', '최종 RawEqA', '최종 2002RC', '최종 GPA', '최종 OPS', \n",
        "'최종 피RC/27', '최종 피평균 RC', '최종 RC/27', '최종 출루율', '최종 피타율',\n",
        "'최종 평균 RC'] - 총 20개\n",
        "  -2017년과 평균 득점이 유사한 리그 마지막 20경기 이전은 상관계수 0.7 이상\n",
        "   - ['최종 승률', '마지막 20경기 이전 승률', '마지막 20경기 이전 피RC/27', '마지막 20경기 이전 피RawEqA', '마지막 20경기 이전 평균 실점','마지막 20경기 이전 피GPA', '마지막 20경기 이전 RC/27', '마지막 20경기 이전 평균 득점', '마지막 20경기 이전 피OPS', '마지막 20경기 이전 피평균 RC','마지막 20경기 이전 GPA', '마지막 20경기 이전 평균 RC', '마지막 20경기 이전 RawEqA', '마지막 20경기 이전 wOBA', '마지막 20경기 이전 방어율','마지막 20경기 이전 OPS', '마지막 20경기 이전 피wOBA'] - 총 16개"
      ]
    },
    {
      "cell_type": "code",
      "metadata": {
        "id": "UZK1xt2u4QxB"
      },
      "source": [
        "# # 승률과 상관성이 높은 변수\n",
        "# print(\"---------------전체 리그--------------------\")\n",
        "# print(League_df_corr.sort_values(by=\"최종 승률\",ascending=False)['최종 승률'].head(30))\n",
        "# print(League_df_corr.sort_values(by=\"최종 승률\",ascending=False)['최종 승률'].tail(30))\n",
        "# print(\"---------------2017년과 평균 득점이 유사한 리그--------------------\")\n",
        "# print(abs(Score_League_df_2017_corr).sort_values(by=\"최종 승률\",ascending=False)['최종 승률'].head(30))\n",
        "# print(\"---------------2017년과 평균 득점이 유사한 리그 마지막 20경기 이전--------------------\")\n",
        "# print(abs(Score_League_df_Befor_2016_2019_2017_corr).sort_values(by=\"최종 승률\",ascending=False)['최종 승률'].head(30))"
      ],
      "execution_count": null,
      "outputs": []
    },
    {
      "cell_type": "code",
      "metadata": {
        "id": "l5gZK3W3pwao"
      },
      "source": [
        "# high_corr = Score_League_df_Befor_2016_2019_2017[['최종 승률', '마지막 20경기 이전 승률', '마지막 20경기 이전 피RC/27', '마지막 20경기 이전 피RawEqA', '마지막 20경기 이전 평균 실점', '마지막 20경기 이전 피GPA']]\n",
        "# print(\"####### 상위 5개 #######\")\n",
        "# sns.pairplot(high_corr,diag_kind='kde')\n",
        "# plt.show()"
      ],
      "execution_count": null,
      "outputs": []
    },
    {
      "cell_type": "markdown",
      "metadata": {
        "id": "8JaHr-jfUoVj"
      },
      "source": [
        "## 최적의 변수 찾기 PCA 와 회귀분석"
      ]
    },
    {
      "cell_type": "markdown",
      "metadata": {
        "id": "buPqcRYmO6vR"
      },
      "source": [
        "### 타율\n",
        "\n",
        "- 상관계수가 낮은 변수 중에 vif가 10이 넘는 변수를 1개씩 제거 vif의 값이 10 넘지 않을 때 까지 반복\n",
        "\n",
        "- 리그 최종 성적 변수\n",
        " - ['최종 평균 안타', '최종 GPA', '최종 BABIP', '최종 평균 타수'] - 총 4개\n",
        "\n",
        "- 마지막 20경기 이전 성적 변수\n",
        " - ['마지막 20경기 이전 실제타율', '마지막 20경기 이전 출루율', '마지막 20경기 이전 평균 득점', '마지막 20경기 이전 GPA'] - 총 4개"
      ]
    },
    {
      "cell_type": "markdown",
      "metadata": {
        "id": "bY7uOvhhsREA"
      },
      "source": [
        "#### 타율 회귀분석"
      ]
    },
    {
      "cell_type": "markdown",
      "metadata": {
        "id": "vH4CgPh71hBA"
      },
      "source": [
        "##### 리그 최종 성적"
      ]
    },
    {
      "cell_type": "code",
      "metadata": {
        "id": "eIiYMF83FC7t"
      },
      "source": [
        "# from patsy import dmatrices\n",
        "# import statsmodels.api as sm # 다중회귀분석 모델\n",
        "# from statsmodels.stats.outliers_influence import variance_inflation_factor # VIF 계산 모델\n",
        "# a = pd.DataFrame()\n",
        "\n",
        "# # columns = ['최종 실제타율', '최종 평균 안타', '최종 평균 RC', '최종 RC/27', '최종 GPA',\n",
        "# #            '최종 평균 득점', '최종 OPS', '최종 RawEqA', '최종 BABIP', '최종 평균 타수',\n",
        "# #            '최종 출루율', '최종 장타율', '최종 평균 타자']\n",
        "\n",
        "# # columns_set = ['A', 'B', 'C', 'D', 'E',\n",
        "# #                'F', 'G', 'H', 'I', 'J',\n",
        "# #                'K', 'L', 'M']\n",
        "\n",
        "# columns = ['최종 실제타율', '최종 평균 안타','최종 GPA', '최종 BABIP', '최종 평균 타수']\n",
        "\n",
        "# columns_set = ['A', 'B', 'C', 'D', 'E']\n",
        "\n",
        "# b = 0\n",
        "# for i in columns:\n",
        "#   a[columns_set[b]] = Score_League_df_2017[columns[b]].values\n",
        "#   b = b + 1\n",
        "\n",
        "# # columns = ['Intercept', '최종 평균 안타', '최종 평균 RC', '최종 RC/27', '최종 GPA',\n",
        "# #            '최종 평균 득점', '최종 OPS', '최종 RawEqA', '최종 BABIP', '최종 평균 타수',\n",
        "# #            '최종 출루율', '최종 장타율', '최종 평균 타자']\n",
        "\n",
        "# # columns_set = ['B', 'C', 'D', 'E',\n",
        "# #                'F', 'G', 'H', 'I', 'J',\n",
        "# #                'K', 'L', 'M']\n",
        "\n",
        "# columns = ['Intercept', '최종 평균 안타', '최종 GPA', '최종 BABIP', '최종 평균 타수']\n",
        "\n",
        "# columns_set = ['B', 'C', 'D', 'E']\n",
        "\n",
        "# features = '+'.join(columns_set)\n",
        "# features = 'A ~'+features\n",
        "\n",
        "# y, X = dmatrices(features, data = a, return_type='dataframe')\n",
        "\n",
        "# result = sm.OLS(y, X).fit()\n",
        "\n",
        "# X.columns = columns\n",
        "# print(result.summary())"
      ],
      "execution_count": null,
      "outputs": []
    },
    {
      "cell_type": "markdown",
      "metadata": {
        "id": "wQIeYDDT1meB"
      },
      "source": [
        "##### 마지막 20경기 이전 성적"
      ]
    },
    {
      "cell_type": "code",
      "metadata": {
        "id": "CARrG6Qo0TYN"
      },
      "source": [
        "# from patsy import dmatrices\n",
        "# import statsmodels.api as sm # 다중회귀분석 모델\n",
        "# from statsmodels.stats.outliers_influence import variance_inflation_factor # VIF 계산 모델\n",
        "# a = pd.DataFrame()\n",
        "\n",
        "# # columns = ['최종 실제타율', '마지막 20경기 이전 실제타율', '마지막 20경기 이전 평균 안타', '마지막 20경기 이전 출루율', '마지막 20경기 이전 평균 득점',\n",
        "# #            '마지막 20경기 이전 GPA', '마지막 20경기 이전 평균 RC', '마지막 20경기 이전 RC/27', '마지막 20경기 이전 RawEqA', '마지막 20경기 이전 2002RC',\n",
        "# #            '마지막 20경기 이전 wOBA']\n",
        "\n",
        "# # columns_set = ['A', 'B', 'C', 'D', 'E',\n",
        "# #                'F', 'G', 'H', 'I', 'J',\n",
        "# #                'K']\n",
        "\n",
        "# columns = ['최종 실제타율', '마지막 20경기 이전 실제타율', '마지막 20경기 이전 출루율', '마지막 20경기 이전 평균 득점',\n",
        "#            '마지막 20경기 이전 GPA']\n",
        "\n",
        "# columns_set = ['A', 'B', 'C', 'D', 'E']\n",
        "\n",
        "# b = 0\n",
        "# for i in columns:\n",
        "#   a[columns_set[b]] = League_df_Befor_2016_2019[columns[b]].values\n",
        "#   b = b + 1\n",
        "\n",
        "# # columns = ['Intercept', '마지막 20경기 이전 실제타율 ', '마지막 20경기 이전 평균 안타', '마지막 20경기 이전 출루율', '마지막 20경기 이전 평균 득점',\n",
        "# #            '마지막 20경기 이전 GPA', '마지막 20경기 이전 평균 RC', '마지막 20경기 이전 RC/27', '마지막 20경기 이전 RawEqA', '마지막 20경기 이전 2002RC',\n",
        "# #            '마지막 20경기 이전 wOBA']\n",
        "\n",
        "# # columns_set = ['B', 'C', 'D', 'E',\n",
        "# #                'F', 'G', 'H', 'I', 'J',\n",
        "# #                'K']\n",
        "\n",
        "# columns = ['Intercept', '마지막 20경기 이전 실제타율 ', '마지막 20경기 이전 출루율', '마지막 20경기 이전 평균 득점',\n",
        "#            '마지막 20경기 이전 GPA']\n",
        "\n",
        "# columns_set = ['B', 'C', 'D', 'E']\n",
        "\n",
        "# features = '+'.join(columns_set)\n",
        "# features = 'A ~'+features\n",
        "\n",
        "# y, X = dmatrices(features, data = a, return_type='dataframe')\n",
        "\n",
        "# result = sm.OLS(y, X).fit()\n",
        "\n",
        "# X.columns = columns\n",
        "# print(result.summary())"
      ],
      "execution_count": null,
      "outputs": []
    },
    {
      "cell_type": "markdown",
      "metadata": {
        "id": "WwOHvw1_J63I"
      },
      "source": [
        "#### 타율 PCA"
      ]
    },
    {
      "cell_type": "markdown",
      "metadata": {
        "id": "pW3GKT8Q18uK"
      },
      "source": [
        "##### 리그 최종 성적\n"
      ]
    },
    {
      "cell_type": "code",
      "metadata": {
        "id": "RG5dEeScKBbu"
      },
      "source": [
        "# from patsy import dmatrices\n",
        "# import statsmodels.api as sm # 다중회귀분석 모델\n",
        "# from statsmodels.stats.outliers_influence import variance_inflation_factor # VIF 계산 모델\n",
        "# a = pd.DataFrame()\n",
        "\n",
        "# columns = ['최종 실제타율', '최종 평균 안타','최종 GPA', '최종 BABIP', '최종 평균 타수']\n",
        "\n",
        "# columns_set = ['A', 'B', 'C', 'D', 'E']\n",
        "\n",
        "# b = 0\n",
        "# for i in columns:\n",
        "#   a[columns_set[b]] = Score_League_df_2017[columns[b]].values\n",
        "#   b = b + 1\n",
        "\n",
        "# columns = ['Intercept', '최종 평균 안타','최종 GPA', '최종 BABIP', '최종 평균 타수']\n",
        "\n",
        "# columns_set = ['B', 'C', 'D', 'E']\n",
        "\n",
        "# features = '+'.join(columns_set)\n",
        "# features = 'A ~'+features\n",
        "\n",
        "# y, X = dmatrices(features, data = a, return_type='dataframe')\n",
        "\n",
        "# vif = pd.DataFrame()\n",
        "# vif['Vif Factor'] = [variance_inflation_factor(X.values, i) for i in range(X.shape[1])]\n",
        "# X.columns = columns\n",
        "# vif['features'] = X.columns\n",
        "\n",
        "# vif"
      ],
      "execution_count": null,
      "outputs": []
    },
    {
      "cell_type": "markdown",
      "metadata": {
        "id": "m-9z62vl2ELC"
      },
      "source": [
        "##### 마지막 20경기 이전 성적"
      ]
    },
    {
      "cell_type": "code",
      "metadata": {
        "id": "x6khzQyW2_tY"
      },
      "source": [
        "# from patsy import dmatrices\n",
        "# import statsmodels.api as sm # 다중회귀분석 모델\n",
        "# from statsmodels.stats.outliers_influence import variance_inflation_factor # VIF 계산 모델\n",
        "# a = pd.DataFrame()\n",
        "\n",
        "# columns = ['최종 실제타율', '마지막 20경기 이전 실제타율', '마지막 20경기 이전 출루율', '마지막 20경기 이전 평균 득점',\n",
        "#            '마지막 20경기 이전 GPA']\n",
        "\n",
        "# columns_set = ['A', 'B', 'C', 'D', 'E']\n",
        "\n",
        "# b = 0\n",
        "# for i in columns:\n",
        "#   a[columns_set[b]] = League_df_Befor_2016_2019[columns[b]].values\n",
        "#   b = b + 1\n",
        "\n",
        "# columns = ['Intercept', '마지막 20경기 이전 실제타율 ', '마지막 20경기 이전 출루율', '마지막 20경기 이전 평균 득점',\n",
        "#            '마지막 20경기 이전 GPA']\n",
        "\n",
        "# columns_set = ['B', 'C', 'D', 'E']\n",
        "\n",
        "# features = '+'.join(columns_set)\n",
        "# features = 'A ~'+features\n",
        "\n",
        "# y, X = dmatrices(features, data = a, return_type='dataframe')\n",
        "\n",
        "# vif = pd.DataFrame()\n",
        "# vif['Vif Factor'] = [variance_inflation_factor(X.values, i) for i in range(X.shape[1])]\n",
        "# X.columns = columns\n",
        "# vif['features'] = X.columns\n",
        "\n",
        "# vif"
      ],
      "execution_count": null,
      "outputs": []
    },
    {
      "cell_type": "markdown",
      "metadata": {
        "id": "rs2GYcA5sUhW"
      },
      "source": [
        "### 방어율\n",
        "\n",
        "- 상관계수가 낮은 변수 중에 vif가 10이 넘는 변수를 1개씩 제거 vif의 값이 10 넘지 않을 때 까지 반복\n",
        "\n",
        "- 리그 최종 성적 변수\n",
        " - ['최종 평균 자책점', '최종 평균 실점', '최종 피GPA', '최종 피OPS', '최종 피타율', '최종 DIPS'] - 총 6개\n",
        "\n",
        "- 마지막 20경기 이전 성적 변수\n",
        " - ['마지막 20경기 이전 방어율', '마지막 20경기 이전 피RC/27'] - 총 2개"
      ]
    },
    {
      "cell_type": "markdown",
      "metadata": {
        "id": "avUP719iPDzC"
      },
      "source": [
        "#### 방어율 회귀분석"
      ]
    },
    {
      "cell_type": "markdown",
      "metadata": {
        "id": "g0NXU4492KMH"
      },
      "source": [
        "##### 리그 최종 성적"
      ]
    },
    {
      "cell_type": "code",
      "metadata": {
        "id": "8jmCJK34PRo5"
      },
      "source": [
        "# from patsy import dmatrices\n",
        "# import statsmodels.api as sm # 다중회귀분석 모델\n",
        "# from statsmodels.stats.outliers_influence import variance_inflation_factor # VIF 계산 모델\n",
        "# a = pd.DataFrame()\n",
        "\n",
        "# # columns = ['최종 방어율', '최종 평균 실점', '최종 피평균 RC', '최종 피RC/27','최종 피GPA', \n",
        "# #            '최종 피OPS', '최종 피RawEqA', '최종 피장타율', '최종 피타율', '최종 피wOBA', \n",
        "# #            '최종 평균 피안타', '최종 피출루율', '최종 DIPS', '최종 피2002RC', '최종 평균 상대 타자']\n",
        "\n",
        "# # columns_set = ['A', 'B', 'C', 'D', 'E',\n",
        "# #                'F', 'G', 'H', 'I', 'J',\n",
        "# #                'K', 'L', 'M', 'O', 'P']\n",
        "\n",
        "# # columns = ['최종 방어율', '최종 평균 실점', '최종 피GPA', \n",
        "# #            '최종 피OPS', '최종 피타율', '최종 DIPS']\n",
        "\n",
        "# # columns_set = ['A', 'B', 'C', 'D', 'E',\n",
        "# #                'F']\n",
        "\n",
        "# columns = ['최종 방어율', '최종 평균 자책점', '최종 평균 실점', '최종 피GPA', \n",
        "#            '최종 피OPS', '최종 피타율', '최종 DIPS']\n",
        "\n",
        "# columns_set = ['A', 'B', 'C', 'D', 'E',\n",
        "#                'F','G']\n",
        "\n",
        "# b = 0\n",
        "# for i in columns:\n",
        "#   a[columns_set[b]] = Score_League_df_2017[columns[b]].values\n",
        "#   b = b + 1\n",
        "\n",
        "# # columns = ['Intercept', '최종 평균 실점', '최종 피평균 RC', '최종 피RC/27','최종 피GPA', \n",
        "# #            '최종 피OPS', '최종 피RawEqA', '최종 피장타율', '최종 피타율', '최종 피wOBA', \n",
        "# #            '최종 평균 피안타', '최종 피출루율', '최종 DIPS', '최종 피2002RC', '최종 평균 상대 타자']\n",
        "\n",
        "# # columns_set = ['B', 'C', 'D', 'E',\n",
        "# #                'F', 'G', 'H', 'I', 'J',\n",
        "# #                'K', 'L', 'M', 'O', 'P']\n",
        "\n",
        "# # columns = ['Intercept', '최종 평균 실점', '최종 피GPA', \n",
        "# #            '최종 피OPS', '최종 피타율', '최종 DIPS']\n",
        "\n",
        "# # columns_set = ['B', 'C', 'D', 'E',\n",
        "# #                'F']\n",
        "\n",
        "# columns = ['Intercept', '최종 평균 자책점', '최종 평균 실점', '최종 피GPA', \n",
        "#            '최종 피OPS', '최종 피타율', '최종 DIPS']\n",
        "\n",
        "# columns_set = ['B', 'C', 'D', 'E',\n",
        "#                'F', 'G']\n",
        "\n",
        "# features = '+'.join(columns_set)\n",
        "# features = 'A ~'+features\n",
        "\n",
        "# y, X = dmatrices(features, data = a, return_type='dataframe')\n",
        "\n",
        "# result = sm.OLS(y, X).fit()\n",
        "\n",
        "# X.columns = columns\n",
        "# print(result.summary())"
      ],
      "execution_count": null,
      "outputs": []
    },
    {
      "cell_type": "markdown",
      "metadata": {
        "id": "9HO5a_xj2NOs"
      },
      "source": [
        "##### 마지막 20경기 이전 성적"
      ]
    },
    {
      "cell_type": "code",
      "metadata": {
        "id": "jtnIjRapyUHH"
      },
      "source": [
        "# from patsy import dmatrices\n",
        "# import statsmodels.api as sm # 다중회귀분석 모델\n",
        "# from statsmodels.stats.outliers_influence import variance_inflation_factor # VIF 계산 모델\n",
        "# a = pd.DataFrame()\n",
        "\n",
        "# # columns = ['최종 방어율', '마지막 20경기 이전 방어율', '마지막 20경기 이전 평균 실점', '마지막 20경기 이전 피RC/27','마지막 20경기 이전 피GPA', \n",
        "# #            '마지막 20경기 이전 피RawEqA', '마지막 20경기 이전 피OPS', '마지막 20경기 이전 피wOBA', '마지막 20경기 이전 ERC']\n",
        "\n",
        "# # columns_set = ['A', 'B', 'C', 'D', 'E',\n",
        "# #                'F', 'G', 'H', 'I']\n",
        "\n",
        "# columns = ['최종 방어율', '마지막 20경기 이전 방어율', '마지막 20경기 이전 피RC/27']\n",
        "\n",
        "# columns_set = ['A', 'B', 'C']\n",
        "\n",
        "# b = 0\n",
        "# for i in columns:\n",
        "#   a[columns_set[b]] = League_df_Befor_2016_2019[columns[b]].values\n",
        "#   b = b + 1\n",
        "\n",
        "# # columns = ['Intercept', '마지막 20경기 이전 방어율', '마지막 20경기 이전 평균 실점', '마지막 20경기 이전 피RC/27','마지막 20경기 이전 피GPA', \n",
        "# #            '마지막 20경기 이전 피RawEqA', '마지막 20경기 이전 피OPS', '마지막 20경기 이전 피wOBA', '마지막 20경기 이전 ERC']\n",
        "\n",
        "# # columns_set = ['B', 'C', 'D', 'E',\n",
        "# #                'F', 'G', 'H', 'I']\n",
        "\n",
        "# columns = ['Intercept', '마지막 20경기 이전 방어율', '마지막 20경기 이전 피RC/27']\n",
        "\n",
        "# columns_set = ['B', 'C']\n",
        "\n",
        "# features = '+'.join(columns_set)\n",
        "# features = 'A ~'+features\n",
        "\n",
        "# y, X = dmatrices(features, data = a, return_type='dataframe')\n",
        "\n",
        "# result = sm.OLS(y, X).fit()\n",
        "\n",
        "# X.columns = columns\n",
        "# print(result.summary())"
      ],
      "execution_count": null,
      "outputs": []
    },
    {
      "cell_type": "markdown",
      "metadata": {
        "id": "7MDskHumPHkr"
      },
      "source": [
        "#### 방어율 PCA"
      ]
    },
    {
      "cell_type": "markdown",
      "metadata": {
        "id": "DZ3XhFKd2WwF"
      },
      "source": [
        "##### 리그 최종 성적"
      ]
    },
    {
      "cell_type": "code",
      "metadata": {
        "id": "bQl8Fb1FPSC9"
      },
      "source": [
        "# from patsy import dmatrices\n",
        "# import statsmodels.api as sm # 다중회귀분석 모델\n",
        "# from statsmodels.stats.outliers_influence import variance_inflation_factor # VIF 계산 모델\n",
        "# a = pd.DataFrame()\n",
        "\n",
        "# columns = ['최종 방어율', '최종 평균 자책점', '최종 평균 실점', '최종 피GPA', \n",
        "#            '최종 피OPS', '최종 피타율', '최종 DIPS']\n",
        "\n",
        "# columns_set = ['A', 'B', 'C', 'D', 'E',\n",
        "#                'F','G']\n",
        "\n",
        "# b = 0\n",
        "# for i in columns:\n",
        "#   a[columns_set[b]] = Score_League_df_2017[columns[b]].values\n",
        "#   b = b + 1\n",
        "\n",
        "# columns = ['Intercept', '최종 평균 자책점', '최종 평균 실점', '최종 피GPA', \n",
        "#            '최종 피OPS', '최종 피타율', '최종 DIPS']\n",
        "\n",
        "# columns_set = ['B', 'C', 'D', 'E',\n",
        "#                'F', 'G']\n",
        "\n",
        "# features = '+'.join(columns_set)\n",
        "# features = 'A ~'+features\n",
        "\n",
        "# y, X = dmatrices(features, data = a, return_type='dataframe')\n",
        "\n",
        "# vif = pd.DataFrame()\n",
        "# vif['Vif Factor'] = [variance_inflation_factor(X.values, i) for i in range(X.shape[1])]\n",
        "# X.columns = columns\n",
        "# vif['features'] = X.columns\n",
        "\n",
        "# vif"
      ],
      "execution_count": null,
      "outputs": []
    },
    {
      "cell_type": "markdown",
      "metadata": {
        "id": "Y43Ig1Eh2ZHM"
      },
      "source": [
        "##### 마지막 20경기 이전 성적"
      ]
    },
    {
      "cell_type": "code",
      "metadata": {
        "id": "y3b5GGhE4E1X"
      },
      "source": [
        "# from patsy import dmatrices\n",
        "# import statsmodels.api as sm # 다중회귀분석 모델\n",
        "# from statsmodels.stats.outliers_influence import variance_inflation_factor # VIF 계산 모델\n",
        "# a = pd.DataFrame()\n",
        "\n",
        "# columns = ['최종 방어율', '마지막 20경기 이전 방어율', '마지막 20경기 이전 피RC/27']\n",
        "\n",
        "# columns_set = ['A', 'B', 'C']\n",
        "\n",
        "# b = 0\n",
        "# for i in columns:\n",
        "#   a[columns_set[b]] = League_df_Befor_2016_2019[columns[b]].values\n",
        "#   b = b + 1\n",
        "\n",
        "# columns = ['Intercept', '마지막 20경기 이전 방어율', '마지막 20경기 이전 피RC/27']\n",
        "\n",
        "# columns_set = ['B', 'C']\n",
        "\n",
        "# features = '+'.join(columns_set)\n",
        "# features = 'A ~'+features\n",
        "\n",
        "# y, X = dmatrices(features, data = a, return_type='dataframe')\n",
        "\n",
        "# vif = pd.DataFrame()\n",
        "# vif['Vif Factor'] = [variance_inflation_factor(X.values, i) for i in range(X.shape[1])]\n",
        "# X.columns = columns\n",
        "# vif['features'] = X.columns\n",
        "\n",
        "# vif"
      ],
      "execution_count": null,
      "outputs": []
    },
    {
      "cell_type": "markdown",
      "metadata": {
        "id": "sTatYTG4sVy3"
      },
      "source": [
        "### 승률\n",
        "\n",
        "- 상관계수가 낮은 변수 중에 vif가 10이 넘는 변수를 1개씩 제거 vif의 값이 10 넘지 않을 때 까지 반복\n",
        "\n",
        "- 리그 최종 성적 변수\n",
        " - ['최종 피GPA', '최종 평균 실점','최종 평균 득점', '최종 피OPS', '최종 GPA', '최종 OPS'] - 총 6개\n",
        "\n",
        "- 마지막 20경기 이전 성적 변수\n",
        " - ['마지막 20경기 이전 승률', '마지막 20경기 이전 피RC/27', '마지막 20경기 이전 평균 실점', '마지막 20경기 이전 RC/27', '마지막 20경기 이전 평균 득점'] - 총 5개"
      ]
    },
    {
      "cell_type": "markdown",
      "metadata": {
        "id": "TxO0KGhmPK2N"
      },
      "source": [
        "#### 승률 회귀분석"
      ]
    },
    {
      "cell_type": "markdown",
      "metadata": {
        "id": "CZOQ9dbO2eR3"
      },
      "source": [
        "##### 리그 최종 성적"
      ]
    },
    {
      "cell_type": "code",
      "metadata": {
        "id": "kOXthDsIPSwC"
      },
      "source": [
        "# from patsy import dmatrices\n",
        "# import statsmodels.api as sm # 다중회귀분석 모델\n",
        "# from statsmodels.stats.outliers_influence import variance_inflation_factor # VIF 계산 모델\n",
        "# a = pd.DataFrame()\n",
        "\n",
        "# # columns = ['최종 승률', '최종 피wOBA', '최종 피RawEqA', '최종 피출루율', '최종 피2002RC',\n",
        "# #            '최종 피GPA', '최종 평균 실점', '최종 wOBA', '최종 방어율', '최종 평균 득점',\n",
        "# #            '최종 피OPS', '최종 RawEqA', '최종 2002RC', '최종 GPA', '최종 OPS', \n",
        "# #            '최종 피RC/27', '최종 피평균 RC', '최종 RC/27', '최종 출루율', '최종 피타율',\n",
        "# #            '최종 평균 RC']\n",
        "\n",
        "# # columns_set = ['A', 'B', 'C', 'D', 'E',\n",
        "# #                'F', 'G', 'H', 'I', 'J',\n",
        "# #                'K', 'L', 'M', 'O', 'P',\n",
        "# #                'Q', 'R', 'S', 'T', 'U',\n",
        "# #                'V']\n",
        "\n",
        "# columns = ['최종 승률', '최종 피출루율',\n",
        "#            '최종 피GPA', '최종 평균 실점','최종 평균 득점',\n",
        "#            '최종 피OPS', '최종 GPA', '최종 OPS', \n",
        "#            '최종 출루율']\n",
        "\n",
        "# columns_set = ['A', 'B', 'C', 'D', 'E',\n",
        "#                'F', 'G', 'H', 'I']\n",
        "\n",
        "# b = 0\n",
        "# for i in columns:\n",
        "#   a[columns_set[b]] = Score_League_df_2017[columns[b]].values\n",
        "#   b = b + 1\n",
        "\n",
        "# # columns = ['Intercept', '최종 피wOBA', '최종 피RawEqA', '최종 피출루율', '최종 피2002RC',\n",
        "# #            '최종 피GPA', '최종 평균 실점', '최종 wOBA', '최종 방어율', '최종 평균 득점',\n",
        "# #            '최종 피OPS', '최종 RawEqA', '최종 2002RC', '최종 GPA', '최종 OPS', \n",
        "# #            '최종 피RC/27', '최종 피평균 RC', '최종 RC/27', '최종 출루율', '최종 피타율',\n",
        "# #            '최종 평균 RC']\n",
        "\n",
        "# # columns_set = ['B', 'C', 'D', 'E',\n",
        "# #                'F', 'G', 'H', 'I', 'J',\n",
        "# #                'K', 'L', 'M', 'O', 'P',\n",
        "# #                'Q', 'R', 'S', 'T', 'U',\n",
        "# #                'V']\n",
        "               \n",
        "# columns = ['Intercept', '최종 피출루율',\n",
        "#            '최종 피GPA', '최종 평균 실점', '최종 평균 득점',\n",
        "#            '최종 피OPS', '최종 GPA', '최종 OPS', \n",
        "#            '최종 출루율']\n",
        "\n",
        "# columns_set = ['B', 'C', 'D', 'E',\n",
        "#                'F', 'G', 'H', 'I']\n",
        "\n",
        "# features = '+'.join(columns_set)\n",
        "# features = 'A ~'+features\n",
        "\n",
        "# y, X = dmatrices(features, data = a, return_type='dataframe')\n",
        "\n",
        "# result = sm.OLS(y, X).fit()\n",
        "\n",
        "# X.columns = columns\n",
        "# print(result.summary())"
      ],
      "execution_count": null,
      "outputs": []
    },
    {
      "cell_type": "markdown",
      "metadata": {
        "id": "-YJj2O0m2lOF"
      },
      "source": [
        "##### 마지막 20경기 이전 성적"
      ]
    },
    {
      "cell_type": "code",
      "metadata": {
        "id": "CpfVZD2tygqm"
      },
      "source": [
        "# from patsy import dmatrices\n",
        "# import statsmodels.api as sm # 다중회귀분석 모델\n",
        "# from statsmodels.stats.outliers_influence import variance_inflation_factor # VIF 계산 모델\n",
        "# a = pd.DataFrame()\n",
        "\n",
        "# # columns = ['최종 승률', '마지막 20경기 이전 승률', '마지막 20경기 이전 피RC/27', '마지막 20경기 이전 피RawEqA', '마지막 20경기 이전 평균 실점',\n",
        "# #            '마지막 20경기 이전 피GPA', '마지막 20경기 이전 RC/27', '마지막 20경기 이전 평균 득점', '마지막 20경기 이전 피OPS', '마지막 20경기 이전 피평균 RC',\n",
        "# #            '마지막 20경기 이전 GPA', '마지막 20경기 이전 평균 RC', '마지막 20경기 이전 RawEqA', '마지막 20경기 이전 wOBA', '마지막 20경기 이전 방어율', \n",
        "# #            '마지막 20경기 이전 OPS', '마지막 20경기 이전 피wOBA']\n",
        "\n",
        "# # columns_set = ['A', 'B', 'C', 'D', 'E',\n",
        "# #                'F', 'G', 'H', 'I', 'J',\n",
        "# #                'K', 'L', 'M', 'O', 'P',\n",
        "# #                'Q', 'R']\n",
        "\n",
        "# columns = ['최종 승률', '마지막 20경기 이전 승률', '마지막 20경기 이전 피RC/27', '마지막 20경기 이전 평균 실점', \n",
        "#            '마지막 20경기 이전 RC/27', '마지막 20경기 이전 평균 득점']\n",
        "\n",
        "# columns_set = ['A', 'B', 'C', 'D', 'E',\n",
        "#                'F']\n",
        "\n",
        "# b = 0\n",
        "# for i in columns:\n",
        "#   a[columns_set[b]] = League_df_Befor_2016_2019[columns[b]].values\n",
        "#   b = b + 1\n",
        "\n",
        "# # columns = ['Intercept', '마지막 20경기 이전 승률', '마지막 20경기 이전 피RC/27', '마지막 20경기 이전 피RawEqA', '마지막 20경기 이전 평균 실점',\n",
        "# #            '마지막 20경기 이전 피GPA', '마지막 20경기 이전 RC/27', '마지막 20경기 이전 평균 득점', '마지막 20경기 이전 피OPS', '마지막 20경기 이전 피평균 RC',\n",
        "# #            '마지막 20경기 이전 GPA', '마지막 20경기 이전 평균 RC', '마지막 20경기 이전 RawEqA', '마지막 20경기 이전 wOBA', '마지막 20경기 이전 방어율', \n",
        "# #            '마지막 20경기 이전 OPS', '마지막 20경기 이전 피wOBA']\n",
        "\n",
        "# # columns_set = ['B', 'C', 'D', 'E',\n",
        "# #                'F', 'G', 'H', 'I', 'J',\n",
        "# #                'K', 'L', 'M', 'O', 'P',\n",
        "# #                'Q', 'R']\n",
        "\n",
        "# columns = ['Intercept', '마지막 20경기 이전 승률', '마지막 20경기 이전 피RC/27', '마지막 20경기 이전 평균 실점', \n",
        "#            '마지막 20경기 이전 RC/27', '마지막 20경기 이전 평균 득점']\n",
        "\n",
        "# columns_set = ['B', 'C', 'D', 'E',\n",
        "#                'F']\n",
        "\n",
        "# features = '+'.join(columns_set)\n",
        "# features = 'A ~'+features\n",
        "\n",
        "# y, X = dmatrices(features, data = a, return_type='dataframe')\n",
        "\n",
        "# result = sm.OLS(y, X).fit()\n",
        "\n",
        "# X.columns = columns\n",
        "# print(result.summary())"
      ],
      "execution_count": null,
      "outputs": []
    },
    {
      "cell_type": "markdown",
      "metadata": {
        "id": "oprCRSYIPM1w"
      },
      "source": [
        "#### 승률 PCA"
      ]
    },
    {
      "cell_type": "markdown",
      "metadata": {
        "id": "UzLRmk-02olX"
      },
      "source": [
        "##### 리그 최종 성적"
      ]
    },
    {
      "cell_type": "code",
      "metadata": {
        "id": "EOAfWjmsPTk0"
      },
      "source": [
        "# from patsy import dmatrices\n",
        "# import statsmodels.api as sm # 다중회귀분석 모델\n",
        "# from statsmodels.stats.outliers_influence import variance_inflation_factor # VIF 계산 모델\n",
        "# a = pd.DataFrame()\n",
        "\n",
        "# columns = ['최종 승률', '최종 피출루율',\n",
        "#            '최종 피GPA', '최종 평균 실점','최종 평균 득점',\n",
        "#            '최종 피OPS', '최종 GPA', '최종 OPS', \n",
        "#            '최종 출루율']\n",
        "\n",
        "# columns_set = ['A', 'B', 'C', 'D', 'E',\n",
        "#                'F', 'G', 'H', 'I']\n",
        "\n",
        "# b = 0\n",
        "# for i in columns:\n",
        "#   a[columns_set[b]] = Score_League_df_2017[columns[b]].values\n",
        "#   b = b + 1\n",
        "\n",
        "# columns = ['Intercept', '최종 피출루율',\n",
        "#            '최종 피GPA', '최종 평균 실점', '최종 평균 득점',\n",
        "#            '최종 피OPS', '최종 GPA', '최종 OPS', \n",
        "#            '최종 출루율']\n",
        "\n",
        "# columns_set = ['B', 'C', 'D', 'E',\n",
        "#                'F', 'G', 'H', 'I']\n",
        "\n",
        "# features = '+'.join(columns_set)\n",
        "# features = 'A ~'+features\n",
        "\n",
        "# y, X = dmatrices(features, data = a, return_type='dataframe')\n",
        "\n",
        "# vif = pd.DataFrame()\n",
        "# vif['Vif Factor'] = [variance_inflation_factor(X.values, i) for i in range(X.shape[1])]\n",
        "# X.columns = columns\n",
        "# vif['features'] = X.columns\n",
        "\n",
        "# vif"
      ],
      "execution_count": null,
      "outputs": []
    },
    {
      "cell_type": "markdown",
      "metadata": {
        "id": "LDoyIxgD2raw"
      },
      "source": [
        "##### 마지막 20경기 이전 성적"
      ]
    },
    {
      "cell_type": "code",
      "metadata": {
        "id": "YQK3OwKC57xq"
      },
      "source": [
        "# from patsy import dmatrices\n",
        "# import statsmodels.api as sm # 다중회귀분석 모델\n",
        "# from statsmodels.stats.outliers_influence import variance_inflation_factor # VIF 계산 모델\n",
        "# a = pd.DataFrame()\n",
        "\n",
        "# columns = ['최종 승률', '마지막 20경기 이전 승률', '마지막 20경기 이전 피RC/27', '마지막 20경기 이전 평균 실점', \n",
        "#            '마지막 20경기 이전 RC/27', '마지막 20경기 이전 평균 득점']\n",
        "\n",
        "# columns_set = ['A', 'B', 'C', 'D', 'E',\n",
        "#                'F']\n",
        "\n",
        "# b = 0\n",
        "# for i in columns:\n",
        "#   a[columns_set[b]] = League_df_Befor_2016_2019[columns[b]].values\n",
        "#   b = b + 1\n",
        "\n",
        "# columns = ['Intercept', '마지막 20경기 이전 승률', '마지막 20경기 이전 피RC/27', '마지막 20경기 이전 평균 실점', \n",
        "#            '마지막 20경기 이전 RC/27', '마지막 20경기 이전 평균 득점']\n",
        "\n",
        "# columns_set = ['B', 'C', 'D', 'E',\n",
        "#                'F']\n",
        "\n",
        "# features = '+'.join(columns_set)\n",
        "# features = 'A ~'+features\n",
        "\n",
        "# y, X = dmatrices(features, data = a, return_type='dataframe')\n",
        "\n",
        "# vif = pd.DataFrame()\n",
        "# vif['Vif Factor'] = [variance_inflation_factor(X.values, i) for i in range(X.shape[1])]\n",
        "# X.columns = columns\n",
        "# vif['features'] = X.columns\n",
        "\n",
        "# vif"
      ],
      "execution_count": null,
      "outputs": []
    },
    {
      "cell_type": "markdown",
      "metadata": {
        "id": "pVKh38M-90X6"
      },
      "source": [
        "# Model"
      ]
    },
    {
      "cell_type": "markdown",
      "metadata": {
        "id": "UnfXK3UA-ASj"
      },
      "source": [
        "## 검증 Model\n",
        "\n",
        "- 모델1\n",
        " - 2001 ~ 2019 리그 전체 성적 데이터로 학습\n",
        "\n",
        "- 모델2\n",
        " - 2016 ~ 2019 리그 전체 성적 데이터로 학습 \n",
        "\n",
        "- 모델3\n",
        " - 2016 ~ 2019 리그 마지막 20경기 이전 성적 데이터로 학습"
      ]
    },
    {
      "cell_type": "code",
      "metadata": {
        "id": "rOUh-nOe95SU"
      },
      "source": [
        "# # 타율 예측에 사용할 데이터\n",
        "\n",
        "# Batting_average_features = ['최종 평균 안타', '최종 GPA', '최종 BABIP', '최종 평균 타수']\n",
        "\n",
        "# Batting_average_features_befor = ['마지막 20경기 이전 실제타율', '마지막 20경기 이전 평균 안타','마지막 20경기 이전 OPS', '마지막 20경기 이전 평균 득점', '마지막 20경기 이전 GPA']\n",
        "\n",
        "# Batting_average_label = '최종 실제타율'\n",
        "\n",
        "# # 방어율 예측에 사용할 데이터\n",
        "\n",
        "# ERA_features = ['최종 평균 자책점', '최종 평균 실점', '최종 피GPA', '최종 피OPS', '최종 피타율', '최종 DIPS']\n",
        "\n",
        "# ERA_features_befor = ['마지막 20경기 이전 방어율', '마지막 20경기 이전 피RC/27']\n",
        "\n",
        "# ERA_label = '최종 방어율'\n",
        "\n",
        "# # 승률 예측에 사용할 데이터\n",
        "\n",
        "# Win_percentage_features = ['최종 피GPA', '최종 평균 실점','최종 평균 득점', '최종 피OPS', '최종 GPA', '최종 OPS']\n",
        "\n",
        "# Win_percentage_features_befor = ['마지막 20경기 이전 승률', '마지막 20경기 이전 피RC/27', '마지막 20경기 이전 평균 실점', '마지막 20경기 이전 RC/27', '마지막 20경기 이전 평균 득점']\n",
        "\n",
        "# Win_percentage_label = '최종 승률'"
      ],
      "execution_count": null,
      "outputs": []
    },
    {
      "cell_type": "code",
      "metadata": {
        "id": "u2J2cHhLQXiC"
      },
      "source": [
        "# # train에 사용할 독립변수\n",
        "# X_train_B_1 = Score_League_df_2017[Batting_average_features] # 타율예측\n",
        "# X_train_E_1 = Score_League_df_2017[ERA_features]             # 방어율예측\n",
        "# X_train_W_1 = Score_League_df_2017[Win_percentage_features]  # 승률예측\n",
        "\n",
        "# X_train_B_2 = Score_League_df_2016_2019_2017[Batting_average_features] # 타율예측\n",
        "# X_train_E_2 = Score_League_df_2016_2019_2017[ERA_features]             # 방어율예측\n",
        "# X_train_W_2 = Score_League_df_2016_2019_2017[Win_percentage_features]  # 승률예측\n",
        "\n",
        "# X_train_B_3 = Score_League_df_Befor_2016_2019_2017[Batting_average_features_befor] # 타율예측\n",
        "# X_train_E_3 = Score_League_df_Befor_2016_2019_2017[ERA_features_befor]             # 방어율예측\n",
        "# X_train_W_3 = Score_League_df_Befor_2016_2019_2017[Win_percentage_features_befor]  # 승률예측\n",
        "\n",
        "# # train에 사용할 종속변수\n",
        "# Y_train_B_1 = Score_League_df_2017[Batting_average_label] # 타율예측\n",
        "# Y_train_E_1 = Score_League_df_2017[ERA_label]             # 방어율예측\n",
        "# Y_train_W_1 = Score_League_df_2017[Win_percentage_label]  # 승률예측\n",
        "\n",
        "# Y_train_B_2 = Score_League_df_2016_2019_2017[Batting_average_label] # 타율예측\n",
        "# Y_train_E_2 = Score_League_df_2016_2019_2017[ERA_label]             # 방어율예측\n",
        "# Y_train_W_2 = Score_League_df_2016_2019_2017[Win_percentage_label]  # 승률예측\n",
        "\n",
        "# Y_train_B_3 = Score_League_df_Befor_2016_2019_2017[Batting_average_label] # 타율예측\n",
        "# Y_train_E_3 = Score_League_df_Befor_2016_2019_2017[ERA_label]             # 방어율예측\n",
        "# Y_train_W_3 = Score_League_df_Befor_2016_2019_2017[Win_percentage_label]  # 승률예측\n",
        "\n",
        "# # test에 사용할 독립변수\n",
        "# X_test_B_1 = df2017[Batting_average_features] # 타율예측\n",
        "# X_test_E_1 = df2017[ERA_features]             # 방어율예측\n",
        "# X_test_W_1 = df2017[Win_percentage_features]  # 승률예측\n",
        "\n",
        "# X_test_B_3 = df2017[Batting_average_features_befor] # 타율예측\n",
        "# X_test_E_3 = df2017[ERA_features_befor]             # 방어율예측\n",
        "# X_test_W_3 = df2017[Win_percentage_features_befor]  # 승률예측"
      ],
      "execution_count": null,
      "outputs": []
    },
    {
      "cell_type": "code",
      "metadata": {
        "id": "eCXHcmx3pD8O",
        "colab": {
          "base_uri": "https://localhost:8080/",
          "height": 35
        },
        "outputId": "dbd228cc-7814-42f2-e13d-8485fb1f5167"
      },
      "source": [
        "import numpy as np\n",
        "\n",
        "from sklearn.metrics import make_scorer\n",
        "\n",
        "# RMSE 공식\n",
        "def rmse(predict, actual):\n",
        "    predict = np.array(predict)\n",
        "    actual = np.array(actual)\n",
        "\n",
        "    distance = predict - actual\n",
        "    \n",
        "    square_distance = distance ** 2\n",
        "    \n",
        "    mean_square_distance = square_distance.mean()\n",
        "    \n",
        "    score = np.sqrt(mean_square_distance)\n",
        "    \n",
        "    return score\n",
        "\n",
        "rmse_score = make_scorer(rmse)\n",
        "rmse_score"
      ],
      "execution_count": null,
      "outputs": [
        {
          "output_type": "execute_result",
          "data": {
            "text/plain": [
              "make_scorer(rmse)"
            ]
          },
          "metadata": {
            "tags": []
          },
          "execution_count": 44
        }
      ]
    },
    {
      "cell_type": "code",
      "metadata": {
        "id": "fYPC00bv5seO"
      },
      "source": [
        "# #### 각 모델 성능 비교 ####\n",
        "# from xgboost import XGBRegressor\n",
        "# from lightgbm import LGBMRegressor\n",
        "# from sklearn.ensemble import RandomForestRegressor\n",
        "# from sklearn.model_selection import cross_val_score\n",
        "\n",
        "# model_B_1 = XGBRegressor(random_state=37)\n",
        "# model_E_1 = XGBRegressor(random_state=37)\n",
        "# model_W_1 = XGBRegressor(random_state=37)\n",
        "\n",
        "# model_B_1.fit(X_train_B_1,Y_train_B_1)\n",
        "\n",
        "# model_E_1.fit(X_train_E_1,Y_train_E_1)\n",
        "\n",
        "# model_W_1.fit(X_train_W_1,Y_train_W_1)\n",
        "\n",
        "# pred_B_1 = model_B_1.predict(X_test_B_1)\n",
        "\n",
        "# pred_E_1 = model_E_1.predict(X_test_E_1)\n",
        "\n",
        "# pred_W_1 = model_W_1.predict(X_test_W_1)\n",
        "\n",
        "# score_B_1 = mean_squared_error(pred_B_1, df2017['최종 실제타율'])\n",
        "# score_B_1 = np.sqrt(score_B_1)\n",
        "\n",
        "# score_E_1 = mean_squared_error(pred_E_1, df2017['최종 방어율'])\n",
        "# score_E_1 = np.sqrt(score_E_1)\n",
        "\n",
        "# score_W_1 = mean_squared_error(pred_W_1, df2017['최종 승률'])\n",
        "# score_W_1 = np.sqrt(score_W_1)\n",
        "\n",
        "# print(\"#############XGBRegressor모델의 오류 ###########\")\n",
        "# print('타율 오류: ',score_B_1)\n",
        "# print('방어율 오류: ',score_E_1)\n",
        "# print('승률 오류: ',score_W_1)\n",
        "# print()"
      ],
      "execution_count": null,
      "outputs": []
    },
    {
      "cell_type": "code",
      "metadata": {
        "id": "YCDPZWEbn9Um"
      },
      "source": [
        "# #### 각 모델 성능 비교 ####\n",
        "# from xgboost import XGBRegressor\n",
        "# from lightgbm import LGBMRegressor\n",
        "# from sklearn.ensemble import RandomForestRegressor\n",
        "# from sklearn.model_selection import cross_val_score\n",
        "\n",
        "# model_B_1 = LGBMRegressor(random_state=37)\n",
        "# model_E_1 = LGBMRegressor(random_state=37)\n",
        "# model_W_1 = LGBMRegressor(random_state=37)\n",
        "\n",
        "# model_B_1.fit(X_train_B_1,Y_train_B_1)\n",
        "\n",
        "# model_E_1.fit(X_train_E_1,Y_train_E_1)\n",
        "\n",
        "# model_W_1.fit(X_train_W_1,Y_train_W_1)\n",
        "\n",
        "# pred_B_1 = model_B_1.predict(X_test_B_1)\n",
        "\n",
        "# pred_E_1 = model_E_1.predict(X_test_E_1)\n",
        "\n",
        "# pred_W_1 = model_W_1.predict(X_test_W_1)\n",
        "\n",
        "# score_B_1 = mean_squared_error(pred_B_1, df2017['최종 실제타율'])\n",
        "# score_B_1 = np.sqrt(score_B_1)\n",
        "\n",
        "# score_E_1 = mean_squared_error(pred_E_1, df2017['최종 방어율'])\n",
        "# score_E_1 = np.sqrt(score_E_1)\n",
        "\n",
        "# score_W_1 = mean_squared_error(pred_W_1, df2017['최종 승률'])\n",
        "# score_W_1 = np.sqrt(score_W_1)\n",
        "\n",
        "# print(\"#############LGBMRegressor모델의 오류 ###########\")\n",
        "# print('타율 오류: ',score_B_1)\n",
        "# print('방어율 오류: ',score_E_1)\n",
        "# print('승률 오류: ',score_W_1)\n",
        "# print()"
      ],
      "execution_count": null,
      "outputs": []
    },
    {
      "cell_type": "code",
      "metadata": {
        "id": "Uv5Q1BRpoDWa"
      },
      "source": [
        "# #### 각 모델 성능 비교 ####\n",
        "# from xgboost import XGBRegressor\n",
        "# from lightgbm import LGBMRegressor\n",
        "# from sklearn.ensemble import RandomForestRegressor\n",
        "# from sklearn.model_selection import cross_val_score\n",
        "\n",
        "# model_B_1 = RandomForestRegressor(random_state=37)\n",
        "# model_E_1 = RandomForestRegressor(random_state=37)\n",
        "# model_W_1 = RandomForestRegressor(random_state=37)\n",
        "\n",
        "# model_B_1.fit(X_train_B_1,Y_train_B_1)\n",
        "\n",
        "# model_E_1.fit(X_train_E_1,Y_train_E_1)\n",
        "\n",
        "# model_W_1.fit(X_train_W_1,Y_train_W_1)\n",
        "\n",
        "# pred_B_1 = model_B_1.predict(X_test_B_1)\n",
        "\n",
        "# pred_E_1 = model_E_1.predict(X_test_E_1)\n",
        "\n",
        "# pred_W_1 = model_W_1.predict(X_test_W_1)\n",
        "\n",
        "# score_B_1 = mean_squared_error(pred_B_1, df2017['최종 실제타율'])\n",
        "# score_B_1 = np.sqrt(score_B_1)\n",
        "\n",
        "# score_E_1 = mean_squared_error(pred_E_1, df2017['최종 방어율'])\n",
        "# score_E_1 = np.sqrt(score_E_1)\n",
        "\n",
        "# score_W_1 = mean_squared_error(pred_W_1, df2017['최종 승률'])\n",
        "# score_W_1 = np.sqrt(score_W_1)\n",
        "\n",
        "# print(\"#############RandomForestRegressor모델의 오류 ###########\")\n",
        "# print('타율 오류: ',score_B_1)\n",
        "# print('방어율 오류: ',score_E_1)\n",
        "# print('승률 오류: ',score_W_1)\n",
        "# print()"
      ],
      "execution_count": null,
      "outputs": []
    },
    {
      "cell_type": "code",
      "metadata": {
        "id": "UnxBZ1HBMYj-"
      },
      "source": [
        "# # 사용할 모델\n",
        "# from sklearn.ensemble import RandomForestRegressor\n",
        "\n",
        "# # 검증에 사용할 패키지\n",
        "# from sklearn.model_selection import cross_val_score\n",
        "\n",
        "\n",
        "# #### 모델 1 ####\n",
        "# model_B_1 = RandomForestRegressor(\n",
        "#                               random_state=37,\n",
        "#                               n_jobs=-1)\n",
        "\n",
        "# model_E_1 = RandomForestRegressor(\n",
        "#                              random_state=37,\n",
        "#                              n_jobs=-1)\n",
        "\n",
        "# model_W_1 = RandomForestRegressor(\n",
        "#                              random_state=37,\n",
        "#                              n_jobs=-1)\n",
        "\n",
        "# #### 모델 2 ####\n",
        "# model_B_2 = RandomForestRegressor(\n",
        "#                               random_state=37,\n",
        "#                               n_jobs=-1)\n",
        "\n",
        "# model_E_2 = RandomForestRegressor(\n",
        "#                              random_state=37,\n",
        "#                              n_jobs=-1)\n",
        "\n",
        "# model_W_2 = RandomForestRegressor(\n",
        "#                              random_state=37,\n",
        "#                              n_jobs=-1)\n",
        "\n",
        "# #### 모델 3 ####\n",
        "# model_B_3 = RandomForestRegressor(\n",
        "#                               random_state=37,\n",
        "#                               n_jobs=-1)\n",
        "\n",
        "# model_E_3 = RandomForestRegressor(\n",
        "#                              random_state=37,\n",
        "#                              n_jobs=-1)\n",
        "\n",
        "# model_W_3 = RandomForestRegressor(\n",
        "#                              random_state=37,\n",
        "#                              n_jobs=-1)"
      ],
      "execution_count": null,
      "outputs": []
    },
    {
      "cell_type": "code",
      "metadata": {
        "id": "lKeL05rIOIqp"
      },
      "source": [
        "# # 모델 학습\n",
        "\n",
        "# ### 모델 1 ###\n",
        "# model_B_1.fit(X_train_B_1,Y_train_B_1)\n",
        "\n",
        "# model_E_1.fit(X_train_E_1,Y_train_E_1)\n",
        "\n",
        "# model_W_1.fit(X_train_W_1,Y_train_W_1)\n",
        "\n",
        "# ### 모델 2 ###\n",
        "# model_B_2.fit(X_train_B_2,Y_train_B_2)\n",
        "\n",
        "# model_E_2.fit(X_train_E_2,Y_train_E_2)\n",
        "\n",
        "# model_W_2.fit(X_train_W_2,Y_train_W_2)\n",
        "\n",
        "# ### 모델 3 ###\n",
        "# model_B_3.fit(X_train_B_3,Y_train_B_3)\n",
        "\n",
        "# model_E_3.fit(X_train_E_3,Y_train_E_3)\n",
        "\n",
        "# model_W_3.fit(X_train_W_3,Y_train_W_3)"
      ],
      "execution_count": null,
      "outputs": []
    },
    {
      "cell_type": "code",
      "metadata": {
        "id": "-I3Vq4uBOL9K"
      },
      "source": [
        "# # 모델 예측\n",
        "\n",
        "# ### 모델 1 ###\n",
        "# pred_B_1 = model_B_1.predict(X_test_B_1)\n",
        "\n",
        "# pred_E_1 = model_E_1.predict(X_test_E_1)\n",
        "\n",
        "# pred_W_1 = model_W_1.predict(X_test_W_1)\n",
        "\n",
        "# ### 모델 2 ###\n",
        "# pred_B_2 = model_B_2.predict(X_test_B_1)\n",
        "\n",
        "# pred_E_2 = model_E_2.predict(X_test_E_1)\n",
        "\n",
        "# pred_W_2 = model_W_2.predict(X_test_W_1)\n",
        "\n",
        "# ### 모델 3 ###\n",
        "# pred_B_3 = model_B_3.predict(X_test_B_3)\n",
        "\n",
        "# pred_E_3 = model_E_3.predict(X_test_E_3)\n",
        "\n",
        "# pred_W_3 = model_W_3.predict(X_test_W_3)"
      ],
      "execution_count": null,
      "outputs": []
    },
    {
      "cell_type": "markdown",
      "metadata": {
        "id": "Ig4dtZW86Mka"
      },
      "source": [
        "#### 리그 최종 성적"
      ]
    },
    {
      "cell_type": "markdown",
      "metadata": {
        "id": "vqJqOASpGpmg"
      },
      "source": [
        "##### 시각화"
      ]
    },
    {
      "cell_type": "code",
      "metadata": {
        "id": "Vqp4Rb7X-EDC"
      },
      "source": [
        "# # 예측값과 실제값의 시각화\n",
        "# figure, ((ax1), (ax2), (ax3)) = plt.subplots(nrows=3, ncols=1)\n",
        "\n",
        "# figure.set_size_inches(5,12)\n",
        "\n",
        "# ax1.scatter(df2017['최종 실제타율'], pred_B_1)\n",
        "# ax1.set_xlabel('실제값')\n",
        "# ax1.set_ylabel('예측값')\n",
        "# ax1.set_xlim(0.2, 0.35)\n",
        "# ax1.set_ylim(0.2, 0.35)\n",
        "\n",
        "# ax2.scatter(df2017['최종 실제타율'], pred_B_2)\n",
        "# ax2.set_xlabel('실제값')\n",
        "# ax2.set_ylabel('예측값')\n",
        "# ax2.set_xlim(0.2, 0.35)\n",
        "# ax2.set_ylim(0.2, 0.35)\n",
        "\n",
        "# ax3.scatter(df2017['최종 실제타율'], pred_B_3)\n",
        "# ax3.set_xlabel('실제값')\n",
        "# ax3.set_ylabel('예측값')\n",
        "# ax3.set_xlim(0.2, 0.35)\n",
        "# ax3.set_ylim(0.2, 0.35)"
      ],
      "execution_count": null,
      "outputs": []
    },
    {
      "cell_type": "code",
      "metadata": {
        "id": "3RSF2uQ2VAVU"
      },
      "source": [
        "# # 예측값과 실제값의 시각화\n",
        "# figure, ((ax1), (ax2), (ax3)) = plt.subplots(nrows=3, ncols=1)\n",
        "\n",
        "# figure.set_size_inches(5,12)\n",
        "\n",
        "# ax1.scatter(df2017['최종 방어율'], pred_E_1)\n",
        "# ax1.set_xlabel('실제값')\n",
        "# ax1.set_ylabel('예측값')\n",
        "# ax1.set_xlim(3,6)\n",
        "# ax1.set_ylim(3,6)\n",
        "\n",
        "# ax2.scatter(df2017['최종 방어율'], pred_E_2)\n",
        "# ax2.set_xlabel('실제값')\n",
        "# ax2.set_ylabel('예측값')\n",
        "# ax2.set_xlim(3,6)\n",
        "# ax2.set_ylim(3,6)\n",
        "\n",
        "# ax3.scatter(df2017['최종 방어율'], pred_E_3)\n",
        "# ax3.set_xlabel('실제값')\n",
        "# ax3.set_ylabel('예측값')\n",
        "# ax3.set_xlim(3,6)\n",
        "# ax3.set_ylim(3,6)"
      ],
      "execution_count": null,
      "outputs": []
    },
    {
      "cell_type": "code",
      "metadata": {
        "id": "Dt7nBJFNVA4L"
      },
      "source": [
        "# # 예측값과 실제값의 시각화\n",
        "# figure, ((ax1), (ax2), (ax3)) = plt.subplots(nrows=3, ncols=1)\n",
        "\n",
        "# figure.set_size_inches(5,12)\n",
        "\n",
        "# ax1.scatter(df2017['최종 승률'], pred_W_1)\n",
        "# ax1.set_xlabel('실제값')\n",
        "# ax1.set_ylabel('예측값')\n",
        "# ax1.set_xlim(0,1)\n",
        "# ax1.set_ylim(0,1)\n",
        "\n",
        "# ax2.scatter(df2017['최종 승률'], pred_W_2)\n",
        "# ax2.set_xlabel('실제값')\n",
        "# ax2.set_ylabel('예측값')\n",
        "# ax2.set_xlim(0,1)\n",
        "# ax2.set_ylim(0,1)\n",
        "\n",
        "# ax3.scatter(df2017['최종 승률'], pred_W_3)\n",
        "# ax3.set_xlabel('실제값')\n",
        "# ax3.set_ylabel('예측값')\n",
        "# ax3.set_xlim(0,1)\n",
        "# ax3.set_ylim(0,1)"
      ],
      "execution_count": null,
      "outputs": []
    },
    {
      "cell_type": "markdown",
      "metadata": {
        "id": "U5yxOhjK6sHS"
      },
      "source": [
        "##### RMSE 비교\n",
        "\n",
        "타율, 방어율 예측 정확도 우세 : 1번 모델\n",
        "\n",
        "승률 예측 정확도 : 3번 모델"
      ]
    },
    {
      "cell_type": "code",
      "metadata": {
        "id": "RGb3_tLScObS"
      },
      "source": [
        "# # 2017년 데이터 기준 RMSE\n",
        "# from sklearn.metrics import mean_squared_error\n",
        "\n",
        "# #### 1번 모델 ####\n",
        "# score_B_1 = mean_squared_error(pred_B_1, df2017['최종 실제타율'])\n",
        "# score_B_1 = np.sqrt(score_B_1)\n",
        "\n",
        "# score_E_1 = mean_squared_error(pred_E_1, df2017['최종 방어율'])\n",
        "# score_E_1 = np.sqrt(score_E_1)\n",
        "\n",
        "# score_W_1 = mean_squared_error(pred_W_1, df2017['최종 승률'])\n",
        "# score_W_1 = np.sqrt(score_W_1)\n",
        "\n",
        "# #### 2번 모델 ####\n",
        "# score_B_2 = mean_squared_error(pred_B_2, df2017['최종 실제타율'])\n",
        "# score_B_2 = np.sqrt(score_B_2)\n",
        "\n",
        "# score_E_2 = mean_squared_error(pred_E_2, df2017['최종 방어율'])\n",
        "# score_E_2 = np.sqrt(score_E_2)\n",
        "\n",
        "# score_W_2 = mean_squared_error(pred_W_2, df2017['최종 승률'])\n",
        "# score_W_2 = np.sqrt(score_W_2)\n",
        "\n",
        "# #### 3번 모델 ####\n",
        "# score_B_3 = mean_squared_error(pred_B_3, df2017['최종 실제타율'])\n",
        "# score_B_3 = np.sqrt(score_B_3)\n",
        "\n",
        "# score_E_3 = mean_squared_error(pred_E_3, df2017['최종 방어율'])\n",
        "# score_E_3 = np.sqrt(score_E_3)\n",
        "\n",
        "# score_W_3 = mean_squared_error(pred_W_3, df2017['최종 승률'])\n",
        "# score_W_3 = np.sqrt(score_W_3)\n",
        "\n",
        "# print(\"############# 1번 모델의 오류 ###########\")\n",
        "# print('타율 오류: ',score_B_1)\n",
        "# print('방어율 오류: ',score_E_1)\n",
        "# print('승률 오류: ',score_W_1)\n",
        "# print()\n",
        "# print(\"############# 2번 모델의 오류 ###########\")\n",
        "# print('타율 오류: ',score_B_2)\n",
        "# print('방어율 오류: ',score_E_2)\n",
        "# print('승률 오류: ',score_W_2)\n",
        "# print()\n",
        "# print(\"############# 3번 모델의 오류 ###########\")\n",
        "# print('타율 오류: ',score_B_3)\n",
        "# print('방어율 오류: ',score_E_3)\n",
        "# print('승률 오류: ',score_W_3)\n",
        "# print()"
      ],
      "execution_count": null,
      "outputs": []
    },
    {
      "cell_type": "code",
      "metadata": {
        "id": "QUkrR5Qw-J2i"
      },
      "source": [
        "# submission = pd.DataFrame()\n",
        "# submission['팀명'] = df2017['2017'].values\n",
        "# submission['팀코드'] = df2017['팀코드'].values\n",
        "\n",
        "# submission['최종 실제타율'] = df2017['최종 실제타율'].values\n",
        "# submission['모델1 예측 타율'] = pred_B_1\n",
        "# submission['모델2 예측 타율'] = pred_B_2\n",
        "# submission['모델3 예측 타율'] = pred_B_3\n",
        "\n",
        "# submission['최종 방어율'] = df2017['최종 방어율'].values\n",
        "# submission['모델1 예측 방어율'] = pred_E_1\n",
        "# submission['모델2 예측 방어율'] = pred_E_2\n",
        "# submission['모델3 예측 방어율'] = pred_E_3\n",
        "\n",
        "# submission['최종 승률'] = df2017['최종 승률'].values\n",
        "# submission['모델1 예측 승률'] = pred_W_1\n",
        "# submission['모델2 예측 승률'] = pred_W_2\n",
        "# submission['모델3 예측 승률'] = pred_W_3"
      ],
      "execution_count": null,
      "outputs": []
    },
    {
      "cell_type": "markdown",
      "metadata": {
        "id": "voW_nu43-1n9"
      },
      "source": [
        "#### 마지막 20경기 성적\n",
        "\n",
        "공식의 가정은 “야구라는 스포츠는 통계적으로 평균에 근접해지는 성향을 보인다. 따라서 마지막 20경기는 최종 리그 성적에 도움이 되 는 값에 근접해질 것이다.” 이다\n",
        "\n",
        "X = 전체 리그 성적\n",
        "\n",
        "Y = 마지막 20경기 이전의 리그 성적\n",
        "\n",
        "Z = 마지막 20경기의 리그 성적 (우리가 구하고자 하는 값)\n",
        "\n",
        "X * 전체 경기 수 = Y * (전체 경기 수 - 20) + Z * 20\n",
        "\n",
        "따라서 Z를 구하면\n",
        "\n",
        "Z = (X * 전체 경기 수 - Y * (전체 경기 수 - 20)) / 20"
      ]
    },
    {
      "cell_type": "code",
      "metadata": {
        "id": "s96Dp0ST83yn"
      },
      "source": [
        "# submission = submission.sort_values('팀코드',ascending=False)\n",
        "# New_df2017 = df2017.sort_values('팀코드',ascending=False)\n",
        "# submission['총 리그 경기수'] = New_df2017['경기'].values\n",
        "# submission['총 리그 경기수 - 20'] = New_df2017['총 리그 경기수 - 20'].values\n",
        "# submission['마지막 20경기 이전 실제타율'] = New_df2017['마지막 20경기 이전 실제타율'].values\n",
        "# submission['마지막 20경기 이전 방어율'] = New_df2017['마지막 20경기 이전 방어율'].values\n",
        "# submission['마지막 20경기 이전 승률'] = New_df2017['마지막 20경기 이전 승률'].values\n",
        "# submission['마지막 20경기 실제타율'] = New_df2017['마지막 20경기 실제타율'].values\n",
        "# submission['마지막 20경기 방어율'] = New_df2017['마지막 20경기 방어율'].values\n",
        "# submission['마지막 20경기 승률'] = New_df2017['마지막 20경기 승률'].values\n",
        "\n",
        "# submission[\"모델1 마지막 20경기 예측 타율\"] = (submission['모델1 예측 타율'].values * New_df2017['경기'].values- New_df2017['마지막 20경기 이전 실제타율'].values * New_df2017['총 리그 경기수 - 20'].values) / 20\n",
        "# submission[\"모델1 마지막 20경기 예측 방어율\"] = (submission['모델1 예측 방어율'].values * New_df2017['경기'].values - New_df2017['마지막 20경기 이전 방어율'].values * New_df2017['총 리그 경기수 - 20'].values) / 20\n",
        "# submission[\"모델1 마지막 20경기 예측 승률\"] = (submission['모델1 예측 승률'].values * New_df2017['경기'].values - New_df2017['마지막 20경기 이전 승률'].values * New_df2017['총 리그 경기수 - 20'].values) / 20\n",
        "\n",
        "# submission[\"모델2 마지막 20경기 예측 타율\"] = (submission['모델2 예측 타율'].values * New_df2017['경기'].values- New_df2017['마지막 20경기 이전 실제타율'].values * New_df2017['총 리그 경기수 - 20'].values) / 20\n",
        "# submission[\"모델2 마지막 20경기 예측 방어율\"] = (submission['모델2 예측 방어율'].values * New_df2017['경기'].values - New_df2017['마지막 20경기 이전 방어율'].values * New_df2017['총 리그 경기수 - 20'].values) / 20\n",
        "# submission[\"모델2 마지막 20경기 예측 승률\"] = (submission['모델2 예측 승률'].values * New_df2017['경기'].values - New_df2017['마지막 20경기 이전 승률'].values * New_df2017['총 리그 경기수 - 20'].values) / 20\n",
        "\n",
        "# submission[\"모델3 마지막 20경기 예측 타율\"] = (submission['모델3 예측 타율'].values * New_df2017['경기'].values- New_df2017['마지막 20경기 이전 실제타율'].values * New_df2017['총 리그 경기수 - 20'].values) / 20\n",
        "# submission[\"모델3 마지막 20경기 예측 방어율\"] = (submission['모델3 예측 방어율'].values * New_df2017['경기'].values - New_df2017['마지막 20경기 이전 방어율'].values * New_df2017['총 리그 경기수 - 20'].values) / 20\n",
        "# submission[\"모델3 마지막 20경기 예측 승률\"] = (submission['모델3 예측 승률'].values * New_df2017['경기'].values - New_df2017['마지막 20경기 이전 승률'].values * New_df2017['총 리그 경기수 - 20'].values) / 20"
      ],
      "execution_count": null,
      "outputs": []
    },
    {
      "cell_type": "markdown",
      "metadata": {
        "id": "QcyPca-TGuyO"
      },
      "source": [
        "##### 시각화"
      ]
    },
    {
      "cell_type": "code",
      "metadata": {
        "id": "vi7bHvQ7Gi_S"
      },
      "source": [
        "# # 예측값과 실제값의 시각화\n",
        "# figure, ((ax1), (ax2), (ax3)) = plt.subplots(nrows=3, ncols=1)\n",
        "\n",
        "# figure.set_size_inches(5,12)\n",
        "\n",
        "# ax1.scatter(submission['마지막 20경기 실제타율'], submission[\"모델1 마지막 20경기 예측 타율\"])\n",
        "# ax1.set_xlabel('실제값')\n",
        "# ax1.set_ylabel('예측값')\n",
        "# ax1.set_xlim(0.2, 0.35)\n",
        "# ax1.set_ylim(0.2, 0.35)\n",
        "\n",
        "# ax2.scatter(submission['마지막 20경기 실제타율'], submission[\"모델2 마지막 20경기 예측 타율\"])\n",
        "# ax2.set_xlabel('실제값')\n",
        "# ax2.set_ylabel('예측값')\n",
        "# ax2.set_xlim(0.2, 0.35)\n",
        "# ax2.set_ylim(0.2, 0.35)\n",
        "\n",
        "# ax3.scatter(submission['마지막 20경기 실제타율'], submission[\"모델3 마지막 20경기 예측 타율\"])\n",
        "# ax3.set_xlabel('실제값')\n",
        "# ax3.set_ylabel('예측값')\n",
        "# ax3.set_xlim(0.2, 0.35)\n",
        "# ax3.set_ylim(0.2, 0.35)"
      ],
      "execution_count": null,
      "outputs": []
    },
    {
      "cell_type": "code",
      "metadata": {
        "id": "MwS2LDgfGnC7"
      },
      "source": [
        "# # 예측값과 실제값의 시각화\n",
        "# figure, ((ax1), (ax2), (ax3)) = plt.subplots(nrows=3, ncols=1)\n",
        "\n",
        "# figure.set_size_inches(5,12)\n",
        "\n",
        "# ax1.scatter(submission['마지막 20경기 방어율'], submission[\"모델1 마지막 20경기 예측 방어율\"])\n",
        "# ax1.set_xlabel('실제값')\n",
        "# ax1.set_ylabel('예측값')\n",
        "# ax1.set_xlim(3,6)\n",
        "# ax1.set_ylim(3,6)\n",
        "\n",
        "# ax2.scatter(submission['마지막 20경기 방어율'], submission[\"모델2 마지막 20경기 예측 방어율\"])\n",
        "# ax2.set_xlabel('실제값')\n",
        "# ax2.set_ylabel('예측값')\n",
        "# ax2.set_xlim(3,6)\n",
        "# ax2.set_ylim(3,6)\n",
        "\n",
        "# ax3.scatter(submission['마지막 20경기 방어율'], submission[\"모델3 마지막 20경기 예측 방어율\"])\n",
        "# ax3.set_xlabel('실제값')\n",
        "# ax3.set_ylabel('예측값')\n",
        "# ax3.set_xlim(3,6)\n",
        "# ax3.set_ylim(3,6)"
      ],
      "execution_count": null,
      "outputs": []
    },
    {
      "cell_type": "code",
      "metadata": {
        "id": "Utvugb_9Gxog"
      },
      "source": [
        "# # 예측값과 실제값의 시각화\n",
        "# figure, ((ax1), (ax2), (ax3)) = plt.subplots(nrows=3, ncols=1)\n",
        "\n",
        "# figure.set_size_inches(5,12)\n",
        "\n",
        "# ax1.scatter(submission['마지막 20경기 승률'], submission[\"모델1 마지막 20경기 예측 승률\"])\n",
        "# ax1.set_xlabel('실제값')\n",
        "# ax1.set_ylabel('예측값')\n",
        "# ax1.set_xlim(0,1)\n",
        "# ax1.set_ylim(0,1)\n",
        "\n",
        "# ax2.scatter(submission['마지막 20경기 승률'], submission[\"모델2 마지막 20경기 예측 승률\"])\n",
        "# ax2.set_xlabel('실제값')\n",
        "# ax2.set_ylabel('예측값')\n",
        "# ax2.set_xlim(0,1)\n",
        "# ax2.set_ylim(0,1)\n",
        "\n",
        "# ax3.scatter(submission['마지막 20경기 승률'], submission[\"모델3 마지막 20경기 예측 승률\"])\n",
        "# ax3.set_xlabel('실제값')\n",
        "# ax3.set_ylabel('예측값')\n",
        "# ax3.set_xlim(0,1)\n",
        "# ax3.set_ylim(0,1)"
      ],
      "execution_count": null,
      "outputs": []
    },
    {
      "cell_type": "markdown",
      "metadata": {
        "id": "_k0MxnZP6ytl"
      },
      "source": [
        "##### RMSE 비교\n",
        "\n",
        "타율, 방어율 예측 정확도 우세 : 1번 모델\n",
        "\n",
        "승률 예측 정확도 : 3번 모델"
      ]
    },
    {
      "cell_type": "code",
      "metadata": {
        "id": "Asa8Rtq43PkA"
      },
      "source": [
        "# from sklearn.metrics import mean_squared_error\n",
        "\n",
        "# #### 1번 모델 ####\n",
        "# score_B_1 = mean_squared_error(submission[\"모델1 마지막 20경기 예측 타율\"], submission['마지막 20경기 실제타율'])\n",
        "# score_B_1 = np.sqrt(score_B_1)\n",
        "\n",
        "# score_E_1 = mean_squared_error(submission[\"모델1 마지막 20경기 예측 방어율\"], submission['마지막 20경기 방어율'])\n",
        "# score_E_1 = np.sqrt(score_E_1)\n",
        "\n",
        "# score_W_1 = mean_squared_error(submission[\"모델1 마지막 20경기 예측 승률\"], submission['마지막 20경기 승률'])\n",
        "# score_W_1 = np.sqrt(score_W_1)\n",
        "\n",
        "# #### 2번 모델 ####\n",
        "# score_B_2 = mean_squared_error(submission[\"모델2 마지막 20경기 예측 타율\"], submission['마지막 20경기 실제타율'])\n",
        "# score_B_2 = np.sqrt(score_B_2)\n",
        "\n",
        "# score_E_2 = mean_squared_error(submission[\"모델2 마지막 20경기 예측 방어율\"], submission['마지막 20경기 방어율'])\n",
        "# score_E_2 = np.sqrt(score_E_2)\n",
        "\n",
        "# score_W_2 = mean_squared_error(submission[\"모델2 마지막 20경기 예측 승률\"], submission['마지막 20경기 승률'])\n",
        "# score_W_2 = np.sqrt(score_W_2)\n",
        "\n",
        "# #### 3번 모델 ####\n",
        "# score_B_3 = mean_squared_error(submission[\"모델3 마지막 20경기 예측 타율\"], submission['마지막 20경기 실제타율'])\n",
        "# score_B_3 = np.sqrt(score_B_3)\n",
        "\n",
        "# score_E_3 = mean_squared_error(submission[\"모델3 마지막 20경기 예측 방어율\"], submission['마지막 20경기 방어율'])\n",
        "# score_E_3 = np.sqrt(score_E_3)\n",
        "\n",
        "# score_W_3 = mean_squared_error(submission[\"모델3 마지막 20경기 예측 승률\"], submission['마지막 20경기 승률'])\n",
        "# score_W_3 = np.sqrt(score_W_3)\n",
        "\n",
        "# print(\"############# 1번 모델의 오류 ###########\")\n",
        "# print('타율 오류: ',score_B_1)\n",
        "# print('방어율 오류: ',score_E_1)\n",
        "# print('승률 오류: ',score_W_1)\n",
        "# print()\n",
        "# print(\"############# 2번 모델의 오류 ###########\")\n",
        "# print('타율 오류: ',score_B_2)\n",
        "# print('방어율 오류: ',score_E_2)\n",
        "# print('승률 오류: ',score_W_2)\n",
        "# print()\n",
        "# print(\"############# 3번 모델의 오류 ###########\")\n",
        "# print('타율 오류: ',score_B_3)\n",
        "# print('방어율 오류: ',score_E_3)\n",
        "# print('승률 오류: ',score_W_3)\n",
        "# print()"
      ],
      "execution_count": null,
      "outputs": []
    },
    {
      "cell_type": "markdown",
      "metadata": {
        "id": "ib7KF6RK-Eap"
      },
      "source": [
        "# 최종 결과"
      ]
    },
    {
      "cell_type": "markdown",
      "metadata": {
        "id": "1OlnKsNTRK6B"
      },
      "source": [
        "## 2020년 리그 성향 파악\n",
        "- 2020년과 평균 득점이 유사한 리그\n",
        " - [ '2010', '2009', '2001', '2015', '2017', '2018', '2016', '2014' ]"
      ]
    },
    {
      "cell_type": "code",
      "metadata": {
        "id": "WJ6PtWNNWcg5"
      },
      "source": [
        "# 95% 신뢰구간 공식\n",
        "import numpy as np\n",
        "import scipy.stats\n",
        "def mean_confidence_interval(data, confidence=0.95):\n",
        "    a = 1.0 * np.array(data)\n",
        "    n = len(a)\n",
        "    m, se = np.mean(a), scipy.stats.sem(a)\n",
        "    h = se * scipy.stats.t.ppf((1 + confidence) / 2., n-1)\n",
        "    return m, m-h, m+h"
      ],
      "execution_count": null,
      "outputs": []
    },
    {
      "cell_type": "code",
      "metadata": {
        "id": "9BUNmfmWQN7-",
        "colab": {
          "base_uri": "https://localhost:8080/",
          "height": 125
        },
        "outputId": "56a2b32d-7283-405f-8720-658087f1d67f"
      },
      "source": [
        "# 2020년 리그이 성향 파악\n",
        "League_df_2020.mean()[['방어율','실제타율','OPS','평균 득점', '평균 실점']]"
      ],
      "execution_count": null,
      "outputs": [
        {
          "output_type": "execute_result",
          "data": {
            "text/plain": [
              "방어율     4.8167545\n",
              "실제타율    0.2734853\n",
              "OPS     0.7581779\n",
              "평균 득점   5.2205868\n",
              "평균 실점   5.2176026\n",
              "dtype: float64"
            ]
          },
          "metadata": {
            "tags": []
          },
          "execution_count": 62
        }
      ]
    },
    {
      "cell_type": "code",
      "metadata": {
        "id": "X1JsOnw0QGB0",
        "colab": {
          "base_uri": "https://localhost:8080/",
          "height": 431
        },
        "outputId": "a34d9fbb-0951-4e2b-a9d5-d6ea812749e7"
      },
      "source": [
        "# 2020년 리그의 평균득점 신뢰구간 구하기\n",
        "a , b, c = mean_confidence_interval(League_df_2020['평균 득점'])\n",
        "print(\"2020년 평균 득점은\",b,\"~\",a,\"~\",c , \"사이에 존재한다.\")\n",
        "print()\n",
        "\n",
        "# 년도별 리그의 평균 값 파악\n",
        "League_df.groupby('년도').mean()\n",
        "League_df.groupby('년도').mean().sort_values('최종 평균 득점')['최종 평균 득점']"
      ],
      "execution_count": null,
      "outputs": [
        {
          "output_type": "stream",
          "text": [
            "2020년 평균 득점은 4.6857747188360275 ~ 5.220586839376168 ~ 5.755398959916308 사이에 존재한다.\n",
            "\n"
          ],
          "name": "stdout"
        },
        {
          "output_type": "execute_result",
          "data": {
            "text/plain": [
              "년도\n",
              "2006   3.9494048\n",
              "2012   4.1165414\n",
              "2007   4.2718254\n",
              "2008   4.4861111\n",
              "2011   4.5319549\n",
              "2019   4.5472222\n",
              "2005   4.5892857\n",
              "2002   4.6353383\n",
              "2003   4.6362782\n",
              "2013   4.6467014\n",
              "2004   4.6898496\n",
              "2010   4.9821429\n",
              "2009   5.1616541\n",
              "2001   5.1757519\n",
              "2015   5.2763889\n",
              "2017   5.3347222\n",
              "2018   5.5513889\n",
              "2016   5.6069444\n",
              "2014   5.6223958\n",
              "Name: 최종 평균 득점, dtype: float64"
            ]
          },
          "metadata": {
            "tags": []
          },
          "execution_count": 63
        }
      ]
    },
    {
      "cell_type": "code",
      "metadata": {
        "id": "II0f_ZdxQaGj"
      },
      "source": [
        "# 2020년과 평균 득점이 유사한 리그 (2001 ~ 2019) -> 타율 + 방어율 예측 사용\n",
        "year = ['2010', '2009', '2001', '2015', '2017', '2018', '2016', '2014' ]\n",
        "Score_League_df_2020 = pd.DataFrame()\n",
        "for i in year:\n",
        "  df = League_df[League_df['년도'] == i]\n",
        "  Score_League_df_2020 = Score_League_df_2020.append(df, ignore_index=True)\n",
        "\n",
        "# 2020년과 평균 득점이 유사한 리그 (2016 ~ 2019) -> 승률 예측 사용\n",
        "year = ['2016', '2017', '2018']\n",
        "Score_League_Befor_df_2020 = pd.DataFrame()\n",
        "for i in year:\n",
        "  df = League_df_Befor_2016_2019[League_df_Befor_2016_2019['년도'] == i]\n",
        "  Score_League_Befor_df_2020 = Score_League_Befor_df_2020.append(df, ignore_index=True)"
      ],
      "execution_count": null,
      "outputs": []
    },
    {
      "cell_type": "markdown",
      "metadata": {
        "id": "GugLj5brDkQp"
      },
      "source": [
        "## 상관관계 파악"
      ]
    },
    {
      "cell_type": "code",
      "metadata": {
        "id": "rk5K2Em-EEtc"
      },
      "source": [
        "Score_League_df_2020_corr = Score_League_df_2020.corr()\n",
        "Score_League_Befor_df_2020_corr = Score_League_Befor_df_2020.corr()"
      ],
      "execution_count": null,
      "outputs": []
    },
    {
      "cell_type": "markdown",
      "metadata": {
        "id": "bkmcQg7ED0VB"
      },
      "source": [
        "### 타율"
      ]
    },
    {
      "cell_type": "code",
      "metadata": {
        "id": "fTHthLETEOy4",
        "colab": {
          "base_uri": "https://localhost:8080/",
          "height": 575
        },
        "outputId": "1bd02e2c-a318-4e27-d5bf-d959953d7703"
      },
      "source": [
        "print(Score_League_df_2020_corr.sort_values(by=\"최종 실제타율\",ascending=False)['최종 실제타율'].head(30))"
      ],
      "execution_count": null,
      "outputs": [
        {
          "output_type": "stream",
          "text": [
            "최종 실제타율        1.0000000\n",
            "타율             0.9997702\n",
            "최종 평균 안타       0.9802158\n",
            "최종 평균 RC       0.8807945\n",
            "최종 RC/27       0.8728072\n",
            "최종 GPA         0.8590426\n",
            "최종 평균 득점       0.8554438\n",
            "최종 RC          0.8489589\n",
            "최종 OPS         0.8458722\n",
            "최종 RawEqA      0.8354937\n",
            "최종 BABIP       0.8243854\n",
            "최종 평균 타수       0.8142912\n",
            "최종 평균 타자       0.7924859\n",
            "최종 출루율         0.7882173\n",
            "최종 장타율         0.7789670\n",
            "최종 wOBA        0.7201285\n",
            "최종 2002RC      0.7182749\n",
            "승률             0.4978649\n",
            "최종 승률          0.4786349\n",
            "최종 평균 상대 타수    0.4719969\n",
            "최종 평균 득점권 타율   0.4006594\n",
            "최종 평균 홈런       0.3672318\n",
            "최종 피BABIP      0.2765555\n",
            "최종 평균 삼진       0.2743141\n",
            "최종 평균 피안타      0.2559842\n",
            "최종 피RC         0.1840609\n",
            "최종 피타율         0.1568489\n",
            "최종 DIPS        0.1567295\n",
            "최종 피장타율        0.1320407\n",
            "최종 피평균 RC      0.1287325\n",
            "Name: 최종 실제타율, dtype: float64\n"
          ],
          "name": "stdout"
        }
      ]
    },
    {
      "cell_type": "markdown",
      "metadata": {
        "id": "YftnOpY7D22n"
      },
      "source": [
        "### 방어율"
      ]
    },
    {
      "cell_type": "code",
      "metadata": {
        "id": "U-gVOpmgEFZf",
        "colab": {
          "base_uri": "https://localhost:8080/",
          "height": 575
        },
        "outputId": "f1564314-efac-4f56-de22-95edff450733"
      },
      "source": [
        "print(Score_League_df_2020_corr.sort_values(by=\"최종 방어율\",ascending=False)['최종 방어율'].head(30))"
      ],
      "execution_count": null,
      "outputs": [
        {
          "output_type": "stream",
          "text": [
            "최종 방어율          1.0000000\n",
            "평균자책점           0.9999831\n",
            "최종 평균 자책점       0.9981284\n",
            "최종 평균 실점        0.9868318\n",
            "최종 피GPA         0.9448332\n",
            "최종 피OPS         0.9447278\n",
            "최종 피평균 RC       0.9444664\n",
            "최종 피RC/27       0.9443544\n",
            "최종 피RawEqA      0.9292386\n",
            "최종 피장타율         0.8948571\n",
            "최종 피wOBA        0.8770101\n",
            "최종 피타율          0.8728219\n",
            "최종 피출루율         0.8484839\n",
            "최종 피RC          0.8469824\n",
            "최종 DIPS         0.8469410\n",
            "최종 평균 피안타       0.8356236\n",
            "최종 피2002RC      0.8192471\n",
            "최종 평균 상대 타자     0.7899734\n",
            "최종 ERC          0.7215390\n",
            "최종 피BABIP       0.7103254\n",
            "최종 평균 투수 WHIP   0.5981168\n",
            "최종 평균 피홈런       0.5849626\n",
            "최종 평균 상대 타수     0.5763913\n",
            "최종 평균 타수        0.2969922\n",
            "최종 평균 투수 4구     0.2346371\n",
            "최종 평균 득점권 타율    0.2282472\n",
            "최종 BABIP        0.2022821\n",
            "최종 평균 도루허용      0.1669184\n",
            "최종 평균 안타        0.1475903\n",
            "최종 평균 도루견제성공    0.0906072\n",
            "Name: 최종 방어율, dtype: float64\n"
          ],
          "name": "stdout"
        }
      ]
    },
    {
      "cell_type": "markdown",
      "metadata": {
        "id": "feT6S-NWD6hY"
      },
      "source": [
        "### 승률"
      ]
    },
    {
      "cell_type": "code",
      "metadata": {
        "id": "lgecfnimEGWb",
        "colab": {
          "base_uri": "https://localhost:8080/",
          "height": 575
        },
        "outputId": "dd81f129-1101-4ad6-f35e-fd57e4397163"
      },
      "source": [
        "print(abs(Score_League_Befor_df_2020_corr).sort_values(by=\"최종 승률\",ascending=False)['최종 승률'].head(30))"
      ],
      "execution_count": null,
      "outputs": [
        {
          "output_type": "stream",
          "text": [
            "최종 승률                   1.0000000\n",
            "마지막 20경기 이전 승률          0.9781477\n",
            "최종 방어율                  0.7914305\n",
            "마지막 20경기 이전 wOBA        0.7817121\n",
            "마지막 20경기 이전 GPA         0.7716742\n",
            "마지막 20경기 이전 RC/27       0.7585972\n",
            "마지막 20경기 이전 RawEqA      0.7521293\n",
            "마지막 20경기 이전 평균 실점       0.7503552\n",
            "마지막 20경기 이전 RC          0.7494253\n",
            "마지막 20경기 이전 평균 RC       0.7494253\n",
            "마지막 20경기 이전 OPS         0.7473922\n",
            "마지막 20경기 이전 평균 득점       0.7396441\n",
            "마지막 20경기 이전 출루율         0.7370910\n",
            "마지막 20경기 이전 방어율         0.7363552\n",
            "마지막 20경기 이전 피RawEqA     0.7125731\n",
            "마지막 20경기 이전 피RC/27      0.7095628\n",
            "마지막 20경기 이전 피장타율        0.7092608\n",
            "마지막 20경기 이전 피OPS        0.7085463\n",
            "마지막 20경기 이전 평균 자책점      0.7008870\n",
            "마지막 20경기 이전 2002RC      0.6957906\n",
            "마지막 20경기 이전 피GPA        0.6873791\n",
            "마지막 20경기 이전 피평균 RC      0.6834533\n",
            "마지막 20경기 이전 피RC         0.6834533\n",
            "최종 실제타율                 0.6448276\n",
            "마지막 20경기 이전 장타율         0.6419283\n",
            "마지막 20경기 이전 피wOBA       0.6281301\n",
            "마지막 20경기 이전 피타율         0.6125616\n",
            "마지막 20경기 이전 실제타율        0.6043990\n",
            "마지막 20경기 이전 평균 득점권 타율   0.5964475\n",
            "마지막 20경기 이전 평균 타자       0.5928501\n",
            "Name: 최종 승률, dtype: float64\n"
          ],
          "name": "stdout"
        }
      ]
    },
    {
      "cell_type": "markdown",
      "metadata": {
        "id": "AKSi7iXSDsPd"
      },
      "source": [
        "## 최적의 변수 찾기"
      ]
    },
    {
      "cell_type": "markdown",
      "metadata": {
        "id": "1tG6InGGD__R"
      },
      "source": [
        "### 타율"
      ]
    },
    {
      "cell_type": "code",
      "metadata": {
        "id": "XSnJKInqE3UA",
        "colab": {
          "base_uri": "https://localhost:8080/",
          "height": 611
        },
        "outputId": "84a7d605-8149-49df-ab25-0eb46eeed78e"
      },
      "source": [
        "from patsy import dmatrices\n",
        "import statsmodels.api as sm # 다중회귀분석 모델\n",
        "from statsmodels.stats.outliers_influence import variance_inflation_factor # VIF 계산 모델\n",
        "a = pd.DataFrame()\n",
        "\n",
        "# columns = ['최종 실제타율', '최종 평균 안타', '최종 평균 RC', '최종 RC/27', '최종 GPA',\n",
        "#            '최종 평균 득점', '최종 OPS', '최종 RawEqA', '최종 BABIP', '최종 평균 타수']\n",
        "\n",
        "# columns_set = ['A', 'B', 'C', 'D', 'E',\n",
        "#                'F', 'G', 'H', 'I', 'J']\n",
        "\n",
        "columns = ['최종 실제타율', '최종 평균 안타', '최종 GPA',\n",
        "           '최종 평균 득점', '최종 OPS', '최종 BABIP', '최종 평균 타수',\n",
        "           '최종 장타율']\n",
        "\n",
        "columns_set = ['A', 'B', 'C', 'D', 'E',\n",
        "               'F', 'G', 'H']\n",
        "\n",
        "b = 0\n",
        "for i in columns:\n",
        "  a[columns_set[b]] = Score_League_df_2020[columns[b]].values\n",
        "  b = b + 1\n",
        "\n",
        "# columns = ['Intercept', '최종 평균 안타', '최종 평균 RC', '최종 RC/27', '최종 GPA',\n",
        "#            '최종 평균 득점', '최종 OPS', '최종 RawEqA', '최종 BABIP', '최종 평균 타수']\n",
        "\n",
        "# columns_set = ['B', 'C', 'D', 'E',\n",
        "#                'F', 'G', 'H', 'I', 'J']\n",
        "\n",
        "columns = ['Intercept', '최종 평균 안타', '최종 GPA',\n",
        "           '최종 평균 득점', '최종 OPS', '최종 BABIP', '최종 평균 타수',\n",
        "           '최종 장타율']\n",
        "\n",
        "columns_set = ['B', 'C', 'D', 'E',\n",
        "               'F', 'G', 'H']\n",
        "\n",
        "features = '+'.join(columns_set)\n",
        "features = 'A ~'+features\n",
        "\n",
        "y, X = dmatrices(features, data = a, return_type='dataframe')\n",
        "\n",
        "result = sm.OLS(y, X).fit()\n",
        "\n",
        "X.columns = columns\n",
        "print(result.summary())"
      ],
      "execution_count": null,
      "outputs": [
        {
          "output_type": "stream",
          "text": [
            "                            OLS Regression Results                            \n",
            "==============================================================================\n",
            "Dep. Variable:                      A   R-squared:                       0.999\n",
            "Model:                            OLS   Adj. R-squared:                  0.999\n",
            "Method:                 Least Squares   F-statistic:                 1.731e+04\n",
            "Date:                Mon, 21 Sep 2020   Prob (F-statistic):          1.87e-103\n",
            "Time:                        03:17:17   Log-Likelihood:                 487.36\n",
            "No. Observations:                  73   AIC:                            -960.7\n",
            "Df Residuals:                      66   BIC:                            -944.7\n",
            "Df Model:                           6                                         \n",
            "Covariance Type:            nonrobust                                         \n",
            "==============================================================================\n",
            "                 coef    std err          t      P>|t|      [0.025      0.975]\n",
            "------------------------------------------------------------------------------\n",
            "Intercept      0.2702      0.005     49.717      0.000       0.259       0.281\n",
            "최종 평균 안타       0.0291      0.000     89.366      0.000       0.028       0.030\n",
            "최종 GPA         0.0074      0.004      2.014      0.048    6.35e-05       0.015\n",
            "최종 평균 득점      -0.0007      0.000     -2.900      0.005      -0.001      -0.000\n",
            "최종 OPS         0.0128      0.006      2.268      0.027       0.002       0.024\n",
            "최종 BABIP      -0.0014      0.006     -0.240      0.811      -0.013       0.010\n",
            "최종 평균 타수      -0.0080      0.000    -46.403      0.000      -0.008      -0.008\n",
            "최종 장타율        -0.0083      0.006     -1.324      0.190      -0.021       0.004\n",
            "==============================================================================\n",
            "Omnibus:                       59.057   Durbin-Watson:                   1.987\n",
            "Prob(Omnibus):                  0.000   Jarque-Bera (JB):              302.548\n",
            "Skew:                          -2.442   Prob(JB):                     2.01e-66\n",
            "Kurtosis:                      11.696   Cond. No.                     9.84e+17\n",
            "==============================================================================\n",
            "\n",
            "Warnings:\n",
            "[1] Standard Errors assume that the covariance matrix of the errors is correctly specified.\n",
            "[2] The smallest eigenvalue is 9.9e-32. This might indicate that there are\n",
            "strong multicollinearity problems or that the design matrix is singular.\n"
          ],
          "name": "stdout"
        }
      ]
    },
    {
      "cell_type": "code",
      "metadata": {
        "id": "8ewR_pZhJGR7",
        "colab": {
          "base_uri": "https://localhost:8080/",
          "height": 333
        },
        "outputId": "12427a93-748c-4c66-b7bf-603f6395937d"
      },
      "source": [
        "from patsy import dmatrices\n",
        "import statsmodels.api as sm # 다중회귀분석 모델\n",
        "from statsmodels.stats.outliers_influence import variance_inflation_factor # VIF 계산 모델\n",
        "a = pd.DataFrame()\n",
        "\n",
        "columns = ['최종 실제타율', '최종 평균 안타', '최종 GPA',\n",
        "           '최종 평균 득점', '최종 OPS', '최종 BABIP', '최종 평균 타수',\n",
        "           '최종 장타율']\n",
        "\n",
        "columns_set = ['A', 'B', 'C', 'D', 'E',\n",
        "               'F', 'G', 'H']\n",
        "\n",
        "b = 0\n",
        "for i in columns:\n",
        "  a[columns_set[b]] = Score_League_df_2020[columns[b]].values\n",
        "  b = b + 1\n",
        "\n",
        "columns = ['Intercept', '최종 평균 안타', '최종 GPA',\n",
        "           '최종 평균 득점', '최종 OPS', '최종 BABIP', '최종 평균 타수',\n",
        "           '최종 장타율']\n",
        "\n",
        "columns_set = ['B', 'C', 'D', 'E',\n",
        "               'F', 'G', 'H']\n",
        "\n",
        "features = '+'.join(columns_set)\n",
        "features = 'A ~'+features\n",
        "\n",
        "y, X = dmatrices(features, data = a, return_type='dataframe')\n",
        "\n",
        "vif = pd.DataFrame()\n",
        "vif['Vif Factor'] = [variance_inflation_factor(X.values, i) for i in range(X.shape[1])]\n",
        "X.columns = columns\n",
        "vif['features'] = X.columns\n",
        "\n",
        "vif"
      ],
      "execution_count": null,
      "outputs": [
        {
          "output_type": "stream",
          "text": [
            "/usr/local/lib/python3.6/dist-packages/statsmodels/stats/outliers_influence.py:185: RuntimeWarning: divide by zero encountered in double_scalars\n",
            "  vif = 1. / (1. - r_squared_i)\n"
          ],
          "name": "stderr"
        },
        {
          "output_type": "execute_result",
          "data": {
            "text/html": [
              "<div>\n",
              "<style scoped>\n",
              "    .dataframe tbody tr th:only-of-type {\n",
              "        vertical-align: middle;\n",
              "    }\n",
              "\n",
              "    .dataframe tbody tr th {\n",
              "        vertical-align: top;\n",
              "    }\n",
              "\n",
              "    .dataframe thead th {\n",
              "        text-align: right;\n",
              "    }\n",
              "</style>\n",
              "<table border=\"1\" class=\"dataframe\">\n",
              "  <thead>\n",
              "    <tr style=\"text-align: right;\">\n",
              "      <th></th>\n",
              "      <th>Vif Factor</th>\n",
              "      <th>features</th>\n",
              "    </tr>\n",
              "  </thead>\n",
              "  <tbody>\n",
              "    <tr>\n",
              "      <th>0</th>\n",
              "      <td>20948.0449378</td>\n",
              "      <td>Intercept</td>\n",
              "    </tr>\n",
              "    <tr>\n",
              "      <th>1</th>\n",
              "      <td>26.0436443</td>\n",
              "      <td>최종 평균 안타</td>\n",
              "    </tr>\n",
              "    <tr>\n",
              "      <th>2</th>\n",
              "      <td>inf</td>\n",
              "      <td>최종 GPA</td>\n",
              "    </tr>\n",
              "    <tr>\n",
              "      <th>3</th>\n",
              "      <td>11.0160580</td>\n",
              "      <td>최종 평균 득점</td>\n",
              "    </tr>\n",
              "    <tr>\n",
              "      <th>4</th>\n",
              "      <td>inf</td>\n",
              "      <td>최종 OPS</td>\n",
              "    </tr>\n",
              "    <tr>\n",
              "      <th>5</th>\n",
              "      <td>4.5245773</td>\n",
              "      <td>최종 BABIP</td>\n",
              "    </tr>\n",
              "    <tr>\n",
              "      <th>6</th>\n",
              "      <td>10.7697524</td>\n",
              "      <td>최종 평균 타수</td>\n",
              "    </tr>\n",
              "    <tr>\n",
              "      <th>7</th>\n",
              "      <td>inf</td>\n",
              "      <td>최종 장타율</td>\n",
              "    </tr>\n",
              "  </tbody>\n",
              "</table>\n",
              "</div>"
            ],
            "text/plain": [
              "     Vif Factor   features\n",
              "0 20948.0449378  Intercept\n",
              "1    26.0436443   최종 평균 안타\n",
              "2           inf     최종 GPA\n",
              "3    11.0160580   최종 평균 득점\n",
              "4           inf     최종 OPS\n",
              "5     4.5245773   최종 BABIP\n",
              "6    10.7697524   최종 평균 타수\n",
              "7           inf     최종 장타율"
            ]
          },
          "metadata": {
            "tags": []
          },
          "execution_count": 70
        }
      ]
    },
    {
      "cell_type": "markdown",
      "metadata": {
        "id": "l9zl1Re1D__U"
      },
      "source": [
        "### 방어율"
      ]
    },
    {
      "cell_type": "code",
      "metadata": {
        "id": "7VanLxsoE4Xf",
        "colab": {
          "base_uri": "https://localhost:8080/",
          "height": 593
        },
        "outputId": "4b2e2a86-f13f-47b8-ab5b-fa4e9da34ee6"
      },
      "source": [
        "from patsy import dmatrices\n",
        "import statsmodels.api as sm # 다중회귀분석 모델\n",
        "from statsmodels.stats.outliers_influence import variance_inflation_factor # VIF 계산 모델\n",
        "a = pd.DataFrame()\n",
        "\n",
        "# columns = ['최종 방어율', '최종 평균 실점', '최종 피GPA', '최종 피OPS','최종 피평균 RC', \n",
        "#            '최종 피RC/27', '최종 피RawEqA', '최종 피장타율', '최종 피wOBA', '최종 피타율', \n",
        "#            '최종 피출루율', '최종 DIPS', '최종 평균 피안타', '최종 피2002RC']\n",
        "\n",
        "# columns_set = ['A', 'B', 'C', 'D', 'E',\n",
        "#                'F', 'G', 'H', 'I', 'J',\n",
        "#                'K', 'L', 'M', 'O']\n",
        "\n",
        "columns = ['최종 방어율', '최종 평균 실점', '최종 피GPA', '최종 피OPS', '최종 피장타율', \n",
        "           '최종 피출루율', '최종 DIPS']\n",
        "\n",
        "columns_set = ['A', 'B', 'C', 'D', 'E',\n",
        "               'F', 'G']\n",
        "\n",
        "b = 0\n",
        "for i in columns:\n",
        "  a[columns_set[b]] = Score_League_df_2020[columns[b]].values\n",
        "  b = b + 1\n",
        "\n",
        "# columns = ['Intercept', '최종 평균 실점', '최종 피GPA', '최종 피OPS','최종 피평균 RC', \n",
        "#            '최종 피RC/27', '최종 피RawEqA', '최종 피장타율', '최종 피wOBA', '최종 피타율', \n",
        "#            '최종 피출루율', '최종 DIPS', '최종 평균 피안타', '최종 피2002RC']\n",
        "\n",
        "# columns_set = ['B', 'C', 'D', 'E',\n",
        "#                'F', 'G', 'H', 'I', 'J',\n",
        "#                'K', 'L', 'M', 'O']\n",
        "\n",
        "columns = ['Intercept', '최종 평균 실점', '최종 피GPA', '최종 피OPS', '최종 피장타율', \n",
        "           '최종 피출루율', '최종 DIPS']\n",
        "\n",
        "columns_set = ['B', 'C', 'D', 'E',\n",
        "               'F', 'G']\n",
        "\n",
        "features = '+'.join(columns_set)\n",
        "features = 'A ~'+features\n",
        "\n",
        "y, X = dmatrices(features, data = a, return_type='dataframe')\n",
        "\n",
        "result = sm.OLS(y, X).fit()\n",
        "\n",
        "X.columns = columns\n",
        "print(result.summary())"
      ],
      "execution_count": null,
      "outputs": [
        {
          "output_type": "stream",
          "text": [
            "                            OLS Regression Results                            \n",
            "==============================================================================\n",
            "Dep. Variable:                      A   R-squared:                       0.980\n",
            "Model:                            OLS   Adj. R-squared:                  0.979\n",
            "Method:                 Least Squares   F-statistic:                     824.6\n",
            "Date:                Mon, 21 Sep 2020   Prob (F-statistic):           8.26e-57\n",
            "Time:                        03:17:17   Log-Likelihood:                 85.232\n",
            "No. Observations:                  73   AIC:                            -160.5\n",
            "Df Residuals:                      68   BIC:                            -149.0\n",
            "Df Model:                           4                                         \n",
            "Covariance Type:            nonrobust                                         \n",
            "==============================================================================\n",
            "                 coef    std err          t      P>|t|      [0.025      0.975]\n",
            "------------------------------------------------------------------------------\n",
            "Intercept     -1.1243      0.390     -2.881      0.005      -1.903      -0.346\n",
            "최종 평균 실점       0.7875      0.049     16.140      0.000       0.690       0.885\n",
            "최종 피GPA        0.2463      0.264      0.932      0.355      -0.281       0.774\n",
            "최종 피OPS        1.2573      0.509      2.469      0.016       0.241       2.273\n",
            "최종 피장타율        1.5974      0.626      2.550      0.013       0.347       2.848\n",
            "최종 피출루율       -0.3401      0.819     -0.415      0.679      -1.974       1.294\n",
            "최종 DIPS        0.0481      0.048      1.012      0.315      -0.047       0.143\n",
            "==============================================================================\n",
            "Omnibus:                        9.337   Durbin-Watson:                   2.039\n",
            "Prob(Omnibus):                  0.009   Jarque-Bera (JB):                9.541\n",
            "Skew:                          -0.681   Prob(JB):                      0.00848\n",
            "Kurtosis:                       4.132   Cond. No.                     1.95e+17\n",
            "==============================================================================\n",
            "\n",
            "Warnings:\n",
            "[1] Standard Errors assume that the covariance matrix of the errors is correctly specified.\n",
            "[2] The smallest eigenvalue is 1.06e-31. This might indicate that there are\n",
            "strong multicollinearity problems or that the design matrix is singular.\n"
          ],
          "name": "stdout"
        }
      ]
    },
    {
      "cell_type": "code",
      "metadata": {
        "id": "EznGe82VJSMR",
        "colab": {
          "base_uri": "https://localhost:8080/",
          "height": 302
        },
        "outputId": "ebf8cdc3-8252-4412-847a-da5396de92ec"
      },
      "source": [
        "from patsy import dmatrices\n",
        "import statsmodels.api as sm # 다중회귀분석 모델\n",
        "from statsmodels.stats.outliers_influence import variance_inflation_factor # VIF 계산 모델\n",
        "a = pd.DataFrame()\n",
        "\n",
        "columns = ['최종 방어율', '최종 평균 실점', '최종 피GPA', '최종 피OPS', '최종 피장타율', \n",
        "           '최종 피출루율', '최종 DIPS']\n",
        "\n",
        "columns_set = ['A', 'B', 'C', 'D', 'E',\n",
        "               'F', 'G']\n",
        "\n",
        "b = 0\n",
        "for i in columns:\n",
        "  a[columns_set[b]] = Score_League_df_2020[columns[b]].values\n",
        "  b = b + 1\n",
        "\n",
        "columns = ['Intercept', '최종 평균 실점', '최종 피GPA', '최종 피OPS', '최종 피장타율', \n",
        "           '최종 피출루율', '최종 DIPS']\n",
        "\n",
        "columns_set = ['B', 'C', 'D', 'E',\n",
        "               'F', 'G']\n",
        "\n",
        "features = '+'.join(columns_set)\n",
        "features = 'A ~'+features\n",
        "\n",
        "y, X = dmatrices(features, data = a, return_type='dataframe')\n",
        "\n",
        "vif = pd.DataFrame()\n",
        "vif['Vif Factor'] = [variance_inflation_factor(X.values, i) for i in range(X.shape[1])]\n",
        "X.columns = columns\n",
        "vif['features'] = X.columns\n",
        "\n",
        "vif"
      ],
      "execution_count": null,
      "outputs": [
        {
          "output_type": "stream",
          "text": [
            "/usr/local/lib/python3.6/dist-packages/statsmodels/stats/outliers_influence.py:185: RuntimeWarning: divide by zero encountered in double_scalars\n",
            "  vif = 1. / (1. - r_squared_i)\n"
          ],
          "name": "stderr"
        },
        {
          "output_type": "execute_result",
          "data": {
            "text/html": [
              "<div>\n",
              "<style scoped>\n",
              "    .dataframe tbody tr th:only-of-type {\n",
              "        vertical-align: middle;\n",
              "    }\n",
              "\n",
              "    .dataframe tbody tr th {\n",
              "        vertical-align: top;\n",
              "    }\n",
              "\n",
              "    .dataframe thead th {\n",
              "        text-align: right;\n",
              "    }\n",
              "</style>\n",
              "<table border=\"1\" class=\"dataframe\">\n",
              "  <thead>\n",
              "    <tr style=\"text-align: right;\">\n",
              "      <th></th>\n",
              "      <th>Vif Factor</th>\n",
              "      <th>features</th>\n",
              "    </tr>\n",
              "  </thead>\n",
              "  <tbody>\n",
              "    <tr>\n",
              "      <th>0</th>\n",
              "      <td>1827.5108434</td>\n",
              "      <td>Intercept</td>\n",
              "    </tr>\n",
              "    <tr>\n",
              "      <th>1</th>\n",
              "      <td>8.5691137</td>\n",
              "      <td>최종 평균 실점</td>\n",
              "    </tr>\n",
              "    <tr>\n",
              "      <th>2</th>\n",
              "      <td>inf</td>\n",
              "      <td>최종 피GPA</td>\n",
              "    </tr>\n",
              "    <tr>\n",
              "      <th>3</th>\n",
              "      <td>inf</td>\n",
              "      <td>최종 피OPS</td>\n",
              "    </tr>\n",
              "    <tr>\n",
              "      <th>4</th>\n",
              "      <td>inf</td>\n",
              "      <td>최종 피장타율</td>\n",
              "    </tr>\n",
              "    <tr>\n",
              "      <th>5</th>\n",
              "      <td>inf</td>\n",
              "      <td>최종 피출루율</td>\n",
              "    </tr>\n",
              "    <tr>\n",
              "      <th>6</th>\n",
              "      <td>3.8737679</td>\n",
              "      <td>최종 DIPS</td>\n",
              "    </tr>\n",
              "  </tbody>\n",
              "</table>\n",
              "</div>"
            ],
            "text/plain": [
              "    Vif Factor   features\n",
              "0 1827.5108434  Intercept\n",
              "1    8.5691137   최종 평균 실점\n",
              "2          inf    최종 피GPA\n",
              "3          inf    최종 피OPS\n",
              "4          inf    최종 피장타율\n",
              "5          inf    최종 피출루율\n",
              "6    3.8737679    최종 DIPS"
            ]
          },
          "metadata": {
            "tags": []
          },
          "execution_count": 72
        }
      ]
    },
    {
      "cell_type": "markdown",
      "metadata": {
        "id": "M5DQhSx5D__W"
      },
      "source": [
        "### 승률"
      ]
    },
    {
      "cell_type": "code",
      "metadata": {
        "id": "R46ADSf0E5Lp",
        "colab": {
          "base_uri": "https://localhost:8080/",
          "height": 611
        },
        "outputId": "a23968b7-8200-46da-8c53-79a9680f5647"
      },
      "source": [
        "from patsy import dmatrices\n",
        "import statsmodels.api as sm # 다중회귀분석 모델\n",
        "from statsmodels.stats.outliers_influence import variance_inflation_factor # VIF 계산 모델\n",
        "a = pd.DataFrame()\n",
        "\n",
        "# columns = ['최종 승률', '마지막 20경기 이전 승률', '마지막 20경기 이전 wOBA', '마지막 20경기 이전 GPA', '마지막 20경기 이전 RC/27',\n",
        "#            '마지막 20경기 이전 RawEqA', '마지막 20경기 이전 평균 실점', '마지막 20경기 이전 평균 RC', '마지막 20경기 이전 OPS', '마지막 20경기 이전 평균 득점',\n",
        "#            '마지막 20경기 이전 출루율', '마지막 20경기 이전 방어율', '마지막 20경기 이전 피RawEqA', '마지막 20경기 이전 피RC/27', '마지막 20경기 이전 피장타율', \n",
        "#            '마지막 20경기 이전 피OPS']\n",
        "\n",
        "# columns_set = ['A', 'B', 'C', 'D', 'E',\n",
        "#                'F', 'G', 'H', 'I', 'J',\n",
        "#                'K', 'L', 'M', 'O', 'P',\n",
        "#                'Q']\n",
        "\n",
        "columns = ['최종 승률', '마지막 20경기 이전 승률', '마지막 20경기 이전 GPA',\n",
        "           '마지막 20경기 이전 평균 실점', '마지막 20경기 이전 OPS', '마지막 20경기 이전 평균 득점',\n",
        "           '마지막 20경기 이전 출루율', '마지막 20경기 이전 피장타율']\n",
        "\n",
        "columns_set = ['A', 'B', 'C', 'D', 'E',\n",
        "               'F', 'G', 'H']\n",
        "\n",
        "b = 0\n",
        "for i in columns:\n",
        "  a[columns_set[b]] = League_df_Befor_2016_2019[columns[b]].values\n",
        "  b = b + 1\n",
        "\n",
        "# columns = ['Intercept', '마지막 20경기 이전 승률', '마지막 20경기 이전 wOBA', '마지막 20경기 이전 GPA', '마지막 20경기 이전 RC/27',\n",
        "#            '마지막 20경기 이전 RawEqA', '마지막 20경기 이전 평균 실점', '마지막 20경기 이전 평균 RC', '마지막 20경기 이전 OPS', '마지막 20경기 이전 평균 득점',\n",
        "#            '마지막 20경기 이전 출루율', '마지막 20경기 이전 방어율', '마지막 20경기 이전 피RawEqA', '마지막 20경기 이전 피RC/27', '마지막 20경기 이전 피장타율', \n",
        "#            '마지막 20경기 이전 피OPS']\n",
        "\n",
        "# columns_set = ['B', 'C', 'D', 'E',\n",
        "#                'F', 'G', 'H', 'I', 'J',\n",
        "#                'K', 'L', 'M', 'O', 'P',\n",
        "#                'Q']\n",
        "\n",
        "columns = ['Intercept', '마지막 20경기 이전 승률', '마지막 20경기 이전 GPA',\n",
        "           '마지막 20경기 이전 평균 실점', '마지막 20경기 이전 OPS', '마지막 20경기 이전 평균 득점',\n",
        "           '마지막 20경기 이전 출루율', '마지막 20경기 이전 피장타율']\n",
        "\n",
        "columns_set = ['B', 'C', 'D', 'E',\n",
        "               'F', 'G', 'H']\n",
        "\n",
        "features = '+'.join(columns_set)\n",
        "features = 'A ~'+features\n",
        "\n",
        "y, X = dmatrices(features, data = a, return_type='dataframe')\n",
        "\n",
        "result = sm.OLS(y, X).fit()\n",
        "\n",
        "X.columns = columns\n",
        "print(result.summary())"
      ],
      "execution_count": null,
      "outputs": [
        {
          "output_type": "stream",
          "text": [
            "                            OLS Regression Results                            \n",
            "==============================================================================\n",
            "Dep. Variable:                      A   R-squared:                       0.968\n",
            "Model:                            OLS   Adj. R-squared:                  0.962\n",
            "Method:                 Least Squares   F-statistic:                     164.2\n",
            "Date:                Mon, 21 Sep 2020   Prob (F-statistic):           4.07e-23\n",
            "Time:                        03:17:18   Log-Likelihood:                 113.39\n",
            "No. Observations:                  40   AIC:                            -212.8\n",
            "Df Residuals:                      33   BIC:                            -201.0\n",
            "Df Model:                           6                                         \n",
            "Covariance Type:            nonrobust                                         \n",
            "=====================================================================================\n",
            "                        coef    std err          t      P>|t|      [0.025      0.975]\n",
            "-------------------------------------------------------------------------------------\n",
            "Intercept             0.0530      0.136      0.390      0.699      -0.224       0.330\n",
            "마지막 20경기 이전 승률        0.8929      0.096      9.301      0.000       0.698       1.088\n",
            "마지막 20경기 이전 GPA      -0.0012      0.087     -0.014      0.989      -0.178       0.176\n",
            "마지막 20경기 이전 평균 실점     0.0077      0.012      0.632      0.531      -0.017       0.032\n",
            "마지막 20경기 이전 OPS       0.1530      0.181      0.844      0.405      -0.216       0.522\n",
            "마지막 20경기 이전 평균 득점     0.0061      0.016      0.379      0.707      -0.027       0.039\n",
            "마지막 20경기 이전 출루율      -0.1973      0.437     -0.451      0.655      -1.087       0.693\n",
            "마지막 20경기 이전 피장타율     -0.2825      0.190     -1.486      0.147      -0.669       0.104\n",
            "==============================================================================\n",
            "Omnibus:                        3.429   Durbin-Watson:                   2.124\n",
            "Prob(Omnibus):                  0.180   Jarque-Bera (JB):                2.557\n",
            "Skew:                          -0.613   Prob(JB):                        0.278\n",
            "Kurtosis:                       3.177   Cond. No.                     1.95e+17\n",
            "==============================================================================\n",
            "\n",
            "Warnings:\n",
            "[1] Standard Errors assume that the covariance matrix of the errors is correctly specified.\n",
            "[2] The smallest eigenvalue is 6.16e-32. This might indicate that there are\n",
            "strong multicollinearity problems or that the design matrix is singular.\n"
          ],
          "name": "stdout"
        }
      ]
    },
    {
      "cell_type": "code",
      "metadata": {
        "id": "ydE1A1ptJUzE",
        "colab": {
          "base_uri": "https://localhost:8080/",
          "height": 333
        },
        "outputId": "15c42aa6-1544-4262-f29b-2b6523dc1fcb"
      },
      "source": [
        "from patsy import dmatrices\n",
        "import statsmodels.api as sm # 다중회귀분석 모델\n",
        "from statsmodels.stats.outliers_influence import variance_inflation_factor # VIF 계산 모델\n",
        "a = pd.DataFrame()\n",
        "\n",
        "columns = ['최종 승률', '마지막 20경기 이전 승률', '마지막 20경기 이전 GPA',\n",
        "           '마지막 20경기 이전 평균 실점', '마지막 20경기 이전 OPS', '마지막 20경기 이전 평균 득점',\n",
        "           '마지막 20경기 이전 출루율', '마지막 20경기 이전 피장타율']\n",
        "\n",
        "columns_set = ['A', 'B', 'C', 'D', 'E',\n",
        "               'F', 'G', 'H']\n",
        "\n",
        "b = 0\n",
        "for i in columns:\n",
        "  a[columns_set[b]] = League_df_Befor_2016_2019[columns[b]].values\n",
        "  b = b + 1\n",
        "\n",
        "columns = ['Intercept', '마지막 20경기 이전 승률', '마지막 20경기 이전 GPA',\n",
        "           '마지막 20경기 이전 평균 실점', '마지막 20경기 이전 OPS', '마지막 20경기 이전 평균 득점',\n",
        "           '마지막 20경기 이전 출루율', '마지막 20경기 이전 피장타율']\n",
        "\n",
        "columns_set = ['B', 'C', 'D', 'E',\n",
        "               'F', 'G', 'H']\n",
        "\n",
        "features = '+'.join(columns_set)\n",
        "features = 'A ~'+features\n",
        "\n",
        "y, X = dmatrices(features, data = a, return_type='dataframe')\n",
        "\n",
        "vif = pd.DataFrame()\n",
        "vif['Vif Factor'] = [variance_inflation_factor(X.values, i) for i in range(X.shape[1])]\n",
        "X.columns = columns\n",
        "vif['features'] = X.columns\n",
        "\n",
        "vif"
      ],
      "execution_count": null,
      "outputs": [
        {
          "output_type": "stream",
          "text": [
            "/usr/local/lib/python3.6/dist-packages/statsmodels/stats/outliers_influence.py:185: RuntimeWarning: divide by zero encountered in double_scalars\n",
            "  vif = 1. / (1. - r_squared_i)\n"
          ],
          "name": "stderr"
        },
        {
          "output_type": "execute_result",
          "data": {
            "text/html": [
              "<div>\n",
              "<style scoped>\n",
              "    .dataframe tbody tr th:only-of-type {\n",
              "        vertical-align: middle;\n",
              "    }\n",
              "\n",
              "    .dataframe tbody tr th {\n",
              "        vertical-align: top;\n",
              "    }\n",
              "\n",
              "    .dataframe thead th {\n",
              "        text-align: right;\n",
              "    }\n",
              "</style>\n",
              "<table border=\"1\" class=\"dataframe\">\n",
              "  <thead>\n",
              "    <tr style=\"text-align: right;\">\n",
              "      <th></th>\n",
              "      <th>Vif Factor</th>\n",
              "      <th>features</th>\n",
              "    </tr>\n",
              "  </thead>\n",
              "  <tbody>\n",
              "    <tr>\n",
              "      <th>0</th>\n",
              "      <td>3027.7075207</td>\n",
              "      <td>Intercept</td>\n",
              "    </tr>\n",
              "    <tr>\n",
              "      <th>1</th>\n",
              "      <td>9.7889884</td>\n",
              "      <td>마지막 20경기 이전 승률</td>\n",
              "    </tr>\n",
              "    <tr>\n",
              "      <th>2</th>\n",
              "      <td>inf</td>\n",
              "      <td>마지막 20경기 이전 GPA</td>\n",
              "    </tr>\n",
              "    <tr>\n",
              "      <th>3</th>\n",
              "      <td>9.3526603</td>\n",
              "      <td>마지막 20경기 이전 평균 실점</td>\n",
              "    </tr>\n",
              "    <tr>\n",
              "      <th>4</th>\n",
              "      <td>inf</td>\n",
              "      <td>마지막 20경기 이전 OPS</td>\n",
              "    </tr>\n",
              "    <tr>\n",
              "      <th>5</th>\n",
              "      <td>16.0385803</td>\n",
              "      <td>마지막 20경기 이전 평균 득점</td>\n",
              "    </tr>\n",
              "    <tr>\n",
              "      <th>6</th>\n",
              "      <td>inf</td>\n",
              "      <td>마지막 20경기 이전 출루율</td>\n",
              "    </tr>\n",
              "    <tr>\n",
              "      <th>7</th>\n",
              "      <td>6.0569017</td>\n",
              "      <td>마지막 20경기 이전 피장타율</td>\n",
              "    </tr>\n",
              "  </tbody>\n",
              "</table>\n",
              "</div>"
            ],
            "text/plain": [
              "    Vif Factor           features\n",
              "0 3027.7075207          Intercept\n",
              "1    9.7889884     마지막 20경기 이전 승률\n",
              "2          inf    마지막 20경기 이전 GPA\n",
              "3    9.3526603  마지막 20경기 이전 평균 실점\n",
              "4          inf    마지막 20경기 이전 OPS\n",
              "5   16.0385803  마지막 20경기 이전 평균 득점\n",
              "6          inf    마지막 20경기 이전 출루율\n",
              "7    6.0569017   마지막 20경기 이전 피장타율"
            ]
          },
          "metadata": {
            "tags": []
          },
          "execution_count": 74
        }
      ]
    },
    {
      "cell_type": "markdown",
      "metadata": {
        "id": "7aGwW9FpXKJs"
      },
      "source": [
        "## Model\n",
        "\n",
        "타율과 방어율 예측에는 1번 모델을 사용\n",
        "\n",
        "승률 예측에는 3번 모델을 사용\n",
        "\n",
        "1번 모델 데이터 세트 : 2001 ~ 2019년 리그 최종 성적\n",
        "\n",
        "3번 모델 데이터 세트 : 2016 ~ 2019년 리그 마지막 20경기 이전 성적"
      ]
    },
    {
      "cell_type": "code",
      "metadata": {
        "id": "vjTmlBeb8x3f"
      },
      "source": [
        "# 타율 예측에 사용할 변수\n",
        "Batting_average_features = ['최종 평균 안타', '최종 GPA', '최종 BABIP', '최종 평균 타수']\n",
        "Batting_average_label = '최종 실제타율'\n",
        "\n",
        "# 방어율 예측에 사용할 변수\n",
        "ERA_features = ['최종 평균 자책점', '최종 평균 실점', '최종 피GPA', '최종 피OPS','최종 피타율', '최종 DIPS']\n",
        "ERA_label = '최종 방어율'\n",
        "\n",
        "# 승률 예측에 사용할 변수\n",
        "Win_percentage_features = ['마지막 20경기 이전 승률', '마지막 20경기 이전 GPA','마지막 20경기 이전 평균 실점', '마지막 20경기 이전 OPS', '마지막 20경기 이전 평균 득점',\n",
        "                           '마지막 20경기 이전 피OPS', '마지막 20경기 이전 피GPA']\n",
        "Win_percentage_label = '최종 승률'"
      ],
      "execution_count": null,
      "outputs": []
    },
    {
      "cell_type": "code",
      "metadata": {
        "id": "ghQLa6kESm1n"
      },
      "source": [
        "# 학습용 변수에 맞추기\n",
        "Batting_average_features = ['최종 평균 안타', '최종 GPA', '최종 BABIP', '최종 평균 타수']\n",
        "\n",
        "df_features = ['평균 안타', 'GPA', 'BABIP', '평균 타수']\n",
        "\n",
        "a = 0\n",
        "for i in df_features:\n",
        "  League_df_2020[Batting_average_features[a]] = League_df_2020[df_features[a]]\n",
        "  a = a + 1\n",
        "\n",
        "ERA_features = ['최종 평균 자책점', '최종 평균 실점', '최종 피GPA', '최종 피OPS','최종 피타율', '최종 DIPS']\n",
        "\n",
        "df_features = ['경기당 평균 자책점','평균 실점', '피GPA', '피OPS', '피타율', 'DIPS']\n",
        "\n",
        "a = 0\n",
        "for i in df_features:\n",
        "  League_df_2020[ERA_features[a]] = League_df_2020[df_features[a]]\n",
        "  a = a + 1\n",
        "\n",
        "Win_percentage_features = ['마지막 20경기 이전 승률', '마지막 20경기 이전 GPA','마지막 20경기 이전 평균 실점', '마지막 20경기 이전 OPS', '마지막 20경기 이전 평균 득점', '마지막 20경기 이전 피OPS', '마지막 20경기 이전 피GPA']\n",
        "\n",
        "df_features = ['실제승률', 'GPA', '평균 실점', 'OPS', '평균 득점', '피OPS', '피GPA']\n",
        "\n",
        "a = 0\n",
        "for i in df_features:\n",
        "  League_df_2020[Win_percentage_features[a]] = League_df_2020[df_features[a]]\n",
        "  a = a + 1"
      ],
      "execution_count": null,
      "outputs": []
    },
    {
      "cell_type": "code",
      "metadata": {
        "id": "C63W9vJXU44c"
      },
      "source": [
        "# train에 사용할 독립변수\n",
        "X_train_B = Score_League_df_2020[Batting_average_features] # 타율예측\n",
        "X_train_E = Score_League_df_2020[ERA_features]             # 방어율예측\n",
        "X_train_W = Score_League_Befor_df_2020[Win_percentage_features]  # 승률예측\n",
        "\n",
        "# train에 사용할 종속변수\n",
        "Y_train_B = Score_League_df_2020[Batting_average_label] # 타율예측\n",
        "Y_train_E = Score_League_df_2020[ERA_label]             # 방어율예측\n",
        "Y_train_W = Score_League_Befor_df_2020[Win_percentage_label]  # 승률예측\n",
        "\n",
        "# test에 사용할 독립변수\n",
        "X_test_B = League_df_2020[Batting_average_features] # 타율예측\n",
        "X_test_E = League_df_2020[ERA_features]             # 방어율예측\n",
        "X_test_W = League_df_2020[Win_percentage_features]  # 승률예측"
      ],
      "execution_count": null,
      "outputs": []
    },
    {
      "cell_type": "markdown",
      "metadata": {
        "id": "ckjVRq6knbfF"
      },
      "source": [
        "### Hyperparameter Tuning"
      ]
    },
    {
      "cell_type": "code",
      "metadata": {
        "id": "aiBbVAojWVk8",
        "colab": {
          "base_uri": "https://localhost:8080/",
          "height": 35
        },
        "outputId": "0c7d5133-aa05-42d5-d8ff-550eabb55a10"
      },
      "source": [
        "import numpy as np\n",
        "\n",
        "from sklearn.metrics import make_scorer\n",
        "\n",
        "# RMSE 공식\n",
        "def rmse(predict, actual):\n",
        "    predict = np.array(predict)\n",
        "    actual = np.array(actual)\n",
        "\n",
        "    distance = predict - actual\n",
        "    \n",
        "    square_distance = distance ** 2\n",
        "    \n",
        "    mean_square_distance = square_distance.mean()\n",
        "    \n",
        "    score = np.sqrt(mean_square_distance)\n",
        "    \n",
        "    return score\n",
        "\n",
        "rmse_score = make_scorer(rmse)\n",
        "rmse_score"
      ],
      "execution_count": null,
      "outputs": [
        {
          "output_type": "execute_result",
          "data": {
            "text/plain": [
              "make_scorer(rmse)"
            ]
          },
          "metadata": {
            "tags": []
          },
          "execution_count": 78
        }
      ]
    },
    {
      "cell_type": "code",
      "metadata": {
        "id": "C7uKQ85voY0R"
      },
      "source": [
        "# # 사용할 모델\n",
        "# from sklearn.ensemble import RandomForestRegressor\n",
        "\n",
        "# # 검증에 사용할 패키지\n",
        "# from sklearn.model_selection import cross_val_score\n",
        "# # n_estimators는 트리의 갯수입니다.\n",
        "# n_estimators = 300\n",
        "\n",
        "# # 랜덤 서치를 반복할 횟수입니다.\n",
        "# num_epoch = 100\n",
        "\n",
        "# coarse_hyperparameters_list = []\n",
        "\n",
        "# # num_epoch 횟수만큼 랜덤 서치를 반복합니다.\n",
        "# for epoch in range(num_epoch):\n",
        "#     # 2에서 100 사이의 정수형(int) 값을 랜덤하게 생성하여 max_depth 변수에 할당합니다.\n",
        "#     max_depth = np.random.randint(low=1, high=50)\n",
        "\n",
        "#     # 0.1에서 1.0 사이의 실수형(float) 값을 랜덤하게 생성하여  max_features 변수에 할당합니다.\n",
        "#     max_features = np.random.uniform(low=0.5, high=0.9)\n",
        "\n",
        "#     # Random Forest를 생성합니다. 옵션은 다음과 같습니다.\n",
        "#     # 1) n_estimators. 트리의 갯수입니다.\n",
        "#     # 2) max_depth. 트리의 깊이입니다. 지정한 숫자만큼 트리가 깊게 가지를 뻗습니다.\n",
        "#     # 3) max_features. Feature Sampling입니다. 0.0 ~ 1.0 사이의 값을 넣으면, 트리를 생성할 때 전체 feature에서 지정한 비율만큼만 feature를 사용합니다.\n",
        "#     # 4) n_jobs. 병렬처리 여부입니다. -1을 대입하면 컴퓨터에 존재하는 모든 코어(Core, ex: 듀얼코어, 쿼드코어)를 전부 활용합니다.\n",
        "#     # 5) random_state. 랜덤포레스트의 결과가 랜덤하게 나오는 것을 고정하는 옵션입니다. 아무 숫자나 넣어주면 됩니다. (공학 용어에서 쓰이는 Seed Number와 동일한 개념입니다)\n",
        "#     model = RandomForestRegressor(n_estimators=n_estimators,\n",
        "#                                   max_depth=max_depth,\n",
        "#                                   max_features=max_features,\n",
        "#                                   n_jobs=-1,\n",
        "#                                   random_state=37)\n",
        "\n",
        "#     # cross_val_score를 실행합니다. 실행할 때는 다음의 옵션이 들어갑니다.\n",
        "#     # 1) model. 점수를 측정할 머신러닝 모델(현재는 Random Forest)이 들어갑니다.\n",
        "#     # 2) X_train. train 데이터의 feature 입니다.\n",
        "#     # 3) y_train. train 데이터의 label 입니다.\n",
        "#     # 4) cv. Cross Validation에서 데이터를 조각낼(split) 갯수입니다. 총 20조각을 내야하기 때문에 20을 대입합니다.\n",
        "#     # 5) scoring. 점수를 측정할 공식입니다. 앞서 구현한 RMSE를 적용합니다.\n",
        "#     # 마지막으로, 이 함수의 실행 결과의 평균(mean)을 구한 뒤 score라는 이름의 새로운 변수에 할당합니다.\n",
        "#     score = cross_val_score(model, X_train_E, Y_train_E, cv=20, scoring=rmse_score).mean() # X_train_E, Y_train_E 을 변경하여 각 모델마다의 최고의 피라미터를 찾아감\n",
        "    \n",
        "#     # hyperparameter 탐색 결과를 딕셔너리화 합니다.\n",
        "#     hyperparameters = {\n",
        "#         'epoch': epoch,\n",
        "#         'score': score,\n",
        "#         'n_estimators': n_estimators,\n",
        "#         'max_depth': max_depth,\n",
        "#         'max_features': max_features,\n",
        "#     }\n",
        "\n",
        "#     # hyperparameter 탐색 결과를 리스트에 저장합니다.\n",
        "#     coarse_hyperparameters_list.append(hyperparameters)\n",
        "\n",
        "#     # hyperparameter 탐색 결과를 출력합니다.\n",
        "#     print(f\"{epoch:2} n_estimators = {n_estimators}, max_depth = {max_depth:2}, max_features = {max_features:.6f}, Score = {score:.5f}\")\n",
        "\n",
        "# # coarse_hyperparameters_list를 Pandas의 DataFrame으로 변환합니다.\n",
        "# coarse_hyperparameters_list = pd.DataFrame.from_dict(coarse_hyperparameters_list)\n",
        "\n",
        "# # 변환한 coarse_hyperparameters_list를 score가 낮은 순으로 정렬합니다.\n",
        "# # (RMSE는 score가 낮을 수록 더 정확도가 높다고 가정합니다)\n",
        "# coarse_hyperparameters_list = coarse_hyperparameters_list.sort_values(by=\"score\")\n",
        "\n",
        "# # coarse_hyperparameters_list 변수에 할당된 데이터의 행렬 사이즈를 출력합니다.\n",
        "# # 출력은 (row, column) 으로 표시됩니다.\n",
        "# print(coarse_hyperparameters_list.shape)\n",
        "\n",
        "# # coarse_hyperparameters_list의 상위 10개를 출력합니다.\n",
        "# coarse_hyperparameters_list.head(10)"
      ],
      "execution_count": null,
      "outputs": []
    },
    {
      "cell_type": "markdown",
      "metadata": {
        "id": "kbnUZlETV6la"
      },
      "source": [
        "### 최종 모델"
      ]
    },
    {
      "cell_type": "code",
      "metadata": {
        "id": "sel4TxRmWFYA"
      },
      "source": [
        "# 사용할 모델\n",
        "from sklearn.ensemble import RandomForestRegressor\n",
        "\n",
        "# 검증에 사용할 패키지\n",
        "from sklearn.model_selection import cross_val_score\n",
        "\n",
        "best_n_estimators = 3000\n",
        "\n",
        "best_max_depth_W = 78\n",
        "best_max_features_W = 0.8836279\n",
        "\n",
        "# 타율예측 모델 -> n_estimators를 제외하고 기본 옵션 사용\n",
        "model_B = RandomForestRegressor(n_estimators=best_n_estimators,\n",
        "                                random_state=37,\n",
        "                                n_jobs=-1)\n",
        "\n",
        "# 방어율예측 모델 -> n_estimators를 제외하고 기본 옵션 사용\n",
        "model_E = RandomForestRegressor(n_estimators=best_n_estimators,\n",
        "                                random_state=37,\n",
        "                                n_jobs=-1)\n",
        "\n",
        "# 승률예측 모델 -> Hyperparameter Tuning 옵션 사용\n",
        "model_W = RandomForestRegressor(n_estimators=best_n_estimators,\n",
        "                             max_depth=best_max_depth_W,\n",
        "                             max_features=best_max_features_W,\n",
        "                             random_state=37,\n",
        "                             n_jobs=-1)"
      ],
      "execution_count": null,
      "outputs": []
    },
    {
      "cell_type": "code",
      "metadata": {
        "id": "MxmVHTLoNzni",
        "colab": {
          "base_uri": "https://localhost:8080/",
          "height": 71
        },
        "outputId": "7888676c-63d2-4516-e6ff-6949c0e529ef"
      },
      "source": [
        "# 훈련용 데이터 RMSE 구하기\n",
        "score_B = cross_val_score(model_B, X_train_B, Y_train_B, cv=20, scoring=rmse_score).mean()\n",
        "print('타율 오류: ',score_B)\n",
        "\n",
        "score_E = cross_val_score(model_E, X_train_E, Y_train_E, cv=20, scoring=rmse_score).mean()\n",
        "print('방어율 오류: ',score_E)\n",
        "\n",
        "score_W = cross_val_score(model_W, X_train_W, Y_train_W, cv=20, scoring=rmse_score).mean()\n",
        "print('승률 오류: ',score_W)"
      ],
      "execution_count": null,
      "outputs": [
        {
          "output_type": "stream",
          "text": [
            "타율 오류:  0.0024172428788928205\n",
            "방어율 오류:  0.06102082283369905\n",
            "승률 오류:  0.018094190701567904\n"
          ],
          "name": "stdout"
        }
      ]
    },
    {
      "cell_type": "code",
      "metadata": {
        "id": "60U7hjIsXPHg",
        "colab": {
          "base_uri": "https://localhost:8080/",
          "height": 143
        },
        "outputId": "fda6aa24-c1dd-4883-9f66-7e5e046f4817"
      },
      "source": [
        "# 학습\n",
        "model_B.fit(X_train_B,Y_train_B)\n",
        "\n",
        "model_E.fit(X_train_E,Y_train_E)\n",
        "\n",
        "model_W.fit(X_train_W,Y_train_W)"
      ],
      "execution_count": null,
      "outputs": [
        {
          "output_type": "execute_result",
          "data": {
            "text/plain": [
              "RandomForestRegressor(bootstrap=True, ccp_alpha=0.0, criterion='mse',\n",
              "                      max_depth=78, max_features=0.8836279, max_leaf_nodes=None,\n",
              "                      max_samples=None, min_impurity_decrease=0.0,\n",
              "                      min_impurity_split=None, min_samples_leaf=1,\n",
              "                      min_samples_split=2, min_weight_fraction_leaf=0.0,\n",
              "                      n_estimators=3000, n_jobs=-1, oob_score=False,\n",
              "                      random_state=37, verbose=0, warm_start=False)"
            ]
          },
          "metadata": {
            "tags": []
          },
          "execution_count": 82
        }
      ]
    },
    {
      "cell_type": "code",
      "metadata": {
        "id": "59dzfOFAXCnc"
      },
      "source": [
        "# 예측\n",
        "pred_B = model_B.predict(X_test_B)\n",
        "\n",
        "pred_E = model_E.predict(X_test_E)\n",
        "\n",
        "pred_W = model_W.predict(X_test_W)"
      ],
      "execution_count": null,
      "outputs": []
    },
    {
      "cell_type": "code",
      "metadata": {
        "id": "L7nVR7VfYH8i"
      },
      "source": [
        "submission = pd.DataFrame()\n",
        "submission['팀명'] = League_df_2020['2020'].values\n",
        "submission['팀코드'] = League_df_2020['팀코드'].values\n",
        "submission['예측 타율'] = pred_B\n",
        "submission['예측 방어율'] = pred_E\n",
        "submission['예측 승률'] = pred_W\n",
        "submission['현재 순위'] = League_df_2020['2020'].index"
      ],
      "execution_count": null,
      "outputs": []
    },
    {
      "cell_type": "markdown",
      "metadata": {
        "id": "2dCClhnKXrzT"
      },
      "source": [
        "## 최종 예측"
      ]
    },
    {
      "cell_type": "code",
      "metadata": {
        "id": "lYRsm-ve_YFH"
      },
      "source": [
        "# Z = (Xx전체 경기 수 - Yx9월 이전의 경기수) / 9월 이후의 경기수\n",
        "submission = submission.sort_values('팀코드',ascending=False)\n",
        "League_df_2020 = League_df_2020.sort_values('팀코드',ascending=False)\n",
        "League_df_2020['남은 경기 수'] = 144 - League_df_2020['경기'].values\n",
        "submission[\"남은 경기 수\"] = League_df_2020['남은 경기 수'].values\n",
        "submission[\"남은 경기 예측 타율\"] = (submission['예측 타율'].values * 144 - League_df_2020['실제타율'].values * League_df_2020['경기'].values) / League_df_2020['남은 경기 수'].values\n",
        "submission[\"남은 경기 예측 방어율\"] = (submission['예측 방어율'].values * 144 - League_df_2020['방어율'].values * League_df_2020['경기'].values) / League_df_2020['남은 경기 수'].values\n",
        "submission[\"남은 경기 예측 승률\"] = (submission['예측 승률'].values * 144 - League_df_2020['실제승률'].values * League_df_2020['경기'].values) / League_df_2020['남은 경기 수'].values\n",
        "submission['리그 전체 예측 타율'] = submission['예측 타율'].values\n",
        "submission['리그 전체 예측 방어율'] = submission['예측 방어율'].values\n",
        "submission['리그 전체 예측 승률'] = submission['예측 승률'].values\n",
        "submission['현재 까지 타율'] = League_df_2020['실제타율'].values\n",
        "submission['현재 까지 방어율'] = League_df_2020['방어율'].values\n",
        "submission['현재 까지 승률'] = League_df_2020['실제승률'].values\n",
        "submission = submission.sort_values('예측 승률',ascending=False)"
      ],
      "execution_count": null,
      "outputs": []
    },
    {
      "cell_type": "code",
      "metadata": {
        "id": "ABjI4IvIzT4v",
        "colab": {
          "base_uri": "https://localhost:8080/",
          "height": 461
        },
        "outputId": "73134fea-63f4-488e-cbf6-5ca43eb801d3"
      },
      "source": [
        "result = pd.DataFrame()\n",
        "\n",
        "result['팀명'] = submission['팀명'].values\n",
        "result['예측 최종 순위'] = result.index + 1\n",
        "result['리그 전체 예측 타율'] = submission['리그 전체 예측 타율'].values\n",
        "result['리그 전체 예측 방어율'] = submission['리그 전체 예측 방어율'].values\n",
        "result['리그 전체 예측 승률'] = submission['리그 전체 예측 승률'].values\n",
        "\n",
        "result['팀명'] = submission['팀명'].values\n",
        "result['현재 순위'] = submission.index + 1\n",
        "result['현재 진행 경기 수'] = 144 - submission['남은 경기 수'].values\n",
        "result['현재 까지 타율'] = submission['현재 까지 타율'].values\n",
        "result['현재 까지 방어율'] = submission['현재 까지 방어율'].values\n",
        "result['현재 까지 승률'] = submission['현재 까지 승률'].values\n",
        "\n",
        "result['남은 경기 수'] = submission['남은 경기 수'].values\n",
        "\n",
        "result"
      ],
      "execution_count": null,
      "outputs": [
        {
          "output_type": "execute_result",
          "data": {
            "text/html": [
              "<div>\n",
              "<style scoped>\n",
              "    .dataframe tbody tr th:only-of-type {\n",
              "        vertical-align: middle;\n",
              "    }\n",
              "\n",
              "    .dataframe tbody tr th {\n",
              "        vertical-align: top;\n",
              "    }\n",
              "\n",
              "    .dataframe thead th {\n",
              "        text-align: right;\n",
              "    }\n",
              "</style>\n",
              "<table border=\"1\" class=\"dataframe\">\n",
              "  <thead>\n",
              "    <tr style=\"text-align: right;\">\n",
              "      <th></th>\n",
              "      <th>팀명</th>\n",
              "      <th>예측 최종 순위</th>\n",
              "      <th>리그 전체 예측 타율</th>\n",
              "      <th>리그 전체 예측 방어율</th>\n",
              "      <th>리그 전체 예측 승률</th>\n",
              "      <th>현재 순위</th>\n",
              "      <th>현재 진행 경기 수</th>\n",
              "      <th>현재 까지 타율</th>\n",
              "      <th>현재 까지 방어율</th>\n",
              "      <th>현재 까지 승률</th>\n",
              "      <th>남은 경기 수</th>\n",
              "    </tr>\n",
              "  </thead>\n",
              "  <tbody>\n",
              "    <tr>\n",
              "      <th>0</th>\n",
              "      <td>NC</td>\n",
              "      <td>1</td>\n",
              "      <td>0.2932353</td>\n",
              "      <td>4.6580176</td>\n",
              "      <td>0.5925517</td>\n",
              "      <td>1</td>\n",
              "      <td>110</td>\n",
              "      <td>0.2907928</td>\n",
              "      <td>4.6376471</td>\n",
              "      <td>0.6074766</td>\n",
              "      <td>34</td>\n",
              "    </tr>\n",
              "    <tr>\n",
              "      <th>1</th>\n",
              "      <td>키움</td>\n",
              "      <td>2</td>\n",
              "      <td>0.2708269</td>\n",
              "      <td>4.5240488</td>\n",
              "      <td>0.5647739</td>\n",
              "      <td>2</td>\n",
              "      <td>117</td>\n",
              "      <td>0.2719582</td>\n",
              "      <td>4.5028754</td>\n",
              "      <td>0.5775862</td>\n",
              "      <td>27</td>\n",
              "    </tr>\n",
              "    <tr>\n",
              "      <th>2</th>\n",
              "      <td>KT</td>\n",
              "      <td>3</td>\n",
              "      <td>0.2855245</td>\n",
              "      <td>4.6425968</td>\n",
              "      <td>0.5630784</td>\n",
              "      <td>3</td>\n",
              "      <td>111</td>\n",
              "      <td>0.2828101</td>\n",
              "      <td>4.6011406</td>\n",
              "      <td>0.5727273</td>\n",
              "      <td>33</td>\n",
              "    </tr>\n",
              "    <tr>\n",
              "      <th>3</th>\n",
              "      <td>LG</td>\n",
              "      <td>4</td>\n",
              "      <td>0.2864602</td>\n",
              "      <td>4.5481122</td>\n",
              "      <td>0.5614713</td>\n",
              "      <td>4</td>\n",
              "      <td>113</td>\n",
              "      <td>0.2835859</td>\n",
              "      <td>4.5014798</td>\n",
              "      <td>0.5636364</td>\n",
              "      <td>31</td>\n",
              "    </tr>\n",
              "    <tr>\n",
              "      <th>4</th>\n",
              "      <td>두산</td>\n",
              "      <td>5</td>\n",
              "      <td>0.2937843</td>\n",
              "      <td>4.7135508</td>\n",
              "      <td>0.5470314</td>\n",
              "      <td>5</td>\n",
              "      <td>112</td>\n",
              "      <td>0.2946945</td>\n",
              "      <td>4.6196013</td>\n",
              "      <td>0.5462963</td>\n",
              "      <td>32</td>\n",
              "    </tr>\n",
              "    <tr>\n",
              "      <th>5</th>\n",
              "      <td>KIA</td>\n",
              "      <td>6</td>\n",
              "      <td>0.2774558</td>\n",
              "      <td>4.6880365</td>\n",
              "      <td>0.5414151</td>\n",
              "      <td>6</td>\n",
              "      <td>109</td>\n",
              "      <td>0.2758621</td>\n",
              "      <td>4.7348643</td>\n",
              "      <td>0.5412844</td>\n",
              "      <td>35</td>\n",
              "    </tr>\n",
              "    <tr>\n",
              "      <th>6</th>\n",
              "      <td>롯데</td>\n",
              "      <td>7</td>\n",
              "      <td>0.2758088</td>\n",
              "      <td>4.6871211</td>\n",
              "      <td>0.4974064</td>\n",
              "      <td>7</td>\n",
              "      <td>110</td>\n",
              "      <td>0.2748615</td>\n",
              "      <td>4.6732538</td>\n",
              "      <td>0.5137615</td>\n",
              "      <td>34</td>\n",
              "    </tr>\n",
              "    <tr>\n",
              "      <th>7</th>\n",
              "      <td>삼성</td>\n",
              "      <td>8</td>\n",
              "      <td>0.2722256</td>\n",
              "      <td>4.9297745</td>\n",
              "      <td>0.4789626</td>\n",
              "      <td>8</td>\n",
              "      <td>112</td>\n",
              "      <td>0.2731081</td>\n",
              "      <td>5.0155932</td>\n",
              "      <td>0.4545455</td>\n",
              "      <td>32</td>\n",
              "    </tr>\n",
              "    <tr>\n",
              "      <th>8</th>\n",
              "      <td>한화</td>\n",
              "      <td>9</td>\n",
              "      <td>0.2517212</td>\n",
              "      <td>5.2575168</td>\n",
              "      <td>0.3836645</td>\n",
              "      <td>10</td>\n",
              "      <td>112</td>\n",
              "      <td>0.2375735</td>\n",
              "      <td>5.2240326</td>\n",
              "      <td>0.2909091</td>\n",
              "      <td>32</td>\n",
              "    </tr>\n",
              "    <tr>\n",
              "      <th>9</th>\n",
              "      <td>SK</td>\n",
              "      <td>10</td>\n",
              "      <td>0.2535276</td>\n",
              "      <td>5.6046117</td>\n",
              "      <td>0.3779123</td>\n",
              "      <td>9</td>\n",
              "      <td>114</td>\n",
              "      <td>0.2496067</td>\n",
              "      <td>5.6570567</td>\n",
              "      <td>0.3362832</td>\n",
              "      <td>30</td>\n",
              "    </tr>\n",
              "  </tbody>\n",
              "</table>\n",
              "</div>"
            ],
            "text/plain": [
              "    팀명  예측 최종 순위  리그 전체 예측 타율  리그 전체 예측 방어율  리그 전체 예측 승률  현재 순위 현재 진행 경기 수  \\\n",
              "0   NC         1    0.2932353     4.6580176    0.5925517      1        110   \n",
              "1   키움         2    0.2708269     4.5240488    0.5647739      2        117   \n",
              "2   KT         3    0.2855245     4.6425968    0.5630784      3        111   \n",
              "3   LG         4    0.2864602     4.5481122    0.5614713      4        113   \n",
              "4   두산         5    0.2937843     4.7135508    0.5470314      5        112   \n",
              "5  KIA         6    0.2774558     4.6880365    0.5414151      6        109   \n",
              "6   롯데         7    0.2758088     4.6871211    0.4974064      7        110   \n",
              "7   삼성         8    0.2722256     4.9297745    0.4789626      8        112   \n",
              "8   한화         9    0.2517212     5.2575168    0.3836645     10        112   \n",
              "9   SK        10    0.2535276     5.6046117    0.3779123      9        114   \n",
              "\n",
              "   현재 까지 타율  현재 까지 방어율  현재 까지 승률 남은 경기 수  \n",
              "0 0.2907928  4.6376471 0.6074766      34  \n",
              "1 0.2719582  4.5028754 0.5775862      27  \n",
              "2 0.2828101  4.6011406 0.5727273      33  \n",
              "3 0.2835859  4.5014798 0.5636364      31  \n",
              "4 0.2946945  4.6196013 0.5462963      32  \n",
              "5 0.2758621  4.7348643 0.5412844      35  \n",
              "6 0.2748615  4.6732538 0.5137615      34  \n",
              "7 0.2731081  5.0155932 0.4545455      32  \n",
              "8 0.2375735  5.2240326 0.2909091      32  \n",
              "9 0.2496067  5.6570567 0.3362832      30  "
            ]
          },
          "metadata": {
            "tags": []
          },
          "execution_count": 86
        }
      ]
    },
    {
      "cell_type": "code",
      "metadata": {
        "id": "JycuMW3I3gu0",
        "colab": {
          "base_uri": "https://localhost:8080/",
          "height": 478
        },
        "outputId": "6f195fa5-7126-42a1-df3b-8bd5f34516ed"
      },
      "source": [
        "result = pd.DataFrame()\n",
        "result['팀명'] = submission['팀명'].values\n",
        "\n",
        "result['남은 경기 수'] = submission['남은 경기 수'].values\n",
        "result['예측 타율'] = submission[\"남은 경기 예측 타율\"].values\n",
        "result['예측 방어율'] = submission[\"남은 경기 예측 방어율\"].values\n",
        "result['예측 승률'] = submission[\"남은 경기 예측 승률\"].values\n",
        "\n",
        "result['현재 순위'] = submission.index + 1\n",
        "result['현재 진행 경기 수'] = 144 - submission['남은 경기 수'].values\n",
        "result['현재 까지 타율'] = submission['현재 까지 타율'].values\n",
        "result['현재 까지 방어율'] = submission['현재 까지 방어율'].values\n",
        "result['현재 까지 승률'] = submission['현재 까지 승률'].values\n",
        "\n",
        "result['예측 최종 순위'] = result.index + 1\n",
        "result['리그 전체 예측 타율'] = submission['리그 전체 예측 타율'].values\n",
        "result['리그 전체 예측 방어율'] = submission['리그 전체 예측 방어율'].values\n",
        "result['리그 전체 예측 승률'] = submission['리그 전체 예측 승률'].values\n",
        "\n",
        "result"
      ],
      "execution_count": null,
      "outputs": [
        {
          "output_type": "execute_result",
          "data": {
            "text/html": [
              "<div>\n",
              "<style scoped>\n",
              "    .dataframe tbody tr th:only-of-type {\n",
              "        vertical-align: middle;\n",
              "    }\n",
              "\n",
              "    .dataframe tbody tr th {\n",
              "        vertical-align: top;\n",
              "    }\n",
              "\n",
              "    .dataframe thead th {\n",
              "        text-align: right;\n",
              "    }\n",
              "</style>\n",
              "<table border=\"1\" class=\"dataframe\">\n",
              "  <thead>\n",
              "    <tr style=\"text-align: right;\">\n",
              "      <th></th>\n",
              "      <th>팀명</th>\n",
              "      <th>남은 경기 수</th>\n",
              "      <th>예측 타율</th>\n",
              "      <th>예측 방어율</th>\n",
              "      <th>예측 승률</th>\n",
              "      <th>현재 순위</th>\n",
              "      <th>현재 진행 경기 수</th>\n",
              "      <th>현재 까지 타율</th>\n",
              "      <th>현재 까지 방어율</th>\n",
              "      <th>현재 까지 승률</th>\n",
              "      <th>예측 최종 순위</th>\n",
              "      <th>리그 전체 예측 타율</th>\n",
              "      <th>리그 전체 예측 방어율</th>\n",
              "      <th>리그 전체 예측 승률</th>\n",
              "    </tr>\n",
              "  </thead>\n",
              "  <tbody>\n",
              "    <tr>\n",
              "      <th>0</th>\n",
              "      <td>NC</td>\n",
              "      <td>34</td>\n",
              "      <td>0.3011373</td>\n",
              "      <td>4.7239223</td>\n",
              "      <td>0.5442652</td>\n",
              "      <td>1</td>\n",
              "      <td>110</td>\n",
              "      <td>0.2907928</td>\n",
              "      <td>4.6376471</td>\n",
              "      <td>0.6074766</td>\n",
              "      <td>1</td>\n",
              "      <td>0.2932353</td>\n",
              "      <td>4.6580176</td>\n",
              "      <td>0.5925517</td>\n",
              "    </tr>\n",
              "    <tr>\n",
              "      <th>1</th>\n",
              "      <td>키움</td>\n",
              "      <td>27</td>\n",
              "      <td>0.2659246</td>\n",
              "      <td>4.6158000</td>\n",
              "      <td>0.5092537</td>\n",
              "      <td>2</td>\n",
              "      <td>117</td>\n",
              "      <td>0.2719582</td>\n",
              "      <td>4.5028754</td>\n",
              "      <td>0.5775862</td>\n",
              "      <td>2</td>\n",
              "      <td>0.2708269</td>\n",
              "      <td>4.5240488</td>\n",
              "      <td>0.5647739</td>\n",
              "    </tr>\n",
              "    <tr>\n",
              "      <th>2</th>\n",
              "      <td>KT</td>\n",
              "      <td>33</td>\n",
              "      <td>0.2946548</td>\n",
              "      <td>4.7820406</td>\n",
              "      <td>0.5306231</td>\n",
              "      <td>3</td>\n",
              "      <td>111</td>\n",
              "      <td>0.2828101</td>\n",
              "      <td>4.6011406</td>\n",
              "      <td>0.5727273</td>\n",
              "      <td>3</td>\n",
              "      <td>0.2855245</td>\n",
              "      <td>4.6425968</td>\n",
              "      <td>0.5630784</td>\n",
              "    </tr>\n",
              "    <tr>\n",
              "      <th>3</th>\n",
              "      <td>LG</td>\n",
              "      <td>31</td>\n",
              "      <td>0.2969374</td>\n",
              "      <td>4.7180950</td>\n",
              "      <td>0.5535792</td>\n",
              "      <td>4</td>\n",
              "      <td>113</td>\n",
              "      <td>0.2835859</td>\n",
              "      <td>4.5014798</td>\n",
              "      <td>0.5636364</td>\n",
              "      <td>4</td>\n",
              "      <td>0.2864602</td>\n",
              "      <td>4.5481122</td>\n",
              "      <td>0.5614713</td>\n",
              "    </tr>\n",
              "    <tr>\n",
              "      <th>4</th>\n",
              "      <td>두산</td>\n",
              "      <td>32</td>\n",
              "      <td>0.2905985</td>\n",
              "      <td>5.0423738</td>\n",
              "      <td>0.5496043</td>\n",
              "      <td>5</td>\n",
              "      <td>112</td>\n",
              "      <td>0.2946945</td>\n",
              "      <td>4.6196013</td>\n",
              "      <td>0.5462963</td>\n",
              "      <td>5</td>\n",
              "      <td>0.2937843</td>\n",
              "      <td>4.7135508</td>\n",
              "      <td>0.5470314</td>\n",
              "    </tr>\n",
              "    <tr>\n",
              "      <th>5</th>\n",
              "      <td>KIA</td>\n",
              "      <td>35</td>\n",
              "      <td>0.2824190</td>\n",
              "      <td>4.5422012</td>\n",
              "      <td>0.5418221</td>\n",
              "      <td>6</td>\n",
              "      <td>109</td>\n",
              "      <td>0.2758621</td>\n",
              "      <td>4.7348643</td>\n",
              "      <td>0.5412844</td>\n",
              "      <td>6</td>\n",
              "      <td>0.2774558</td>\n",
              "      <td>4.6880365</td>\n",
              "      <td>0.5414151</td>\n",
              "    </tr>\n",
              "    <tr>\n",
              "      <th>6</th>\n",
              "      <td>롯데</td>\n",
              "      <td>34</td>\n",
              "      <td>0.2788735</td>\n",
              "      <td>4.7319860</td>\n",
              "      <td>0.4444930</td>\n",
              "      <td>7</td>\n",
              "      <td>110</td>\n",
              "      <td>0.2748615</td>\n",
              "      <td>4.6732538</td>\n",
              "      <td>0.5137615</td>\n",
              "      <td>7</td>\n",
              "      <td>0.2758088</td>\n",
              "      <td>4.6871211</td>\n",
              "      <td>0.4974064</td>\n",
              "    </tr>\n",
              "    <tr>\n",
              "      <th>7</th>\n",
              "      <td>삼성</td>\n",
              "      <td>32</td>\n",
              "      <td>0.2691369</td>\n",
              "      <td>4.6294089</td>\n",
              "      <td>0.5644226</td>\n",
              "      <td>8</td>\n",
              "      <td>112</td>\n",
              "      <td>0.2731081</td>\n",
              "      <td>5.0155932</td>\n",
              "      <td>0.4545455</td>\n",
              "      <td>8</td>\n",
              "      <td>0.2722256</td>\n",
              "      <td>4.9297745</td>\n",
              "      <td>0.4789626</td>\n",
              "    </tr>\n",
              "    <tr>\n",
              "      <th>8</th>\n",
              "      <td>한화</td>\n",
              "      <td>32</td>\n",
              "      <td>0.3012383</td>\n",
              "      <td>5.3747115</td>\n",
              "      <td>0.7083086</td>\n",
              "      <td>10</td>\n",
              "      <td>112</td>\n",
              "      <td>0.2375735</td>\n",
              "      <td>5.2240326</td>\n",
              "      <td>0.2909091</td>\n",
              "      <td>9</td>\n",
              "      <td>0.2517212</td>\n",
              "      <td>5.2575168</td>\n",
              "      <td>0.3836645</td>\n",
              "    </tr>\n",
              "    <tr>\n",
              "      <th>9</th>\n",
              "      <td>SK</td>\n",
              "      <td>30</td>\n",
              "      <td>0.2684270</td>\n",
              "      <td>5.4053209</td>\n",
              "      <td>0.5361030</td>\n",
              "      <td>9</td>\n",
              "      <td>114</td>\n",
              "      <td>0.2496067</td>\n",
              "      <td>5.6570567</td>\n",
              "      <td>0.3362832</td>\n",
              "      <td>10</td>\n",
              "      <td>0.2535276</td>\n",
              "      <td>5.6046117</td>\n",
              "      <td>0.3779123</td>\n",
              "    </tr>\n",
              "  </tbody>\n",
              "</table>\n",
              "</div>"
            ],
            "text/plain": [
              "    팀명 남은 경기 수     예측 타율    예측 방어율     예측 승률  현재 순위 현재 진행 경기 수  현재 까지 타율  \\\n",
              "0   NC      34 0.3011373 4.7239223 0.5442652      1        110 0.2907928   \n",
              "1   키움      27 0.2659246 4.6158000 0.5092537      2        117 0.2719582   \n",
              "2   KT      33 0.2946548 4.7820406 0.5306231      3        111 0.2828101   \n",
              "3   LG      31 0.2969374 4.7180950 0.5535792      4        113 0.2835859   \n",
              "4   두산      32 0.2905985 5.0423738 0.5496043      5        112 0.2946945   \n",
              "5  KIA      35 0.2824190 4.5422012 0.5418221      6        109 0.2758621   \n",
              "6   롯데      34 0.2788735 4.7319860 0.4444930      7        110 0.2748615   \n",
              "7   삼성      32 0.2691369 4.6294089 0.5644226      8        112 0.2731081   \n",
              "8   한화      32 0.3012383 5.3747115 0.7083086     10        112 0.2375735   \n",
              "9   SK      30 0.2684270 5.4053209 0.5361030      9        114 0.2496067   \n",
              "\n",
              "   현재 까지 방어율  현재 까지 승률  예측 최종 순위  리그 전체 예측 타율  리그 전체 예측 방어율  리그 전체 예측 승률  \n",
              "0  4.6376471 0.6074766         1    0.2932353     4.6580176    0.5925517  \n",
              "1  4.5028754 0.5775862         2    0.2708269     4.5240488    0.5647739  \n",
              "2  4.6011406 0.5727273         3    0.2855245     4.6425968    0.5630784  \n",
              "3  4.5014798 0.5636364         4    0.2864602     4.5481122    0.5614713  \n",
              "4  4.6196013 0.5462963         5    0.2937843     4.7135508    0.5470314  \n",
              "5  4.7348643 0.5412844         6    0.2774558     4.6880365    0.5414151  \n",
              "6  4.6732538 0.5137615         7    0.2758088     4.6871211    0.4974064  \n",
              "7  5.0155932 0.4545455         8    0.2722256     4.9297745    0.4789626  \n",
              "8  5.2240326 0.2909091         9    0.2517212     5.2575168    0.3836645  \n",
              "9  5.6570567 0.3362832        10    0.2535276     5.6046117    0.3779123  "
            ]
          },
          "metadata": {
            "tags": []
          },
          "execution_count": 87
        }
      ]
    },
    {
      "cell_type": "code",
      "metadata": {
        "id": "DlZQ6pWXGyCL",
        "colab": {
          "base_uri": "https://localhost:8080/",
          "height": 1000
        },
        "outputId": "ae110ea5-a61f-4385-d80c-4173b3f58677"
      },
      "source": [
        "figure, ((ax1), (ax2), (ax3)) = plt.subplots(nrows=3, ncols=1)\n",
        "\n",
        "figure.set_size_inches(10,25)\n",
        "\n",
        "result.plot.barh(x='팀명',y =['현재 까지 타율','예측 타율','리그 전체 예측 타율'],ax=ax1)\n",
        "ax1.set_xlim([0.2, 0.35])\n",
        "result.plot.barh(x='팀명',y =['현재 까지 방어율','예측 방어율','리그 전체 예측 방어율'],ax=ax2)\n",
        "ax2.set_xlim([2, 6])\n",
        "result.plot.barh(x='팀명',y =['현재 까지 승률','예측 승률','리그 전체 예측 승률'],ax=ax3)\n",
        "ax3.set_xlim([0, 1])"
      ],
      "execution_count": null,
      "outputs": [
        {
          "output_type": "execute_result",
          "data": {
            "text/plain": [
              "(0.0, 1.0)"
            ]
          },
          "metadata": {
            "tags": []
          },
          "execution_count": 88
        },
        {
          "output_type": "display_data",
          "data": {
            "image/png": "[encoded data removed]",
            "text/plain": [
              "<Figure size 720x1800 with 3 Axes>"
            ]
          },
          "metadata": {
            "tags": [],
            "image/png": {
              "width": 619,
              "height": 1389
            },
            "needs_background": "light"
          }
        }
      ]
    },
    {
      "cell_type": "code",
      "metadata": {
        "id": "v1lNEh-RZwnm"
      },
      "source": [
        "result.to_csv(\"2020년 KBO 팀별 승률, 타율, 방어율 예측.csv\", index=False, encoding='utf-8')"
      ],
      "execution_count": null,
      "outputs": []
    }
  ]
}