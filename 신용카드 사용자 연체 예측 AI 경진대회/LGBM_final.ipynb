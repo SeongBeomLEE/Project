{
  "nbformat": 4,
  "nbformat_minor": 0,
  "metadata": {
    "colab": {
      "name": "LGBM_final.ipynb",
      "provenance": [],
      "collapsed_sections": [],
      "authorship_tag": "ABX9TyNfsOkOBkekCHKbf0gOABQT"
    },
    "kernelspec": {
      "name": "python3",
      "display_name": "Python 3"
    },
    "language_info": {
      "name": "python"
    }
  },
  "cells": [
    {
      "cell_type": "markdown",
      "metadata": {
        "id": "SsTIxYtOzwwP"
      },
      "source": [
        "# 데이터 설명\n",
        "\n",
        "https://www.dacon.io/competitions/official/235713/overview/description/\n",
        "\n",
        "### train 데이터 : 신용카드 사용자들의 개인 신상정보\n",
        "\n",
        "- credit 열 포함\n",
        "\n",
        "- train.shape : (26457, 20)\n",
        "\n",
        "###  test 데이터 : 신용카드 사용자들의 개인 신상정보\n",
        "\n",
        "- credit 열 미포함\n",
        "\n",
        "- test.shape : (10000, 19)\n",
        "\n",
        "### 변수 설명 credit 열 미포함\n",
        "\n",
        "- test.shape : (10000, 19)\n",
        "\n",
        " credit 열 미포함\n",
        "\n",
        "- test.shape : (10000, 19)\n",
        "\n",
        "### 변수 설명\n",
        "\n",
        "- index\n",
        "- gender: 성별\n",
        "- car: 차량 소유 여부\n",
        "- reality: 부동산 소유 여부\n",
        "- child_num: 자녀 수\n",
        "- income_total: 연간 소득\n",
        "- income_type: 소득 분류\n",
        "\t\t\t\t\t\t\t['Commercial associate', 'Working', 'State servant', 'Pensioner', 'Student']\n",
        "- edu_type: 교육 수준\n",
        "\t\t\t\t\t\t\t['Higher education' ,'Secondary / secondary special', 'Incomplete higher', 'Lower secondary', 'Academic degree']\n",
        "- family_type: 결혼 여부\n",
        "\t\t\t\t\t\t\t['Married', 'Civil marriage', 'Separated', 'Single / not married', 'Widow']\n",
        "- house_type: 생활 방식\n",
        "\t\t\t\t\t\t\t['Municipal apartment', 'House / apartment', 'With parents',\n",
        "\t\t\t\t\t\t\t 'Co-op apartment', 'Rented apartment', 'Office apartment']\n",
        "- DAYS_BIRTH: 출생일\n",
        "\t\t\t\t\t\t\t데이터 수집 당시 (0)부터 역으로 셈, 즉, -1은 데이터 수집일 하루 전에 태어났음을 의미\n",
        "- DAYS_EMPLOYED: 업무 시작일\n",
        "\t\t\t\t\t\t\t데이터 수집 당시 (0)부터 역으로 셈, 즉, -1은 데이터 수집일 하루 전부터 일을 시작함을 의미, 양수 값은 고용되지 않은 상태를 의미함\n",
        "- FLAG_MOBIL: 핸드폰 소유 여부\n",
        "- work_phone: 업무용 전화 소유 여부\n",
        "- phone: 전화 소유 여부\n",
        "- email: 이메일 소유 여부\n",
        "- occyp_type: 직업 유형\t\t\t\t\t\t\t\t\t\t\t\t\t\n",
        "- family_size: 가족 규모\n",
        "- begin_month: 신용카드 발급 월\n",
        "\t\t\t\t\t\t\t데이터 수집 당시 (0)부터 역으로 셈, 즉, -1은 데이터 수집일 한 달 전에 신용카드를 발급함을 의미\n",
        "- credit: 사용자의 신용카드 대금 연체를 기준의 신용도\n",
        "\t\t\t\t\t\t\t=> 낮을 수록 높은 신용의 신용카드 사용자를 의미함"
      ]
    },
    {
      "cell_type": "code",
      "metadata": {
        "id": "Qn6RAmWXzwwR"
      },
      "source": [
        "import pandas as pd\n",
        "import numpy as np\n",
        "import matplotlib.pyplot as plt\n",
        "import matplotlib as mpl\n",
        "import seaborn as sns\n",
        "import warnings\n",
        "\n",
        "warnings.filterwarnings(action='ignore')\n",
        "%matplotlib inline"
      ],
      "execution_count": null,
      "outputs": []
    },
    {
      "cell_type": "code",
      "metadata": {
        "id": "f-XBFIwgzwwS"
      },
      "source": [
        "paths = '/content/drive/MyDrive/DataAnalysis/신용카드 사용자 연체 예측 AI 경진대회/input/'\n",
        "\n",
        "train = pd.read_csv(paths + 'train.csv')\n",
        "test = pd.read_csv(paths + 'test.csv')\n",
        "submission = pd.read_csv(paths + 'sample_submission.csv')"
      ],
      "execution_count": null,
      "outputs": []
    },
    {
      "cell_type": "code",
      "metadata": {
        "id": "EvCFJNVhzwwS"
      },
      "source": [
        "def get_occyp_type(x):\n",
        "  if pd.isnull(x['occyp_type']):\n",
        "    if x['DAYS_EMPLOYED'] >= 0: return 'No job'\n",
        "    else: return 'others'\n",
        "  return x['occyp_type']\n",
        "\n",
        "train['occyp_type'] = train.apply(lambda x : get_occyp_type(x), axis=1)\n",
        "test['occyp_type'] = test.apply(lambda x : get_occyp_type(x), axis=1)"
      ],
      "execution_count": null,
      "outputs": []
    },
    {
      "cell_type": "code",
      "metadata": {
        "id": "IYCueh33fsi6"
      },
      "source": [
        "train['DAYS_BIRTH'] = train['DAYS_BIRTH'].apply(lambda x : abs(x))\n",
        "test['DAYS_BIRTH'] = test['DAYS_BIRTH'].apply(lambda x : abs(x))\n",
        "\n",
        "train['m_DAYS_EMPLOYED'] = train['DAYS_EMPLOYED'].apply(lambda x : abs(x) if x < 0 else 0)\n",
        "test['m_DAYS_EMPLOYED'] = test['DAYS_EMPLOYED'].apply(lambda x : abs(x) if x < 0 else 0)\n",
        "train['p_DAYS_EMPLOYED'] = train['DAYS_EMPLOYED'].apply(lambda x : abs(x) if x > 0 else 0)\n",
        "test['p_DAYS_EMPLOYED'] = test['DAYS_EMPLOYED'].apply(lambda x : abs(x) if x > 0 else 0)\n",
        "\n",
        "train['begin_month'] = train['begin_month'].apply(lambda x : abs(x))\n",
        "test['begin_month'] = test['begin_month'].apply(lambda x : abs(x))"
      ],
      "execution_count": null,
      "outputs": []
    },
    {
      "cell_type": "code",
      "metadata": {
        "id": "DQ0GFgVAkxDm"
      },
      "source": [
        "def get_IEp(x):\n",
        "  ret = 0\n",
        "  if x['m_DAYS_EMPLOYED'] > 0 :\n",
        "    ret = x['income_total'] / x['m_DAYS_EMPLOYED']\n",
        "    return ret\n",
        "  return ret\n",
        "\n",
        "train['IEp'] = train.apply(lambda x : get_IEp(x), axis=1)\n",
        "test['IEp'] = test.apply(lambda x : get_IEp(x), axis=1)"
      ],
      "execution_count": null,
      "outputs": []
    },
    {
      "cell_type": "code",
      "metadata": {
        "id": "gXyO_WgXlKAV"
      },
      "source": [
        "def get_IBp(x):\n",
        "  ret = x['income_total'] / x['DAYS_BIRTH']\n",
        "  return ret\n",
        "\n",
        "train['IBp'] = train.apply(lambda x : get_IBp(x), axis=1)\n",
        "test['IBp'] = test.apply(lambda x : get_IBp(x), axis=1)"
      ],
      "execution_count": null,
      "outputs": []
    },
    {
      "cell_type": "code",
      "metadata": {
        "id": "2CR1l2WRmDy1"
      },
      "source": [
        "def get_EBp(x):\n",
        "  ret = x['m_DAYS_EMPLOYED'] / x['DAYS_BIRTH']\n",
        "  return ret\n",
        "  \n",
        "train['EBp'] = train.apply(lambda x : get_EBp(x), axis=1)\n",
        "test['EBp'] = test.apply(lambda x : get_EBp(x), axis=1)"
      ],
      "execution_count": null,
      "outputs": []
    },
    {
      "cell_type": "code",
      "metadata": {
        "id": "wOpHiXKZTUbV"
      },
      "source": [
        "def get_staff(x):\n",
        "  if 'staff' in x:\n",
        "    return 1\n",
        "  return 0\n",
        "\n",
        "train['staff'] = train['occyp_type'].apply(lambda x: get_staff(x))\n",
        "test['staff'] = test['occyp_type'].apply(lambda x: get_staff(x))"
      ],
      "execution_count": null,
      "outputs": []
    },
    {
      "cell_type": "code",
      "metadata": {
        "colab": {
          "base_uri": "https://localhost:8080/",
          "height": 67,
          "referenced_widgets": [
            "ba6b775f41e7416b9ce3da443ce68021",
            "b461c3a56eac4fb5bf5785ff0f827531",
            "4ee83f03be0b41f59511e8b04ec886d6",
            "801039111ffc46f6aaddf17f86b68599",
            "7333073985764898b61a4542aa5b2b0b",
            "660e977cc4354435986a2860c1c42a3b",
            "ecb0523bf9684104be21cb47106cc6d2",
            "3fad4c95f9de4c4ab561207a5dba9980"
          ]
        },
        "id": "rRRAr5IawapR",
        "outputId": "3e5da703-c2ad-46e8-c4be-ec8ed24d961f"
      },
      "source": [
        "# LabelEncoder\n",
        "from sklearn.preprocessing import LabelEncoder\n",
        "# 속도 체크\n",
        "from tqdm import tqdm_notebook\n",
        "\n",
        "# 원본데이터의 변형을 막고자 데이터를 copy함\n",
        "temp_train = train.copy()\n",
        "temp_test = test.copy()\n",
        "\n",
        "lbl = LabelEncoder()\n",
        "\n",
        "cat_columns = [c for c, t in zip(test.dtypes.index, test.dtypes) if t == 'O']\n",
        "# cat_columns = [i for i in cat_columns if i != 'occyp_type']\n",
        "# Implement Label Encoding \n",
        "for col in tqdm_notebook( cat_columns ):\n",
        "    # local_train과 local_test를 concat하여 temp_df에 저장\n",
        "    temp_df = pd.concat([ temp_train[[col]], temp_test[[col]] ] , axis=0)\n",
        "    \n",
        "    # Label-Encoding을 fitting함\n",
        "    lbl.fit( temp_df[col] )\n",
        "    \n",
        "    # local_train/local_test에 label_encoding한 값을 대입함\n",
        "    temp_train[col] = lbl.transform(temp_train[col])\n",
        "    temp_test[col] = lbl.transform(temp_test[col])\n",
        "\n",
        "target = 'credit'\n",
        "features = [i for i in train.columns if i != 'credit']\n",
        "\n",
        "X_train = temp_train[features]\n",
        "y_train = temp_train[target]\n",
        "\n",
        "X_test = temp_test[features]"
      ],
      "execution_count": null,
      "outputs": [
        {
          "output_type": "display_data",
          "data": {
            "application/vnd.jupyter.widget-view+json": {
              "model_id": "ba6b775f41e7416b9ce3da443ce68021",
              "version_minor": 0,
              "version_major": 2
            },
            "text/plain": [
              "HBox(children=(FloatProgress(value=0.0, max=8.0), HTML(value='')))"
            ]
          },
          "metadata": {
            "tags": []
          }
        },
        {
          "output_type": "stream",
          "text": [
            "\n"
          ],
          "name": "stdout"
        }
      ]
    },
    {
      "cell_type": "code",
      "metadata": {
        "id": "QTlzqCLiizur"
      },
      "source": [
        "# features = ['income_total', 'income_type','edu_type', 'family_type', 'DAYS_BIRTH', \n",
        "#  'DAYS_EMPLOYED', 'occyp_type', 'family_size', 'begin_month', 'year_BIRTH', \n",
        "#  'month_BIRTH', 'month_EMPLOYED', 'BBp', 'BEp', 'IBpm', 'IEpm', 'IBpy','IEpy']\n",
        "\n",
        "X_train = X_train.drop(labels = 'index', axis=1)\n",
        "X_test = X_test.drop(labels = 'index', axis=1)"
      ],
      "execution_count": null,
      "outputs": []
    },
    {
      "cell_type": "code",
      "metadata": {
        "colab": {
          "base_uri": "https://localhost:8080/",
          "height": 224
        },
        "id": "xODRVoqBYc3u",
        "outputId": "afadba4d-bc98-46e6-edb2-1320c2fff6ea"
      },
      "source": [
        "X_train.head()"
      ],
      "execution_count": null,
      "outputs": [
        {
          "output_type": "execute_result",
          "data": {
            "text/html": [
              "<div>\n",
              "<style scoped>\n",
              "    .dataframe tbody tr th:only-of-type {\n",
              "        vertical-align: middle;\n",
              "    }\n",
              "\n",
              "    .dataframe tbody tr th {\n",
              "        vertical-align: top;\n",
              "    }\n",
              "\n",
              "    .dataframe thead th {\n",
              "        text-align: right;\n",
              "    }\n",
              "</style>\n",
              "<table border=\"1\" class=\"dataframe\">\n",
              "  <thead>\n",
              "    <tr style=\"text-align: right;\">\n",
              "      <th></th>\n",
              "      <th>gender</th>\n",
              "      <th>car</th>\n",
              "      <th>reality</th>\n",
              "      <th>child_num</th>\n",
              "      <th>income_total</th>\n",
              "      <th>income_type</th>\n",
              "      <th>edu_type</th>\n",
              "      <th>family_type</th>\n",
              "      <th>house_type</th>\n",
              "      <th>DAYS_BIRTH</th>\n",
              "      <th>DAYS_EMPLOYED</th>\n",
              "      <th>FLAG_MOBIL</th>\n",
              "      <th>work_phone</th>\n",
              "      <th>phone</th>\n",
              "      <th>email</th>\n",
              "      <th>occyp_type</th>\n",
              "      <th>family_size</th>\n",
              "      <th>begin_month</th>\n",
              "      <th>m_DAYS_EMPLOYED</th>\n",
              "      <th>p_DAYS_EMPLOYED</th>\n",
              "      <th>IEp</th>\n",
              "      <th>IBp</th>\n",
              "      <th>EBp</th>\n",
              "      <th>staff</th>\n",
              "    </tr>\n",
              "  </thead>\n",
              "  <tbody>\n",
              "    <tr>\n",
              "      <th>0</th>\n",
              "      <td>0</td>\n",
              "      <td>0</td>\n",
              "      <td>0</td>\n",
              "      <td>0</td>\n",
              "      <td>202500.0</td>\n",
              "      <td>0</td>\n",
              "      <td>1</td>\n",
              "      <td>1</td>\n",
              "      <td>2</td>\n",
              "      <td>13899</td>\n",
              "      <td>-4709</td>\n",
              "      <td>1</td>\n",
              "      <td>0</td>\n",
              "      <td>0</td>\n",
              "      <td>0</td>\n",
              "      <td>19</td>\n",
              "      <td>2.0</td>\n",
              "      <td>6.0</td>\n",
              "      <td>4709</td>\n",
              "      <td>0</td>\n",
              "      <td>43.002761</td>\n",
              "      <td>14.569393</td>\n",
              "      <td>0.338801</td>\n",
              "      <td>0</td>\n",
              "    </tr>\n",
              "    <tr>\n",
              "      <th>1</th>\n",
              "      <td>0</td>\n",
              "      <td>0</td>\n",
              "      <td>1</td>\n",
              "      <td>1</td>\n",
              "      <td>247500.0</td>\n",
              "      <td>0</td>\n",
              "      <td>4</td>\n",
              "      <td>0</td>\n",
              "      <td>1</td>\n",
              "      <td>11380</td>\n",
              "      <td>-1540</td>\n",
              "      <td>1</td>\n",
              "      <td>0</td>\n",
              "      <td>0</td>\n",
              "      <td>1</td>\n",
              "      <td>8</td>\n",
              "      <td>3.0</td>\n",
              "      <td>5.0</td>\n",
              "      <td>1540</td>\n",
              "      <td>0</td>\n",
              "      <td>160.714286</td>\n",
              "      <td>21.748682</td>\n",
              "      <td>0.135325</td>\n",
              "      <td>0</td>\n",
              "    </tr>\n",
              "    <tr>\n",
              "      <th>2</th>\n",
              "      <td>1</td>\n",
              "      <td>1</td>\n",
              "      <td>1</td>\n",
              "      <td>0</td>\n",
              "      <td>450000.0</td>\n",
              "      <td>4</td>\n",
              "      <td>1</td>\n",
              "      <td>1</td>\n",
              "      <td>1</td>\n",
              "      <td>19087</td>\n",
              "      <td>-4434</td>\n",
              "      <td>1</td>\n",
              "      <td>0</td>\n",
              "      <td>1</td>\n",
              "      <td>0</td>\n",
              "      <td>10</td>\n",
              "      <td>2.0</td>\n",
              "      <td>22.0</td>\n",
              "      <td>4434</td>\n",
              "      <td>0</td>\n",
              "      <td>101.488498</td>\n",
              "      <td>23.576256</td>\n",
              "      <td>0.232305</td>\n",
              "      <td>0</td>\n",
              "    </tr>\n",
              "    <tr>\n",
              "      <th>3</th>\n",
              "      <td>0</td>\n",
              "      <td>0</td>\n",
              "      <td>1</td>\n",
              "      <td>0</td>\n",
              "      <td>202500.0</td>\n",
              "      <td>0</td>\n",
              "      <td>4</td>\n",
              "      <td>1</td>\n",
              "      <td>1</td>\n",
              "      <td>15088</td>\n",
              "      <td>-2092</td>\n",
              "      <td>1</td>\n",
              "      <td>0</td>\n",
              "      <td>1</td>\n",
              "      <td>0</td>\n",
              "      <td>15</td>\n",
              "      <td>2.0</td>\n",
              "      <td>37.0</td>\n",
              "      <td>2092</td>\n",
              "      <td>0</td>\n",
              "      <td>96.797323</td>\n",
              "      <td>13.421262</td>\n",
              "      <td>0.138653</td>\n",
              "      <td>1</td>\n",
              "    </tr>\n",
              "    <tr>\n",
              "      <th>4</th>\n",
              "      <td>0</td>\n",
              "      <td>1</td>\n",
              "      <td>1</td>\n",
              "      <td>0</td>\n",
              "      <td>157500.0</td>\n",
              "      <td>2</td>\n",
              "      <td>1</td>\n",
              "      <td>1</td>\n",
              "      <td>1</td>\n",
              "      <td>15037</td>\n",
              "      <td>-2105</td>\n",
              "      <td>1</td>\n",
              "      <td>0</td>\n",
              "      <td>0</td>\n",
              "      <td>0</td>\n",
              "      <td>10</td>\n",
              "      <td>2.0</td>\n",
              "      <td>26.0</td>\n",
              "      <td>2105</td>\n",
              "      <td>0</td>\n",
              "      <td>74.821853</td>\n",
              "      <td>10.474164</td>\n",
              "      <td>0.139988</td>\n",
              "      <td>0</td>\n",
              "    </tr>\n",
              "  </tbody>\n",
              "</table>\n",
              "</div>"
            ],
            "text/plain": [
              "   gender  car  reality  child_num  ...         IEp        IBp       EBp  staff\n",
              "0       0    0        0          0  ...   43.002761  14.569393  0.338801      0\n",
              "1       0    0        1          1  ...  160.714286  21.748682  0.135325      0\n",
              "2       1    1        1          0  ...  101.488498  23.576256  0.232305      0\n",
              "3       0    0        1          0  ...   96.797323  13.421262  0.138653      1\n",
              "4       0    1        1          0  ...   74.821853  10.474164  0.139988      0\n",
              "\n",
              "[5 rows x 24 columns]"
            ]
          },
          "metadata": {
            "tags": []
          },
          "execution_count": 11
        }
      ]
    },
    {
      "cell_type": "markdown",
      "metadata": {
        "id": "fA-Z7tJ10EVO"
      },
      "source": [
        "# 베이지안 파라미터 튜닝"
      ]
    },
    {
      "cell_type": "code",
      "metadata": {
        "colab": {
          "base_uri": "https://localhost:8080/"
        },
        "id": "KBiP5Eix03yU",
        "outputId": "317ad4d7-04fd-41ab-a667-3dda45811a99"
      },
      "source": [
        "!pip install bayesian-optimization"
      ],
      "execution_count": null,
      "outputs": [
        {
          "output_type": "stream",
          "text": [
            "Collecting bayesian-optimization\n",
            "  Downloading https://files.pythonhosted.org/packages/bb/7a/fd8059a3881d3ab37ac8f72f56b73937a14e8bb14a9733e68cc8b17dbe3c/bayesian-optimization-1.2.0.tar.gz\n",
            "Requirement already satisfied: numpy>=1.9.0 in /usr/local/lib/python3.7/dist-packages (from bayesian-optimization) (1.19.5)\n",
            "Requirement already satisfied: scipy>=0.14.0 in /usr/local/lib/python3.7/dist-packages (from bayesian-optimization) (1.4.1)\n",
            "Requirement already satisfied: scikit-learn>=0.18.0 in /usr/local/lib/python3.7/dist-packages (from bayesian-optimization) (0.22.2.post1)\n",
            "Requirement already satisfied: joblib>=0.11 in /usr/local/lib/python3.7/dist-packages (from scikit-learn>=0.18.0->bayesian-optimization) (1.0.1)\n",
            "Building wheels for collected packages: bayesian-optimization\n",
            "  Building wheel for bayesian-optimization (setup.py) ... \u001b[?25l\u001b[?25hdone\n",
            "  Created wheel for bayesian-optimization: filename=bayesian_optimization-1.2.0-cp37-none-any.whl size=11687 sha256=a88568f617415c13e300f3c1df115d8c5daad9b50170c1d3253048b9a7459ade\n",
            "  Stored in directory: /root/.cache/pip/wheels/5a/56/ae/e0e3c1fc1954dc3ec712e2df547235ed072b448094d8f94aec\n",
            "Successfully built bayesian-optimization\n",
            "Installing collected packages: bayesian-optimization\n",
            "Successfully installed bayesian-optimization-1.2.0\n"
          ],
          "name": "stdout"
        }
      ]
    },
    {
      "cell_type": "code",
      "metadata": {
        "colab": {
          "base_uri": "https://localhost:8080/"
        },
        "id": "ZF1qGs5c0GtR",
        "outputId": "1d74197d-5c7b-4f15-fe9a-cb02bbf99348"
      },
      "source": [
        "from sklearn.metrics import log_loss, make_scorer\n",
        "from sklearn.model_selection import cross_validate\n",
        "from bayes_opt import BayesianOptimization\n",
        "from sklearn.model_selection import StratifiedKFold\n",
        "import lightgbm as LGBM\n",
        "\n",
        "n_split = 5\n",
        "\n",
        "def lgbm_cv(learning_rate, num_leaves, max_depth, min_child_weight, colsample_bytree, subsample):\n",
        "  model = LGBM.LGBMClassifier(\n",
        "                              random_state = 22,\n",
        "                              tree_method = 'gpu_hist',\n",
        "                              predictor = 'gpu_predictor',\n",
        "                              n_estimators = 1000,\n",
        "                              learning_rate = learning_rate,\n",
        "                              num_leaves = int(round(num_leaves)),\n",
        "                              max_depth = int(round(max_depth)),\n",
        "                              min_child_weight = min_child_weight,\n",
        "                              colsample_bytree = colsample_bytree,\n",
        "                              subsample = subsample\n",
        "                              )\n",
        "  cv = StratifiedKFold(n_splits = n_split, shuffle=True, random_state = 22)\n",
        "  result = cross_validate(model, X_train, y_train, cv = cv, scoring='neg_log_loss')\n",
        "  result = result['test_score'].mean()\n",
        "  return result\n",
        "\n",
        "# param = {\n",
        "#     'random_state' : 22,\n",
        "#     'tree_method' : 'gpu_hist',\n",
        "#     'predictor' : 'gpu_predictor',\n",
        "#     'n_estimators' : 2000,\n",
        "#     'max_depth' : -1,\n",
        "#     # 'subsample' : np.random.uniform(low=0.5, high=1),\n",
        "#     # 'colsample_bytree' : np.random.uniform(low=0.5, high=1),\n",
        "#     # 'learning_rate' : random.choice([0.1, 0.09, 0.08, 0.07, 0.06, 0.05]),\n",
        "#     'subsample' : 0.7,\n",
        "#     'colsample_bytree' : 0.7,\n",
        "#     'learning_rate' :  0.05,\n",
        "#     'boosting_type' : 'gbdt',\n",
        "#     'metric' : 'multiclass'\n",
        "# }\n",
        "\n",
        "pbounds = {'learning_rate' : (0.009, 0.01),\n",
        "           'num_leaves': (250, 330),\n",
        "           'max_depth': (100, 200),\n",
        "           'min_child_weight': (0.001, 5),\n",
        "           'colsample_bytree': (0.25, 0.35),\n",
        "           'subsample': (0.1, 0.4)\n",
        "          }\n",
        "\n",
        "lgbmBO = BayesianOptimization(f = lgbm_cv, pbounds = pbounds, verbose = 2, random_state = 22)\n",
        "lgbmBO.maximize(init_points=10, n_iter = 50, acq='ei', xi=0.01)"
      ],
      "execution_count": null,
      "outputs": [
        {
          "output_type": "stream",
          "text": [
            "|   iter    |  target   | colsam... | learni... | max_depth | min_ch... | num_le... | subsample |\n",
            "-------------------------------------------------------------------------------------------------\n",
            "| \u001b[0m 1       \u001b[0m | \u001b[0m-0.7039  \u001b[0m | \u001b[0m 0.2708  \u001b[0m | \u001b[0m 0.009482\u001b[0m | \u001b[0m 142.1   \u001b[0m | \u001b[0m 4.296   \u001b[0m | \u001b[0m 263.7   \u001b[0m | \u001b[0m 0.2017  \u001b[0m |\n",
            "| \u001b[95m 2       \u001b[0m | \u001b[95m-0.7037  \u001b[0m | \u001b[95m 0.2771  \u001b[0m | \u001b[95m 0.009691\u001b[0m | \u001b[95m 122.0   \u001b[0m | \u001b[95m 4.06    \u001b[0m | \u001b[95m 250.8   \u001b[0m | \u001b[95m 0.2684  \u001b[0m |\n",
            "| \u001b[0m 3       \u001b[0m | \u001b[0m-0.7055  \u001b[0m | \u001b[0m 0.3314  \u001b[0m | \u001b[0m 0.009745\u001b[0m | \u001b[0m 118.9   \u001b[0m | \u001b[0m 0.0317  \u001b[0m | \u001b[0m 311.8   \u001b[0m | \u001b[0m 0.3873  \u001b[0m |\n",
            "| \u001b[95m 4       \u001b[0m | \u001b[95m-0.7033  \u001b[0m | \u001b[95m 0.3202  \u001b[0m | \u001b[95m 0.009298\u001b[0m | \u001b[95m 176.8   \u001b[0m | \u001b[95m 3.441   \u001b[0m | \u001b[95m 281.0   \u001b[0m | \u001b[95m 0.2846  \u001b[0m |\n",
            "| \u001b[0m 5       \u001b[0m | \u001b[0m-0.7057  \u001b[0m | \u001b[0m 0.2928  \u001b[0m | \u001b[0m 0.009584\u001b[0m | \u001b[0m 170.3   \u001b[0m | \u001b[0m 0.5604  \u001b[0m | \u001b[0m 323.9   \u001b[0m | \u001b[0m 0.3967  \u001b[0m |\n",
            "| \u001b[0m 6       \u001b[0m | \u001b[0m-0.706   \u001b[0m | \u001b[0m 0.3177  \u001b[0m | \u001b[0m 0.009795\u001b[0m | \u001b[0m 102.9   \u001b[0m | \u001b[0m 0.8896  \u001b[0m | \u001b[0m 320.0   \u001b[0m | \u001b[0m 0.3235  \u001b[0m |\n",
            "| \u001b[0m 7       \u001b[0m | \u001b[0m-0.7039  \u001b[0m | \u001b[0m 0.3008  \u001b[0m | \u001b[0m 0.009128\u001b[0m | \u001b[0m 148.4   \u001b[0m | \u001b[0m 2.579   \u001b[0m | \u001b[0m 274.9   \u001b[0m | \u001b[0m 0.1137  \u001b[0m |\n",
            "| \u001b[0m 8       \u001b[0m | \u001b[0m-0.7049  \u001b[0m | \u001b[0m 0.2938  \u001b[0m | \u001b[0m 0.009096\u001b[0m | \u001b[0m 104.5   \u001b[0m | \u001b[0m 3.424   \u001b[0m | \u001b[0m 317.9   \u001b[0m | \u001b[0m 0.1376  \u001b[0m |\n",
            "| \u001b[0m 9       \u001b[0m | \u001b[0m-0.7045  \u001b[0m | \u001b[0m 0.2629  \u001b[0m | \u001b[0m 0.009473\u001b[0m | \u001b[0m 119.8   \u001b[0m | \u001b[0m 3.908   \u001b[0m | \u001b[0m 298.6   \u001b[0m | \u001b[0m 0.2331  \u001b[0m |\n",
            "| \u001b[0m 10      \u001b[0m | \u001b[0m-0.706   \u001b[0m | \u001b[0m 0.3482  \u001b[0m | \u001b[0m 0.009709\u001b[0m | \u001b[0m 121.9   \u001b[0m | \u001b[0m 0.8383  \u001b[0m | \u001b[0m 293.1   \u001b[0m | \u001b[0m 0.194   \u001b[0m |\n",
            "| \u001b[0m 11      \u001b[0m | \u001b[0m-0.7036  \u001b[0m | \u001b[0m 0.2699  \u001b[0m | \u001b[0m 0.009787\u001b[0m | \u001b[0m 199.7   \u001b[0m | \u001b[0m 4.368   \u001b[0m | \u001b[0m 250.9   \u001b[0m | \u001b[0m 0.2234  \u001b[0m |\n",
            "| \u001b[0m 12      \u001b[0m | \u001b[0m-0.7053  \u001b[0m | \u001b[0m 0.2857  \u001b[0m | \u001b[0m 0.009481\u001b[0m | \u001b[0m 199.9   \u001b[0m | \u001b[0m 3.188   \u001b[0m | \u001b[0m 328.9   \u001b[0m | \u001b[0m 0.1797  \u001b[0m |\n",
            "| \u001b[0m 13      \u001b[0m | \u001b[0m-0.7043  \u001b[0m | \u001b[0m 0.2627  \u001b[0m | \u001b[0m 0.00916 \u001b[0m | \u001b[0m 199.9   \u001b[0m | \u001b[0m 4.852   \u001b[0m | \u001b[0m 250.3   \u001b[0m | \u001b[0m 0.1502  \u001b[0m |\n",
            "| \u001b[0m 14      \u001b[0m | \u001b[0m-0.7036  \u001b[0m | \u001b[0m 0.2683  \u001b[0m | \u001b[0m 0.00967 \u001b[0m | \u001b[0m 102.2   \u001b[0m | \u001b[0m 2.587   \u001b[0m | \u001b[0m 250.2   \u001b[0m | \u001b[0m 0.2706  \u001b[0m |\n",
            "| \u001b[0m 15      \u001b[0m | \u001b[0m-0.7057  \u001b[0m | \u001b[0m 0.2563  \u001b[0m | \u001b[0m 0.009906\u001b[0m | \u001b[0m 199.7   \u001b[0m | \u001b[0m 1.733   \u001b[0m | \u001b[0m 329.4   \u001b[0m | \u001b[0m 0.3605  \u001b[0m |\n",
            "| \u001b[95m 16      \u001b[0m | \u001b[95m-0.7031  \u001b[0m | \u001b[95m 0.3495  \u001b[0m | \u001b[95m 0.009457\u001b[0m | \u001b[95m 199.9   \u001b[0m | \u001b[95m 2.41    \u001b[0m | \u001b[95m 250.4   \u001b[0m | \u001b[95m 0.3816  \u001b[0m |\n",
            "| \u001b[0m 17      \u001b[0m | \u001b[0m-0.705   \u001b[0m | \u001b[0m 0.2606  \u001b[0m | \u001b[0m 0.00999 \u001b[0m | \u001b[0m 100.2   \u001b[0m | \u001b[0m 2.546   \u001b[0m | \u001b[0m 250.0   \u001b[0m | \u001b[0m 0.1518  \u001b[0m |\n",
            "| \u001b[95m 18      \u001b[0m | \u001b[95m-0.7026  \u001b[0m | \u001b[95m 0.323   \u001b[0m | \u001b[95m 0.009283\u001b[0m | \u001b[95m 199.5   \u001b[0m | \u001b[95m 0.2399  \u001b[0m | \u001b[95m 250.9   \u001b[0m | \u001b[95m 0.2383  \u001b[0m |\n",
            "| \u001b[0m 19      \u001b[0m | \u001b[0m-0.7053  \u001b[0m | \u001b[0m 0.3011  \u001b[0m | \u001b[0m 0.00916 \u001b[0m | \u001b[0m 200.0   \u001b[0m | \u001b[0m 3.902   \u001b[0m | \u001b[0m 329.6   \u001b[0m | \u001b[0m 0.3153  \u001b[0m |\n",
            "| \u001b[0m 20      \u001b[0m | \u001b[0m-0.7042  \u001b[0m | \u001b[0m 0.2626  \u001b[0m | \u001b[0m 0.00919 \u001b[0m | \u001b[0m 100.0   \u001b[0m | \u001b[0m 1.96    \u001b[0m | \u001b[0m 250.2   \u001b[0m | \u001b[0m 0.1153  \u001b[0m |\n",
            "| \u001b[0m 21      \u001b[0m | \u001b[0m-0.7035  \u001b[0m | \u001b[0m 0.2748  \u001b[0m | \u001b[0m 0.00995 \u001b[0m | \u001b[0m 198.4   \u001b[0m | \u001b[0m 0.07222 \u001b[0m | \u001b[0m 250.9   \u001b[0m | \u001b[0m 0.3227  \u001b[0m |\n",
            "| \u001b[0m 22      \u001b[0m | \u001b[0m-0.7066  \u001b[0m | \u001b[0m 0.255   \u001b[0m | \u001b[0m 0.00926 \u001b[0m | \u001b[0m 199.1   \u001b[0m | \u001b[0m 4.905   \u001b[0m | \u001b[0m 250.0   \u001b[0m | \u001b[0m 0.3621  \u001b[0m |\n",
            "| \u001b[0m 23      \u001b[0m | \u001b[0m-0.7056  \u001b[0m | \u001b[0m 0.2583  \u001b[0m | \u001b[0m 0.009915\u001b[0m | \u001b[0m 101.1   \u001b[0m | \u001b[0m 4.046   \u001b[0m | \u001b[0m 329.8   \u001b[0m | \u001b[0m 0.3229  \u001b[0m |\n",
            "| \u001b[0m 24      \u001b[0m | \u001b[0m-0.7057  \u001b[0m | \u001b[0m 0.2902  \u001b[0m | \u001b[0m 0.009433\u001b[0m | \u001b[0m 199.7   \u001b[0m | \u001b[0m 1.524   \u001b[0m | \u001b[0m 329.7   \u001b[0m | \u001b[0m 0.2861  \u001b[0m |\n",
            "| \u001b[0m 25      \u001b[0m | \u001b[0m-0.7036  \u001b[0m | \u001b[0m 0.2781  \u001b[0m | \u001b[0m 0.009821\u001b[0m | \u001b[0m 100.1   \u001b[0m | \u001b[0m 4.176   \u001b[0m | \u001b[0m 251.4   \u001b[0m | \u001b[0m 0.1222  \u001b[0m |\n",
            "| \u001b[0m 26      \u001b[0m | \u001b[0m-0.7074  \u001b[0m | \u001b[0m 0.3315  \u001b[0m | \u001b[0m 0.009902\u001b[0m | \u001b[0m 100.4   \u001b[0m | \u001b[0m 0.1893  \u001b[0m | \u001b[0m 329.8   \u001b[0m | \u001b[0m 0.167   \u001b[0m |\n",
            "| \u001b[0m 27      \u001b[0m | \u001b[0m-0.7038  \u001b[0m | \u001b[0m 0.2713  \u001b[0m | \u001b[0m 0.009476\u001b[0m | \u001b[0m 101.1   \u001b[0m | \u001b[0m 4.777   \u001b[0m | \u001b[0m 250.3   \u001b[0m | \u001b[0m 0.1318  \u001b[0m |\n",
            "| \u001b[0m 28      \u001b[0m | \u001b[0m-0.7028  \u001b[0m | \u001b[0m 0.3181  \u001b[0m | \u001b[0m 0.00969 \u001b[0m | \u001b[0m 199.4   \u001b[0m | \u001b[0m 1.311   \u001b[0m | \u001b[0m 250.2   \u001b[0m | \u001b[0m 0.2315  \u001b[0m |\n",
            "| \u001b[0m 29      \u001b[0m | \u001b[0m-0.7028  \u001b[0m | \u001b[0m 0.331   \u001b[0m | \u001b[0m 0.00966 \u001b[0m | \u001b[0m 100.8   \u001b[0m | \u001b[0m 1.128   \u001b[0m | \u001b[0m 250.4   \u001b[0m | \u001b[0m 0.3803  \u001b[0m |\n",
            "| \u001b[0m 30      \u001b[0m | \u001b[0m-0.7052  \u001b[0m | \u001b[0m 0.3088  \u001b[0m | \u001b[0m 0.009044\u001b[0m | \u001b[0m 199.7   \u001b[0m | \u001b[0m 1.386   \u001b[0m | \u001b[0m 329.5   \u001b[0m | \u001b[0m 0.1804  \u001b[0m |\n",
            "| \u001b[0m 31      \u001b[0m | \u001b[0m-0.703   \u001b[0m | \u001b[0m 0.3168  \u001b[0m | \u001b[0m 0.00901 \u001b[0m | \u001b[0m 199.0   \u001b[0m | \u001b[0m 0.2046  \u001b[0m | \u001b[0m 250.5   \u001b[0m | \u001b[0m 0.3513  \u001b[0m |\n",
            "| \u001b[0m 32      \u001b[0m | \u001b[0m-0.703   \u001b[0m | \u001b[0m 0.3336  \u001b[0m | \u001b[0m 0.009934\u001b[0m | \u001b[0m 199.4   \u001b[0m | \u001b[0m 0.886   \u001b[0m | \u001b[0m 250.1   \u001b[0m | \u001b[0m 0.2036  \u001b[0m |\n",
            "| \u001b[0m 33      \u001b[0m | \u001b[0m-0.703   \u001b[0m | \u001b[0m 0.3292  \u001b[0m | \u001b[0m 0.009561\u001b[0m | \u001b[0m 100.2   \u001b[0m | \u001b[0m 4.717   \u001b[0m | \u001b[0m 250.4   \u001b[0m | \u001b[0m 0.3093  \u001b[0m |\n",
            "| \u001b[0m 34      \u001b[0m | \u001b[0m-0.7052  \u001b[0m | \u001b[0m 0.2848  \u001b[0m | \u001b[0m 0.009189\u001b[0m | \u001b[0m 100.6   \u001b[0m | \u001b[0m 3.727   \u001b[0m | \u001b[0m 329.9   \u001b[0m | \u001b[0m 0.2497  \u001b[0m |\n",
            "| \u001b[0m 35      \u001b[0m | \u001b[0m-0.7028  \u001b[0m | \u001b[0m 0.3334  \u001b[0m | \u001b[0m 0.009133\u001b[0m | \u001b[0m 100.0   \u001b[0m | \u001b[0m 2.823   \u001b[0m | \u001b[0m 250.2   \u001b[0m | \u001b[0m 0.321   \u001b[0m |\n",
            "| \u001b[0m 36      \u001b[0m | \u001b[0m-0.705   \u001b[0m | \u001b[0m 0.2501  \u001b[0m | \u001b[0m 0.009972\u001b[0m | \u001b[0m 199.3   \u001b[0m | \u001b[0m 3.565   \u001b[0m | \u001b[0m 250.1   \u001b[0m | \u001b[0m 0.1277  \u001b[0m |\n",
            "| \u001b[0m 37      \u001b[0m | \u001b[0m-0.7068  \u001b[0m | \u001b[0m 0.339   \u001b[0m | \u001b[0m 0.009829\u001b[0m | \u001b[0m 199.4   \u001b[0m | \u001b[0m 1.657   \u001b[0m | \u001b[0m 329.9   \u001b[0m | \u001b[0m 0.2379  \u001b[0m |\n",
            "| \u001b[0m 38      \u001b[0m | \u001b[0m-0.7051  \u001b[0m | \u001b[0m 0.2981  \u001b[0m | \u001b[0m 0.009026\u001b[0m | \u001b[0m 130.1   \u001b[0m | \u001b[0m 3.948   \u001b[0m | \u001b[0m 327.5   \u001b[0m | \u001b[0m 0.1446  \u001b[0m |\n",
            "| \u001b[0m 39      \u001b[0m | \u001b[0m-0.704   \u001b[0m | \u001b[0m 0.3499  \u001b[0m | \u001b[0m 0.009552\u001b[0m | \u001b[0m 153.0   \u001b[0m | \u001b[0m 1.885   \u001b[0m | \u001b[0m 264.9   \u001b[0m | \u001b[0m 0.373   \u001b[0m |\n",
            "| \u001b[0m 40      \u001b[0m | \u001b[0m-0.7042  \u001b[0m | \u001b[0m 0.2766  \u001b[0m | \u001b[0m 0.00914 \u001b[0m | \u001b[0m 108.6   \u001b[0m | \u001b[0m 1.363   \u001b[0m | \u001b[0m 277.0   \u001b[0m | \u001b[0m 0.2733  \u001b[0m |\n",
            "| \u001b[0m 41      \u001b[0m | \u001b[0m-0.7056  \u001b[0m | \u001b[0m 0.259   \u001b[0m | \u001b[0m 0.009385\u001b[0m | \u001b[0m 172.7   \u001b[0m | \u001b[0m 0.1561  \u001b[0m | \u001b[0m 301.7   \u001b[0m | \u001b[0m 0.1137  \u001b[0m |\n",
            "| \u001b[0m 42      \u001b[0m | \u001b[0m-0.7029  \u001b[0m | \u001b[0m 0.3099  \u001b[0m | \u001b[0m 0.009106\u001b[0m | \u001b[0m 126.5   \u001b[0m | \u001b[0m 3.122   \u001b[0m | \u001b[0m 275.8   \u001b[0m | \u001b[0m 0.3793  \u001b[0m |\n",
            "| \u001b[0m 43      \u001b[0m | \u001b[0m-0.7034  \u001b[0m | \u001b[0m 0.2725  \u001b[0m | \u001b[0m 0.009971\u001b[0m | \u001b[0m 109.8   \u001b[0m | \u001b[0m 2.627   \u001b[0m | \u001b[0m 253.2   \u001b[0m | \u001b[0m 0.1069  \u001b[0m |\n",
            "| \u001b[0m 44      \u001b[0m | \u001b[0m-0.7039  \u001b[0m | \u001b[0m 0.3445  \u001b[0m | \u001b[0m 0.009307\u001b[0m | \u001b[0m 102.3   \u001b[0m | \u001b[0m 0.1004  \u001b[0m | \u001b[0m 297.8   \u001b[0m | \u001b[0m 0.2466  \u001b[0m |\n",
            "| \u001b[0m 45      \u001b[0m | \u001b[0m-0.7035  \u001b[0m | \u001b[0m 0.3437  \u001b[0m | \u001b[0m 0.009893\u001b[0m | \u001b[0m 167.6   \u001b[0m | \u001b[0m 0.5034  \u001b[0m | \u001b[0m 266.4   \u001b[0m | \u001b[0m 0.357   \u001b[0m |\n",
            "| \u001b[0m 46      \u001b[0m | \u001b[0m-0.7036  \u001b[0m | \u001b[0m 0.3395  \u001b[0m | \u001b[0m 0.009435\u001b[0m | \u001b[0m 190.8   \u001b[0m | \u001b[0m 2.343   \u001b[0m | \u001b[0m 286.8   \u001b[0m | \u001b[0m 0.113   \u001b[0m |\n",
            "| \u001b[0m 47      \u001b[0m | \u001b[0m-0.7059  \u001b[0m | \u001b[0m 0.254   \u001b[0m | \u001b[0m 0.009101\u001b[0m | \u001b[0m 181.4   \u001b[0m | \u001b[0m 1.502   \u001b[0m | \u001b[0m 291.3   \u001b[0m | \u001b[0m 0.1759  \u001b[0m |\n",
            "| \u001b[0m 48      \u001b[0m | \u001b[0m-0.7056  \u001b[0m | \u001b[0m 0.2528  \u001b[0m | \u001b[0m 0.00991 \u001b[0m | \u001b[0m 162.7   \u001b[0m | \u001b[0m 4.657   \u001b[0m | \u001b[0m 297.1   \u001b[0m | \u001b[0m 0.3338  \u001b[0m |\n",
            "| \u001b[0m 49      \u001b[0m | \u001b[0m-0.7037  \u001b[0m | \u001b[0m 0.3213  \u001b[0m | \u001b[0m 0.009872\u001b[0m | \u001b[0m 174.2   \u001b[0m | \u001b[0m 3.232   \u001b[0m | \u001b[0m 283.5   \u001b[0m | \u001b[0m 0.3745  \u001b[0m |\n",
            "| \u001b[0m 50      \u001b[0m | \u001b[0m-0.7068  \u001b[0m | \u001b[0m 0.2512  \u001b[0m | \u001b[0m 0.009039\u001b[0m | \u001b[0m 114.7   \u001b[0m | \u001b[0m 1.222   \u001b[0m | \u001b[0m 252.3   \u001b[0m | \u001b[0m 0.2033  \u001b[0m |\n",
            "| \u001b[0m 51      \u001b[0m | \u001b[0m-0.7046  \u001b[0m | \u001b[0m 0.2761  \u001b[0m | \u001b[0m 0.00961 \u001b[0m | \u001b[0m 195.4   \u001b[0m | \u001b[0m 3.313   \u001b[0m | \u001b[0m 305.1   \u001b[0m | \u001b[0m 0.3994  \u001b[0m |\n",
            "| \u001b[0m 52      \u001b[0m | \u001b[0m-0.7039  \u001b[0m | \u001b[0m 0.2955  \u001b[0m | \u001b[0m 0.00949 \u001b[0m | \u001b[0m 110.2   \u001b[0m | \u001b[0m 2.823   \u001b[0m | \u001b[0m 288.3   \u001b[0m | \u001b[0m 0.2104  \u001b[0m |\n",
            "| \u001b[0m 53      \u001b[0m | \u001b[0m-0.7048  \u001b[0m | \u001b[0m 0.2613  \u001b[0m | \u001b[0m 0.009099\u001b[0m | \u001b[0m 107.4   \u001b[0m | \u001b[0m 3.765   \u001b[0m | \u001b[0m 319.7   \u001b[0m | \u001b[0m 0.1123  \u001b[0m |\n",
            "| \u001b[0m 54      \u001b[0m | \u001b[0m-0.706   \u001b[0m | \u001b[0m 0.306   \u001b[0m | \u001b[0m 0.009793\u001b[0m | \u001b[0m 167.3   \u001b[0m | \u001b[0m 0.9685  \u001b[0m | \u001b[0m 318.1   \u001b[0m | \u001b[0m 0.1836  \u001b[0m |\n",
            "| \u001b[0m 55      \u001b[0m | \u001b[0m-0.7044  \u001b[0m | \u001b[0m 0.282   \u001b[0m | \u001b[0m 0.009486\u001b[0m | \u001b[0m 163.7   \u001b[0m | \u001b[0m 2.569   \u001b[0m | \u001b[0m 303.8   \u001b[0m | \u001b[0m 0.1813  \u001b[0m |\n",
            "| \u001b[0m 56      \u001b[0m | \u001b[0m-0.7045  \u001b[0m | \u001b[0m 0.305   \u001b[0m | \u001b[0m 0.009936\u001b[0m | \u001b[0m 104.4   \u001b[0m | \u001b[0m 0.3666  \u001b[0m | \u001b[0m 288.8   \u001b[0m | \u001b[0m 0.1526  \u001b[0m |\n",
            "| \u001b[0m 57      \u001b[0m | \u001b[0m-0.704   \u001b[0m | \u001b[0m 0.3029  \u001b[0m | \u001b[0m 0.009227\u001b[0m | \u001b[0m 130.8   \u001b[0m | \u001b[0m 3.776   \u001b[0m | \u001b[0m 280.2   \u001b[0m | \u001b[0m 0.1704  \u001b[0m |\n",
            "| \u001b[0m 58      \u001b[0m | \u001b[0m-0.7044  \u001b[0m | \u001b[0m 0.3245  \u001b[0m | \u001b[0m 0.009121\u001b[0m | \u001b[0m 158.2   \u001b[0m | \u001b[0m 0.5165  \u001b[0m | \u001b[0m 310.9   \u001b[0m | \u001b[0m 0.1299  \u001b[0m |\n",
            "| \u001b[0m 59      \u001b[0m | \u001b[0m-0.7044  \u001b[0m | \u001b[0m 0.2915  \u001b[0m | \u001b[0m 0.009486\u001b[0m | \u001b[0m 125.8   \u001b[0m | \u001b[0m 1.098   \u001b[0m | \u001b[0m 292.8   \u001b[0m | \u001b[0m 0.1308  \u001b[0m |\n",
            "| \u001b[0m 60      \u001b[0m | \u001b[0m-0.7037  \u001b[0m | \u001b[0m 0.279   \u001b[0m | \u001b[0m 0.009701\u001b[0m | \u001b[0m 130.3   \u001b[0m | \u001b[0m 3.654   \u001b[0m | \u001b[0m 265.4   \u001b[0m | \u001b[0m 0.2519  \u001b[0m |\n",
            "=================================================================================================\n"
          ],
          "name": "stdout"
        }
      ]
    },
    {
      "cell_type": "markdown",
      "metadata": {
        "id": "BRJj7eAB7HBJ"
      },
      "source": [
        "|   iter    |  target   | colsam... | learni... | max_depth | min_ch... | num_le... | subsample |\n",
        "---------------------------------------------------------\n",
        "\n",
        "|  2        | -0.7194   |  0.4867   |  0.06914  |  25.16    |  8.12     |  22.15    |  0.6872   |\n",
        "\n",
        "\n",
        "|  20       | -0.7106   |  0.5989   |  0.003477 |  99.93    |  2.728    |  599.5    |  0.6563   |\n",
        "\n",
        "|  24       | -0.7035   |  0.3      |  0.009988 |  100.0    |  0.001    |  258.3    |  0.3      |\n",
        "\n",
        "|  7        | -0.7071   |  0.3032   |  0.01078  |  196.9    |  5.158    |  324.5    |  0.1183   |\n",
        "\n",
        "|  8        | -0.7112   |  0.2751   |  0.009315 |  109.0    |  6.848    |  539.7    |  0.1501   |\n",
        "\n",
        "|  18       | -0.7026   |  0.323    |  0.009283 |  199.5    |  0.2399   |  250.9    |  0.2383   |\n",
        "\n",
        "|  16       | -0.7031   |  0.3495   |  0.009457 |  199.9    |  2.41     |  250.4    |  0.3816   |\n",
        "\n",
        "| 4 | -0.7033 | 0.3202 | 0.009298 | 176.8 | 3.441 | 281.0 | 0.2846 |\n",
        "\n",
        "|  28       | -0.7028   |  0.3181   |  0.00969  |  199.4    |  1.311    |  250.2    |  0.2315   |\n",
        "\n",
        "|  27       | -0.7038   |  0.2713   |  0.009476 |  101.1    |  4.777    |  250.3    |  0.1318   |\n",
        "\n",
        "|  28       | -0.7028   |  0.3181   |  0.00969  |  199.4    |  1.311    |  250.2    |  0.2315   |\n",
        "\n",
        "|  29       | -0.7028   |  0.331    |  0.00966  |  100.8    |  1.128    |  250.4    |  0.3803   |\n"
      ]
    },
    {
      "cell_type": "markdown",
      "metadata": {
        "id": "gX07wrwELrnL"
      },
      "source": [
        "# 예측"
      ]
    },
    {
      "cell_type": "code",
      "metadata": {
        "id": "WMLDme7tZv6r"
      },
      "source": [
        "# 데이터 분할\n",
        "from sklearn.model_selection import StratifiedKFold\n",
        "\n",
        "# 모델\n",
        "import lightgbm as LGBM\n",
        "\n",
        "# 속도 체크\n",
        "from tqdm import tqdm_notebook\n",
        "\n",
        "# CV는 20로\n",
        "n_split = 10\n",
        "\n",
        "# 균등하게 니눌때 사용\n",
        "skf = StratifiedKFold(n_splits = n_split, shuffle=True, random_state=22)\n",
        "\n",
        "# train 데이터에 대한 예측 값이 저장될 배열\n",
        "lgbm_oof_train = np.zeros((y_train.shape[0], 3))\n",
        "\n",
        "# test 데이터에 대한 예측 값이 저장될 배열\n",
        "lgbm_oof_test = np.zeros((X_test.shape[0], 3))\n",
        "\n",
        "param = {\n",
        "    'random_state' : 22,\n",
        "    'tree_method' : 'gpu_hist',\n",
        "    'predictor' : 'gpu_predictor',\n",
        "    'max_depth' : 100,\n",
        "    'subsample' : 0.3,\n",
        "    'colsample_bytree' : 0.3,\n",
        "    'learning_rate' : 0.009988,\n",
        "    'n_estimators' : 2000,\n",
        "    'min_child_weight' : 0.001,\n",
        "    'num_leaves' : 258\n",
        "}\n",
        "\n",
        "lgbm = LGBM.LGBMClassifier(**param)\n",
        "\n",
        "# oof 방식을 통한 예측\n",
        "for trn_idx, val_idx in tqdm_notebook(skf.split(X_train, y_train)):\n",
        "  trn_data, trn_label = X_train.iloc[trn_idx], y_train.iloc[trn_idx]\n",
        "  val_data, val_label = X_train.iloc[val_idx], y_train.iloc[val_idx]\n",
        "\n",
        "  # LGBM\n",
        "  lgbm.fit(trn_data, trn_label, eval_set=(val_data, val_label), early_stopping_rounds = 100, verbose=0)\n",
        "  lgbm_valid_pred = lgbm.predict_proba(val_data)\n",
        "  lgbm_oof_train[val_idx] = lgbm_valid_pred\n",
        "\n",
        "  lgbm_test_pred = lgbm.predict_proba(X_test)\n",
        "  lgbm_oof_test += lgbm_test_pred / n_split"
      ],
      "execution_count": null,
      "outputs": []
    },
    {
      "cell_type": "code",
      "metadata": {
        "colab": {
          "base_uri": "https://localhost:8080/"
        },
        "id": "8GNXE8SGGkph",
        "outputId": "7c0de575-3a4d-4b13-dd4e-d64f2c319f6f"
      },
      "source": [
        "from sklearn.metrics import log_loss\n",
        "\n",
        "print(\"LGBMClassifier         :{} \".format( log_loss(y_train, lgbm_oof_train) ))"
      ],
      "execution_count": null,
      "outputs": [
        {
          "output_type": "stream",
          "text": [
            "LGBMClassifier         :0.6886720769846356 \n"
          ],
          "name": "stdout"
        }
      ]
    },
    {
      "cell_type": "code",
      "metadata": {
        "colab": {
          "base_uri": "https://localhost:8080/",
          "height": 197
        },
        "id": "KBbT65VXez0H",
        "outputId": "c44f5c38-7f5a-4f1d-f7dc-21626388e6a5"
      },
      "source": [
        "PATH = '/content/drive/MyDrive/DataAnalysis/신용카드 사용자 연체 예측 AI 경진대회/output/'\n",
        "\n",
        "submission.iloc[:, 1:] = lgbm_oof_test\n",
        "submission.to_csv(PATH + '20210423_LGBM_cv20.csv', index=False)\n",
        "submission.head()"
      ],
      "execution_count": null,
      "outputs": [
        {
          "output_type": "execute_result",
          "data": {
            "text/html": [
              "<div>\n",
              "<style scoped>\n",
              "    .dataframe tbody tr th:only-of-type {\n",
              "        vertical-align: middle;\n",
              "    }\n",
              "\n",
              "    .dataframe tbody tr th {\n",
              "        vertical-align: top;\n",
              "    }\n",
              "\n",
              "    .dataframe thead th {\n",
              "        text-align: right;\n",
              "    }\n",
              "</style>\n",
              "<table border=\"1\" class=\"dataframe\">\n",
              "  <thead>\n",
              "    <tr style=\"text-align: right;\">\n",
              "      <th></th>\n",
              "      <th>index</th>\n",
              "      <th>0</th>\n",
              "      <th>1</th>\n",
              "      <th>2</th>\n",
              "    </tr>\n",
              "  </thead>\n",
              "  <tbody>\n",
              "    <tr>\n",
              "      <th>0</th>\n",
              "      <td>26457</td>\n",
              "      <td>0.084337</td>\n",
              "      <td>0.097750</td>\n",
              "      <td>0.817913</td>\n",
              "    </tr>\n",
              "    <tr>\n",
              "      <th>1</th>\n",
              "      <td>26458</td>\n",
              "      <td>0.303054</td>\n",
              "      <td>0.262711</td>\n",
              "      <td>0.434235</td>\n",
              "    </tr>\n",
              "    <tr>\n",
              "      <th>2</th>\n",
              "      <td>26459</td>\n",
              "      <td>0.021173</td>\n",
              "      <td>0.043047</td>\n",
              "      <td>0.935780</td>\n",
              "    </tr>\n",
              "    <tr>\n",
              "      <th>3</th>\n",
              "      <td>26460</td>\n",
              "      <td>0.093202</td>\n",
              "      <td>0.104168</td>\n",
              "      <td>0.802630</td>\n",
              "    </tr>\n",
              "    <tr>\n",
              "      <th>4</th>\n",
              "      <td>26461</td>\n",
              "      <td>0.071534</td>\n",
              "      <td>0.173334</td>\n",
              "      <td>0.755133</td>\n",
              "    </tr>\n",
              "  </tbody>\n",
              "</table>\n",
              "</div>"
            ],
            "text/plain": [
              "   index         0         1         2\n",
              "0  26457  0.084337  0.097750  0.817913\n",
              "1  26458  0.303054  0.262711  0.434235\n",
              "2  26459  0.021173  0.043047  0.935780\n",
              "3  26460  0.093202  0.104168  0.802630\n",
              "4  26461  0.071534  0.173334  0.755133"
            ]
          },
          "metadata": {
            "tags": []
          },
          "execution_count": 15
        }
      ]
    },
    {
      "cell_type": "markdown",
      "metadata": {
        "id": "YFGLRoN4Tx7n"
      },
      "source": [
        "LGBMRegressor         :0.7057181451888594 <- cv20\n",
        "\n",
        "\n",
        "LGBMRegressor         :0.7069431176226842 <- cv100"
      ]
    },
    {
      "cell_type": "code",
      "metadata": {
        "colab": {
          "base_uri": "https://localhost:8080/",
          "height": 714
        },
        "id": "-OFdWrxzgHRr",
        "outputId": "f7090937-a21c-43f0-d05f-491493210df9"
      },
      "source": [
        "figure, ax = plt.subplots(nrows=1, ncols=1)\n",
        "figure.set_size_inches(40, 15)\n",
        "\n",
        "# LGBM\n",
        "ax.bar( X_train.columns,  lgbm.feature_importances_ )\n",
        "ax.axhline(y=0, color='r', linestyle='-')\n",
        "ax.set(title=\"Coef of LGBM\")"
      ],
      "execution_count": null,
      "outputs": [
        {
          "output_type": "execute_result",
          "data": {
            "text/plain": [
              "[Text(0.5, 1.0, 'Coef of LGBM')]"
            ]
          },
          "metadata": {
            "tags": []
          },
          "execution_count": 31
        },
        {
          "output_type": "display_data",
          "data": {
            "image/png": "[encoded data removed]",
            "text/plain": [
              "<Figure size 2880x1080 with 1 Axes>"
            ]
          },
          "metadata": {
            "tags": [],
            "needs_background": "light"
          }
        }
      ]
    },
    {
      "cell_type": "code",
      "metadata": {
        "colab": {
          "base_uri": "https://localhost:8080/",
          "height": 949,
          "referenced_widgets": [
            "8fa69d09e9314f9290b65976afcd22a1",
            "68c324d5a9784dacac3743bd95387e10",
            "27c367d8906548858fe70abc22940696",
            "3945784736824bb9bc72e0206a5f38d8",
            "6f4252d7af2248f68a697259dc7a8e1e",
            "9fa34c9bafd3460b867d8d297d77b6f1",
            "58ba494a99cd4fcc85069f5d28d9e446",
            "37eca6c4b91b474790b3ffdc793f9645"
          ]
        },
        "id": "3Vh_KAmgtiaA",
        "outputId": "4f0fc7c9-1142-4880-c808-6fa1b8647bc9"
      },
      "source": [
        "# 데이터 분할\n",
        "from sklearn.model_selection import StratifiedKFold\n",
        "\n",
        "# 모델\n",
        "import lightgbm as LGBM\n",
        "\n",
        "# 속도 체크\n",
        "from tqdm import tqdm_notebook\n",
        "\n",
        "# 성능 체크\n",
        "from sklearn.metrics import log_loss\n",
        "\n",
        "# CV는 20로\n",
        "n_split = 10\n",
        "\n",
        "# 균등하게 니눌때 사용\n",
        "skf = StratifiedKFold(n_splits = n_split, shuffle=True, random_state=22)\n",
        "\n",
        "# train 데이터에 대한 예측 값이 저장될 배열\n",
        "lgbm_oof_train = np.zeros((y_train.shape[0], 3))\n",
        "\n",
        "# test 데이터에 대한 예측 값이 저장될 배열\n",
        "lgbm_oof_test = np.zeros((X_test.shape[0], 3))\n",
        "\n",
        "# | iter      | target    | colsam... | learni... | max_depth | min_ch... | num_le... | subsample |\n",
        "\n",
        "# |  4        | -0.7033   |  0.3202   |  0.009298 |  176.8    |  3.441    |  281.0    |  0.2846   |\n",
        "\n",
        "# |  18       | -0.7026   |  0.323    |  0.009283 |  199.5    |  0.2399   |  250.9    |  0.2383   |\n",
        "\n",
        "# |  16       | -0.7031   |  0.3495   |  0.009457 |  199.9    |  2.41     |  250.4    |  0.3816   |\n",
        "\n",
        "# |  29       | -0.7028   |  0.331    |  0.00966  |  100.8    |  1.128    |  250.4    |  0.3803   |\n",
        "\n",
        "param = {\n",
        "    'random_state' : 22,\n",
        "    'tree_method' : 'gpu_hist',\n",
        "    'predictor' : 'gpu_predictor',\n",
        "    'max_depth' : 200,\n",
        "    'subsample' : 0.2383,\n",
        "    'colsample_bytree' : 0.323,\n",
        "    'learning_rate' : 0.009283,\n",
        "    'n_estimators' : 100000,\n",
        "    'min_child_weight' : 0.2399,\n",
        "    'num_leaves' : 251\n",
        "}\n",
        "\n",
        "lgbm = LGBM.LGBMClassifier(**param)\n",
        "\n",
        "result = []\n",
        "pred_li = []\n",
        "idx = 0\n",
        "\n",
        "# oof 방식을 통한 예측\n",
        "for trn_idx, val_idx in tqdm_notebook(skf.split(X_train, y_train)):\n",
        "  trn_data, trn_label = X_train.iloc[trn_idx], y_train.iloc[trn_idx]\n",
        "  val_data, val_label = X_train.iloc[val_idx], y_train.iloc[val_idx]\n",
        "\n",
        "  # LGBM\n",
        "  lgbm.fit(trn_data, trn_label, eval_set=(val_data, val_label), early_stopping_rounds = 500, verbose=-1)\n",
        "  lgbm_valid_pred = lgbm.predict_proba(val_data)\n",
        "  lgbm_oof_train[val_idx] = lgbm_valid_pred\n",
        "\n",
        "  lgbm_test_pred = lgbm.predict_proba(X_test)\n",
        "  lgbm_oof_test += lgbm_test_pred / n_split\n",
        "\n",
        "  score = log_loss(val_label, lgbm_valid_pred)\n",
        "  result.append(\n",
        "      {\"idx\"   : idx,\n",
        "       \"val_score\" : score}\n",
        "  )\n",
        "  pred_li.append(lgbm_test_pred)\n",
        "  idx += 1\n",
        "\n",
        "result = pd.DataFrame(result)\n",
        "result"
      ],
      "execution_count": null,
      "outputs": [
        {
          "output_type": "display_data",
          "data": {
            "application/vnd.jupyter.widget-view+json": {
              "model_id": "8fa69d09e9314f9290b65976afcd22a1",
              "version_minor": 0,
              "version_major": 2
            },
            "text/plain": [
              "HBox(children=(FloatProgress(value=1.0, bar_style='info', max=1.0), HTML(value='')))"
            ]
          },
          "metadata": {
            "tags": []
          }
        },
        {
          "output_type": "stream",
          "text": [
            "Training until validation scores don't improve for 500 rounds.\n",
            "Early stopping, best iteration is:\n",
            "[1205]\tvalid_0's multi_logloss: 0.686192\n",
            "Training until validation scores don't improve for 500 rounds.\n",
            "Early stopping, best iteration is:\n",
            "[1009]\tvalid_0's multi_logloss: 0.707644\n",
            "Training until validation scores don't improve for 500 rounds.\n",
            "Early stopping, best iteration is:\n",
            "[1099]\tvalid_0's multi_logloss: 0.693135\n",
            "Training until validation scores don't improve for 500 rounds.\n",
            "Early stopping, best iteration is:\n",
            "[1034]\tvalid_0's multi_logloss: 0.694445\n",
            "Training until validation scores don't improve for 500 rounds.\n",
            "Early stopping, best iteration is:\n",
            "[1104]\tvalid_0's multi_logloss: 0.691122\n",
            "Training until validation scores don't improve for 500 rounds.\n",
            "Early stopping, best iteration is:\n",
            "[1143]\tvalid_0's multi_logloss: 0.689186\n",
            "Training until validation scores don't improve for 500 rounds.\n",
            "Early stopping, best iteration is:\n",
            "[1145]\tvalid_0's multi_logloss: 0.697365\n",
            "Training until validation scores don't improve for 500 rounds.\n",
            "Early stopping, best iteration is:\n",
            "[1031]\tvalid_0's multi_logloss: 0.707118\n",
            "Training until validation scores don't improve for 500 rounds.\n",
            "Early stopping, best iteration is:\n",
            "[1318]\tvalid_0's multi_logloss: 0.674094\n",
            "Training until validation scores don't improve for 500 rounds.\n",
            "Early stopping, best iteration is:\n",
            "[1084]\tvalid_0's multi_logloss: 0.676263\n",
            "\n"
          ],
          "name": "stdout"
        },
        {
          "output_type": "execute_result",
          "data": {
            "text/html": [
              "<div>\n",
              "<style scoped>\n",
              "    .dataframe tbody tr th:only-of-type {\n",
              "        vertical-align: middle;\n",
              "    }\n",
              "\n",
              "    .dataframe tbody tr th {\n",
              "        vertical-align: top;\n",
              "    }\n",
              "\n",
              "    .dataframe thead th {\n",
              "        text-align: right;\n",
              "    }\n",
              "</style>\n",
              "<table border=\"1\" class=\"dataframe\">\n",
              "  <thead>\n",
              "    <tr style=\"text-align: right;\">\n",
              "      <th></th>\n",
              "      <th>idx</th>\n",
              "      <th>val_score</th>\n",
              "    </tr>\n",
              "  </thead>\n",
              "  <tbody>\n",
              "    <tr>\n",
              "      <th>0</th>\n",
              "      <td>0</td>\n",
              "      <td>0.686192</td>\n",
              "    </tr>\n",
              "    <tr>\n",
              "      <th>1</th>\n",
              "      <td>1</td>\n",
              "      <td>0.707644</td>\n",
              "    </tr>\n",
              "    <tr>\n",
              "      <th>2</th>\n",
              "      <td>2</td>\n",
              "      <td>0.693135</td>\n",
              "    </tr>\n",
              "    <tr>\n",
              "      <th>3</th>\n",
              "      <td>3</td>\n",
              "      <td>0.694445</td>\n",
              "    </tr>\n",
              "    <tr>\n",
              "      <th>4</th>\n",
              "      <td>4</td>\n",
              "      <td>0.691122</td>\n",
              "    </tr>\n",
              "    <tr>\n",
              "      <th>5</th>\n",
              "      <td>5</td>\n",
              "      <td>0.689186</td>\n",
              "    </tr>\n",
              "    <tr>\n",
              "      <th>6</th>\n",
              "      <td>6</td>\n",
              "      <td>0.697365</td>\n",
              "    </tr>\n",
              "    <tr>\n",
              "      <th>7</th>\n",
              "      <td>7</td>\n",
              "      <td>0.707118</td>\n",
              "    </tr>\n",
              "    <tr>\n",
              "      <th>8</th>\n",
              "      <td>8</td>\n",
              "      <td>0.674094</td>\n",
              "    </tr>\n",
              "    <tr>\n",
              "      <th>9</th>\n",
              "      <td>9</td>\n",
              "      <td>0.676263</td>\n",
              "    </tr>\n",
              "  </tbody>\n",
              "</table>\n",
              "</div>"
            ],
            "text/plain": [
              "   idx  val_score\n",
              "0    0   0.686192\n",
              "1    1   0.707644\n",
              "2    2   0.693135\n",
              "3    3   0.694445\n",
              "4    4   0.691122\n",
              "5    5   0.689186\n",
              "6    6   0.697365\n",
              "7    7   0.707118\n",
              "8    8   0.674094\n",
              "9    9   0.676263"
            ]
          },
          "metadata": {
            "tags": []
          },
          "execution_count": 39
        }
      ]
    },
    {
      "cell_type": "code",
      "metadata": {
        "id": "8JcblhL8pgpD"
      },
      "source": [
        "want_score = 0.68"
      ],
      "execution_count": null,
      "outputs": []
    },
    {
      "cell_type": "code",
      "metadata": {
        "colab": {
          "base_uri": "https://localhost:8080/",
          "height": 204
        },
        "id": "o9nTKKWWfbNo",
        "outputId": "381d70f0-4053-49ca-ac38-f766f2a336e1"
      },
      "source": [
        "from sklearn.metrics import log_loss\n",
        "\n",
        "test_submit_df = np.zeros((X_test.shape[0], 3))\n",
        "idx_li = result[result['val_score'] <= want_score]['idx'].values.tolist()\n",
        "for idx in idx_li:\n",
        "  test_submit_df += pred_li[idx] / len(idx_li)\n",
        "\n",
        "PATH = '/content/drive/MyDrive/DataAnalysis/신용카드 사용자 연체 예측 AI 경진대회/output/'\n",
        "\n",
        "submission.iloc[:, 1:] = test_submit_df\n",
        "submission.to_csv(PATH + '20210510_LGBM_best_675_7026.csv', index=False)\n",
        "submission.head()"
      ],
      "execution_count": null,
      "outputs": [
        {
          "output_type": "execute_result",
          "data": {
            "text/html": [
              "<div>\n",
              "<style scoped>\n",
              "    .dataframe tbody tr th:only-of-type {\n",
              "        vertical-align: middle;\n",
              "    }\n",
              "\n",
              "    .dataframe tbody tr th {\n",
              "        vertical-align: top;\n",
              "    }\n",
              "\n",
              "    .dataframe thead th {\n",
              "        text-align: right;\n",
              "    }\n",
              "</style>\n",
              "<table border=\"1\" class=\"dataframe\">\n",
              "  <thead>\n",
              "    <tr style=\"text-align: right;\">\n",
              "      <th></th>\n",
              "      <th>index</th>\n",
              "      <th>0</th>\n",
              "      <th>1</th>\n",
              "      <th>2</th>\n",
              "    </tr>\n",
              "  </thead>\n",
              "  <tbody>\n",
              "    <tr>\n",
              "      <th>0</th>\n",
              "      <td>26457</td>\n",
              "      <td>0.071098</td>\n",
              "      <td>0.093486</td>\n",
              "      <td>0.835417</td>\n",
              "    </tr>\n",
              "    <tr>\n",
              "      <th>1</th>\n",
              "      <td>26458</td>\n",
              "      <td>0.317169</td>\n",
              "      <td>0.299084</td>\n",
              "      <td>0.383747</td>\n",
              "    </tr>\n",
              "    <tr>\n",
              "      <th>2</th>\n",
              "      <td>26459</td>\n",
              "      <td>0.019907</td>\n",
              "      <td>0.040615</td>\n",
              "      <td>0.939478</td>\n",
              "    </tr>\n",
              "    <tr>\n",
              "      <th>3</th>\n",
              "      <td>26460</td>\n",
              "      <td>0.096983</td>\n",
              "      <td>0.094727</td>\n",
              "      <td>0.808290</td>\n",
              "    </tr>\n",
              "    <tr>\n",
              "      <th>4</th>\n",
              "      <td>26461</td>\n",
              "      <td>0.072903</td>\n",
              "      <td>0.180701</td>\n",
              "      <td>0.746396</td>\n",
              "    </tr>\n",
              "  </tbody>\n",
              "</table>\n",
              "</div>"
            ],
            "text/plain": [
              "   index         0         1         2\n",
              "0  26457  0.071098  0.093486  0.835417\n",
              "1  26458  0.317169  0.299084  0.383747\n",
              "2  26459  0.019907  0.040615  0.939478\n",
              "3  26460  0.096983  0.094727  0.808290\n",
              "4  26461  0.072903  0.180701  0.746396"
            ]
          },
          "metadata": {
            "tags": []
          },
          "execution_count": 49
        }
      ]
    },
    {
      "cell_type": "code",
      "metadata": {
        "colab": {
          "base_uri": "https://localhost:8080/"
        },
        "id": "pPW9daKzqHS_",
        "outputId": "46df6cf5-76f8-412c-f098-888a1fb3b1d1"
      },
      "source": [
        "idx_li"
      ],
      "execution_count": null,
      "outputs": [
        {
          "output_type": "execute_result",
          "data": {
            "text/plain": [
              "[8, 9]"
            ]
          },
          "metadata": {
            "tags": []
          },
          "execution_count": 50
        }
      ]
    },
    {
      "cell_type": "code",
      "metadata": {
        "colab": {
          "base_uri": "https://localhost:8080/"
        },
        "id": "tUXX20EqtiaC",
        "outputId": "1c76e4b2-b759-436e-a08f-4477c4cb8222"
      },
      "source": [
        "from sklearn.metrics import log_loss\n",
        "\n",
        "print(\"LGBMClassifier         :{} \".format( log_loss(y_train, lgbm_oof_train) ))"
      ],
      "execution_count": null,
      "outputs": [
        {
          "output_type": "stream",
          "text": [
            "LGBMClassifier         :0.6916570204608654 \n"
          ],
          "name": "stdout"
        }
      ]
    },
    {
      "cell_type": "markdown",
      "metadata": {
        "id": "jvke-6KM3xgh"
      },
      "source": [
        "-0.7035을 받은 파라미터로 예측\n",
        "\n",
        "LGBMClassifier         :0.6886720769846356 \n",
        "\n",
        "-0.7033을 받은 파라미터로 예측\n",
        "\n",
        "LGBMClassifier         :0.6878167640947502  <- CV20 (BEST)\n",
        "\n",
        "LGBMClassifier         :0.6888785693357771  <- CV15\n",
        "\n",
        "LGBMClassifier         :0.6916924979363376  <- CV10\n",
        "\n",
        "LGBMClassifier         :0.7028037209342487  <- CV5\n",
        "\n",
        "-0.7026을 받은 파라미터로 예측\n",
        "\n",
        "LGBMClassifier         :0.6880603597724483  <- CV20, n_estimators 100000\n",
        "\n",
        "LGBMClassifier         :0.6880603597724483  <- CV20, n_estimators 3000\n",
        "\n",
        "-0.7028을 받은 파라미터로 예측\n",
        "\n",
        "LGBMClassifier         :0.6881007361016515 \n",
        "\n",
        "-0.7031을 받은 파라미터로 예측\n",
        "\n",
        "LGBMClassifier         :0.6888130865891814 \n",
        "\n",
        "\n",
        "\n"
      ]
    },
    {
      "cell_type": "code",
      "metadata": {
        "colab": {
          "base_uri": "https://localhost:8080/",
          "height": 204
        },
        "id": "jGMJC96UtiaD",
        "outputId": "c25f0f18-14cc-42a5-fe45-82af15e71681"
      },
      "source": [
        "PATH = '/content/drive/MyDrive/DataAnalysis/신용카드 사용자 연체 예측 AI 경진대회/output/'\n",
        "\n",
        "submission.iloc[:, 1:] = lgbm_oof_test\n",
        "submission.to_csv(PATH + '20210510_LGBM_best_cv20_7033.csv', index=False)\n",
        "submission.head()"
      ],
      "execution_count": null,
      "outputs": [
        {
          "output_type": "execute_result",
          "data": {
            "text/html": [
              "<div>\n",
              "<style scoped>\n",
              "    .dataframe tbody tr th:only-of-type {\n",
              "        vertical-align: middle;\n",
              "    }\n",
              "\n",
              "    .dataframe tbody tr th {\n",
              "        vertical-align: top;\n",
              "    }\n",
              "\n",
              "    .dataframe thead th {\n",
              "        text-align: right;\n",
              "    }\n",
              "</style>\n",
              "<table border=\"1\" class=\"dataframe\">\n",
              "  <thead>\n",
              "    <tr style=\"text-align: right;\">\n",
              "      <th></th>\n",
              "      <th>index</th>\n",
              "      <th>0</th>\n",
              "      <th>1</th>\n",
              "      <th>2</th>\n",
              "    </tr>\n",
              "  </thead>\n",
              "  <tbody>\n",
              "    <tr>\n",
              "      <th>0</th>\n",
              "      <td>26457</td>\n",
              "      <td>0.082314</td>\n",
              "      <td>0.093130</td>\n",
              "      <td>0.824556</td>\n",
              "    </tr>\n",
              "    <tr>\n",
              "      <th>1</th>\n",
              "      <td>26458</td>\n",
              "      <td>0.273608</td>\n",
              "      <td>0.262231</td>\n",
              "      <td>0.464161</td>\n",
              "    </tr>\n",
              "    <tr>\n",
              "      <th>2</th>\n",
              "      <td>26459</td>\n",
              "      <td>0.026208</td>\n",
              "      <td>0.045226</td>\n",
              "      <td>0.928566</td>\n",
              "    </tr>\n",
              "    <tr>\n",
              "      <th>3</th>\n",
              "      <td>26460</td>\n",
              "      <td>0.099916</td>\n",
              "      <td>0.101425</td>\n",
              "      <td>0.798659</td>\n",
              "    </tr>\n",
              "    <tr>\n",
              "      <th>4</th>\n",
              "      <td>26461</td>\n",
              "      <td>0.082557</td>\n",
              "      <td>0.164451</td>\n",
              "      <td>0.752992</td>\n",
              "    </tr>\n",
              "  </tbody>\n",
              "</table>\n",
              "</div>"
            ],
            "text/plain": [
              "   index         0         1         2\n",
              "0  26457  0.082314  0.093130  0.824556\n",
              "1  26458  0.273608  0.262231  0.464161\n",
              "2  26459  0.026208  0.045226  0.928566\n",
              "3  26460  0.099916  0.101425  0.798659\n",
              "4  26461  0.082557  0.164451  0.752992"
            ]
          },
          "metadata": {
            "tags": []
          },
          "execution_count": 46
        }
      ]
    }
  ]
}